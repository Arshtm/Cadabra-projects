{
 "cells": [
  {
   "cell_type": "markdown",
   "metadata": {},
   "source": [
    "Здесь я подставляю изотропный фон в полученные ранее уравнения движения из файлов varying и friedmann_analitic."
   ]
  },
  {
   "cell_type": "code",
   "execution_count": 1,
   "metadata": {},
   "outputs": [],
   "source": [
    "import sympy\n",
    "import cdb.core.manip as man\n",
    "import functions as fun\n",
    "import horndeski_friedmann_analitic as fr\n",
    "kernel(call_embedded_python_functions=True)"
   ]
  },
  {
   "cell_type": "code",
   "execution_count": 2,
   "metadata": {},
   "outputs": [],
   "source": [
    "{a,b,c,d,e,f,g,h,i,j,k,l,m,n,o,q,r,s,u,v,w,z#}::Indices(full,values={t,x,y}, position=independent).\n",
    "{t, x, y}::Coordinate.\n",
    "\\partial{#}::PartialDerivative.\n",
    "\\nabla{#}::Derivative.\n",
    "{\\nabla{#},\\partial{#}}::Commuting."
   ]
  },
  {
   "cell_type": "code",
   "execution_count": 3,
   "metadata": {},
   "outputs": [],
   "source": [
    "h_{m? n?}::Metric.\n",
    "h^{m? n?}::InverseMetric.\n",
    "h_{m? n?}::Symmetric.\n",
    "h^{m? n?}::Symmetric.\n",
    "h::Determinant(h_{m n}).\n",
    "\\delta^{m?}_{n?}::KroneckerDelta.\n",
    "\\delta_{m?}^{n?}::KroneckerDelta.\n",
    "\\Gamma^{m}_{n q}::TableauSymmetry(shape={2}, indices={1,2})."
   ]
  },
  {
   "cell_type": "markdown",
   "metadata": {},
   "source": [
    "Вот тут прописано, что все переменные зависят только от времени"
   ]
  },
  {
   "cell_type": "code",
   "execution_count": 4,
   "metadata": {},
   "outputs": [],
   "source": [
    "p::Depends(t).\n",
    "X::Depends(t).\n",
    "h_{m n}::Depends(t).\n",
    "h^{m n}::Depends(t).\n",
    "G4::Depends(t).\n",
    "G4p::Depends(t).\n",
    "G4X::Depends(t).\n",
    "G4XX::Depends(t).\n",
    "K::Depends(t).\n",
    "Kp::Depends(t).\n",
    "KX::Depends(t).\n",
    "N::Depends(t).\n",
    "Np::Depends(t).\n",
    "NX::Depends(t).\n",
    "{a, H}::Depends(t)."
   ]
  },
  {
   "cell_type": "code",
   "execution_count": 5,
   "metadata": {},
   "outputs": [],
   "source": [
    "p::LaTeXForm(\"\\pi\").\n",
    "G4p::LaTeXForm(\"G_{4\\pi}\").\n",
    "G4X::LaTeXForm(\"G_{4X}\").\n",
    "G4XX::LaTeXForm(\"G_{4XX}\").\n",
    "G4Xp::LaTeXForm(\"G_{4\\pi X}\").\n",
    "Kp::LaTeXForm(\"K_{\\pi}\").\n",
    "KX::LaTeXForm(\"K_{X}\").\n",
    "N::LaTeXForm(\"F\").\n",
    "Np::LaTeXForm(\"F_{\\pi}\").\n",
    "NX::LaTeXForm(\"F_{X}\").\n",
    "pi2::LaTeXForm(\"\\pi^{m n}\\pi_{m n}\").\t\n",
    "boxpi4::LaTeXForm(\"\\Box^{(4)}{\\pi}\").\n",
    "delboxpi4::LaTeXForm(\"\\delta\\Box^{(4)}{\\pi}\").\n",
    "pi24::LaTeXForm(\"\\pi^{\\mu \\nu}\\pi_{\\mu \\nu}\").\n",
    "mathcalG{#}::LaTeXForm(\"\\mathcal{G}\").\n",
    "mathcalP{#}::LaTeXForm(\"\\mathcal{P}\").\n",
    "mathcalA{#}::LaTeXForm(\"\\mathcal{A}\").\n",
    "mathcalphi{#}::LaTeXForm(\"\\Phi\").\n",
    "\\partial_{t}{A??}::LaTeXForm(\"\\dot{\",A??,\"}\").\n",
    "\\partial_{t t}{A??}::LaTeXForm(\"\\ddot{\",A??,\"}\").\n",
    "\\partial_{t t t}{A??}::LaTeXForm(\"\\dddot{\",A??,\"}\")."
   ]
  },
  {
   "cell_type": "markdown",
   "metadata": {},
   "source": [
    "Всякие метрики, тензоры Римана, Риччи и символы Кристоффеля"
   ]
  },
  {
   "cell_type": "code",
   "execution_count": 6,
   "metadata": {},
   "outputs": [
    {
     "data": {
      "text/markdown": [
       "${}R^{s}\\,_{m n r} = -\\partial_{r}{\\Gamma^{s}\\,_{m n}}+\\partial_{n}{\\Gamma^{s}\\,_{m r}}-\\Gamma^{z}\\,_{m n} \\Gamma^{s}\\,_{r z}+\\Gamma^{z}\\,_{m r} \\Gamma^{s}\\,_{n z}$"
      ]
     },
     "metadata": {},
     "output_type": "display_data"
    },
    {
     "data": {
      "text/markdown": [
       "${}\\Gamma^{l}\\,_{m n} = \\frac{1}{2}h^{l k} \\left(\\partial_{n}{h_{k m}}+\\partial_{m}{h_{k n}}-\\partial_{k}{h_{m n}}\\right)$"
      ]
     },
     "metadata": {},
     "output_type": "display_data"
    },
    {
     "data": {
      "text/markdown": [
       "${}\\left[h_{t t} = 1, h_{x x} = -{a}^{2}, h_{y y} = -{a}^{2}, h^{t t} = 1, h^{x x} = -{a}^{-2}, h^{y y} = -{a}^{-2}\\right]$"
      ]
     },
     "metadata": {},
     "output_type": "display_data"
    },
    {
     "data": {
      "text/markdown": [
       "${}\\left[h_{t t} = 1, h_{x x} = -{a}^{2}, h_{y y} = -{a}^{2}, h^{t t} = 1, h^{x x} = -{a}^{-2}, h^{y y} = -{a}^{-2}, h = {a}^{4}\\right]$"
      ]
     },
     "metadata": {},
     "output_type": "display_data"
    }
   ],
   "source": [
    "RtoG:= R^{s}_{m n r} =\n",
    " - \\partial_{r}{ \\Gamma^{s}_{m n} }\n",
    " + \\partial_{n}{ \\Gamma^{s}_{m r} }\n",
    " - \\Gamma^{z}_{m n} \\Gamma^{s}_{r z}\n",
    " + \\Gamma^{z}_{m r} \\Gamma^{s}_{n z};\n",
    "Gtog:= \\Gamma^{l}_{m n} =\n",
    "  (1/2) * h^{l k} ( \n",
    "        \\partial_{n}{ h_{k m} } + \\partial_{m}{ h_{k n} } - \\partial_{k}{ h_{m n} } );\n",
    "friedmann:= { h_{t t} = 1,   \n",
    "       h_{x x} = -a**2, \n",
    "       h_{y y} = -a**2,\n",
    "     }.\n",
    "complete(friedmann, $h^{m n}$);\n",
    "complete(friedmann, $h$);"
   ]
  },
  {
   "cell_type": "code",
   "execution_count": 7,
   "metadata": {},
   "outputs": [
    {
     "data": {
      "text/markdown": [
       "${}R_{a b} = R^{m}\\,_{a m b}$"
      ]
     },
     "metadata": {},
     "output_type": "display_data"
    },
    {
     "data": {
      "text/markdown": [
       "${}R_{a b} = \\square{}_{a}{}_{b}\\left\\{\\begin{aligned}\\square{}_{t}{}_{t}& = -2\\ddot{a} {a}^{-1}\\\\[-.5ex]\n",
       "\\square{}_{x}{}_{x}& = a \\ddot{a}+{\\left(\\dot{a}\\right)}^{2}\\\\[-.5ex]\n",
       "\\square{}_{y}{}_{y}& = a \\ddot{a}+{\\left(\\dot{a}\\right)}^{2}\\\\[-.5ex]\n",
       "\\end{aligned}\\right.\n",
       "$"
      ]
     },
     "metadata": {},
     "output_type": "display_data"
    }
   ],
   "source": [
    "Ricci := R_{a b} = R^{m}_{a m b};\n",
    "substitute(Ricci, RtoG)\n",
    "substitute(Ricci,Gtog)\n",
    "evaluate(Ricci, friedmann, rhsonly=True);"
   ]
  },
  {
   "cell_type": "code",
   "execution_count": 8,
   "metadata": {},
   "outputs": [
    {
     "data": {
      "text/markdown": [
       "${}\\Gamma^{l}\\,_{m n} = \\frac{1}{2}h^{l k} \\left(\\partial_{n}{h_{k m}}+\\partial_{m}{h_{k n}}-\\partial_{k}{h_{m n}}\\right)$"
      ]
     },
     "metadata": {},
     "output_type": "display_data"
    },
    {
     "data": {
      "text/markdown": [
       "${}\\Gamma^{l}\\,_{m n} = \\square{}_{m}{}_{n}{}^{l}\\left\\{\\begin{aligned}\\square{}_{y}{}_{t}{}^{y}& = \\dot{a} {a}^{-1}\\\\[-.5ex]\n",
       "\\square{}_{x}{}_{t}{}^{x}& = \\dot{a} {a}^{-1}\\\\[-.5ex]\n",
       "\\square{}_{t}{}_{y}{}^{y}& = \\dot{a} {a}^{-1}\\\\[-.5ex]\n",
       "\\square{}_{t}{}_{x}{}^{x}& = \\dot{a} {a}^{-1}\\\\[-.5ex]\n",
       "\\square{}_{y}{}_{y}{}^{t}& = a \\dot{a}\\\\[-.5ex]\n",
       "\\square{}_{x}{}_{x}{}^{t}& = a \\dot{a}\\\\[-.5ex]\n",
       "\\end{aligned}\\right.\n",
       "$"
      ]
     },
     "metadata": {},
     "output_type": "display_data"
    }
   ],
   "source": [
    "Chr:= @[Gtog];\n",
    "evaluate(Chr, friedmann, rhsonly=True);\n",
    "#substitute(Chr, $\\partial_{t}{a} a**(-1) -> H$);"
   ]
  },
  {
   "cell_type": "code",
   "execution_count": 15,
   "metadata": {},
   "outputs": [
    {
     "data": {
      "text/markdown": [
       "${}R = R^{s}\\,_{m s n} h^{m n}$"
      ]
     },
     "metadata": {},
     "output_type": "display_data"
    },
    {
     "data": {
      "text/markdown": [
       "${}R = -\\left(4a \\ddot{a}+2{\\left(\\dot{a}\\right)}^{2}\\right) {a}^{-2}$"
      ]
     },
     "metadata": {},
     "output_type": "display_data"
    }
   ],
   "source": [
    "RScallar := R = R^{s}_{m s n}h^{m n};\n",
    "substitute(RScallar, RtoG)\n",
    "substitute(RScallar, Chr)\n",
    "evaluate(RScallar, friedmann, rhsonly=True);"
   ]
  },
  {
   "cell_type": "markdown",
   "metadata": {},
   "source": [
    "Здесь и далее $\\mathcal{G}$ - уравнение Эйнштейна, полученное из действия с соответствующим номером, $\\mathcal{P}$ - уравнение движения для поля $\\pi$, $\\Phi$ - уравнение движения для поля $\\phi$, $\\mathcal{A}$ - уравнения движения для эл.магнитного поля."
   ]
  },
  {
   "cell_type": "code",
   "execution_count": 10,
   "metadata": {},
   "outputs": [
    {
     "data": {
      "text/markdown": [
       "${}\\mathcal{G}^{2}\\,_{a b} = \\square{}_{a}{}_{b}\\left\\{\\begin{aligned}\\square{}_{t}{}_{t}& =  - \\frac{1}{2}F_{X} {\\left(\\dot{\\pi}\\right)}^{2} - \\frac{1}{2}F\\\\[-.5ex]\n",
       "\\square{}_{x}{}_{x}& = \\frac{1}{2}{a}^{2} F\\\\[-.5ex]\n",
       "\\square{}_{y}{}_{y}& = \\frac{1}{2}{a}^{2} F\\\\[-.5ex]\n",
       "\\end{aligned}\\right.\n",
       "$"
      ]
     },
     "metadata": {},
     "output_type": "display_data"
    }
   ],
   "source": [
    "G2 = evaluate(fr.G2, friedmann, rhsonly=True);"
   ]
  },
  {
   "cell_type": "code",
   "execution_count": 12,
   "metadata": {},
   "outputs": [
    {
     "data": {
      "text/markdown": [
       "${}\\mathcal{P}^{2} = F_{X} \\ddot{\\pi}+2F_{X} \\dot{a} \\dot{\\pi} {a}^{-1}+F_{\\pi}+\\dot{F_{X}} \\dot{\\pi}$"
      ]
     },
     "metadata": {},
     "output_type": "display_data"
    },
    {
     "data": {
      "text/markdown": [
       "${}\\mathcal{P}^{2} = F_{X} \\ddot{\\pi}+2F_{X} H \\dot{\\pi}+F_{\\pi}+\\dot{F_{X}} \\dot{\\pi}$"
      ]
     },
     "metadata": {},
     "output_type": "display_data"
    }
   ],
   "source": [
    "P2 = substitute(fr.P2,Chr)\n",
    "evaluate(P2, friedmann, rhsonly=True);\n",
    "substitute(P2, $\\partial_{t}{a} a**(-1) -> H$);"
   ]
  },
  {
   "cell_type": "code",
   "execution_count": 13,
   "metadata": {},
   "outputs": [
    {
     "data": {
      "text/markdown": [
       "${}\\mathcal{G}^{3}\\,_{a b} = \\square{}_{a}{}_{b}\\left\\{\\begin{aligned}\\square{}_{t}{}_{t}& =  - \\frac{1}{2}K_{X} {\\left(\\dot{\\pi}\\right)}^{2} \\ddot{\\pi}-K_{X} \\dot{a} {\\left(\\dot{\\pi}\\right)}^{3} {a}^{-1} - \\frac{1}{2}\\dot{K} \\dot{\\pi}\\\\[-.5ex]\n",
       "\\square{}_{x}{}_{x}& =  - \\frac{1}{2}{a}^{2} \\dot{K} \\dot{\\pi}\\\\[-.5ex]\n",
       "\\square{}_{y}{}_{y}& =  - \\frac{1}{2}{a}^{2} \\dot{K} \\dot{\\pi}\\\\[-.5ex]\n",
       "\\end{aligned}\\right.\n",
       "$"
      ]
     },
     "metadata": {},
     "output_type": "display_data"
    }
   ],
   "source": [
    "G3 = substitute(fr.G3, Chr)\n",
    "evaluate(G3, friedmann, rhsonly=True)\n",
    "distribute(G3)\n",
    "collect_factors(_)\n",
    "sort_product(_)\n",
    "map_sympy(G3, 'simplify');\n",
    "#substitute(G3, $\\phi * (\\phi * a)**(-1) * a -> 1, \\partial_{t}{a} \\phi * (\\phi * a)**(-1) -> H, (\\phi * a)**(-1) a -> \\phi **(-1)$);"
   ]
  },
  {
   "cell_type": "code",
   "execution_count": 14,
   "metadata": {},
   "outputs": [
    {
     "data": {
      "text/markdown": [
       "${}\\mathcal{P}^{3} = \\left(\\left(K_{\\pi} \\ddot{\\pi}+\\ddot{K}\\right) {a}^{2}+\\left({a}^{2} {\\left(\\ddot{\\pi}\\right)}^{2}+4{\\left(\\dot{a}\\right)}^{2} {\\left(\\dot{\\pi}\\right)}^{2}\\right) K_{X}+\\left(\\left(2K_{\\pi} \\dot{a}+a \\dot{K_{X}} \\ddot{\\pi}\\right) \\dot{\\pi}+4K_{X} \\dot{a} \\dot{\\pi} \\ddot{\\pi}+2\\dot{K} \\dot{a}+2\\dot{K_{X}} \\dot{a} {\\left(\\dot{\\pi}\\right)}^{2}\\right) a\\right) {a}^{-2}$"
      ]
     },
     "metadata": {},
     "output_type": "display_data"
    }
   ],
   "source": [
    "P3 = substitute(fr.P3, Chr)\n",
    "evaluate(P3, friedmann, rhsonly=True)\n",
    "distribute(P3)\n",
    "collect_factors(P3)\n",
    "sort_product(P3)\n",
    "substitute(P3, $\\phi  * (\\phi **(2) a**(2))**(-1) * a**(2) -> \\phi ** (-1),(a**2 \\phi **2)**(-1) * a**2 -> \\phi ** (-2),\\phi (\\phi **2 a**2)**(-1) * a -> (\\phi a) ** (-1),(\\phi **(2) a**(2))**(-1) * a**(2) -> \\phi ** (-2), \\phi**2  * (\\phi **(2) a**(2))**(-1) * a**(2) -> 1,\\phi**2  * (\\phi **(2) a**(2))**(-1) * a -> a ** (-1),\\phi**2  * (\\phi **(2) a**(2))**(-1)  -> a ** (-2)$, repeat=True)\n",
    "#substitute(P3, $\\partial_{t}{a} * a**(-1) -> H, (\\partial_{t}{a})**2 * a**(-2) -> H**2, \\partial_{t}{a} * (\\phi a)**(-1) -> H \\phi**(-1) $)\n",
    "factor_out(P3, $K, KX, \\partial_{t}{p}$)\n",
    "sort_product(P3)\n",
    "collect_factors(P3)\n",
    "map_sympy(P3,'powsimp')\n",
    "#substitute(P3, $\\phi**2  * (\\phi **(2) a)**(-1) * a -> 1,\\phi  * (\\phi **(2) a)**(-1) * a -> \\phi**{-1}, (\\phi **(2) a)**(-1) * a -> \\phi**{-2}, \\phi**2 * (\\phi **2 a)**(-1) ->  a ** (-1)$,repeat=True);\n",
    "map_sympy(P3, 'simplify');"
   ]
  },
  {
   "cell_type": "code",
   "execution_count": 17,
   "metadata": {},
   "outputs": [
    {
     "data": {
      "text/markdown": [
       "${}\\mathcal{G}^{4}\\,_{a b} = \\square{}_{a}{}_{b}\\left\\{\\begin{aligned}\\square{}_{y}{}_{y}& = -\\left({G_{4}} \\ddot{a}+G_{4X} a \\dot{\\pi} \\dddot{\\pi}+G_{4X} a {\\left(\\ddot{\\pi}\\right)}^{2}+2G_{4X} \\dot{a} \\dot{\\pi} \\ddot{\\pi}+G_{4X} {\\left(\\dot{\\pi}\\right)}^{2} \\ddot{a}+a \\dot{G_{4X}} \\dot{\\pi} \\ddot{\\pi}+a \\ddot{{G_{4}}}+\\dot{{G_{4}}} \\dot{a}+\\dot{G_{4X}} \\dot{a} {\\left(\\dot{\\pi}\\right)}^{2}\\right) a\\\\[-.5ex]\n",
       "\\square{}_{x}{}_{x}& = -\\left({G_{4}} \\ddot{a}+G_{4X} a \\dot{\\pi} \\dddot{\\pi}+G_{4X} a {\\left(\\ddot{\\pi}\\right)}^{2}+2G_{4X} \\dot{a} \\dot{\\pi} \\ddot{\\pi}+G_{4X} {\\left(\\dot{\\pi}\\right)}^{2} \\ddot{a}+a \\dot{G_{4X}} \\dot{\\pi} \\ddot{\\pi}+a \\ddot{{G_{4}}}+\\dot{{G_{4}}} \\dot{a}+\\dot{G_{4X}} \\dot{a} {\\left(\\dot{\\pi}\\right)}^{2}\\right) a\\\\[-.5ex]\n",
       "\\square{}_{t}{}_{t}& = \\left(\\left({G_{4}}+2G_{4X} {\\left(\\dot{\\pi}\\right)}^{2}-G_{4XX} {\\left(\\dot{\\pi}\\right)}^{4}\\right) \\dot{a}+2\\left(G_{4X} \\dot{\\pi} \\ddot{\\pi}-G_{4XX} {\\left(\\dot{\\pi}\\right)}^{3} \\ddot{\\pi}+\\dot{{G_{4}}}-\\dot{G_{4X}} {\\left(\\dot{\\pi}\\right)}^{2}\\right) a\\right) \\dot{a} {a}^{-2}\\\\[-.5ex]\n",
       "\\end{aligned}\\right.\n",
       "$"
      ]
     },
     "metadata": {},
     "output_type": "display_data"
    }
   ],
   "source": [
    "G4 = fr.G4\n",
    "substitute(G4, Ricci)\n",
    "substitute(G4, Chr)\n",
    "substitute(G4, RScallar)\n",
    "evaluate(G4, friedmann, rhsonly=True)\n",
    "map_sympy(G4, 'simplify')\n",
    "distribute(G4)\n",
    "sort_product(G4)\n",
    "map_sympy(G4,'powsimp')\n",
    "map_sympy(G4,'simplify');"
   ]
  },
  {
   "cell_type": "code",
   "execution_count": 19,
   "metadata": {},
   "outputs": [
    {
     "data": {
      "text/markdown": [
       "${}\\mathcal{P}^{4} = 2\\left(2G_{4\\pi X} a \\dot{a} \\dot{\\pi} \\ddot{\\pi}+G_{4\\pi X} {\\left(\\dot{a}\\right)}^{2} {\\left(\\dot{\\pi}\\right)}^{2}+2G_{4X} a \\dot{\\pi} \\dddot{a}+2G_{4X} a \\ddot{a} \\ddot{\\pi}+2G_{4X} \\dot{a} \\dot{\\pi} \\ddot{a}+2G_{4XX} a \\dot{a} {\\left(\\dot{\\pi}\\right)}^{2} \\dddot{\\pi}+4G_{4XX} a \\dot{a} \\dot{\\pi} {\\left(\\ddot{\\pi}\\right)}^{2}+2G_{4XX} a {\\left(\\dot{\\pi}\\right)}^{2} \\ddot{a} \\ddot{\\pi}+5G_{4XX} {\\left(\\dot{a}\\right)}^{2} {\\left(\\dot{\\pi}\\right)}^{2} \\ddot{\\pi}+2G_{4XX} \\dot{a} {\\left(\\dot{\\pi}\\right)}^{3} \\ddot{a}+2a \\dot{G_{4X}} \\dot{a} \\ddot{\\pi}+4a \\dot{G_{4X}} \\dot{\\pi} \\ddot{a}+2a \\dot{G_{4XX}} \\dot{a} {\\left(\\dot{\\pi}\\right)}^{2} \\ddot{\\pi}+2a \\dot{a} \\dot{\\pi} \\ddot{G_{4X}}+2\\dot{G_{4X}} {\\left(\\dot{a}\\right)}^{2} \\dot{\\pi}+\\dot{G_{4XX}} {\\left(\\dot{a}\\right)}^{2} {\\left(\\dot{\\pi}\\right)}^{3}\\right) {a}^{-2}$"
      ]
     },
     "metadata": {},
     "output_type": "display_data"
    }
   ],
   "source": [
    "P4 = fr.P4\n",
    "substitute(P4, Chr)\n",
    "substitute(P4, RScallar)\n",
    "evaluate(P4, friedmann, rhsonly=True)\n",
    "map_sympy(P4, 'simplify');"
   ]
  },
  {
   "cell_type": "code",
   "execution_count": 20,
   "metadata": {},
   "outputs": [
    {
     "data": {
      "text/markdown": [
       "${}\\mathcal{G}^{2}\\,_{a b}+\\mathcal{G}^{3}\\,_{a b}+\\mathcal{G}^{4}\\,_{a b} = \\square{}_{a}{}_{b}\\left\\{\\begin{aligned}\\square{}_{t}{}_{t}& =  - \\frac{1}{2}F_{X} {\\left(\\dot{\\pi}\\right)}^{2} - \\frac{1}{2}F\\\\[-.5ex]\n",
       "\\square{}_{x}{}_{x}& = \\frac{1}{2}{a}^{2} F\\\\[-.5ex]\n",
       "\\square{}_{y}{}_{y}& = \\frac{1}{2}{a}^{2} F\\\\[-.5ex]\n",
       "\\end{aligned}\\right.\n",
       "+\\square{}_{a}{}_{b}\\left\\{\\begin{aligned}\\square{}_{t}{}_{t}& =  - \\frac{1}{2}K_{X} {\\left(\\dot{\\pi}\\right)}^{2} \\ddot{\\pi}-K_{X} \\dot{a} {\\left(\\dot{\\pi}\\right)}^{3} {a}^{-1} - \\frac{1}{2}\\dot{K} \\dot{\\pi}\\\\[-.5ex]\n",
       "\\square{}_{x}{}_{x}& =  - \\frac{1}{2}{a}^{2} \\dot{K} \\dot{\\pi}\\\\[-.5ex]\n",
       "\\square{}_{y}{}_{y}& =  - \\frac{1}{2}{a}^{2} \\dot{K} \\dot{\\pi}\\\\[-.5ex]\n",
       "\\end{aligned}\\right.\n",
       "+\\square{}_{a}{}_{b}\\left\\{\\begin{aligned}\\square{}_{y}{}_{y}& = -\\left({G_{4}} \\ddot{a}+G_{4X} a \\dot{\\pi} \\dddot{\\pi}+G_{4X} a {\\left(\\ddot{\\pi}\\right)}^{2}+2G_{4X} \\dot{a} \\dot{\\pi} \\ddot{\\pi}+G_{4X} {\\left(\\dot{\\pi}\\right)}^{2} \\ddot{a}+a \\dot{G_{4X}} \\dot{\\pi} \\ddot{\\pi}+a \\ddot{{G_{4}}}+\\dot{{G_{4}}} \\dot{a}+\\dot{G_{4X}} \\dot{a} {\\left(\\dot{\\pi}\\right)}^{2}\\right) a\\\\[-.5ex]\n",
       "\\square{}_{x}{}_{x}& = -\\left({G_{4}} \\ddot{a}+G_{4X} a \\dot{\\pi} \\dddot{\\pi}+G_{4X} a {\\left(\\ddot{\\pi}\\right)}^{2}+2G_{4X} \\dot{a} \\dot{\\pi} \\ddot{\\pi}+G_{4X} {\\left(\\dot{\\pi}\\right)}^{2} \\ddot{a}+a \\dot{G_{4X}} \\dot{\\pi} \\ddot{\\pi}+a \\ddot{{G_{4}}}+\\dot{{G_{4}}} \\dot{a}+\\dot{G_{4X}} \\dot{a} {\\left(\\dot{\\pi}\\right)}^{2}\\right) a\\\\[-.5ex]\n",
       "\\square{}_{t}{}_{t}& = \\left(\\left({G_{4}}+2G_{4X} {\\left(\\dot{\\pi}\\right)}^{2}-G_{4XX} {\\left(\\dot{\\pi}\\right)}^{4}\\right) \\dot{a}+2\\left(G_{4X} \\dot{\\pi} \\ddot{\\pi}-G_{4XX} {\\left(\\dot{\\pi}\\right)}^{3} \\ddot{\\pi}+\\dot{{G_{4}}}-\\dot{G_{4X}} {\\left(\\dot{\\pi}\\right)}^{2}\\right) a\\right) \\dot{a} {a}^{-2}\\\\[-.5ex]\n",
       "\\end{aligned}\\right.\n",
       "$"
      ]
     },
     "metadata": {},
     "output_type": "display_data"
    }
   ],
   "source": [
    "G = G2 + G3 + G4;"
   ]
  },
  {
   "cell_type": "code",
   "execution_count": 21,
   "metadata": {},
   "outputs": [
    {
     "data": {
      "text/markdown": [
       "${}\\square{}_{a}{}_{b}\\left\\{\\begin{aligned}\\square{}_{t}{}_{t}& =  - \\frac{1}{2}F_{X} {\\left(\\dot{\\pi}\\right)}^{2} - \\frac{1}{2}F\\\\[-.5ex]\n",
       "\\square{}_{x}{}_{x}& = \\frac{1}{2}{a}^{2} F\\\\[-.5ex]\n",
       "\\square{}_{y}{}_{y}& = \\frac{1}{2}{a}^{2} F\\\\[-.5ex]\n",
       "\\end{aligned}\\right.\n",
       "+\\square{}_{a}{}_{b}\\left\\{\\begin{aligned}\\square{}_{t}{}_{t}& =  - \\frac{1}{2}K_{X} {\\left(\\dot{\\pi}\\right)}^{2} \\ddot{\\pi}-K_{X} \\dot{a} {\\left(\\dot{\\pi}\\right)}^{3} {a}^{-1} - \\frac{1}{2}\\dot{K} \\dot{\\pi}\\\\[-.5ex]\n",
       "\\square{}_{x}{}_{x}& =  - \\frac{1}{2}{a}^{2} \\dot{K} \\dot{\\pi}\\\\[-.5ex]\n",
       "\\square{}_{y}{}_{y}& =  - \\frac{1}{2}{a}^{2} \\dot{K} \\dot{\\pi}\\\\[-.5ex]\n",
       "\\end{aligned}\\right.\n",
       "+\\square{}_{a}{}_{b}\\left\\{\\begin{aligned}\\square{}_{y}{}_{y}& = -\\left({G_{4}} \\ddot{a}+G_{4X} a \\dot{\\pi} \\dddot{\\pi}+G_{4X} a {\\left(\\ddot{\\pi}\\right)}^{2}+2G_{4X} \\dot{a} \\dot{\\pi} \\ddot{\\pi}+G_{4X} {\\left(\\dot{\\pi}\\right)}^{2} \\ddot{a}+a \\dot{G_{4X}} \\dot{\\pi} \\ddot{\\pi}+a \\ddot{{G_{4}}}+\\dot{{G_{4}}} \\dot{a}+\\dot{G_{4X}} \\dot{a} {\\left(\\dot{\\pi}\\right)}^{2}\\right) a\\\\[-.5ex]\n",
       "\\square{}_{x}{}_{x}& = -\\left({G_{4}} \\ddot{a}+G_{4X} a \\dot{\\pi} \\dddot{\\pi}+G_{4X} a {\\left(\\ddot{\\pi}\\right)}^{2}+2G_{4X} \\dot{a} \\dot{\\pi} \\ddot{\\pi}+G_{4X} {\\left(\\dot{\\pi}\\right)}^{2} \\ddot{a}+a \\dot{G_{4X}} \\dot{\\pi} \\ddot{\\pi}+a \\ddot{{G_{4}}}+\\dot{{G_{4}}} \\dot{a}+\\dot{G_{4X}} \\dot{a} {\\left(\\dot{\\pi}\\right)}^{2}\\right) a\\\\[-.5ex]\n",
       "\\square{}_{t}{}_{t}& = \\left(\\left({G_{4}}+2G_{4X} {\\left(\\dot{\\pi}\\right)}^{2}-G_{4XX} {\\left(\\dot{\\pi}\\right)}^{4}\\right) \\dot{a}+2\\left(G_{4X} \\dot{\\pi} \\ddot{\\pi}-G_{4XX} {\\left(\\dot{\\pi}\\right)}^{3} \\ddot{\\pi}+\\dot{{G_{4}}}-\\dot{G_{4X}} {\\left(\\dot{\\pi}\\right)}^{2}\\right) a\\right) \\dot{a} {a}^{-2}\\\\[-.5ex]\n",
       "\\end{aligned}\\right.\n",
       "$"
      ]
     },
     "metadata": {},
     "output_type": "display_data"
    }
   ],
   "source": [
    "man.get_rhs(G);"
   ]
  },
  {
   "cell_type": "markdown",
   "metadata": {},
   "source": [
    "Вот тут итоговые уравнения движения при фиксированной калибровке и изотропном фоне."
   ]
  }
 ],
 "metadata": {
  "kernelspec": {
   "display_name": "Cadabra2",
   "language": "python",
   "name": "cadabra2"
  },
  "language_info": {
   "codemirror_mode": "cadabra",
   "file_extension": ".ipynb",
   "mimetype": "text/cadabra",
   "name": "cadabra2",
   "pygments_lexer": "cadabra"
  },
  "latex_envs": {
   "LaTeX_envs_menu_present": false,
   "autoclose": true,
   "autocomplete": true,
   "bibliofile": "biblio.bib",
   "cite_by": "apalike",
   "current_citInitial": 1,
   "eqLabelWithNumbers": true,
   "eqNumInitial": 1,
   "hotkeys": {
    "equation": "Ctrl-E",
    "itemize": "Ctrl-I"
   },
   "labels_anchors": true,
   "latex_user_defs": false,
   "report_style_numbering": false,
   "user_envs_cfg": false
  }
 },
 "nbformat": 4,
 "nbformat_minor": 4
}
