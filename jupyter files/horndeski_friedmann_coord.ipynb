{
 "cells": [
  {
   "cell_type": "markdown",
   "metadata": {},
   "source": [
    "Здесь я подставляю изотропный фон в полученные ранее уравнения движения из файлов varying и friedmann_analitic."
   ]
  },
  {
   "cell_type": "code",
   "execution_count": 1,
   "metadata": {},
   "outputs": [],
   "source": [
    "import sympy\n",
    "import cdb.core.manip as man\n",
    "import functions as fun\n",
    "import horndeski_friedmann_analitic as fr\n",
    "import cdb.core.component as com\n",
    "kernel(call_embedded_python_functions=True)"
   ]
  },
  {
   "cell_type": "code",
   "execution_count": 2,
   "metadata": {},
   "outputs": [],
   "source": [
    "{a,b,c,d,e,f,g,h,i,j,k,l,m,n,o,q,r,s,u,v,w#}::Indices(full, values={t,x,y,z}, position=independent).\n",
    "{t, x, y, z}::Coordinate.\n",
    "\\partial{#}::PartialDerivative.\n",
    "\\nabla{#}::Derivative.\n",
    "{\\nabla{#},\\partial{#}}::Commuting."
   ]
  },
  {
   "cell_type": "code",
   "execution_count": 3,
   "metadata": {},
   "outputs": [],
   "source": [
    "h_{m? n?}::Metric.\n",
    "h^{m? n?}::InverseMetric.\n",
    "h_{m? n?}::Symmetric.\n",
    "h^{m? n?}::Symmetric.\n",
    "h::Determinant(h_{m n}).\n",
    "\\delta^{m?}_{n?}::KroneckerDelta.\n",
    "\\delta_{m?}^{n?}::KroneckerDelta.\n",
    "\\Gamma^{m}_{n q}::TableauSymmetry(shape={2}, indices={1,2})."
   ]
  },
  {
   "cell_type": "markdown",
   "metadata": {},
   "source": [
    "Вот тут прописано, что все переменные зависят только от времени"
   ]
  },
  {
   "cell_type": "code",
   "execution_count": 4,
   "metadata": {},
   "outputs": [],
   "source": [
    "p::Depends(t).\n",
    "X::Depends(t).\n",
    "h_{m n}::Depends(t).\n",
    "h^{m n}::Depends(t).\n",
    "G4::Depends(t).\n",
    "G4p::Depends(t).\n",
    "G4X::Depends(t).\n",
    "G4pp::Depends(t).\n",
    "G4XX::Depends(t).\n",
    "G4Xp::Depends(t).\n",
    "G4XXX::Depends(t).\n",
    "K::Depends(t).\n",
    "Kp::Depends(t).\n",
    "KX::Depends(t).\n",
    "KXp::Depends(t).\n",
    "KXX::Depends(t).\n",
    "Kpp::Depends(t).\n",
    "N::Depends(t).\n",
    "Np::Depends(t).\n",
    "NX::Depends(t).\n",
    "NXp::Depends(t).\n",
    "NXX::Depends(t).\n",
    "{a, H}::Depends(t)."
   ]
  },
  {
   "cell_type": "code",
   "execution_count": 5,
   "metadata": {},
   "outputs": [],
   "source": [
    "p::LaTeXForm(\"\\pi\").\n",
    "G4p::LaTeXForm(\"G_{4\\pi}\").\n",
    "G4pp::LaTeXForm(\"G_{4\\pi\\pi}\").\n",
    "G4X::LaTeXForm(\"G_{4X}\").\n",
    "G4XX::LaTeXForm(\"G_{4XX}\").\n",
    "G4Xp::LaTeXForm(\"G_{4\\pi X}\").\n",
    "G4XXX::LaTeXForm(\"G_{4XXX}\").\n",
    "G4XXp::LaTeXForm(\"G_{4\\pi X X}\").\n",
    "Kp::LaTeXForm(\"K_{\\pi}\").\n",
    "KX::LaTeXForm(\"K_{X}\").\n",
    "KXp::LaTeXForm(\"K_{X \\pi}\").\n",
    "KXX::LaTeXForm(\"K_{X X}\").\n",
    "Kpp::LaTeXForm(\"K_{\\pi \\pi}\").\n",
    "N::LaTeXForm(\"F\").\n",
    "Np::LaTeXForm(\"F_{\\pi}\").\n",
    "NX::LaTeXForm(\"F_{X}\").\n",
    "NXp::LaTeXForm(\"F_{X \\pi}\").\n",
    "NXX::LaTeXForm(\"F_{X X}\").\n",
    "pi2::LaTeXForm(\"\\pi^{m n}\\pi_{m n}\").\t\n",
    "boxpi4::LaTeXForm(\"\\Box^{(4)}{\\pi}\").\n",
    "delboxpi4::LaTeXForm(\"\\delta\\Box^{(4)}{\\pi}\").\n",
    "pi24::LaTeXForm(\"\\pi^{\\mu \\nu}\\pi_{\\mu \\nu}\").\n",
    "mathcalG{#}::LaTeXForm(\"\\mathcal{G}\").\n",
    "mathcalP{#}::LaTeXForm(\"\\mathcal{P}\").\n",
    "mathcalA{#}::LaTeXForm(\"\\mathcal{A}\").\n",
    "mathcalphi{#}::LaTeXForm(\"\\Phi\").\n",
    "\\partial_{t}{A??}::LaTeXForm(\"\\dot{\",A??,\"}\").\n",
    "\\partial_{t t}{A??}::LaTeXForm(\"\\ddot{\",A??,\"}\").\n",
    "\\partial_{t t t}{A??}::LaTeXForm(\"\\dddot{\",A??,\"}\")."
   ]
  },
  {
   "cell_type": "markdown",
   "metadata": {},
   "source": [
    "Всякие метрики, тензоры Римана, Риччи и символы Кристоффеля"
   ]
  },
  {
   "cell_type": "code",
   "execution_count": 6,
   "metadata": {},
   "outputs": [
    {
     "data": {
      "text/markdown": [
       "${}\\left[h_{t t} = 1, h_{x x} = -{a}^{2}, h_{y y} = -{a}^{2}, h_{z z} = -{a}^{2}\\right]$"
      ]
     },
     "metadata": {},
     "output_type": "display_data"
    },
    {
     "data": {
      "text/markdown": [
       "${}\\left[h_{t t} = 1, h_{x x} = -{a}^{2}, h_{y y} = -{a}^{2}, h_{z z} = -{a}^{2}, h^{t t} = 1, h^{x x} = -{a}^{-2}, h^{y y} = -{a}^{-2}, h^{z z} = -{a}^{-2}\\right]$"
      ]
     },
     "metadata": {},
     "output_type": "display_data"
    },
    {
     "data": {
      "text/markdown": [
       "${}\\left[h_{t t} = 1, h_{x x} = -{a}^{2}, h_{y y} = -{a}^{2}, h_{z z} = -{a}^{2}, h^{t t} = 1, h^{x x} = -{a}^{-2}, h^{y y} = -{a}^{-2}, h^{z z} = -{a}^{-2}, h = -{a}^{6}\\right]$"
      ]
     },
     "metadata": {},
     "output_type": "display_data"
    }
   ],
   "source": [
    "friedmann:= { h_{t t} = 1, h_{x x} = -a**2, h_{y y} = -a**2, h_{z z} = -a**2};\n",
    "complete(friedmann, $h^{m n}$);\n",
    "complete(friedmann, $h$);"
   ]
  },
  {
   "cell_type": "code",
   "execution_count": 7,
   "metadata": {},
   "outputs": [
    {
     "data": {
      "text/markdown": [
       "${}R^{s}\\,_{m n r} = -\\partial_{r}{\\Gamma^{s}\\,_{m n}}+\\partial_{n}{\\Gamma^{s}\\,_{m r}}-\\Gamma^{a}\\,_{m n} \\Gamma^{s}\\,_{r a}+\\Gamma^{a}\\,_{m r} \\Gamma^{s}\\,_{n a}$"
      ]
     },
     "metadata": {},
     "output_type": "display_data"
    },
    {
     "data": {
      "text/markdown": [
       "${}\\Gamma^{l}\\,_{m n} = \\frac{1}{2}h^{l k} \\left(\\partial_{n}{h_{k m}}+\\partial_{m}{h_{k n}}-\\partial_{k}{h_{m n}}\\right)$"
      ]
     },
     "metadata": {},
     "output_type": "display_data"
    }
   ],
   "source": [
    "RtoG:= R^{s}_{m n r} =\n",
    " - \\partial_{r}{ \\Gamma^{s}_{m n} }\n",
    " + \\partial_{n}{ \\Gamma^{s}_{m r} }\n",
    " - \\Gamma^{a}_{m n} \\Gamma^{s}_{r a}\n",
    " + \\Gamma^{a}_{m r} \\Gamma^{s}_{n a};\n",
    "Gtog:= \\Gamma^{l}_{m n} =\n",
    "  (1/2) * h^{l k} ( \n",
    "        \\partial_{n}{ h_{k m} } + \\partial_{m}{ h_{k n} } - \\partial_{k}{ h_{m n} } );"
   ]
  },
  {
   "cell_type": "code",
   "execution_count": 8,
   "metadata": {},
   "outputs": [
    {
     "data": {
      "text/markdown": [
       "${}R_{a b} = R^{m}\\,_{a m b}$"
      ]
     },
     "metadata": {},
     "output_type": "display_data"
    },
    {
     "data": {
      "text/markdown": [
       "${}R_{a b} = \\square{}_{a}{}_{b}\\left\\{\\begin{aligned}\\square{}_{t}{}_{t}& = -3\\ddot{a} {a}^{-1}\\\\[-.5ex]\n",
       "\\square{}_{x}{}_{x}& = a \\ddot{a}+2{\\left(\\dot{a}\\right)}^{2}\\\\[-.5ex]\n",
       "\\square{}_{y}{}_{y}& = a \\ddot{a}+2{\\left(\\dot{a}\\right)}^{2}\\\\[-.5ex]\n",
       "\\square{}_{z}{}_{z}& = a \\ddot{a}+2{\\left(\\dot{a}\\right)}^{2}\\\\[-.5ex]\n",
       "\\end{aligned}\\right.\n",
       "$"
      ]
     },
     "metadata": {},
     "output_type": "display_data"
    }
   ],
   "source": [
    "Ricci := R_{a b} = R^{m}_{a m b};\n",
    "substitute(Ricci, RtoG)\n",
    "substitute(Ricci,Gtog)\n",
    "evaluate(Ricci, friedmann, rhsonly=True);"
   ]
  },
  {
   "cell_type": "code",
   "execution_count": 9,
   "metadata": {},
   "outputs": [
    {
     "data": {
      "text/markdown": [
       "${}\\Gamma^{l}\\,_{m n} = \\frac{1}{2}h^{l k} \\left(\\partial_{n}{h_{k m}}+\\partial_{m}{h_{k n}}-\\partial_{k}{h_{m n}}\\right)$"
      ]
     },
     "metadata": {},
     "output_type": "display_data"
    },
    {
     "data": {
      "text/markdown": [
       "${}\\Gamma^{l}\\,_{m n} = \\square{}_{m}{}_{n}{}^{l}\\left\\{\\begin{aligned}\\square{}_{z}{}_{t}{}^{z}& = \\dot{a} {a}^{-1}\\\\[-.5ex]\n",
       "\\square{}_{y}{}_{t}{}^{y}& = \\dot{a} {a}^{-1}\\\\[-.5ex]\n",
       "\\square{}_{x}{}_{t}{}^{x}& = \\dot{a} {a}^{-1}\\\\[-.5ex]\n",
       "\\square{}_{t}{}_{z}{}^{z}& = \\dot{a} {a}^{-1}\\\\[-.5ex]\n",
       "\\square{}_{t}{}_{y}{}^{y}& = \\dot{a} {a}^{-1}\\\\[-.5ex]\n",
       "\\square{}_{t}{}_{x}{}^{x}& = \\dot{a} {a}^{-1}\\\\[-.5ex]\n",
       "\\square{}_{z}{}_{z}{}^{t}& = a \\dot{a}\\\\[-.5ex]\n",
       "\\square{}_{y}{}_{y}{}^{t}& = a \\dot{a}\\\\[-.5ex]\n",
       "\\square{}_{x}{}_{x}{}^{t}& = a \\dot{a}\\\\[-.5ex]\n",
       "\\end{aligned}\\right.\n",
       "$"
      ]
     },
     "metadata": {},
     "output_type": "display_data"
    }
   ],
   "source": [
    "Chr:= @[Gtog];\n",
    "evaluate(Chr, friedmann, rhsonly=True);"
   ]
  },
  {
   "cell_type": "code",
   "execution_count": 10,
   "metadata": {},
   "outputs": [
    {
     "data": {
      "text/markdown": [
       "${}R = R^{s}\\,_{m s n} h^{m n}$"
      ]
     },
     "metadata": {},
     "output_type": "display_data"
    },
    {
     "data": {
      "text/markdown": [
       "${}R = -\\left(6a \\ddot{a}+6{\\left(\\dot{a}\\right)}^{2}\\right) {a}^{-2}$"
      ]
     },
     "metadata": {},
     "output_type": "display_data"
    }
   ],
   "source": [
    "RScallar := R = R^{s}_{m s n}h^{m n};\n",
    "substitute(RScallar, RtoG)\n",
    "substitute(RScallar, Chr)\n",
    "evaluate(RScallar, friedmann, rhsonly=True);"
   ]
  },
  {
   "cell_type": "markdown",
   "metadata": {},
   "source": [
    "Здесь и далее $\\mathcal{G}$ - уравнение Эйнштейна, полученное из действия с соответствующим номером, $\\mathcal{P}$ - уравнение движения для поля $\\pi$, $\\Phi$ - уравнение движения для поля $\\phi$, $\\mathcal{A}$ - уравнения движения для эл.магнитного поля."
   ]
  },
  {
   "cell_type": "code",
   "execution_count": 11,
   "metadata": {},
   "outputs": [
    {
     "data": {
      "text/markdown": [
       "${}\\mathcal{G}^{2}\\,_{a b} = \\square{}_{a}{}_{b}\\left\\{\\begin{aligned}\\square{}_{t}{}_{t}& = F_{X} X - \\frac{1}{2}F\\\\[-.5ex]\n",
       "\\square{}_{x}{}_{x}& = \\frac{1}{2}{a}^{2} F\\\\[-.5ex]\n",
       "\\square{}_{y}{}_{y}& = \\frac{1}{2}{a}^{2} F\\\\[-.5ex]\n",
       "\\square{}_{z}{}_{z}& = \\frac{1}{2}{a}^{2} F\\\\[-.5ex]\n",
       "\\end{aligned}\\right.\n",
       "$"
      ]
     },
     "metadata": {},
     "output_type": "display_data"
    }
   ],
   "source": [
    "G2 = evaluate(fr.G2, friedmann, rhsonly=True)\n",
    "substitute(G2, $(\\partial_{t}{p})**2 -> X$);"
   ]
  },
  {
   "cell_type": "code",
   "execution_count": 12,
   "metadata": {},
   "outputs": [
    {
     "data": {
      "text/markdown": [
       "${}\\mathcal{P}^{2} = F_{\\pi}+F_{X} \\left(\\ddot{\\pi}+3H \\dot{\\pi}\\right)+X \\left(F_{X \\pi}+2F_{X X} \\ddot{\\pi}\\right)$"
      ]
     },
     "metadata": {},
     "output_type": "display_data"
    }
   ],
   "source": [
    "P2 = substitute(fr.P2,Chr)\n",
    "\n",
    "evaluate(P2, friedmann, rhsonly=True)\n",
    "\n",
    "substitute(P2, $\\partial_{t}{a} a**(-1) -> H$)\n",
    "\n",
    "substitute(P2, $\\partial_{t}(NX) -> NXp * \\partial_{t}{p} + 2 NXX * \\partial_{t}{p} * \\partial_{t}{\\partial_{t}{p}}$)\n",
    "distribute(P2)\n",
    "\n",
    "collect_factors(P2)\n",
    "\n",
    "substitute(P2, $(\\partial_{t}{p})**2 -> X$)\n",
    "factor_out(P2, $NX, X$);"
   ]
  },
  {
   "cell_type": "code",
   "execution_count": 13,
   "metadata": {},
   "outputs": [
    {
     "data": {
      "text/markdown": [
       "${}\\mathcal{G}^{3}\\,_{a b} = \\square{}_{a}{}_{b}\\left\\{\\begin{aligned}\\square{}_{t}{}_{t}& = X \\left(3K_{X} H \\dot{\\pi} - \\frac{1}{2}K_{\\pi}\\right)\\\\[-.5ex]\n",
       "\\square{}_{x}{}_{x}& = -\\left(K_{X} \\ddot{\\pi}+\\frac{1}{2}K_{\\pi}\\right) {a}^{2} X\\\\[-.5ex]\n",
       "\\square{}_{y}{}_{y}& = -\\left(K_{X} \\ddot{\\pi}+\\frac{1}{2}K_{\\pi}\\right) {a}^{2} X\\\\[-.5ex]\n",
       "\\square{}_{z}{}_{z}& = -\\left(K_{X} \\ddot{\\pi}+\\frac{1}{2}K_{\\pi}\\right) {a}^{2} X\\\\[-.5ex]\n",
       "\\end{aligned}\\right.\n",
       "$"
      ]
     },
     "metadata": {},
     "output_type": "display_data"
    }
   ],
   "source": [
    "G3 = substitute(fr.G3, Chr)\n",
    "evaluate(G3, friedmann, rhsonly=True)\n",
    "distribute(G3)\n",
    "collect_factors(_)\n",
    "sort_product(_)\n",
    "substitute(G3, $\\partial_{t}{K} -> Kp*\\partial_{t}{p} + 2* KX* \\partial_{t}{p}\\partial_{t}{\\partial_{t}{p}}$)\n",
    "map_sympy(G3, 'simplify')\n",
    "\n",
    "substitute(G3,  $(\\partial_{t}{p})**2 -> X$)\n",
    "substitute(G3,  $(\\partial_{t}{p})**3 -> \\partial_{t}{p} * X$)\n",
    "substitute(G3, $\\partial_{t}{a} a**(-1) -> H$)\n",
    "\n",
    "factor_out(G3, $X$);"
   ]
  },
  {
   "cell_type": "code",
   "execution_count": 14,
   "metadata": {},
   "outputs": [
    {
     "data": {
      "text/markdown": [
       "${}\\mathcal{P}^{3} = \\left(\\left(K_{X} \\ddot{\\pi}+\\dot{K_{X}} \\dot{\\pi}\\right) {a}^{2} \\ddot{\\pi}+3\\left(2K_{X} \\ddot{\\pi}+\\dot{K_{X}} \\dot{\\pi}\\right) a \\dot{a} \\dot{\\pi}+\\left(a \\ddot{\\pi}+3\\dot{a} \\dot{\\pi}\\right) K_{\\pi} a+9K_{X} {\\left(\\dot{a}\\right)}^{2} {\\left(\\dot{\\pi}\\right)}^{2}+{a}^{2} \\ddot{K}+3a \\dot{K} \\dot{a}\\right) {a}^{-2}$"
      ]
     },
     "metadata": {},
     "output_type": "display_data"
    },
    {
     "data": {
      "text/markdown": [
       "${}\\mathcal{P}^{3} = \\left(12H \\ddot{\\pi}+\\dddot{\\pi}\\right) K_{X} \\dot{\\pi}+\\left(9{H}^{2} X+2{\\left(\\ddot{\\pi}\\right)}^{2}\\right) K_{X}+3\\left(2K_{X X} X \\ddot{\\pi}+K_{X \\pi} X+2K_{\\pi}\\right) H \\dot{\\pi}+6K_{X X} X {\\left(\\ddot{\\pi}\\right)}^{2}+5K_{X \\pi} X \\ddot{\\pi}+2K_{\\pi} \\ddot{\\pi}+K_{\\pi \\pi} X$"
      ]
     },
     "metadata": {},
     "output_type": "display_data"
    }
   ],
   "source": [
    "P3 = substitute(fr.P3, Chr)\n",
    "evaluate(P3, friedmann, rhsonly=True);\n",
    "\n",
    "substitute(P3, $\\partial_{t}{K} -> Kp*\\partial_{t}{p} + 2* KX* \\partial_{t}{p}\\partial_{t}{\\partial_{t}{p}}$)\n",
    "substitute(P3, $\\partial_{t}{KX} -> KXp*\\partial_{t}{p} + 2* KXX* \\partial_{t}{p}\\partial_{t}{\\partial_{t}{p}}$)\n",
    "substitute(P3, $\\partial_{t t}{K} -> (Kpp * \\partial_{t}{p} + 2* KXp* \\partial_{t}{p}\\partial_{t t}{p})*\\partial_{t}{p} + Kp * \\partial_{t t}{p} + 2* (KXp*\\partial_{t}{p} + 2* KXX* \\partial_{t}{p}\\partial_{t t}{p}) * \\partial_{t}{p}\\partial_{t t}{p} + KX * (\\partial_{t t}{p}\\partial_{t t}{p} +\\partial_{t}{p}\\partial_{t t t}{p})$)\n",
    "\n",
    "distribute(P3)\n",
    "\n",
    "collect_factors(P3)\n",
    "\n",
    "sort_product(P3)\n",
    "\n",
    "substitute(P3,  $(\\partial_{t}{p})**2 -> X$)\n",
    "substitute(P3,  $(\\partial_{t}{p})**3 -> \\partial_{t}{p} * X$)\n",
    "substitute(P3, $\\partial_{t}{a} a**(-1) -> H$)\n",
    "substitute(P3, $(\\partial_{t}{a})**2 a**(-2) -> H**2$)\n",
    "\n",
    "factor_out(P3, $K, KX, \\partial_{t}{p}$)\n",
    "sort_product(P3)\n",
    "collect_factors(P3)\n",
    "map_sympy(P3,'powsimp')\n",
    "map_sympy(P3, 'simplify');"
   ]
  },
  {
   "cell_type": "code",
   "execution_count": 15,
   "metadata": {},
   "outputs": [
    {
     "data": {
      "text/markdown": [
       "${}\\dot{K}$"
      ]
     },
     "metadata": {},
     "output_type": "display_data"
    },
    {
     "data": {
      "text/markdown": [
       "${}K_{\\pi} \\dot{\\pi}+2K_{X} \\dot{\\pi} \\ddot{\\pi}$"
      ]
     },
     "metadata": {},
     "output_type": "display_data"
    },
    {
     "data": {
      "text/markdown": [
       "${}\\dot{K_{\\pi} \\dot{\\pi}+2K_{X} \\dot{\\pi} \\ddot{\\pi}}$"
      ]
     },
     "metadata": {},
     "output_type": "display_data"
    },
    {
     "data": {
      "text/markdown": [
       "${}\\dot{K_{\\pi} \\dot{\\pi}}+2\\dot{K_{X} \\dot{\\pi} \\ddot{\\pi}}$"
      ]
     },
     "metadata": {},
     "output_type": "display_data"
    },
    {
     "data": {
      "text/markdown": [
       "${}\\dot{K_{\\pi}} \\dot{\\pi}+K_{\\pi} \\ddot{\\pi}+2\\dot{K_{X}} \\dot{\\pi} \\ddot{\\pi}+2K_{X} \\ddot{\\pi} \\ddot{\\pi}+2K_{X} \\dot{\\pi} \\dddot{\\pi}$"
      ]
     },
     "metadata": {},
     "output_type": "display_data"
    },
    {
     "data": {
      "text/markdown": [
       "${}\\left(K_{\\pi \\pi} \\dot{\\pi}+2K_{X \\pi} \\dot{\\pi} \\ddot{\\pi}\\right) \\dot{\\pi}+K_{\\pi} \\ddot{\\pi}+2\\dot{K_{X}} \\dot{\\pi} \\ddot{\\pi}+2K_{X} \\ddot{\\pi} \\ddot{\\pi}+2K_{X} \\dot{\\pi} \\dddot{\\pi}$"
      ]
     },
     "metadata": {},
     "output_type": "display_data"
    },
    {
     "data": {
      "text/markdown": [
       "${}\\left(K_{\\pi \\pi} \\dot{\\pi}+2K_{X \\pi} \\dot{\\pi} \\ddot{\\pi}\\right) \\dot{\\pi}+K_{\\pi} \\ddot{\\pi}+2\\left(K_{X \\pi} \\dot{\\pi}+2K_{X X} \\dot{\\pi} \\ddot{\\pi}\\right) \\dot{\\pi} \\ddot{\\pi}+2K_{X} \\ddot{\\pi} \\ddot{\\pi}+2K_{X} \\dot{\\pi} \\dddot{\\pi}$"
      ]
     },
     "metadata": {},
     "output_type": "display_data"
    }
   ],
   "source": [
    "ex:= \\partial_{t}{K};\n",
    "substitute(ex, $\\partial_{t}{K} -> Kp*\\partial_{t}{p} + 2* KX* \\partial_{t}{p}\\partial_{t}{\\partial_{t}{p}}$);\n",
    "ex1:= \\partial_{t}{@[ex]};\n",
    "distribute(ex1);\n",
    "product_rule(ex1);\n",
    "substitute(ex1, $\\partial_{t}{Kp} -> Kpp*\\partial_{t}{p} + 2* KXp* \\partial_{t}{p}\\partial_{t}{\\partial_{t}{p}}$);\n",
    "substitute(ex1, $\\partial_{t}{KX} -> KXp*\\partial_{t}{p} + 2* KXX* \\partial_{t}{p}\\partial_{t}{\\partial_{t}{p}}$);"
   ]
  },
  {
   "cell_type": "code",
   "execution_count": 17,
   "metadata": {},
   "outputs": [
    {
     "data": {
      "text/markdown": [
       "${}\\mathcal{G}^{4}\\,_{a b} = \\square{}_{a}{}_{b}\\left\\{\\begin{aligned}\\square{}_{z}{}_{z}& = 2{G_{4}} a \\ddot{a}+{G_{4}} {\\left(\\dot{a}\\right)}^{2}-4G_{4X} X a \\ddot{a}-2G_{4X} X {\\left(\\dot{a}\\right)}^{2}-4G_{4X} a \\dot{a} \\dot{\\pi} \\ddot{\\pi}-8G_{4XX} X a \\dot{a} \\dot{\\pi} \\ddot{\\pi}+2G_{4\\pi X} X {a}^{2} \\ddot{\\pi}-4G_{4\\pi X} X a \\dot{a} \\dot{\\pi}+G_{4\\pi} {a}^{2} \\ddot{\\pi}+2G_{4\\pi} a \\dot{a} \\dot{\\pi}+G_{4\\pi\\pi} X {a}^{2}\\\\[-.5ex]\n",
       "\\square{}_{y}{}_{y}& = 2{G_{4}} a \\ddot{a}+{G_{4}} {\\left(\\dot{a}\\right)}^{2}-4G_{4X} X a \\ddot{a}-2G_{4X} X {\\left(\\dot{a}\\right)}^{2}-4G_{4X} a \\dot{a} \\dot{\\pi} \\ddot{\\pi}-8G_{4XX} X a \\dot{a} \\dot{\\pi} \\ddot{\\pi}+2G_{4\\pi X} X {a}^{2} \\ddot{\\pi}-4G_{4\\pi X} X a \\dot{a} \\dot{\\pi}+G_{4\\pi} {a}^{2} \\ddot{\\pi}+2G_{4\\pi} a \\dot{a} \\dot{\\pi}+G_{4\\pi\\pi} X {a}^{2}\\\\[-.5ex]\n",
       "\\square{}_{x}{}_{x}& = 2{G_{4}} a \\ddot{a}+{G_{4}} {\\left(\\dot{a}\\right)}^{2}-4G_{4X} X a \\ddot{a}-2G_{4X} X {\\left(\\dot{a}\\right)}^{2}-4G_{4X} a \\dot{a} \\dot{\\pi} \\ddot{\\pi}-8G_{4XX} X a \\dot{a} \\dot{\\pi} \\ddot{\\pi}+2G_{4\\pi X} X {a}^{2} \\ddot{\\pi}-4G_{4\\pi X} X a \\dot{a} \\dot{\\pi}+G_{4\\pi} {a}^{2} \\ddot{\\pi}+2G_{4\\pi} a \\dot{a} \\dot{\\pi}+G_{4\\pi\\pi} X {a}^{2}\\\\[-.5ex]\n",
       "\\square{}_{t}{}_{t}& = 3\\left(-{G_{4}} H+4G_{4X} H X+4G_{4XX} H {\\left(\\dot{\\pi}\\right)}^{4}-2G_{4\\pi X} X \\dot{\\pi}-G_{4\\pi} \\dot{\\pi}\\right) H\\\\[-.5ex]\n",
       "\\end{aligned}\\right.\n",
       "$"
      ]
     },
     "metadata": {},
     "output_type": "display_data"
    }
   ],
   "source": [
    "G4 = fr.G4\n",
    "substitute(G4, Ricci)\n",
    "substitute(G4, Chr)\n",
    "substitute(G4, RScallar)\n",
    "evaluate(G4, friedmann, rhsonly=True)\n",
    "\n",
    "substitute(G4, $\\partial_{t}{G4} -> G4p*\\partial_{t}{p} + 2* G4X* \\partial_{t}{p}\\partial_{t}{\\partial_{t}{p}}$)\n",
    "substitute(G4, $\\partial_{t}{G4X} -> G4Xp*\\partial_{t}{p} + 2* G4XX* \\partial_{t}{p}\\partial_{t}{\\partial_{t}{p}}$)\n",
    "substitute(G4, $\\partial_{t t}{G4} -> ((G4pp \\partial_{t}(p) + 2G4Xp \\partial_{t}(p) \\partial_{t t}(p)) \\partial_{t}(p) + G4p \\partial_{t t}(p) + 2(G4Xp \\partial_{t}(p) + 2G4XX \\partial_{t}(p) \\partial_{t t}(p)) \\partial_{t}(p) \\partial_{t t}(p) + 2G4X \\partial_{t t}(p) \\partial_{t t}(p) + 2G4X \\partial_{t}(p) \\partial_{t t t}(p)$)\n",
    "\n",
    "distribute(G4)\n",
    "\n",
    "sort_product(G4)\n",
    "\n",
    "collect_factors(G4)\n",
    "\n",
    "substitute(G4,  $(\\partial_{t}{p})**2 -> X$)\n",
    "substitute(G4,  $(\\partial_{t}{p})**3 -> \\partial_{t}{p} * X$)\n",
    "substitute(G4, $\\partial_{t}{a} a**(-1) -> H$)\n",
    "substitute(G4, $(\\partial_{t}{a})**2 a**(-2) -> H**2$)\n",
    "\n",
    "map_sympy(G4,'powsimp')\n",
    "map_sympy(G4,'simplify');"
   ]
  },
  {
   "cell_type": "code",
   "execution_count": null,
   "metadata": {},
   "outputs": [],
   "source": [
    "P4 = fr.P4;"
   ]
  },
  {
   "cell_type": "code",
   "execution_count": null,
   "metadata": {},
   "outputs": [],
   "source": [
    "substitute(P4, Chr);\n",
    "substitute(P4, RScallar);\n",
    "substitute(P4, Ricci)\n",
    "evaluate(P4, friedmann, rhsonly=True);"
   ]
  },
  {
   "cell_type": "code",
   "execution_count": null,
   "metadata": {},
   "outputs": [],
   "source": [
    "substitute(P4,  $(\\partial_{t}{p})**2 -> X$)\n",
    "substitute(P4,  $(\\partial_{t}{p})**3 -> \\partial_{t}{p} * X$)\n",
    "substitute(P4, $\\partial_{t}{a} a**(-1) -> H$)\n",
    "substitute(P4, $(\\partial_{t}{a})**2 a**(-2) -> H**2$);\n",
    "# map_sympy(P4, 'simplify');"
   ]
  },
  {
   "cell_type": "markdown",
   "metadata": {},
   "source": [
    "### Вот тут уравнение компонента 00 уравнения Эйнштейна:"
   ]
  },
  {
   "cell_type": "code",
   "execution_count": 21,
   "metadata": {},
   "outputs": [
    {
     "data": {
      "text/markdown": [
       "${}F+6G_{4\\pi} H \\dot{\\pi}+X \\left(-2F_{X}-6H K_{X} \\dot{\\pi}+K_{\\pi}+12G_{4\\pi X} H \\dot{\\pi}\\right)+{H}^{2} \\left(6{G_{4}}-24G_{4XX} {X}^{2}\\right)-24X {H}^{2} G_{4X}$"
      ]
     },
     "metadata": {},
     "output_type": "display_data"
    }
   ],
   "source": [
    "G00 = com.get_component(man.get_rhs(G2), $t, t$) + com.get_component(man.get_rhs(G3), $t, t$) + com.get_component(man.get_rhs(G4), $t, t$);\n",
    "\n",
    "man.multiply_through(G00, $-2$);\n",
    "\n",
    "distribute(G00)\n",
    "sort_product(G00)\n",
    "collect_factors(G00)\n",
    "substitute(G00, $(\\partial_{t}{p})**4 -> X**2$);\n",
    "\n",
    "factor_out(G00, $H**2, X$);"
   ]
  },
  {
   "cell_type": "markdown",
   "metadata": {},
   "source": [
    "### А вот тут ii компоненты:"
   ]
  },
  {
   "cell_type": "code",
   "execution_count": 29,
   "metadata": {},
   "outputs": [
    {
     "data": {
      "text/markdown": [
       "${}F-2K_{X} X \\ddot{\\pi}-K_{\\pi} X-8G_{4X} X \\dot{H}-12G_{4X} X {H}^{2}-8G_{4X} H \\dot{\\pi} \\ddot{\\pi}-16G_{4XX} X H \\dot{\\pi} \\ddot{\\pi}+4G_{4\\pi X} X \\ddot{\\pi}-8G_{4\\pi X} X H \\dot{\\pi}+2G_{4\\pi} \\ddot{\\pi}+4G_{4\\pi} H \\dot{\\pi}+2G_{4\\pi\\pi} X+4{G_{4}} \\dot{H}+6{G_{4}} {H}^{2}$"
      ]
     },
     "metadata": {},
     "output_type": "display_data"
    }
   ],
   "source": [
    "Gii = com.get_component(man.get_rhs(G2), $x, x$) + com.get_component(man.get_rhs(G3), $x, x$) + com.get_component(man.get_rhs(G4), $x, x$);\n",
    "\n",
    "man.multiply_through(Gii, $2 * a**{-2}$);\n",
    "\n",
    "distribute(Gii)\n",
    "sort_product(Gii)\n",
    "collect_factors(Gii)\n",
    "substitute(Gii, $(\\partial_{t}{p})**4 -> X**2$);\n",
    "\n",
    "substitute(Gii,  $(\\partial_{t}{p})**2 -> X$)\n",
    "substitute(Gii,  $(\\partial_{t}{p})**3 -> \\partial_{t}{p} * X$)\n",
    "substitute(Gii, $\\partial_{t}{a} a**(-1) -> H$)\n",
    "substitute(Gii, $(\\partial_{t}{a})**2 a**(-2) -> H**2$);\n",
    "\n",
    "substitute(Gii, $\\partial_{t t}{a} * a**{-1} -> \\partial_{t}{H} + H**2$);\n",
    "\n",
    "distribute(Gii);\n",
    "\n",
    "collect_factors(Gii);"
   ]
  },
  {
   "cell_type": "code",
   "execution_count": null,
   "metadata": {},
   "outputs": [],
   "source": []
  }
 ],
 "metadata": {
  "kernelspec": {
   "display_name": "Cadabra2",
   "language": "python",
   "name": "cadabra2"
  },
  "language_info": {
   "codemirror_mode": "cadabra",
   "file_extension": ".ipynb",
   "mimetype": "text/cadabra",
   "name": "cadabra2",
   "pygments_lexer": "cadabra"
  },
  "latex_envs": {
   "LaTeX_envs_menu_present": false,
   "autoclose": true,
   "autocomplete": true,
   "bibliofile": "biblio.bib",
   "cite_by": "apalike",
   "current_citInitial": 1,
   "eqLabelWithNumbers": true,
   "eqNumInitial": 1,
   "hotkeys": {
    "equation": "Ctrl-E",
    "itemize": "Ctrl-I"
   },
   "labels_anchors": true,
   "latex_user_defs": false,
   "report_style_numbering": false,
   "user_envs_cfg": false
  }
 },
 "nbformat": 4,
 "nbformat_minor": 4
}
