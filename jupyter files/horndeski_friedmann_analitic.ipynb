{
 "cells": [
  {
   "cell_type": "markdown",
   "metadata": {},
   "source": [
    "Here I expand all the conventions in the equations of motion from the file \"varying\" to then substitute the Friedman metric into them."
   ]
  },
  {
   "cell_type": "code",
   "execution_count": 1,
   "metadata": {},
   "outputs": [],
   "source": [
    "import sympy\n",
    "import cdb.core.manip as man\n",
    "import functions as fun\n",
    "import varyingHorndeski as var"
   ]
  },
  {
   "cell_type": "code",
   "execution_count": 2,
   "metadata": {},
   "outputs": [],
   "source": [
    "{a,b,c,d,e,f,g,h,i,j,k,l,m,n,o,q,r,s,u,v,w,z#}::Indices(full,values={t,x,y}, position=independent).\n",
    "\\partial{#}::PartialDerivative.\n",
    "\\nabla{#}::Derivative.\n",
    "{\\nabla{#},\\partial{#}}::Commuting."
   ]
  },
  {
   "cell_type": "code",
   "execution_count": 3,
   "metadata": {},
   "outputs": [],
   "source": [
    "h_{m? n?}::Metric.\n",
    "h^{m? n?}::InverseMetric.\n",
    "h_{m? n?}::Symmetric.\n",
    "h^{m? n?}::Symmetric.\n",
    "\\delta^{m?}_{n?}::KroneckerDelta.\n",
    "\\delta_{m?}^{n?}::KroneckerDelta.\n",
    "\\Gamma^{m}_{n q}::TableauSymmetry(shape={2}, indices={1,2})."
   ]
  },
  {
   "cell_type": "code",
   "execution_count": 4,
   "metadata": {},
   "outputs": [],
   "source": [
    "p::Depends(\\nabla{#}, \\partial{#}).\n",
    "X::Depends(\\nabla{#}, \\partial{#}).\n",
    "h_{m n}::Depends(\\partial{#}).\n",
    "h^{m n}::Depends(\\partial{#}).\n",
    "G4::Depends(\\nabla{#}, \\partial{#}).\n",
    "G4p::Depends(\\nabla{#}, \\partial{#}).\n",
    "G4X::Depends(\\nabla{#}, \\partial{#}).\n",
    "G4XX::Depends(\\nabla{#}, \\partial{#}).\n",
    "K::Depends(\\nabla{#}, \\partial{#}).\n",
    "Kp::Depends(\\nabla{#}, \\partial{#}).\n",
    "KX::Depends(\\nabla{#}, \\partial{#}).\n",
    "N::Depends(\\nabla{#}, \\partial{#}).\n",
    "Np::Depends(\\nabla{#}, \\partial{#}).\n",
    "NX::Depends(\\nabla{#}, \\partial{#})."
   ]
  },
  {
   "cell_type": "code",
   "execution_count": 5,
   "metadata": {},
   "outputs": [],
   "source": [
    "p::LaTeXForm(\"\\pi\").\n",
    "G4p::LaTeXForm(\"G_{4\\pi}\").\n",
    "G4X::LaTeXForm(\"G_{4X}\").\n",
    "G4XX::LaTeXForm(\"G_{4XX}\").\n",
    "G4Xp::LaTeXForm(\"G_{4\\pi X}\").\n",
    "Kp::LaTeXForm(\"K_{\\pi}\").\n",
    "KX::LaTeXForm(\"K_{X}\").\n",
    "N::LaTeXForm(\"F\").\n",
    "Np::LaTeXForm(\"F_{\\pi}\").\n",
    "NX::LaTeXForm(\"F_{X}\").\n",
    "pi2::LaTeXForm(\"\\pi^{m n}\\pi_{m n}\").\t\n",
    "boxpi4::LaTeXForm(\"\\Box^{(4)}{\\pi}\").\n",
    "delboxpi4::LaTeXForm(\"\\delta\\Box^{(4)}{\\pi}\").\n",
    "pi24::LaTeXForm(\"\\pi^{\\mu \\nu}\\pi_{\\mu \\nu}\").\n",
    "mathcalG{#}::LaTeXForm(\"\\mathcal{G}\").\n",
    "mathcalP{#}::LaTeXForm(\"\\mathcal{P}\").\n",
    "mathcalA{#}::LaTeXForm(\"\\mathcal{A}\").\n",
    "mathcalphi{#}::LaTeXForm(\"\\Phi\")."
   ]
  },
  {
   "cell_type": "markdown",
   "metadata": {},
   "source": [
    "Now I should substitute all notations and expand all nabla-operators as covariant derivatives:"
   ]
  },
  {
   "cell_type": "code",
   "execution_count": 6,
   "metadata": {},
   "outputs": [
    {
     "data": {
      "text/markdown": [
       "${}\\mathcal{G}^{2}\\,_{a b} =  - \\frac{1}{2}h_{a b} F - \\frac{1}{2}F_{X} \\partial_{a}{\\pi} \\partial_{b}{\\pi}$"
      ]
     },
     "metadata": {},
     "output_type": "display_data"
    }
   ],
   "source": [
    "G2 = fun.expand_nabla(var.G2);"
   ]
  },
  {
   "cell_type": "code",
   "execution_count": 7,
   "metadata": {},
   "outputs": [
    {
     "data": {
      "text/markdown": [
       "${}\\mathcal{P}^{2} = F_{\\pi}+h^{a b} \\left(\\partial_{b}\\left(F_{X} \\partial_{a}{\\pi}\\right)-\\Gamma^{w}\\,_{b a} F_{X} \\partial_{w}{\\pi}\\right)$"
      ]
     },
     "metadata": {},
     "output_type": "display_data"
    }
   ],
   "source": [
    "P2 = fun.expand_nabla(var.P2);"
   ]
  },
  {
   "cell_type": "code",
   "execution_count": 8,
   "metadata": {},
   "outputs": [
    {
     "data": {
      "text/markdown": [
       "${}\\mathcal{G}^{3}\\,_{a b} =  - \\frac{1}{2}K_{X} \\nabla_{a}{\\pi} \\nabla_{b}{\\pi} h^{c d} \\nabla_{c}\\left(\\nabla_{d}{\\pi}\\right)-\\nabla_{a}{K} \\nabla_{b}{\\pi}+\\frac{1}{2}\\nabla_{c}{K} \\nabla_{d}{\\pi} h_{a b} h^{c d}$"
      ]
     },
     "metadata": {},
     "output_type": "display_data"
    }
   ],
   "source": [
    "G3 = var.G3;"
   ]
  },
  {
   "cell_type": "code",
   "execution_count": 9,
   "metadata": {},
   "outputs": [
    {
     "data": {
      "text/markdown": [
       "${}\\mathcal{G}^{3}\\,_{a b} =  - \\frac{1}{2}K_{X} \\partial_{a}{\\pi} \\partial_{b}{\\pi} h^{c d} \\left(\\partial_{c d}{\\pi}-\\Gamma^{u}\\,_{c d} \\partial_{u}{\\pi}\\right)-\\partial_{a}{K} \\partial_{b}{\\pi}+\\frac{1}{2}\\partial_{c}{K} \\partial_{d}{\\pi} h_{a b} h^{c d}$"
      ]
     },
     "metadata": {},
     "output_type": "display_data"
    }
   ],
   "source": [
    "fun.expand_nabla(G3)\n",
    "G3 := @[G3];"
   ]
  },
  {
   "cell_type": "code",
   "execution_count": 10,
   "metadata": {},
   "outputs": [
    {
     "data": {
      "text/markdown": [
       "${}\\mathcal{P}^{3} = K_{\\pi} h^{b c} \\left(\\partial_{b c}{\\pi}-\\Gamma^{a}\\,_{b c} \\partial_{a}{\\pi}\\right)+h^{b c} \\left(\\partial_{b c}{\\pi}-\\Gamma^{a}\\,_{b c} \\partial_{a}{\\pi}\\right) \\left(\\partial_{e}\\left(K_{X} \\partial_{f}{\\pi}\\right)-\\Gamma^{d}\\,_{e f} K_{X} \\partial_{d}{\\pi}\\right) h^{e f}+h^{b c} \\left(\\partial_{b c}{K}-\\Gamma^{a}\\,_{b c} \\partial_{a}{K}\\right)$"
      ]
     },
     "metadata": {},
     "output_type": "display_data"
    }
   ],
   "source": [
    "P3 = fun.expand_nabla(var.P3)\n",
    "rename_dummies(P3)\n",
    "canonicalise(P3)\n",
    "P3 := @[P3];"
   ]
  },
  {
   "cell_type": "code",
   "execution_count": 12,
   "metadata": {},
   "outputs": [
    {
     "data": {
      "text/markdown": [
       "${}\\mathcal{G}^{4}\\,_{a b} = -\\nabla_{a}\\left(\\nabla_{b}\\left({G_{4}}\\right)\\right)+h^{c d} \\nabla_{c}\\left(\\nabla_{d}\\left({G_{4}}\\right)\\right) h_{a b}+{G_{4}} R_{a b}-G_{4X} \\nabla_{a}\\left(\\nabla_{b}{\\pi}\\right) \\nabla_{c}\\left(\\nabla_{d}{\\pi}\\right) h^{c d}+\\frac{1}{2}G_{4X} \\nabla_{c}\\left(\\nabla_{d}{\\pi}\\right) \\nabla_{e}\\left(\\nabla_{f}{\\pi}\\right) h_{a b} h^{c d} h^{e f}+\\frac{1}{2}G_{4X} \\nabla_{c}\\left(\\nabla_{d}{\\pi}\\right) \\nabla_{e}\\left(\\nabla_{f}{\\pi}\\right) h_{a b} h^{c e} h^{d f} - \\frac{1}{2}G_{4XX} \\nabla_{c}\\left(\\nabla_{d}{\\pi}\\right) \\nabla_{e}\\left(\\nabla_{f}{\\pi}\\right) \\nabla_{a}{\\pi} \\nabla_{b}{\\pi} h^{c d} h^{e f}+\\frac{1}{2}G_{4XX} \\nabla_{c}\\left(\\nabla_{d}{\\pi}\\right) \\nabla_{e}\\left(\\nabla_{f}{\\pi}\\right) \\nabla_{a}{\\pi} \\nabla_{b}{\\pi} h^{c e} h^{d f}+\\nabla_{c}\\left(G_{4X} \\nabla_{d}\\left(\\nabla_{e}{\\pi}\\right)\\right) \\nabla_{f}{\\pi} h_{a b} h^{c f} h^{d e}-2\\nabla_{a}\\left(G_{4X} \\nabla_{c}\\left(\\nabla_{d}{\\pi}\\right)\\right) \\nabla_{b}{\\pi} h^{c d}+G_{4X} \\nabla_{a}\\left(\\nabla_{c}{\\pi}\\right) \\nabla_{d}\\left(\\nabla_{b}{\\pi}\\right) h^{c d}-2G_{4X} \\nabla_{a}\\left(\\nabla_{c}{\\pi}\\right) \\nabla_{b}\\left(\\nabla_{d}{\\pi}\\right) h^{c d}+\\nabla_{c}\\left(G_{4X} \\nabla_{d}\\left(\\nabla_{a}{\\pi}\\right)\\right) \\nabla_{b}{\\pi} h^{c d}+G_{4X} \\nabla_{c}\\left(\\nabla_{b}{\\pi}\\right) \\nabla_{d}\\left(\\nabla_{a}{\\pi}\\right) h^{c d}+\\nabla_{c}\\left(G_{4X} \\nabla_{a}\\left(\\nabla_{d}{\\pi}\\right)\\right) \\nabla_{b}{\\pi} h^{c d}-\\nabla_{c}\\left(G_{4X} \\nabla_{a}\\left(\\nabla_{b}{\\pi}\\right)\\right) \\nabla_{d}{\\pi} h^{c d}+R \\left( - \\frac{1}{2}{G_{4}} h_{a b} - \\frac{1}{2}G_{4X} \\nabla_{a}{\\pi} \\nabla_{b}{\\pi}\\right)$"
      ]
     },
     "metadata": {},
     "output_type": "display_data"
    }
   ],
   "source": [
    "G4 = factor_out(var.G4, $R$);"
   ]
  },
  {
   "cell_type": "code",
   "execution_count": 13,
   "metadata": {},
   "outputs": [
    {
     "data": {
      "text/markdown": [
       "${}\\mathcal{G}^{4}\\,_{a b} = -\\nabla_{a}\\left(\\nabla_{b}\\left({G_{4}}\\right)\\right)+\\nabla_{c}\\left(\\nabla_{d}\\left({G_{4}}\\right)\\right) h_{a b} h^{c d}+{G_{4}} R_{a b}-G_{4X} \\nabla_{a}\\left(\\nabla_{b}{\\pi}\\right) \\nabla_{c}\\left(\\nabla_{d}{\\pi}\\right) h^{c d}+\\frac{1}{2}G_{4X} \\nabla_{c}\\left(\\nabla_{d}{\\pi}\\right) \\nabla_{e}\\left(\\nabla_{f}{\\pi}\\right) h_{a b} h^{c d} h^{e f}+\\frac{1}{2}G_{4X} \\nabla_{c}\\left(\\nabla_{d}{\\pi}\\right) \\nabla_{e}\\left(\\nabla_{f}{\\pi}\\right) h_{a b} h^{c e} h^{d f} - \\frac{1}{2}G_{4XX} \\nabla_{c}\\left(\\nabla_{d}{\\pi}\\right) \\nabla_{e}\\left(\\nabla_{f}{\\pi}\\right) \\nabla_{a}{\\pi} \\nabla_{b}{\\pi} h^{c d} h^{e f}+\\frac{1}{2}G_{4XX} \\nabla_{c}\\left(\\nabla_{d}{\\pi}\\right) \\nabla_{e}\\left(\\nabla_{f}{\\pi}\\right) \\nabla_{a}{\\pi} \\nabla_{b}{\\pi} h^{c e} h^{d f}+\\nabla_{c}\\left(G_{4X} \\nabla_{d}\\left(\\nabla_{e}{\\pi}\\right)\\right) \\nabla_{f}{\\pi} h_{a b} h^{c f} h^{d e}-2\\nabla_{a}\\left(G_{4X} \\nabla_{c}\\left(\\nabla_{d}{\\pi}\\right)\\right) \\nabla_{b}{\\pi} h^{c d}+G_{4X} \\nabla_{a}\\left(\\nabla_{c}{\\pi}\\right) \\nabla_{d}\\left(\\nabla_{b}{\\pi}\\right) h^{c d}-2G_{4X} \\nabla_{a}\\left(\\nabla_{c}{\\pi}\\right) \\nabla_{b}\\left(\\nabla_{d}{\\pi}\\right) h^{c d}+\\nabla_{c}\\left(G_{4X} \\nabla_{d}\\left(\\nabla_{a}{\\pi}\\right)\\right) \\nabla_{b}{\\pi} h^{c d}+G_{4X} \\nabla_{c}\\left(\\nabla_{a}{\\pi}\\right) \\nabla_{d}\\left(\\nabla_{b}{\\pi}\\right) h^{c d}+\\nabla_{c}\\left(G_{4X} \\nabla_{a}\\left(\\nabla_{d}{\\pi}\\right)\\right) \\nabla_{b}{\\pi} h^{c d}-\\nabla_{c}\\left(G_{4X} \\nabla_{a}\\left(\\nabla_{b}{\\pi}\\right)\\right) \\nabla_{d}{\\pi} h^{c d}+R \\left( - \\frac{1}{2}{G_{4}} h_{a b} - \\frac{1}{2}G_{4X} \\nabla_{a}{\\pi} \\nabla_{b}{\\pi}\\right)$"
      ]
     },
     "metadata": {},
     "output_type": "display_data"
    }
   ],
   "source": [
    "rename_dummies(G4)\n",
    "canonicalise(G4)\n",
    "sort_product(G4);"
   ]
  },
  {
   "cell_type": "code",
   "execution_count": 14,
   "metadata": {},
   "outputs": [
    {
     "data": {
      "text/markdown": [
       "${}\\mathcal{G}^{4}\\,_{a b} = -\\partial_{a}\\left(\\partial_{b}\\left({G_{4}}\\right)\\right)+\\Gamma^{w}\\,_{a b} \\partial_{w}\\left({G_{4}}\\right)+\\left(\\partial_{c}\\left(\\partial_{d}\\left({G_{4}}\\right)\\right)-\\Gamma^{w}\\,_{c d} \\partial_{w}\\left({G_{4}}\\right)\\right) h_{a b} h^{c d}+{G_{4}} R_{a b}-G_{4X} \\left(\\partial_{a}\\left(\\partial_{b}{\\pi}\\right)-\\Gamma^{w}\\,_{a b} \\partial_{w}{\\pi}\\right) \\left(\\partial_{c}\\left(\\partial_{d}{\\pi}\\right)-\\Gamma^{u}\\,_{c d} \\partial_{u}{\\pi}\\right) h^{c d}+\\frac{1}{2}G_{4X} \\left(\\partial_{c}\\left(\\partial_{d}{\\pi}\\right)-\\Gamma^{w}\\,_{c d} \\partial_{w}{\\pi}\\right) \\left(\\partial_{e}\\left(\\partial_{f}{\\pi}\\right)-\\Gamma^{u}\\,_{e f} \\partial_{u}{\\pi}\\right) h_{a b} h^{c d} h^{e f}+\\frac{1}{2}G_{4X} \\left(\\partial_{c}\\left(\\partial_{d}{\\pi}\\right)-\\Gamma^{w}\\,_{c d} \\partial_{w}{\\pi}\\right) \\left(\\partial_{e}\\left(\\partial_{f}{\\pi}\\right)-\\Gamma^{u}\\,_{e f} \\partial_{u}{\\pi}\\right) h_{a b} h^{c e} h^{d f} - \\frac{1}{2}G_{4XX} \\left(\\partial_{c}\\left(\\partial_{d}{\\pi}\\right)-\\Gamma^{w}\\,_{c d} \\partial_{w}{\\pi}\\right) \\left(\\partial_{e}\\left(\\partial_{f}{\\pi}\\right)-\\Gamma^{u}\\,_{e f} \\partial_{u}{\\pi}\\right) \\partial_{a}{\\pi} \\partial_{b}{\\pi} h^{c d} h^{e f}+\\frac{1}{2}G_{4XX} \\left(\\partial_{c}\\left(\\partial_{d}{\\pi}\\right)-\\Gamma^{w}\\,_{c d} \\partial_{w}{\\pi}\\right) \\left(\\partial_{e}\\left(\\partial_{f}{\\pi}\\right)-\\Gamma^{u}\\,_{e f} \\partial_{u}{\\pi}\\right) \\partial_{a}{\\pi} \\partial_{b}{\\pi} h^{c e} h^{d f}+\\left(\\partial_{c}\\left(G_{4X} \\left(\\partial_{d e}{\\pi}-\\Gamma^{w}\\,_{d e} \\partial_{w}{\\pi}\\right)\\right)-\\Gamma^{v}\\,_{c e} G_{4X} \\left(\\partial_{d v}{\\pi}-\\Gamma^{w}\\,_{d v} \\partial_{w}{\\pi}\\right)-\\Gamma^{v}\\,_{c d} G_{4X} \\left(\\partial_{v e}{\\pi}-\\Gamma^{w}\\,_{v e} \\partial_{w}{\\pi}\\right)\\right) \\partial_{f}{\\pi} h_{a b} h^{c f} h^{d e}-2\\left(\\partial_{a}\\left(G_{4X} \\left(\\partial_{c d}{\\pi}-\\Gamma^{w}\\,_{c d} \\partial_{w}{\\pi}\\right)\\right)-\\Gamma^{v}\\,_{a d} G_{4X} \\left(\\partial_{c v}{\\pi}-\\Gamma^{w}\\,_{c v} \\partial_{w}{\\pi}\\right)-\\Gamma^{v}\\,_{a c} G_{4X} \\left(\\partial_{v d}{\\pi}-\\Gamma^{w}\\,_{v d} \\partial_{w}{\\pi}\\right)\\right) \\partial_{b}{\\pi} h^{c d}+G_{4X} \\left(\\partial_{a}\\left(\\partial_{c}{\\pi}\\right)-\\Gamma^{w}\\,_{a c} \\partial_{w}{\\pi}\\right) \\left(\\partial_{d}\\left(\\partial_{b}{\\pi}\\right)-\\Gamma^{u}\\,_{d b} \\partial_{u}{\\pi}\\right) h^{c d}-2G_{4X} \\left(\\partial_{a}\\left(\\partial_{c}{\\pi}\\right)-\\Gamma^{w}\\,_{a c} \\partial_{w}{\\pi}\\right) \\left(\\partial_{b}\\left(\\partial_{d}{\\pi}\\right)-\\Gamma^{u}\\,_{b d} \\partial_{u}{\\pi}\\right) h^{c d}+\\left(\\partial_{c}\\left(G_{4X} \\left(\\partial_{d a}{\\pi}-\\Gamma^{w}\\,_{d a} \\partial_{w}{\\pi}\\right)\\right)-\\Gamma^{v}\\,_{c a} G_{4X} \\left(\\partial_{d v}{\\pi}-\\Gamma^{w}\\,_{d v} \\partial_{w}{\\pi}\\right)-\\Gamma^{v}\\,_{c d} G_{4X} \\left(\\partial_{v a}{\\pi}-\\Gamma^{w}\\,_{v a} \\partial_{w}{\\pi}\\right)\\right) \\partial_{b}{\\pi} h^{c d}+G_{4X} \\left(\\partial_{c}\\left(\\partial_{a}{\\pi}\\right)-\\Gamma^{w}\\,_{c a} \\partial_{w}{\\pi}\\right) \\left(\\partial_{d}\\left(\\partial_{b}{\\pi}\\right)-\\Gamma^{u}\\,_{d b} \\partial_{u}{\\pi}\\right) h^{c d}+\\left(\\partial_{c}\\left(G_{4X} \\left(\\partial_{a d}{\\pi}-\\Gamma^{w}\\,_{a d} \\partial_{w}{\\pi}\\right)\\right)-\\Gamma^{v}\\,_{c a} G_{4X} \\left(\\partial_{v d}{\\pi}-\\Gamma^{w}\\,_{v d} \\partial_{w}{\\pi}\\right)-\\Gamma^{v}\\,_{c d} G_{4X} \\left(\\partial_{a v}{\\pi}-\\Gamma^{w}\\,_{a v} \\partial_{w}{\\pi}\\right)\\right) \\partial_{b}{\\pi} h^{c d}-\\left(\\partial_{c}\\left(G_{4X} \\left(\\partial_{a b}{\\pi}-\\Gamma^{w}\\,_{a b} \\partial_{w}{\\pi}\\right)\\right)-\\Gamma^{v}\\,_{c b} G_{4X} \\left(\\partial_{a v}{\\pi}-\\Gamma^{w}\\,_{a v} \\partial_{w}{\\pi}\\right)-\\Gamma^{v}\\,_{c a} G_{4X} \\left(\\partial_{v b}{\\pi}-\\Gamma^{w}\\,_{v b} \\partial_{w}{\\pi}\\right)\\right) \\partial_{d}{\\pi} h^{c d}+R \\left( - \\frac{1}{2}{G_{4}} h_{a b} - \\frac{1}{2}G_{4X} \\partial_{a}{\\pi} \\partial_{b}{\\pi}\\right)$"
      ]
     },
     "metadata": {},
     "output_type": "display_data"
    }
   ],
   "source": [
    "fun.expand_nabla(G4);"
   ]
  },
  {
   "cell_type": "code",
   "execution_count": 15,
   "metadata": {},
   "outputs": [
    {
     "data": {
      "text/markdown": [
       "${}\\mathcal{G}^{4}\\,_{a b} = -\\partial_{a}\\left(\\partial_{b}\\left({G_{4}}\\right)\\right)+\\Gamma^{c}\\,_{a b} \\partial_{c}\\left({G_{4}}\\right)+\\left(\\partial_{d}\\left(\\partial_{e}\\left({G_{4}}\\right)\\right)-\\Gamma^{c}\\,_{d e} \\partial_{c}\\left({G_{4}}\\right)\\right) h_{a b} h^{d e}+{G_{4}} R_{a b}-G_{4X} \\left(\\partial_{a}\\left(\\partial_{b}{\\pi}\\right)-\\Gamma^{c}\\,_{a b} \\partial_{c}{\\pi}\\right) \\left(\\partial_{e}\\left(\\partial_{f}{\\pi}\\right)-\\Gamma^{d}\\,_{e f} \\partial_{d}{\\pi}\\right) h^{e f}+\\frac{1}{2}G_{4X} \\left(\\partial_{d}\\left(\\partial_{e}{\\pi}\\right)-\\Gamma^{c}\\,_{d e} \\partial_{c}{\\pi}\\right) \\left(\\partial_{g}\\left(\\partial_{h}{\\pi}\\right)-\\Gamma^{f}\\,_{g h} \\partial_{f}{\\pi}\\right) h_{a b} h^{d e} h^{g h}+\\frac{1}{2}G_{4X} \\left(\\partial_{d}\\left(\\partial_{e}{\\pi}\\right)-\\Gamma^{c}\\,_{d e} \\partial_{c}{\\pi}\\right) \\left(\\partial_{g}\\left(\\partial_{h}{\\pi}\\right)-\\Gamma^{f}\\,_{g h} \\partial_{f}{\\pi}\\right) h_{a b} h^{d g} h^{e h} - \\frac{1}{2}G_{4XX} \\left(\\partial_{d}\\left(\\partial_{e}{\\pi}\\right)-\\Gamma^{c}\\,_{d e} \\partial_{c}{\\pi}\\right) \\left(\\partial_{g}\\left(\\partial_{h}{\\pi}\\right)-\\Gamma^{f}\\,_{g h} \\partial_{f}{\\pi}\\right) \\partial_{a}{\\pi} \\partial_{b}{\\pi} h^{d e} h^{g h}+\\frac{1}{2}G_{4XX} \\left(\\partial_{d}\\left(\\partial_{e}{\\pi}\\right)-\\Gamma^{c}\\,_{d e} \\partial_{c}{\\pi}\\right) \\left(\\partial_{g}\\left(\\partial_{h}{\\pi}\\right)-\\Gamma^{f}\\,_{g h} \\partial_{f}{\\pi}\\right) \\partial_{a}{\\pi} \\partial_{b}{\\pi} h^{d g} h^{e h}+\\left(\\partial_{f}\\left(G_{4X} \\left(\\partial_{d e}{\\pi}-\\Gamma^{c}\\,_{d e} \\partial_{c}{\\pi}\\right)\\right)-\\Gamma^{c}\\,_{f e} G_{4X} \\left(\\partial_{d c}{\\pi}-\\Gamma^{g}\\,_{d c} \\partial_{g}{\\pi}\\right)-\\Gamma^{c}\\,_{f d} G_{4X} \\left(\\partial_{c e}{\\pi}-\\Gamma^{g}\\,_{c e} \\partial_{g}{\\pi}\\right)\\right) \\partial_{h}{\\pi} h_{a b} h^{f h} h^{d e}-2\\left(\\partial_{a}\\left(G_{4X} \\left(\\partial_{d e}{\\pi}-\\Gamma^{c}\\,_{d e} \\partial_{c}{\\pi}\\right)\\right)-\\Gamma^{c}\\,_{a e} G_{4X} \\left(\\partial_{d c}{\\pi}-\\Gamma^{f}\\,_{d c} \\partial_{f}{\\pi}\\right)-\\Gamma^{c}\\,_{a d} G_{4X} \\left(\\partial_{c e}{\\pi}-\\Gamma^{f}\\,_{c e} \\partial_{f}{\\pi}\\right)\\right) \\partial_{b}{\\pi} h^{d e}+G_{4X} \\left(\\partial_{a}\\left(\\partial_{d}{\\pi}\\right)-\\Gamma^{c}\\,_{a d} \\partial_{c}{\\pi}\\right) \\left(\\partial_{f}\\left(\\partial_{b}{\\pi}\\right)-\\Gamma^{e}\\,_{f b} \\partial_{e}{\\pi}\\right) h^{d f}-2G_{4X} \\left(\\partial_{a}\\left(\\partial_{d}{\\pi}\\right)-\\Gamma^{c}\\,_{a d} \\partial_{c}{\\pi}\\right) \\left(\\partial_{b}\\left(\\partial_{f}{\\pi}\\right)-\\Gamma^{e}\\,_{b f} \\partial_{e}{\\pi}\\right) h^{d f}+\\left(\\partial_{e}\\left(G_{4X} \\left(\\partial_{d a}{\\pi}-\\Gamma^{c}\\,_{d a} \\partial_{c}{\\pi}\\right)\\right)-\\Gamma^{c}\\,_{e a} G_{4X} \\left(\\partial_{d c}{\\pi}-\\Gamma^{f}\\,_{d c} \\partial_{f}{\\pi}\\right)-\\Gamma^{c}\\,_{e d} G_{4X} \\left(\\partial_{c a}{\\pi}-\\Gamma^{f}\\,_{c a} \\partial_{f}{\\pi}\\right)\\right) \\partial_{b}{\\pi} h^{e d}+G_{4X} \\left(\\partial_{d}\\left(\\partial_{a}{\\pi}\\right)-\\Gamma^{c}\\,_{d a} \\partial_{c}{\\pi}\\right) \\left(\\partial_{f}\\left(\\partial_{b}{\\pi}\\right)-\\Gamma^{e}\\,_{f b} \\partial_{e}{\\pi}\\right) h^{d f}+\\left(\\partial_{e}\\left(G_{4X} \\left(\\partial_{a d}{\\pi}-\\Gamma^{c}\\,_{a d} \\partial_{c}{\\pi}\\right)\\right)-\\Gamma^{c}\\,_{e a} G_{4X} \\left(\\partial_{c d}{\\pi}-\\Gamma^{f}\\,_{c d} \\partial_{f}{\\pi}\\right)-\\Gamma^{c}\\,_{e d} G_{4X} \\left(\\partial_{a c}{\\pi}-\\Gamma^{f}\\,_{a c} \\partial_{f}{\\pi}\\right)\\right) \\partial_{b}{\\pi} h^{e d}-\\left(\\partial_{d}\\left(G_{4X} \\left(\\partial_{a b}{\\pi}-\\Gamma^{c}\\,_{a b} \\partial_{c}{\\pi}\\right)\\right)-\\Gamma^{c}\\,_{d b} G_{4X} \\left(\\partial_{a c}{\\pi}-\\Gamma^{e}\\,_{a c} \\partial_{e}{\\pi}\\right)-\\Gamma^{c}\\,_{d a} G_{4X} \\left(\\partial_{c b}{\\pi}-\\Gamma^{e}\\,_{c b} \\partial_{e}{\\pi}\\right)\\right) \\partial_{f}{\\pi} h^{d f}+R \\left( - \\frac{1}{2}{G_{4}} h_{a b} - \\frac{1}{2}G_{4X} \\partial_{a}{\\pi} \\partial_{b}{\\pi}\\right)$"
      ]
     },
     "metadata": {},
     "output_type": "display_data"
    }
   ],
   "source": [
    "rename_dummies(G4);"
   ]
  },
  {
   "cell_type": "code",
   "execution_count": 16,
   "metadata": {},
   "outputs": [
    {
     "data": {
      "text/markdown": [
       "${}\\mathcal{G}^{4}\\,_{a b} = -\\partial_{a}\\left(\\partial_{b}\\left({G_{4}}\\right)\\right)+\\Gamma^{c}\\,_{a b} \\partial_{c}\\left({G_{4}}\\right)+\\partial_{d}\\left(\\partial_{e}\\left({G_{4}}\\right)\\right) h_{a b} h^{d e}-\\Gamma^{c}\\,_{d e} \\partial_{c}\\left({G_{4}}\\right) h_{a b} h^{d e}+{G_{4}} R_{a b}-G_{4X} \\partial_{a}\\left(\\partial_{b}{\\pi}\\right) \\partial_{e}\\left(\\partial_{f}{\\pi}\\right) h^{e f}+G_{4X} \\partial_{a}\\left(\\partial_{b}{\\pi}\\right) \\Gamma^{d}\\,_{e f} \\partial_{d}{\\pi} h^{e f}+G_{4X} \\Gamma^{c}\\,_{a b} \\partial_{c}{\\pi} \\partial_{e}\\left(\\partial_{f}{\\pi}\\right) h^{e f}-G_{4X} \\Gamma^{c}\\,_{a b} \\partial_{c}{\\pi} \\Gamma^{d}\\,_{e f} \\partial_{d}{\\pi} h^{e f}+\\frac{1}{2}G_{4X} \\partial_{d}\\left(\\partial_{e}{\\pi}\\right) \\partial_{g}\\left(\\partial_{h}{\\pi}\\right) h_{a b} h^{d e} h^{g h} - \\frac{1}{2}G_{4X} \\partial_{d}\\left(\\partial_{e}{\\pi}\\right) \\Gamma^{f}\\,_{g h} \\partial_{f}{\\pi} h_{a b} h^{d e} h^{g h} - \\frac{1}{2}G_{4X} \\Gamma^{c}\\,_{d e} \\partial_{c}{\\pi} \\partial_{g}\\left(\\partial_{h}{\\pi}\\right) h_{a b} h^{d e} h^{g h}+\\frac{1}{2}G_{4X} \\Gamma^{c}\\,_{d e} \\partial_{c}{\\pi} \\Gamma^{f}\\,_{g h} \\partial_{f}{\\pi} h_{a b} h^{d e} h^{g h}+\\frac{1}{2}G_{4X} \\partial_{d}\\left(\\partial_{e}{\\pi}\\right) \\partial_{g}\\left(\\partial_{h}{\\pi}\\right) h_{a b} h^{d g} h^{e h} - \\frac{1}{2}G_{4X} \\partial_{d}\\left(\\partial_{e}{\\pi}\\right) \\Gamma^{f}\\,_{g h} \\partial_{f}{\\pi} h_{a b} h^{d g} h^{e h} - \\frac{1}{2}G_{4X} \\Gamma^{c}\\,_{d e} \\partial_{c}{\\pi} \\partial_{g}\\left(\\partial_{h}{\\pi}\\right) h_{a b} h^{d g} h^{e h}+\\frac{1}{2}G_{4X} \\Gamma^{c}\\,_{d e} \\partial_{c}{\\pi} \\Gamma^{f}\\,_{g h} \\partial_{f}{\\pi} h_{a b} h^{d g} h^{e h} - \\frac{1}{2}G_{4XX} \\partial_{d}\\left(\\partial_{e}{\\pi}\\right) \\partial_{g}\\left(\\partial_{h}{\\pi}\\right) \\partial_{a}{\\pi} \\partial_{b}{\\pi} h^{d e} h^{g h}+\\frac{1}{2}G_{4XX} \\partial_{d}\\left(\\partial_{e}{\\pi}\\right) \\Gamma^{f}\\,_{g h} \\partial_{f}{\\pi} \\partial_{a}{\\pi} \\partial_{b}{\\pi} h^{d e} h^{g h}%\n",
       "+\\frac{1}{2}G_{4XX} \\Gamma^{c}\\,_{d e} \\partial_{c}{\\pi} \\partial_{g}\\left(\\partial_{h}{\\pi}\\right) \\partial_{a}{\\pi} \\partial_{b}{\\pi} h^{d e} h^{g h} - \\frac{1}{2}G_{4XX} \\Gamma^{c}\\,_{d e} \\partial_{c}{\\pi} \\Gamma^{f}\\,_{g h} \\partial_{f}{\\pi} \\partial_{a}{\\pi} \\partial_{b}{\\pi} h^{d e} h^{g h}+\\frac{1}{2}G_{4XX} \\partial_{d}\\left(\\partial_{e}{\\pi}\\right) \\partial_{g}\\left(\\partial_{h}{\\pi}\\right) \\partial_{a}{\\pi} \\partial_{b}{\\pi} h^{d g} h^{e h} - \\frac{1}{2}G_{4XX} \\partial_{d}\\left(\\partial_{e}{\\pi}\\right) \\Gamma^{f}\\,_{g h} \\partial_{f}{\\pi} \\partial_{a}{\\pi} \\partial_{b}{\\pi} h^{d g} h^{e h} - \\frac{1}{2}G_{4XX} \\Gamma^{c}\\,_{d e} \\partial_{c}{\\pi} \\partial_{g}\\left(\\partial_{h}{\\pi}\\right) \\partial_{a}{\\pi} \\partial_{b}{\\pi} h^{d g} h^{e h}+\\frac{1}{2}G_{4XX} \\Gamma^{c}\\,_{d e} \\partial_{c}{\\pi} \\Gamma^{f}\\,_{g h} \\partial_{f}{\\pi} \\partial_{a}{\\pi} \\partial_{b}{\\pi} h^{d g} h^{e h}+\\partial_{f}\\left(G_{4X} \\partial_{d e}{\\pi}\\right) \\partial_{h}{\\pi} h_{a b} h^{f h} h^{d e}-\\partial_{f}\\left(G_{4X} \\Gamma^{c}\\,_{d e} \\partial_{c}{\\pi}\\right) \\partial_{h}{\\pi} h_{a b} h^{f h} h^{d e}-\\Gamma^{c}\\,_{f e} G_{4X} \\partial_{d c}{\\pi} \\partial_{h}{\\pi} h_{a b} h^{f h} h^{d e}+\\Gamma^{c}\\,_{f e} G_{4X} \\Gamma^{g}\\,_{d c} \\partial_{g}{\\pi} \\partial_{h}{\\pi} h_{a b} h^{f h} h^{d e}-\\Gamma^{c}\\,_{f d} G_{4X} \\partial_{c e}{\\pi} \\partial_{h}{\\pi} h_{a b} h^{f h} h^{d e}+\\Gamma^{c}\\,_{f d} G_{4X} \\Gamma^{g}\\,_{c e} \\partial_{g}{\\pi} \\partial_{h}{\\pi} h_{a b} h^{f h} h^{d e}-2\\partial_{a}\\left(G_{4X} \\partial_{d e}{\\pi}\\right) \\partial_{b}{\\pi} h^{d e}+2\\partial_{a}\\left(G_{4X} \\Gamma^{c}\\,_{d e} \\partial_{c}{\\pi}\\right) \\partial_{b}{\\pi} h^{d e}+2\\Gamma^{c}\\,_{a e} G_{4X} \\partial_{d c}{\\pi} \\partial_{b}{\\pi} h^{d e}-2\\Gamma^{c}\\,_{a e} G_{4X} \\Gamma^{f}\\,_{d c} \\partial_{f}{\\pi} \\partial_{b}{\\pi} h^{d e}+2\\Gamma^{c}\\,_{a d} G_{4X} \\partial_{c e}{\\pi} \\partial_{b}{\\pi} h^{d e}-2\\Gamma^{c}\\,_{a d} G_{4X} \\Gamma^{f}\\,_{c e} \\partial_{f}{\\pi} \\partial_{b}{\\pi} h^{d e}+G_{4X} \\partial_{a}\\left(\\partial_{d}{\\pi}\\right) \\partial_{f}\\left(\\partial_{b}{\\pi}\\right) h^{d f}-G_{4X} \\partial_{a}\\left(\\partial_{d}{\\pi}\\right) \\Gamma^{e}\\,_{f b} \\partial_{e}{\\pi} h^{d f}%\n",
       "-G_{4X} \\Gamma^{c}\\,_{a d} \\partial_{c}{\\pi} \\partial_{f}\\left(\\partial_{b}{\\pi}\\right) h^{d f}+G_{4X} \\Gamma^{c}\\,_{a d} \\partial_{c}{\\pi} \\Gamma^{e}\\,_{f b} \\partial_{e}{\\pi} h^{d f}-2G_{4X} \\partial_{a}\\left(\\partial_{d}{\\pi}\\right) \\partial_{b}\\left(\\partial_{f}{\\pi}\\right) h^{d f}+2G_{4X} \\partial_{a}\\left(\\partial_{d}{\\pi}\\right) \\Gamma^{e}\\,_{b f} \\partial_{e}{\\pi} h^{d f}+2G_{4X} \\Gamma^{c}\\,_{a d} \\partial_{c}{\\pi} \\partial_{b}\\left(\\partial_{f}{\\pi}\\right) h^{d f}-2G_{4X} \\Gamma^{c}\\,_{a d} \\partial_{c}{\\pi} \\Gamma^{e}\\,_{b f} \\partial_{e}{\\pi} h^{d f}+\\partial_{e}\\left(G_{4X} \\partial_{d a}{\\pi}\\right) \\partial_{b}{\\pi} h^{e d}-\\partial_{e}\\left(G_{4X} \\Gamma^{c}\\,_{d a} \\partial_{c}{\\pi}\\right) \\partial_{b}{\\pi} h^{e d}-\\Gamma^{c}\\,_{e a} G_{4X} \\partial_{d c}{\\pi} \\partial_{b}{\\pi} h^{e d}+\\Gamma^{c}\\,_{e a} G_{4X} \\Gamma^{f}\\,_{d c} \\partial_{f}{\\pi} \\partial_{b}{\\pi} h^{e d}-\\Gamma^{c}\\,_{e d} G_{4X} \\partial_{c a}{\\pi} \\partial_{b}{\\pi} h^{e d}+\\Gamma^{c}\\,_{e d} G_{4X} \\Gamma^{f}\\,_{c a} \\partial_{f}{\\pi} \\partial_{b}{\\pi} h^{e d}+G_{4X} \\partial_{d}\\left(\\partial_{a}{\\pi}\\right) \\partial_{f}\\left(\\partial_{b}{\\pi}\\right) h^{d f}-G_{4X} \\partial_{d}\\left(\\partial_{a}{\\pi}\\right) \\Gamma^{e}\\,_{f b} \\partial_{e}{\\pi} h^{d f}-G_{4X} \\Gamma^{c}\\,_{d a} \\partial_{c}{\\pi} \\partial_{f}\\left(\\partial_{b}{\\pi}\\right) h^{d f}+G_{4X} \\Gamma^{c}\\,_{d a} \\partial_{c}{\\pi} \\Gamma^{e}\\,_{f b} \\partial_{e}{\\pi} h^{d f}+\\partial_{e}\\left(G_{4X} \\partial_{a d}{\\pi}\\right) \\partial_{b}{\\pi} h^{e d}-\\partial_{e}\\left(G_{4X} \\Gamma^{c}\\,_{a d} \\partial_{c}{\\pi}\\right) \\partial_{b}{\\pi} h^{e d}-\\Gamma^{c}\\,_{e a} G_{4X} \\partial_{c d}{\\pi} \\partial_{b}{\\pi} h^{e d}+\\Gamma^{c}\\,_{e a} G_{4X} \\Gamma^{f}\\,_{c d} \\partial_{f}{\\pi} \\partial_{b}{\\pi} h^{e d}%\n",
       "-\\Gamma^{c}\\,_{e d} G_{4X} \\partial_{a c}{\\pi} \\partial_{b}{\\pi} h^{e d}+\\Gamma^{c}\\,_{e d} G_{4X} \\Gamma^{f}\\,_{a c} \\partial_{f}{\\pi} \\partial_{b}{\\pi} h^{e d}-\\partial_{d}\\left(G_{4X} \\partial_{a b}{\\pi}\\right) \\partial_{f}{\\pi} h^{d f}+\\partial_{d}\\left(G_{4X} \\Gamma^{c}\\,_{a b} \\partial_{c}{\\pi}\\right) \\partial_{f}{\\pi} h^{d f}+\\Gamma^{c}\\,_{d b} G_{4X} \\partial_{a c}{\\pi} \\partial_{f}{\\pi} h^{d f}-\\Gamma^{c}\\,_{d b} G_{4X} \\Gamma^{e}\\,_{a c} \\partial_{e}{\\pi} \\partial_{f}{\\pi} h^{d f}+\\Gamma^{c}\\,_{d a} G_{4X} \\partial_{c b}{\\pi} \\partial_{f}{\\pi} h^{d f}-\\Gamma^{c}\\,_{d a} G_{4X} \\Gamma^{e}\\,_{c b} \\partial_{e}{\\pi} \\partial_{f}{\\pi} h^{d f} - \\frac{1}{2}R {G_{4}} h_{a b} - \\frac{1}{2}R G_{4X} \\partial_{a}{\\pi} \\partial_{b}{\\pi}$"
      ]
     },
     "metadata": {},
     "output_type": "display_data"
    },
    {
     "data": {
      "text/markdown": [
       "${}\\mathcal{G}^{4}\\,_{a b} = -\\partial_{a b}\\left({G_{4}}\\right)+\\Gamma^{c}\\,_{a b} \\partial_{c}\\left({G_{4}}\\right)+\\partial_{d}\\left(\\partial_{e}\\left({G_{4}}\\right)\\right) h_{a b} h^{d e}-\\Gamma^{c}\\,_{d e} \\partial_{c}\\left({G_{4}}\\right) h_{a b} h^{d e}+{G_{4}} R_{a b}-G_{4X} \\partial_{a}\\left(\\partial_{b}{\\pi}\\right) \\partial_{e}\\left(\\partial_{f}{\\pi}\\right) h^{e f}+G_{4X} \\partial_{a}\\left(\\partial_{b}{\\pi}\\right) \\Gamma^{d}\\,_{e f} \\partial_{d}{\\pi} h^{e f}+G_{4X} \\Gamma^{c}\\,_{a b} \\partial_{c}{\\pi} \\partial_{e}\\left(\\partial_{f}{\\pi}\\right) h^{e f}-G_{4X} \\Gamma^{c}\\,_{a b} \\partial_{c}{\\pi} \\Gamma^{d}\\,_{e f} \\partial_{d}{\\pi} h^{e f}+\\frac{1}{2}G_{4X} \\partial_{d}\\left(\\partial_{e}{\\pi}\\right) \\partial_{g}\\left(\\partial_{h}{\\pi}\\right) h_{a b} h^{d e} h^{g h} - \\frac{1}{2}G_{4X} \\partial_{d}\\left(\\partial_{e}{\\pi}\\right) \\Gamma^{f}\\,_{g h} \\partial_{f}{\\pi} h_{a b} h^{d e} h^{g h} - \\frac{1}{2}G_{4X} \\Gamma^{c}\\,_{d e} \\partial_{c}{\\pi} \\partial_{g}\\left(\\partial_{h}{\\pi}\\right) h_{a b} h^{d e} h^{g h}+\\frac{1}{2}G_{4X} \\Gamma^{c}\\,_{d e} \\partial_{c}{\\pi} \\Gamma^{f}\\,_{g h} \\partial_{f}{\\pi} h_{a b} h^{d e} h^{g h}+\\frac{1}{2}G_{4X} \\partial_{d}\\left(\\partial_{e}{\\pi}\\right) \\partial_{g}\\left(\\partial_{h}{\\pi}\\right) h_{a b} h^{d g} h^{e h} - \\frac{1}{2}G_{4X} \\partial_{d}\\left(\\partial_{e}{\\pi}\\right) \\Gamma^{f}\\,_{g h} \\partial_{f}{\\pi} h_{a b} h^{d g} h^{e h} - \\frac{1}{2}G_{4X} \\Gamma^{c}\\,_{d e} \\partial_{c}{\\pi} \\partial_{g}\\left(\\partial_{h}{\\pi}\\right) h_{a b} h^{d g} h^{e h}+\\frac{1}{2}G_{4X} \\Gamma^{c}\\,_{d e} \\partial_{c}{\\pi} \\Gamma^{f}\\,_{g h} \\partial_{f}{\\pi} h_{a b} h^{d g} h^{e h} - \\frac{1}{2}G_{4XX} \\partial_{d}\\left(\\partial_{e}{\\pi}\\right) \\partial_{g}\\left(\\partial_{h}{\\pi}\\right) \\partial_{a}{\\pi} \\partial_{b}{\\pi} h^{d e} h^{g h}+\\frac{1}{2}G_{4XX} \\partial_{d}\\left(\\partial_{e}{\\pi}\\right) \\Gamma^{f}\\,_{g h} \\partial_{a}{\\pi} \\partial_{b}{\\pi} \\partial_{f}{\\pi} h^{d e} h^{g h}%\n",
       "+\\frac{1}{2}G_{4XX} \\Gamma^{c}\\,_{d e} \\partial_{a}{\\pi} \\partial_{g}\\left(\\partial_{h}{\\pi}\\right) \\partial_{b}{\\pi} \\partial_{c}{\\pi} h^{d e} h^{g h} - \\frac{1}{2}G_{4XX} \\Gamma^{c}\\,_{d e} \\partial_{a}{\\pi} \\Gamma^{f}\\,_{g h} \\partial_{b}{\\pi} \\partial_{c}{\\pi} \\partial_{f}{\\pi} h^{d e} h^{g h}+\\frac{1}{2}G_{4XX} \\partial_{d}\\left(\\partial_{e}{\\pi}\\right) \\partial_{g}\\left(\\partial_{h}{\\pi}\\right) \\partial_{a}{\\pi} \\partial_{b}{\\pi} h^{d g} h^{e h} - \\frac{1}{2}G_{4XX} \\partial_{d}\\left(\\partial_{e}{\\pi}\\right) \\Gamma^{f}\\,_{g h} \\partial_{a}{\\pi} \\partial_{b}{\\pi} \\partial_{f}{\\pi} h^{d g} h^{e h} - \\frac{1}{2}G_{4XX} \\Gamma^{c}\\,_{d e} \\partial_{a}{\\pi} \\partial_{g}\\left(\\partial_{h}{\\pi}\\right) \\partial_{b}{\\pi} \\partial_{c}{\\pi} h^{d g} h^{e h}+\\frac{1}{2}G_{4XX} \\Gamma^{c}\\,_{d e} \\partial_{a}{\\pi} \\Gamma^{f}\\,_{g h} \\partial_{b}{\\pi} \\partial_{c}{\\pi} \\partial_{f}{\\pi} h^{d g} h^{e h}+\\partial_{d}\\left(G_{4X} \\partial_{e f}{\\pi}\\right) \\partial_{h}{\\pi} h_{a b} h^{d h} h^{e f}-\\partial_{c}\\left(G_{4X} \\Gamma^{d}\\,_{e f} \\partial_{d}{\\pi}\\right) \\partial_{h}{\\pi} h_{a b} h^{c h} h^{e f}-2\\Gamma^{c}\\,_{d e} G_{4X} \\partial_{c f}{\\pi} \\partial_{h}{\\pi} h_{a b} h^{d f} h^{e h}+2\\Gamma^{c}\\,_{d e} G_{4X} \\Gamma^{d}\\,_{f g} \\partial_{c}{\\pi} \\partial_{h}{\\pi} h_{a b} h^{e f} h^{g h}-2\\partial_{a}\\left(G_{4X} \\partial_{d e}{\\pi}\\right) \\partial_{b}{\\pi} h^{d e}+2\\partial_{a}\\left(G_{4X} \\Gamma^{c}\\,_{d e} \\partial_{c}{\\pi}\\right) \\partial_{b}{\\pi} h^{d e}+2\\Gamma^{c}\\,_{a d} G_{4X} \\partial_{c e}{\\pi} \\partial_{b}{\\pi} h^{d e}-2\\Gamma^{c}\\,_{a d} G_{4X} \\Gamma^{e}\\,_{c f} \\partial_{b}{\\pi} \\partial_{e}{\\pi} h^{d f}+G_{4X} \\partial_{a}\\left(\\partial_{d}{\\pi}\\right) \\partial_{f}\\left(\\partial_{b}{\\pi}\\right) h^{d f}+G_{4X} \\partial_{a}\\left(\\partial_{d}{\\pi}\\right) \\Gamma^{e}\\,_{b f} \\partial_{e}{\\pi} h^{d f}-2G_{4X} \\Gamma^{c}\\,_{a d} \\partial_{c}{\\pi} \\partial_{f}\\left(\\partial_{b}{\\pi}\\right) h^{d f}-2G_{4X} \\partial_{a}\\left(\\partial_{d}{\\pi}\\right) \\partial_{b}\\left(\\partial_{f}{\\pi}\\right) h^{d f}+2G_{4X} \\Gamma^{c}\\,_{a d} \\partial_{c}{\\pi} \\partial_{b}\\left(\\partial_{f}{\\pi}\\right) h^{d f}+2\\partial_{d}\\left(G_{4X} \\partial_{a e}{\\pi}\\right) \\partial_{b}{\\pi} h^{d e}%\n",
       "-2\\partial_{c}\\left(G_{4X} \\Gamma^{d}\\,_{a e} \\partial_{d}{\\pi}\\right) \\partial_{b}{\\pi} h^{c e}-2\\Gamma^{c}\\,_{d e} G_{4X} \\partial_{a c}{\\pi} \\partial_{b}{\\pi} h^{d e}+2\\Gamma^{c}\\,_{a d} G_{4X} \\Gamma^{d}\\,_{e f} \\partial_{b}{\\pi} \\partial_{c}{\\pi} h^{e f}+G_{4X} \\partial_{d}\\left(\\partial_{a}{\\pi}\\right) \\partial_{f}\\left(\\partial_{b}{\\pi}\\right) h^{d f}-G_{4X} \\partial_{d}\\left(\\partial_{a}{\\pi}\\right) \\Gamma^{e}\\,_{b f} \\partial_{e}{\\pi} h^{d f}-\\partial_{d}\\left(G_{4X} \\partial_{a b}{\\pi}\\right) \\partial_{f}{\\pi} h^{d f}+\\partial_{c}\\left(G_{4X} \\Gamma^{d}\\,_{a b} \\partial_{d}{\\pi}\\right) \\partial_{f}{\\pi} h^{c f}+\\Gamma^{c}\\,_{b d} G_{4X} \\partial_{a c}{\\pi} \\partial_{f}{\\pi} h^{d f}-\\Gamma^{c}\\,_{a d} G_{4X} \\Gamma^{d}\\,_{b e} \\partial_{c}{\\pi} \\partial_{f}{\\pi} h^{e f}+\\Gamma^{c}\\,_{a d} G_{4X} \\partial_{b c}{\\pi} \\partial_{f}{\\pi} h^{d f}-\\Gamma^{c}\\,_{a d} G_{4X} \\Gamma^{e}\\,_{b c} \\partial_{e}{\\pi} \\partial_{f}{\\pi} h^{d f} - \\frac{1}{2}R {G_{4}} h_{a b} - \\frac{1}{2}R G_{4X} \\partial_{a}{\\pi} \\partial_{b}{\\pi}$"
      ]
     },
     "metadata": {},
     "output_type": "display_data"
    }
   ],
   "source": [
    "distribute(G4);\n",
    "canonicalise(G4);"
   ]
  },
  {
   "cell_type": "code",
   "execution_count": 17,
   "metadata": {},
   "outputs": [
    {
     "data": {
      "text/markdown": [
       "${}\\mathcal{G}^{4}\\,_{a b} = -\\partial_{a b}\\left({G_{4}}\\right)+\\Gamma^{c}\\,_{a b} \\partial_{c}\\left({G_{4}}\\right)+\\partial_{d e}\\left({G_{4}}\\right) h_{a b} h^{d e}-\\Gamma^{c}\\,_{d e} \\partial_{c}\\left({G_{4}}\\right) h_{a b} h^{d e}+{G_{4}} R_{a b}-G_{4X} \\partial_{a b}{\\pi} \\partial_{e f}{\\pi} h^{e f}+G_{4X} \\partial_{a b}{\\pi} \\Gamma^{d}\\,_{e f} \\partial_{d}{\\pi} h^{e f}+G_{4X} \\Gamma^{c}\\,_{a b} \\partial_{c}{\\pi} \\partial_{e f}{\\pi} h^{e f}-G_{4X} \\Gamma^{c}\\,_{a b} \\partial_{c}{\\pi} \\Gamma^{d}\\,_{e f} \\partial_{d}{\\pi} h^{e f}+\\frac{1}{2}G_{4X} \\partial_{d e}{\\pi} \\partial_{g h}{\\pi} h_{a b} h^{d e} h^{g h} - \\frac{1}{2}G_{4X} \\partial_{d e}{\\pi} \\Gamma^{f}\\,_{g h} \\partial_{f}{\\pi} h_{a b} h^{d e} h^{g h} - \\frac{1}{2}G_{4X} \\Gamma^{c}\\,_{d e} \\partial_{c}{\\pi} \\partial_{g h}{\\pi} h_{a b} h^{d e} h^{g h}+\\frac{1}{2}G_{4X} \\Gamma^{c}\\,_{d e} \\partial_{c}{\\pi} \\Gamma^{f}\\,_{g h} \\partial_{f}{\\pi} h_{a b} h^{d e} h^{g h}+\\frac{1}{2}G_{4X} \\partial_{d e}{\\pi} \\partial_{g h}{\\pi} h_{a b} h^{d g} h^{e h} - \\frac{1}{2}G_{4X} \\partial_{d e}{\\pi} \\Gamma^{f}\\,_{g h} \\partial_{f}{\\pi} h_{a b} h^{d g} h^{e h} - \\frac{1}{2}G_{4X} \\Gamma^{c}\\,_{d e} \\partial_{c}{\\pi} \\partial_{g h}{\\pi} h_{a b} h^{d g} h^{e h}+\\frac{1}{2}G_{4X} \\Gamma^{c}\\,_{d e} \\partial_{c}{\\pi} \\Gamma^{f}\\,_{g h} \\partial_{f}{\\pi} h_{a b} h^{d g} h^{e h} - \\frac{1}{2}G_{4XX} \\partial_{d e}{\\pi} \\partial_{g h}{\\pi} \\partial_{a}{\\pi} \\partial_{b}{\\pi} h^{d e} h^{g h}+\\frac{1}{2}G_{4XX} \\partial_{d e}{\\pi} \\Gamma^{f}\\,_{g h} \\partial_{a}{\\pi} \\partial_{b}{\\pi} \\partial_{f}{\\pi} h^{d e} h^{g h}%\n",
       "+\\frac{1}{2}G_{4XX} \\Gamma^{c}\\,_{d e} \\partial_{a}{\\pi} \\partial_{g h}{\\pi} \\partial_{b}{\\pi} \\partial_{c}{\\pi} h^{d e} h^{g h} - \\frac{1}{2}G_{4XX} \\Gamma^{c}\\,_{d e} \\partial_{a}{\\pi} \\Gamma^{f}\\,_{g h} \\partial_{b}{\\pi} \\partial_{c}{\\pi} \\partial_{f}{\\pi} h^{d e} h^{g h}+\\frac{1}{2}G_{4XX} \\partial_{d e}{\\pi} \\partial_{g h}{\\pi} \\partial_{a}{\\pi} \\partial_{b}{\\pi} h^{d g} h^{e h} - \\frac{1}{2}G_{4XX} \\partial_{d e}{\\pi} \\Gamma^{f}\\,_{g h} \\partial_{a}{\\pi} \\partial_{b}{\\pi} \\partial_{f}{\\pi} h^{d g} h^{e h} - \\frac{1}{2}G_{4XX} \\Gamma^{c}\\,_{d e} \\partial_{a}{\\pi} \\partial_{g h}{\\pi} \\partial_{b}{\\pi} \\partial_{c}{\\pi} h^{d g} h^{e h}+\\frac{1}{2}G_{4XX} \\Gamma^{c}\\,_{d e} \\partial_{a}{\\pi} \\Gamma^{f}\\,_{g h} \\partial_{b}{\\pi} \\partial_{c}{\\pi} \\partial_{f}{\\pi} h^{d g} h^{e h}+\\partial_{d}\\left(G_{4X} \\partial_{e f}{\\pi}\\right) \\partial_{h}{\\pi} h_{a b} h^{d h} h^{e f}-\\partial_{c}\\left(G_{4X} \\Gamma^{d}\\,_{e f} \\partial_{d}{\\pi}\\right) \\partial_{h}{\\pi} h_{a b} h^{c h} h^{e f}-2\\Gamma^{c}\\,_{d e} G_{4X} \\partial_{c f}{\\pi} \\partial_{h}{\\pi} h_{a b} h^{d f} h^{e h}+2\\Gamma^{c}\\,_{d e} G_{4X} \\Gamma^{d}\\,_{f g} \\partial_{c}{\\pi} \\partial_{h}{\\pi} h_{a b} h^{e f} h^{g h}-2\\partial_{a}\\left(G_{4X} \\partial_{d e}{\\pi}\\right) \\partial_{b}{\\pi} h^{d e}+2\\partial_{a}\\left(G_{4X} \\Gamma^{c}\\,_{d e} \\partial_{c}{\\pi}\\right) \\partial_{b}{\\pi} h^{d e}+2\\Gamma^{c}\\,_{a d} G_{4X} \\partial_{c e}{\\pi} \\partial_{b}{\\pi} h^{d e}-2\\Gamma^{c}\\,_{a d} G_{4X} \\Gamma^{e}\\,_{c f} \\partial_{b}{\\pi} \\partial_{e}{\\pi} h^{d f}+G_{4X} \\partial_{a d}{\\pi} \\partial_{f b}{\\pi} h^{d f}+G_{4X} \\partial_{a d}{\\pi} \\Gamma^{e}\\,_{b f} \\partial_{e}{\\pi} h^{d f}-2G_{4X} \\Gamma^{c}\\,_{a d} \\partial_{c}{\\pi} \\partial_{f b}{\\pi} h^{d f}-2G_{4X} \\partial_{a d}{\\pi} \\partial_{b f}{\\pi} h^{d f}+2G_{4X} \\Gamma^{c}\\,_{a d} \\partial_{c}{\\pi} \\partial_{b f}{\\pi} h^{d f}+2\\partial_{d}\\left(G_{4X} \\partial_{a e}{\\pi}\\right) \\partial_{b}{\\pi} h^{d e}%\n",
       "-2\\partial_{c}\\left(G_{4X} \\Gamma^{d}\\,_{a e} \\partial_{d}{\\pi}\\right) \\partial_{b}{\\pi} h^{c e}-2\\Gamma^{c}\\,_{d e} G_{4X} \\partial_{a c}{\\pi} \\partial_{b}{\\pi} h^{d e}+2\\Gamma^{c}\\,_{a d} G_{4X} \\Gamma^{d}\\,_{e f} \\partial_{b}{\\pi} \\partial_{c}{\\pi} h^{e f}+G_{4X} \\partial_{d a}{\\pi} \\partial_{f b}{\\pi} h^{d f}-G_{4X} \\partial_{d a}{\\pi} \\Gamma^{e}\\,_{b f} \\partial_{e}{\\pi} h^{d f}-\\partial_{d}\\left(G_{4X} \\partial_{a b}{\\pi}\\right) \\partial_{f}{\\pi} h^{d f}+\\partial_{c}\\left(G_{4X} \\Gamma^{d}\\,_{a b} \\partial_{d}{\\pi}\\right) \\partial_{f}{\\pi} h^{c f}+\\Gamma^{c}\\,_{b d} G_{4X} \\partial_{a c}{\\pi} \\partial_{f}{\\pi} h^{d f}-\\Gamma^{c}\\,_{a d} G_{4X} \\Gamma^{d}\\,_{b e} \\partial_{c}{\\pi} \\partial_{f}{\\pi} h^{e f}+\\Gamma^{c}\\,_{a d} G_{4X} \\partial_{b c}{\\pi} \\partial_{f}{\\pi} h^{d f}-\\Gamma^{c}\\,_{a d} G_{4X} \\Gamma^{e}\\,_{b c} \\partial_{e}{\\pi} \\partial_{f}{\\pi} h^{d f} - \\frac{1}{2}R {G_{4}} h_{a b} - \\frac{1}{2}R G_{4X} \\partial_{a}{\\pi} \\partial_{b}{\\pi}$"
      ]
     },
     "metadata": {},
     "output_type": "display_data"
    }
   ],
   "source": [
    "G4:= @[G4];"
   ]
  },
  {
   "cell_type": "code",
   "execution_count": 19,
   "metadata": {},
   "outputs": [
    {
     "data": {
      "text/markdown": [
       "${}\\mathcal{P}^{4} = G_{4\\pi X} \\left(\\partial_{a b}{\\pi}-\\Gamma^{w}\\,_{a b} \\partial_{w}{\\pi}\\right) \\left(\\partial_{c d}{\\pi}-\\Gamma^{u}\\,_{c d} \\partial_{u}{\\pi}\\right) h^{a b} h^{c d}-G_{4\\pi X} \\left(\\partial_{a b}{\\pi}-\\Gamma^{w}\\,_{a b} \\partial_{w}{\\pi}\\right) \\left(\\partial_{c d}{\\pi}-\\Gamma^{u}\\,_{c d} \\partial_{u}{\\pi}\\right) h^{a c} h^{b d}+\\partial_{a}{G_{4XX}} \\left(\\partial_{b c}{\\pi}-\\Gamma^{v}\\,_{b c} \\partial_{v}{\\pi}\\right) \\left(\\partial_{d e}{\\pi}-\\Gamma^{s}\\,_{d e} \\partial_{s}{\\pi}\\right) \\partial_{f}{\\pi} h^{a f} h^{b c} h^{d e}+G_{4XX} \\left(\\partial_{a}\\left(\\left(\\partial_{b c}{\\pi}-\\Gamma^{w}\\,_{b c} \\partial_{w}{\\pi}\\right) \\left(\\partial_{d e}{\\pi}-\\Gamma^{u}\\,_{d e} \\partial_{u}{\\pi}\\right) \\partial_{f}{\\pi} h^{b c} h^{d e}\\right)-\\Gamma^{r}\\,_{a f} \\left(\\partial_{b c}{\\pi}-\\Gamma^{w}\\,_{b c} \\partial_{w}{\\pi}\\right) \\left(\\partial_{d e}{\\pi}-\\Gamma^{u}\\,_{d e} \\partial_{u}{\\pi}\\right) \\partial_{r}{\\pi} h^{b c} h^{d e}\\right) h^{a f}-\\partial_{a}{G_{4XX}} \\left(\\partial_{b c}{\\pi}-\\Gamma^{v}\\,_{b c} \\partial_{v}{\\pi}\\right) \\left(\\partial_{d e}{\\pi}-\\Gamma^{s}\\,_{d e} \\partial_{s}{\\pi}\\right) \\partial_{f}{\\pi} h^{a f} h^{b d} h^{c e}-G_{4XX} \\left(\\partial_{a}\\left(\\left(\\partial_{b c}{\\pi}-\\Gamma^{w}\\,_{b c} \\partial_{w}{\\pi}\\right) \\left(\\partial_{d e}{\\pi}-\\Gamma^{u}\\,_{d e} \\partial_{u}{\\pi}\\right) \\partial_{f}{\\pi}\\right)-\\Gamma^{r}\\,_{a f} \\left(\\partial_{b c}{\\pi}-\\Gamma^{w}\\,_{b c} \\partial_{w}{\\pi}\\right) \\left(\\partial_{d e}{\\pi}-\\Gamma^{u}\\,_{d e} \\partial_{u}{\\pi}\\right) \\partial_{r}{\\pi}-\\Gamma^{r}\\,_{a c} \\left(\\partial_{b r}{\\pi}-\\Gamma^{w}\\,_{b r} \\partial_{w}{\\pi}\\right) \\left(\\partial_{d e}{\\pi}-\\Gamma^{u}\\,_{d e} \\partial_{u}{\\pi}\\right) \\partial_{f}{\\pi}-\\Gamma^{r}\\,_{a e} \\left(\\partial_{b c}{\\pi}-\\Gamma^{w}\\,_{b c} \\partial_{w}{\\pi}\\right) \\left(\\partial_{d r}{\\pi}-\\Gamma^{u}\\,_{d r} \\partial_{u}{\\pi}\\right) \\partial_{f}{\\pi}-\\Gamma^{r}\\,_{a d} \\left(\\partial_{b c}{\\pi}-\\Gamma^{w}\\,_{b c} \\partial_{w}{\\pi}\\right) \\left(\\partial_{r e}{\\pi}-\\Gamma^{u}\\,_{r e} \\partial_{u}{\\pi}\\right) \\partial_{f}{\\pi}-\\Gamma^{r}\\,_{a b} \\left(\\partial_{r c}{\\pi}-\\Gamma^{w}\\,_{r c} \\partial_{w}{\\pi}\\right) \\left(\\partial_{d e}{\\pi}-\\Gamma^{u}\\,_{d e} \\partial_{u}{\\pi}\\right) \\partial_{f}{\\pi}\\right) h^{a f} h^{b d} h^{c e}+2\\left(\\partial_{a}\\left(\\partial_{b}\\left(G_{4X} \\left(\\partial_{c d}{\\pi}-\\Gamma^{w}\\,_{c d} \\partial_{w}{\\pi}\\right)\\right)-\\Gamma^{v}\\,_{b d} G_{4X} \\left(\\partial_{c v}{\\pi}-\\Gamma^{w}\\,_{c v} \\partial_{w}{\\pi}\\right)-\\Gamma^{v}\\,_{b c} G_{4X} \\left(\\partial_{v d}{\\pi}-\\Gamma^{w}\\,_{v d} \\partial_{w}{\\pi}\\right)\\right)-\\Gamma^{u}\\,_{a d} \\left(\\partial_{b}\\left(G_{4X} \\left(\\partial_{c u}{\\pi}-\\Gamma^{w}\\,_{c u} \\partial_{w}{\\pi}\\right)\\right)-\\Gamma^{v}\\,_{b u} G_{4X} \\left(\\partial_{c v}{\\pi}-\\Gamma^{w}\\,_{c v} \\partial_{w}{\\pi}\\right)-\\Gamma^{v}\\,_{b c} G_{4X} \\left(\\partial_{v u}{\\pi}-\\Gamma^{w}\\,_{v u} \\partial_{w}{\\pi}\\right)\\right)-\\Gamma^{u}\\,_{a b} \\left(\\partial_{u}\\left(G_{4X} \\left(\\partial_{c d}{\\pi}-\\Gamma^{w}\\,_{c d} \\partial_{w}{\\pi}\\right)\\right)-\\Gamma^{v}\\,_{u d} G_{4X} \\left(\\partial_{c v}{\\pi}-\\Gamma^{w}\\,_{c v} \\partial_{w}{\\pi}\\right)-\\Gamma^{v}\\,_{u c} G_{4X} \\left(\\partial_{v d}{\\pi}-\\Gamma^{w}\\,_{v d} \\partial_{w}{\\pi}\\right)\\right)-\\Gamma^{u}\\,_{a c} \\left(\\partial_{b}\\left(G_{4X} \\left(\\partial_{u d}{\\pi}-\\Gamma^{w}\\,_{u d} \\partial_{w}{\\pi}\\right)\\right)-\\Gamma^{v}\\,_{b d} G_{4X} \\left(\\partial_{u v}{\\pi}-\\Gamma^{w}\\,_{u v} \\partial_{w}{\\pi}\\right)-\\Gamma^{v}\\,_{b u} G_{4X} \\left(\\partial_{v d}{\\pi}-\\Gamma^{w}\\,_{v d} \\partial_{w}{\\pi}\\right)\\right)\\right) h^{a b} h^{c d}-2\\left(\\partial_{a b}{G_{4X}}-\\Gamma^{w}\\,_{a b} \\partial_{w}{G_{4X}}\\right) \\left(\\partial_{c d}{\\pi}-\\Gamma^{u}\\,_{c d} \\partial_{u}{\\pi}\\right) h^{a d} h^{b c}-2\\partial_{a}{G_{4X}} \\left(\\partial_{b}\\left(\\partial_{c d}{\\pi}-\\Gamma^{v}\\,_{c d} \\partial_{v}{\\pi}\\right)-\\Gamma^{u}\\,_{b d} \\left(\\partial_{c u}{\\pi}-\\Gamma^{v}\\,_{c u} \\partial_{v}{\\pi}\\right)-\\Gamma^{u}\\,_{b c} \\left(\\partial_{u d}{\\pi}-\\Gamma^{v}\\,_{u d} \\partial_{v}{\\pi}\\right)\\right) h^{a c} h^{b d}-2\\partial_{a}{G_{4X}} \\left(\\partial_{b}\\left(\\partial_{c d}{\\pi}-\\Gamma^{v}\\,_{c d} \\partial_{v}{\\pi}\\right)-\\Gamma^{u}\\,_{b d} \\left(\\partial_{c u}{\\pi}-\\Gamma^{v}\\,_{c u} \\partial_{v}{\\pi}\\right)-\\Gamma^{u}\\,_{b c} \\left(\\partial_{u d}{\\pi}-\\Gamma^{v}\\,_{u d} \\partial_{v}{\\pi}\\right)\\right) h^{a d} h^{b c}-2G_{4X} \\left(\\partial_{a}\\left(\\partial_{b}\\left(\\partial_{c d}{\\pi}-\\Gamma^{w}\\,_{c d} \\partial_{w}{\\pi}\\right)-\\Gamma^{v}\\,_{b d} \\left(\\partial_{c v}{\\pi}-\\Gamma^{w}\\,_{c v} \\partial_{w}{\\pi}\\right)-\\Gamma^{v}\\,_{b c} \\left(\\partial_{v d}{\\pi}-\\Gamma^{w}\\,_{v d} \\partial_{w}{\\pi}\\right)\\right)-\\Gamma^{u}\\,_{a d} \\left(\\partial_{b}\\left(\\partial_{c u}{\\pi}-\\Gamma^{w}\\,_{c u} \\partial_{w}{\\pi}\\right)-\\Gamma^{v}\\,_{b u} \\left(\\partial_{c v}{\\pi}-\\Gamma^{w}\\,_{c v} \\partial_{w}{\\pi}\\right)-\\Gamma^{v}\\,_{b c} \\left(\\partial_{v u}{\\pi}-\\Gamma^{w}\\,_{v u} \\partial_{w}{\\pi}\\right)\\right)-\\Gamma^{u}\\,_{a b} \\left(\\partial_{u}\\left(\\partial_{c d}{\\pi}-\\Gamma^{w}\\,_{c d} \\partial_{w}{\\pi}\\right)-\\Gamma^{v}\\,_{u d} \\left(\\partial_{c v}{\\pi}-\\Gamma^{w}\\,_{c v} \\partial_{w}{\\pi}\\right)-\\Gamma^{v}\\,_{u c} \\left(\\partial_{v d}{\\pi}-\\Gamma^{w}\\,_{v d} \\partial_{w}{\\pi}\\right)\\right)-\\Gamma^{u}\\,_{a c} \\left(\\partial_{b}\\left(\\partial_{u d}{\\pi}-\\Gamma^{w}\\,_{u d} \\partial_{w}{\\pi}\\right)-\\Gamma^{v}\\,_{b d} \\left(\\partial_{u v}{\\pi}-\\Gamma^{w}\\,_{u v} \\partial_{w}{\\pi}\\right)-\\Gamma^{v}\\,_{b u} \\left(\\partial_{v d}{\\pi}-\\Gamma^{w}\\,_{v d} \\partial_{w}{\\pi}\\right)\\right)\\right) h^{a d} h^{b c}$"
      ]
     },
     "metadata": {},
     "output_type": "display_data"
    }
   ],
   "source": [
    "P4 = fun.expand_nabla(var.P4)\n",
    "P4 := @[P4];"
   ]
  }
 ],
 "metadata": {
  "kernelspec": {
   "display_name": "Cadabra2",
   "language": "python",
   "name": "cadabra2"
  },
  "language_info": {
   "codemirror_mode": "cadabra",
   "file_extension": ".ipynb",
   "mimetype": "text/cadabra",
   "name": "cadabra2",
   "pygments_lexer": "cadabra"
  },
  "latex_envs": {
   "LaTeX_envs_menu_present": true,
   "autoclose": true,
   "autocomplete": true,
   "bibliofile": "biblio.bib",
   "cite_by": "apalike",
   "current_citInitial": 1,
   "eqLabelWithNumbers": true,
   "eqNumInitial": 1,
   "hotkeys": {
    "equation": "Ctrl-E",
    "itemize": "Ctrl-I"
   },
   "labels_anchors": false,
   "latex_user_defs": false,
   "report_style_numbering": false,
   "user_envs_cfg": false
  }
 },
 "nbformat": 4,
 "nbformat_minor": 4
}
