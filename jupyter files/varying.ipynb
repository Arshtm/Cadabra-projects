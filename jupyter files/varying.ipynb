{
 "cells": [
  {
   "cell_type": "markdown",
   "metadata": {},
   "source": [
    "Here I'm trying to calculate variation of Horndeski theory after Kaluza-Klein reduction"
   ]
  },
  {
   "cell_type": "code",
   "execution_count": 1,
   "metadata": {},
   "outputs": [],
   "source": [
    "import cdb.core.manip as man"
   ]
  },
  {
   "cell_type": "code",
   "execution_count": 2,
   "metadata": {},
   "outputs": [],
   "source": [
    "{a,b,c,d,e,f,g,h,i,j,k,l,m,n,q,r,s,u,v,w,z#}::Indices(full,values={t,x,y}, position=independent)."
   ]
  },
  {
   "cell_type": "markdown",
   "metadata": {},
   "source": [
    "There are all simmetrises"
   ]
  },
  {
   "cell_type": "code",
   "execution_count": 3,
   "metadata": {},
   "outputs": [],
   "source": [
    "\\partial{#}::PartialDerivative.\n",
    "\\nabla{#}::Derivative.\n",
    "{\\nabla{#},\\partial{#}}::Commuting.\n",
    "h_{m? n?}::Metric.\n",
    "h^{m? n?}::InverseMetric.\n",
    "h_{m? n?}::Symmetric.\n",
    "h^{m? n?}::Symmetric.\n",
    "delh_{m? n?}::Symmetric.\n",
    "delh^{m? n?}::Symmetric.\n",
    "\\Gamma^{m}_{n q}::TableauSymmetry(shape={2}, indices={1,2}).\n",
    "G3_{m? n?}::Symmetric.\n",
    "Dh::Depends(\\partial{#}).\n",
    "\\delta^{m?}_{n?}::KroneckerDelta.\n",
    "\\delta_{m?}^{n?}::KroneckerDelta.\n",
    "F_{m? n?}::AntiSymmetric."
   ]
  },
  {
   "cell_type": "markdown",
   "metadata": {},
   "source": [
    "Dependencies:"
   ]
  },
  {
   "cell_type": "code",
   "execution_count": 4,
   "metadata": {},
   "outputs": [],
   "source": [
    "p::Depends(\\nabla{#}, \\partial{#}).\n",
    "X_{m? n?}::Depends(\\nabla{#}, \\partial{#}).\n",
    "\\phi::Depends(\\nabla{#}, \\partial{#}).\n",
    "A_{m?}::Depends(\\nabla{#}, \\partial{#}).\n",
    "h_{m n}::Depends(\\partial{#}).\n",
    "h^{m n}::Depends(\\partial{#}).\n",
    "deth::Depends(\\partial{#}).\n",
    "G4::Depends(\\nabla{#}, \\partial{#}).\n",
    "G4p::Depends(\\nabla{#}, \\partial{#}).\n",
    "G4X::Depends(\\nabla{#}, \\partial{#}).\n",
    "G4XX::Depends(\\nabla{#}, \\partial{#}).\n",
    "K::Depends(\\nabla{#}, \\partial{#}).\n",
    "Kp::Depends(\\nabla{#}, \\partial{#}).\n",
    "KX::Depends(\\nabla{#}, \\partial{#}).\n",
    "N::Depends(\\nabla{#}, \\partial{#}).\n",
    "Np::Depends(\\nabla{#}, \\partial{#}).\n",
    "NX::Depends(\\nabla{#}, \\partial{#}).\n",
    "R::Depends(\\nabla{#}, \\partial{#}).\n",
    "F_{m n}::Depends(\\nabla{#}, \\partial{#}).\n",
    "F^{m n}::Depends(\\nabla{#}, \\partial{#}).\n",
    "delphi::Depends(\\nabla{#}, \\partial{#}).\n",
    "delh_{m n}::Depends(\\nabla{#}, \\partial{#}).\n",
    "delh^{m n}::Depends(\\nabla{#}, \\partial{#}).\n",
    "delpi::Depends(\\nabla{#}, \\partial{#}).\n",
    "delp_{m n}::Depends(\\nabla{#}, \\partial{#}).\n",
    "delA_{m}::Depends(\\nabla{#}, \\partial{#}).\n",
    "delF_{m n}::Depends(\\nabla{#}, \\partial{#}).\n",
    "pi2::Depends(\\nabla{#}, \\partial{#}).\n",
    "delpi2::Depends(\\nabla{#}, \\partial{#}).\n",
    "boxpi4::Depends(\\nabla{#}, \\partial{#}).\n",
    "delboxpi4::Depends(\\nabla{#}, \\partial{#}).\n",
    "pi24::Depends(\\nabla{#}, \\partial{#}).\n",
    "delpi24::Depends(\\nabla{#}, \\partial{#})."
   ]
  },
  {
   "cell_type": "markdown",
   "metadata": {},
   "source": [
    "And Latex forms:"
   ]
  },
  {
   "cell_type": "code",
   "execution_count": 5,
   "metadata": {},
   "outputs": [],
   "source": [
    "p::LaTeXForm(\"\\pi\").\n",
    "G4p::LaTeXForm(\"G_{4\\pi}\").\n",
    "G4X::LaTeXForm(\"G_{4X}\").\n",
    "G4XX::LaTeXForm(\"G_{4XX}\").\n",
    "G4Xp::LaTeXForm(\"G_{4\\pi X}\").\n",
    "Kp::LaTeXForm(\"K_{\\pi}\").\n",
    "KX::LaTeXForm(\"K_{X}\").\n",
    "N::LaTeXForm(\"F\").\n",
    "Np::LaTeXForm(\"F_{\\pi}\").\n",
    "NX::LaTeXForm(\"F_{X}\").\n",
    "delphi::LaTeXForm(\"\\delta\\phi\").\n",
    "delh^{m? n?}::LaTeXForm(\"\\delta h^{\", m? n?, \"}\").\n",
    "delpi::LaTeXForm(\"\\delta\\pi\").\n",
    "delphi::LaTeXForm(\"\\delta\\phi\").\n",
    "Dh::LaTeXForm(\"\\sqrt{-h}\").\n",
    "delA_{m?}::LaTeXForm(\"\\delta A_{\",m?,\"}\").\n",
    "dCn{#}::LaTeXForm(\"\\delta\\Gamma\").         \n",
    "dR{#}::LaTeXForm(\"\\delta R\").\t\n",
    "pi2::LaTeXForm(\"\\pi^{m n}\\pi_{m n}\").\t\n",
    "boxpi4::LaTeXForm(\"\\Box^{(4)}{\\pi}\").\n",
    "delboxpi4::LaTeXForm(\"\\delta\\Box^{(4)}{\\pi}\").\n",
    "pi24::LaTeXForm(\"\\pi^{\\mu \\nu}\\pi_{\\mu \\nu}\").\n",
    "delpi24::LaTeXForm(\"\\delta\\pi^{\\mu \\nu}\\pi_{\\mu \\nu}\").\n",
    "delpi2::LaTeXForm(\"\\delta\\pi^{m n}\\pi_{m n}\").\n",
    "delp_{m? n?}::LaTeXForm(\"\\delta\\pi_{\",m? n?,\"}\").\n",
    "delF_{m? n?}::LaTeXForm(\"\\delta F_{\",m? n?,\"}\").\n",
    "mathcalG{#}::LaTeXForm(\"\\mathcal{G}\").\n",
    "mathcalP{#}::LaTeXForm(\"\\mathcal{P}\").\n",
    "mathcalA{#}::LaTeXForm(\"\\mathcal{A}\").\n",
    "mathcalphi{#}::LaTeXForm(\"\\Phi\").\n",
    "{delh^{a b}, delphi, delA_{m}, delpi, h_{a b},h^{a b}, Q??}::SortOrder."
   ]
  },
  {
   "cell_type": "markdown",
   "metadata": {},
   "source": [
    "There are all parts of Lagrangian which I consider:"
   ]
  },
  {
   "cell_type": "code",
   "execution_count": 6,
   "metadata": {},
   "outputs": [
    {
     "data": {
      "text/markdown": [
       "${}R = {R_{3}} - \\frac{1}{4}F_{a q} F_{m n} h^{m a} h^{n q} {\\phi}^{2}-2{\\phi}^{-1} h^{m n} \\nabla_{n}{\\phi} \\nabla_{m}{\\phi}$"
      ]
     },
     "metadata": {},
     "output_type": "display_data"
    },
    {
     "data": {
      "text/markdown": [
       "${}\\Box\\left(\\pi\\right) = h^{a b} \\nabla_{a}\\left(\\nabla_{b}{\\pi}\\right)$"
      ]
     },
     "metadata": {},
     "output_type": "display_data"
    },
    {
     "data": {
      "text/markdown": [
       "${}\\Box^{(4)}{\\pi} = \\Box\\left(\\pi\\right)+{\\phi}^{-1} h^{m n} \\nabla_{m}{\\phi} \\nabla_{n}{\\pi}$"
      ]
     },
     "metadata": {},
     "output_type": "display_data"
    },
    {
     "data": {
      "text/markdown": [
       "${}\\pi^{m n}\\pi_{m n} = h^{m a} h^{n b} \\nabla_{m}\\left(\\nabla_{n}{\\pi}\\right) \\nabla_{a}\\left(\\nabla_{b}{\\pi}\\right)$"
      ]
     },
     "metadata": {},
     "output_type": "display_data"
    },
    {
     "data": {
      "text/markdown": [
       "${}\\pi^{\\mu \\nu}\\pi_{\\mu \\nu} = \\pi^{m n}\\pi_{m n}+\\frac{1}{2}{\\phi}^{2} h^{a m} h^{r n} F_{m n} F_{a q} h^{q s} \\nabla_{r}{\\pi} \\nabla_{s}{\\pi}+{\\phi}^{-2} {\\left(h^{a q} \\nabla_{q}{\\phi} \\nabla_{a}{\\pi}\\right)}^{2}$"
      ]
     },
     "metadata": {},
     "output_type": "display_data"
    },
    {
     "data": {
      "text/markdown": [
       "${}F$"
      ]
     },
     "metadata": {},
     "output_type": "display_data"
    },
    {
     "data": {
      "text/markdown": [
       "${}-K \\Box^{(4)}{\\pi}$"
      ]
     },
     "metadata": {},
     "output_type": "display_data"
    },
    {
     "data": {
      "text/markdown": [
       "${}{L_{4}} = {G_{4}} R+G_{4X} \\left({\\Box^{(4)}{\\pi}}^{2}-\\pi^{\\mu \\nu}\\pi_{\\mu \\nu}\\right)$"
      ]
     },
     "metadata": {},
     "output_type": "display_data"
    }
   ],
   "source": [
    "ScalarCurvature := R = R3 - \\frac{1}{4} F_{a q}F_{m n} h^{m a} h^{n q} {\\phi}**{2} -2\\phi**{-1} h^{m n}\\nabla_{n}{\\phi}\\nabla_{m}{\\phi};\n",
    "box3D := \\Box{p} = h^{a b}\\nabla_{a}{\\nabla_{b}{p}};\n",
    "box4D := boxpi4 = \\Box{p} + {\\phi}**{-1} h^{m n} \\nabla_{m}{\\phi} \\nabla_{n}{p};\n",
    "sq3D := pi2 = h^{m a} h^{n b} \\nabla_{m}{\\nabla_{n}{p}}\\nabla_{a}{\\nabla_{b}{p}};\n",
    "sq4D:=  pi24 = pi2 + \\frac{{\\phi}**{2}}{2}h^{a m} h^{r n}F_{m n} F_{a q}h^{q s}\\nabla_{r}{p} \\nabla_{s}{p}\n",
    "\t +\\frac{1}{\\phi**2} (h^{a q}\\nabla_{q}{\\phi}\\nabla_{a}{p})**2;\n",
    "L2 := N;\n",
    "L3:=  -K ( boxpi4);\n",
    "L4:= L4 = G4 R + G4X ((boxpi4)**2-pi24);"
   ]
  },
  {
   "cell_type": "markdown",
   "metadata": {},
   "source": [
    "Some usefull basic variations, part of them calculated in files varyingR and varyingHorndeski:"
   ]
  },
  {
   "cell_type": "code",
   "execution_count": 7,
   "metadata": {},
   "outputs": [
    {
     "data": {
      "text/markdown": [
       "${}\\delta\\left(\\sqrt{-h}\\right) =  - \\frac{1}{2}\\sqrt{-h} h_{a b} \\delta h^{a b}$"
      ]
     },
     "metadata": {},
     "output_type": "display_data"
    },
    {
     "data": {
      "text/markdown": [
       "${}\\delta\\left(F\\right) = F_{\\pi} \\delta\\pi - \\frac{1}{2}F_{X} \\nabla_{a}{\\pi} \\nabla_{b}{\\pi} \\delta h^{a b}-h^{a b} F_{X} \\nabla_{a}{\\pi} \\nabla_{b}{\\delta\\pi}$"
      ]
     },
     "metadata": {},
     "output_type": "display_data"
    },
    {
     "data": {
      "text/markdown": [
       "${}\\delta\\left(K\\right) = K_{\\pi} \\delta\\pi - \\frac{1}{2}K_{X} \\nabla_{a}{\\pi} \\nabla_{b}{\\pi} \\delta h^{a b}-h^{a b} K_{X} \\nabla_{a}{\\pi} \\nabla_{b}{\\delta\\pi}$"
      ]
     },
     "metadata": {},
     "output_type": "display_data"
    },
    {
     "data": {
      "text/markdown": [
       "${}\\delta\\left({G_{4}}\\right) = G_{4\\pi} \\delta\\pi - \\frac{1}{2}G_{4X} \\nabla_{a}{\\pi} \\nabla_{b}{\\pi} \\delta h^{a b}-h^{a b} G_{4X} \\nabla_{a}{\\pi} \\nabla_{b}{\\delta\\pi}$"
      ]
     },
     "metadata": {},
     "output_type": "display_data"
    },
    {
     "data": {
      "text/markdown": [
       "${}\\delta\\left(G_{4X}\\right) = G_{4\\pi X} \\delta\\pi - \\frac{1}{2}G_{4XX} \\nabla_{a}{\\pi} \\nabla_{b}{\\pi} \\delta h^{a b}-h^{a b} G_{4XX} \\nabla_{a}{\\pi} \\nabla_{b}{\\delta\\pi}$"
      ]
     },
     "metadata": {},
     "output_type": "display_data"
    },
    {
     "data": {
      "text/markdown": [
       "${}\\delta\\Gamma^{a}\\,_{b c} =  - \\frac{1}{2}h_{l c} \\nabla_{b}{\\delta h^{l a}} - \\frac{1}{2}h_{l b} \\nabla_{c}{\\delta h^{l a}}+\\frac{1}{2}h_{c m} h_{b n} h^{a q} \\nabla_{q}{\\delta h^{m n}}$"
      ]
     },
     "metadata": {},
     "output_type": "display_data"
    },
    {
     "data": {
      "text/markdown": [
       "${}\\delta\\left({R_{3}}\\right) = -\\nabla_{m}\\left(\\nabla_{n}{\\delta h^{m n}}\\right)+h_{m n} h^{a b} \\nabla_{a}\\left(\\nabla_{b}{\\delta h^{m n}}\\right)+R_{m n} \\delta h^{m n}$"
      ]
     },
     "metadata": {},
     "output_type": "display_data"
    },
    {
     "data": {
      "text/markdown": [
       "${}\\delta F_{m n} = 2\\nabla_{m}{\\delta A_{n}}$"
      ]
     },
     "metadata": {},
     "output_type": "display_data"
    },
    {
     "data": {
      "text/markdown": [
       "${}\\delta\\left(\\Box\\left(\\pi\\right)\\right) = \\delta h^{a b} \\nabla_{a}\\left(\\nabla_{b}{\\pi}\\right)+h^{a b} \\nabla_{a}\\left(\\nabla_{b}{\\delta\\pi}\\right)+\\nabla_{a}{\\delta h^{a b}} \\nabla_{b}{\\pi} - \\frac{1}{2}h_{a b} h^{c d} \\nabla_{c}{\\delta h^{a b}} \\nabla_{d}{\\pi}$"
      ]
     },
     "metadata": {},
     "output_type": "display_data"
    },
    {
     "data": {
      "text/markdown": [
       "${}\\delta\\pi^{m n}\\pi_{m n} = 2\\nabla_{a}\\left(\\nabla_{b}{\\pi}\\right) \\nabla_{c}\\left(\\nabla_{d}{\\pi}\\right) \\delta h^{a c} h^{b d}+2\\nabla_{a}\\left(\\nabla_{b}{\\delta\\pi}\\right) \\nabla_{c}\\left(\\nabla_{d}{\\pi}\\right) h^{a c} h^{b d}+\\nabla_{a}\\left(\\nabla_{b}{\\pi}\\right) \\nabla_{c}{\\delta h^{b d}} \\nabla_{d}{\\pi} h^{a c}+\\nabla_{a}\\left(\\nabla_{b}{\\pi}\\right) \\nabla_{c}{\\delta h^{a d}} \\nabla_{d}{\\pi} h^{b c}-\\nabla_{a}\\left(\\nabla_{b}{\\pi}\\right) \\nabla_{c}{\\delta h^{a b}} \\nabla_{d}{\\pi} h^{c d}$"
      ]
     },
     "metadata": {},
     "output_type": "display_data"
    }
   ],
   "source": [
    "DelSqrth := \\delta(Dh) = - \\frac{1}{2}*Dh * h_{a b} delh^{a b};\n",
    "DelF:= \\delta(N) = Np delpi - \\frac{1}{2} NX \\nabla_{a}{p}\\nabla_{b}{p}  delh^{a b} - h^{a b} NX \\nabla_{a}{p} \\nabla_{b}{delpi}; \n",
    "DelK:= \\delta(K) =Kp delpi - \\frac{1}{2} KX \\nabla_{a}{p}\\nabla_{b}{p}  delh^{a b} - h^{a b} KX \\nabla_{a}{p} \\nabla_{b}{delpi}; \n",
    "DelG4 := \\delta(G4) = G4p delpi - \\frac{1}{2} G4X \\nabla_{a}{p}\\nabla_{b}{p}  delh^{a b} - h^{a b} G4X \\nabla_{a}{p} \\nabla_{b}{delpi};\n",
    "DelG4X := \\delta(G4X) = G4Xp delpi - \\frac{1}{2} G4XX \\nabla_{a}{p}\\nabla_{b}{p}  delh^{a b} - h^{a b} G4XX \\nabla_{a}{p} \\nabla_{b}{delpi};\n",
    "deltaChristof := dCn^{a}_{b c} = -\\frac{1}{2} * ( h_{l c} \\nabla_{b}{delh^{l a}} +  h_{l b}\\nabla_{c}{delh^{l a}} - h_{c m} h_{b n} h^{a q}\\nabla_{q}{delh^{m n}});\n",
    "deltaScalarCurvature3:= \\delta(R3) = -\\nabla_{m}{\\nabla_{n}{delh^{m n}}} + h_{m n}h^{a b} \\nabla_{a}{\\nabla_{b}{delh^{m n}}} + R_{m n} delh^{m n};\n",
    "deltaF := delF_{m n} = 2 \\nabla_{m}{delA_{n}};\n",
    "deltaBox := \\delta(\\Box(p)) = delh^{a b} \\nabla_{a}(\\nabla_{b}(p)) + h^{a b} \\nabla_{a}(\\nabla_{b}(delpi)) + \\nabla_{a}(delh^{a b}) \\nabla_{b}(p) -  1/2 h_{a b} h^{c d} \\nabla_{c}(delh^{a b}) \\nabla_{d}(p);\n",
    "deltaSq := delpi2 = 2\\nabla_{a}(\\nabla_{b}(p)) \\nabla_{c}(\\nabla_{d}(p)) delh^{a c} h^{b d} + 2\\nabla_{a}(\\nabla_{b}(delpi)) \\nabla_{c}(\\nabla_{d}(p)) h^{a c} h^{b d} + \\nabla_{a}(\\nabla_{b}(p)) \\nabla_{c}(delh^{b d}) \\nabla_{d}(p) h^{a c} + \\nabla_{a}(\\nabla_{b}(p)) \\nabla_{c}(delh^{a d}) \\nabla_{d}(p) h^{b c}-\\nabla_{a}(\\nabla_{b}(p)) \\nabla_{c}(delh^{a b}) \\nabla_{d}(p) h^{c d};"
   ]
  },
  {
   "cell_type": "markdown",
   "metadata": {},
   "source": [
    "Variation of 4D Scallar Curvature:"
   ]
  },
  {
   "cell_type": "code",
   "execution_count": 8,
   "metadata": {},
   "outputs": [
    {
     "data": {
      "text/markdown": [
       "${}R = {R_{3}} - \\frac{1}{4}F_{a q} F_{m n} h^{m a} h^{n q} {\\phi}^{2}-2{\\phi}^{-1} h^{m n} \\nabla_{n}{\\phi} \\nabla_{m}{\\phi}$"
      ]
     },
     "metadata": {},
     "output_type": "display_data"
    },
    {
     "data": {
      "text/markdown": [
       "${}\\delta\\left(R\\right) = -\\nabla_{a}\\left(\\nabla_{b}{\\delta h^{a b}}\\right)+\\nabla_{a}\\left(\\nabla_{b}{\\delta h^{c d}}\\right) h_{c d} h^{a b}+R_{a b} \\delta h^{a b}-F_{a b} \\nabla_{c}{\\delta A_{d}} {\\phi}^{2} h^{a c} h^{b d} - \\frac{1}{2}F_{a b} F_{c d} {\\phi}^{2} \\delta h^{a c} h^{b d} - \\frac{1}{2}F_{a b} F_{c d} \\phi \\delta\\phi h^{a c} h^{b d}+2\\nabla_{a}{\\phi} \\nabla_{b}{\\phi} {\\phi}^{-2} \\delta\\phi h^{a b}-2\\nabla_{a}{\\phi} \\nabla_{b}{\\phi} {\\phi}^{-1} \\delta h^{a b}-4\\nabla_{a}{\\phi} \\nabla_{b}{\\delta\\phi} {\\phi}^{-1} h^{a b}$"
      ]
     },
     "metadata": {},
     "output_type": "display_data"
    }
   ],
   "source": [
    "deltaScalarCurvature:= @(ScalarCurvature);\n",
    "vary(deltaScalarCurvature, $R-> \\delta(R), R3 -> \\delta(R3), F_{m? n?} -> delF_{m? n?}, h^{m? n?} -> delh^{m? n?}, \\phi -> delphi$)\n",
    "substitute(deltaScalarCurvature, deltaF)\n",
    "substitute(deltaScalarCurvature, deltaScalarCurvature3)\n",
    "sort_product(deltaScalarCurvature)\n",
    "rename_dummies(deltaScalarCurvature)\n",
    "canonicalise(deltaScalarCurvature);"
   ]
  },
  {
   "cell_type": "markdown",
   "metadata": {},
   "source": [
    "Variation of 4D Dalambertian:"
   ]
  },
  {
   "cell_type": "code",
   "execution_count": 9,
   "metadata": {},
   "outputs": [
    {
     "data": {
      "text/markdown": [
       "${}\\Box^{(4)}{\\pi} = \\Box\\left(\\pi\\right)+{\\phi}^{-1} h^{m n} \\nabla_{m}{\\phi} \\nabla_{n}{\\pi}$"
      ]
     },
     "metadata": {},
     "output_type": "display_data"
    },
    {
     "data": {
      "text/markdown": [
       "${}\\delta\\Box^{(4)}{\\pi} = \\nabla_{a}\\left(\\nabla_{b}{\\pi}\\right) \\delta h^{a b}+\\nabla_{a}\\left(\\nabla_{b}{\\delta\\pi}\\right) h^{a b}+\\nabla_{a}{\\delta h^{a b}} \\nabla_{b}{\\pi} - \\frac{1}{2}\\nabla_{a}{\\delta h^{b c}} \\nabla_{d}{\\pi} h_{b c} h^{a d}-\\nabla_{a}{\\phi} \\nabla_{b}{\\pi} {\\phi}^{-2} \\delta\\phi h^{a b}+\\nabla_{a}{\\phi} \\nabla_{b}{\\pi} {\\phi}^{-1} \\delta h^{a b}+\\nabla_{a}{\\delta\\phi} \\nabla_{b}{\\pi} {\\phi}^{-1} h^{a b}+\\nabla_{a}{\\phi} \\nabla_{b}{\\delta\\pi} {\\phi}^{-1} h^{a b}$"
      ]
     },
     "metadata": {},
     "output_type": "display_data"
    }
   ],
   "source": [
    "deltaBox4D := @(box4D);\n",
    "vary(deltaBox4D, $boxpi4 -> delboxpi4, h^{m? n?} -> delh^{m? n?}, \\phi -> delphi, p -> delpi, \\Box{p} -> \\delta(\\Box{p})$)\n",
    "substitute(deltaBox4D, deltaBox)\n",
    "sort_product(deltaBox4D)\n",
    "rename_dummies(deltaBox4D)\n",
    "canonicalise(deltaBox4D);"
   ]
  },
  {
   "cell_type": "markdown",
   "metadata": {},
   "source": [
    "Variation of 4D square of second derivative:"
   ]
  },
  {
   "cell_type": "code",
   "execution_count": 10,
   "metadata": {},
   "outputs": [
    {
     "data": {
      "text/markdown": [
       "${}\\pi^{\\mu \\nu}\\pi_{\\mu \\nu} = \\pi^{m n}\\pi_{m n}+\\frac{1}{2}{\\phi}^{2} h^{a m} h^{r n} F_{m n} F_{a q} h^{q s} \\nabla_{r}{\\pi} \\nabla_{s}{\\pi}+{\\phi}^{-2} {\\left(h^{a q} \\nabla_{q}{\\phi} \\nabla_{a}{\\pi}\\right)}^{2}$"
      ]
     },
     "metadata": {},
     "output_type": "display_data"
    },
    {
     "data": {
      "text/markdown": [
       "${}\\delta\\pi^{\\mu \\nu}\\pi_{\\mu \\nu} = 2\\nabla_{a}\\left(\\nabla_{b}{\\pi}\\right) \\nabla_{c}\\left(\\nabla_{d}{\\pi}\\right) \\delta h^{a c} h^{b d}+2\\nabla_{a}\\left(\\nabla_{b}{\\delta\\pi}\\right) \\nabla_{c}\\left(\\nabla_{d}{\\pi}\\right) h^{a c} h^{b d}+\\nabla_{a}\\left(\\nabla_{b}{\\pi}\\right) \\nabla_{c}{\\delta h^{b d}} \\nabla_{d}{\\pi} h^{a c}+\\nabla_{a}\\left(\\nabla_{b}{\\pi}\\right) \\nabla_{c}{\\delta h^{a d}} \\nabla_{d}{\\pi} h^{b c}-\\nabla_{a}\\left(\\nabla_{b}{\\pi}\\right) \\nabla_{c}{\\delta h^{a b}} \\nabla_{d}{\\pi} h^{c d}+F_{a b} F_{c d} \\nabla_{e}{\\pi} \\nabla_{f}{\\pi} \\phi \\delta\\phi h^{a c} h^{b e} h^{d f}+\\frac{1}{2}F_{a b} F_{c d} \\nabla_{e}{\\pi} \\nabla_{f}{\\pi} {\\phi}^{2} \\delta h^{a c} h^{b e} h^{d f}-F_{a b} F_{c d} \\nabla_{e}{\\pi} \\nabla_{f}{\\pi} {\\phi}^{2} \\delta h^{a e} h^{b c} h^{d f}+2F_{a b} \\nabla_{c}{\\delta A_{d}} \\nabla_{e}{\\pi} \\nabla_{f}{\\pi} {\\phi}^{2} h^{a c} h^{b e} h^{d f}-2{\\phi}^{-3} {\\left(\\nabla_{a}{\\phi} \\nabla_{b}{\\pi} h^{a b}\\right)}^{2} \\delta\\phi+2\\nabla_{a}{\\phi} \\nabla_{b}{\\phi} \\nabla_{c}{\\pi} \\nabla_{d}{\\pi} {\\phi}^{-2} \\delta h^{a c} h^{b d}+2\\nabla_{a}{\\phi} \\nabla_{b}{\\delta\\phi} \\nabla_{c}{\\pi} \\nabla_{d}{\\pi} {\\phi}^{-2} h^{a c} h^{b d}$"
      ]
     },
     "metadata": {},
     "output_type": "display_data"
    }
   ],
   "source": [
    "deltaSq4D := @(sq4D);\n",
    "vary(deltaSq4D, $pi24 -> delpi24, pi2 -> delpi2, \\phi -> delphi, pi -> delpi, h^{a? b?} -> delh^{a? b?}, F_{m? n?} -> delF_{m? n?}$)\n",
    "substitute(deltaSq4D, deltaSq)\n",
    "substitute(deltaSq4D, deltaF)\n",
    "distribute(deltaSq4D)\n",
    "sort_product(deltaSq4D)\n",
    "rename_dummies(deltaSq4D)\n",
    "canonicalise(deltaSq4D);"
   ]
  },
  {
   "cell_type": "markdown",
   "metadata": {},
   "source": [
    "Variation of $S_{2}$:"
   ]
  },
  {
   "cell_type": "code",
   "execution_count": 11,
   "metadata": {},
   "outputs": [
    {
     "data": {
      "text/markdown": [
       "${}\\int \\sqrt{-h} F\\,\\,{\\rm d}x$"
      ]
     },
     "metadata": {},
     "output_type": "display_data"
    },
    {
     "data": {
      "text/markdown": [
       "${}\\int \\left(\\sqrt{-h} \\delta h^{a b} \\left( - \\frac{1}{2}h_{a b} F - \\frac{1}{2}F_{X} \\nabla_{a}{\\pi} \\nabla_{b}{\\pi}\\right)+\\sqrt{-h} \\delta\\pi \\left(F_{\\pi}+h^{a b} \\nabla_{b}\\left(F_{X} \\nabla_{a}{\\pi}\\right)\\right)\\right)\\,\\,{\\rm d}x$"
      ]
     },
     "metadata": {},
     "output_type": "display_data"
    }
   ],
   "source": [
    "S2 :=  \\int{Dh @(L2)}{x};\n",
    "vary(S2, $Dh ->  \\delta{Dh}, N -> \\delta{N}$)\n",
    "substitute(S2, DelSqrth)\n",
    "substitute(S2, DelF)\n",
    "distribute(S2)\n",
    "integrate_by_parts(S2, $delpi$)\n",
    "unwrap(S2)\n",
    "factor_out(S2, $delh^{m? n?}, delpi, Dh$);"
   ]
  },
  {
   "cell_type": "markdown",
   "metadata": {},
   "source": [
    "Variation of $S_3$:"
   ]
  },
  {
   "cell_type": "code",
   "execution_count": 12,
   "metadata": {},
   "outputs": [
    {
     "data": {
      "text/markdown": [
       "${}-\\int \\sqrt{-h} K \\Box^{(4)}{\\pi}\\,\\,{\\rm d}x$"
      ]
     },
     "metadata": {},
     "output_type": "display_data"
    },
    {
     "data": {
      "text/markdown": [
       "${}-\\int \\left(\\sqrt{-h} \\delta\\pi \\left(\\nabla_{a}\\left(\\nabla_{b}{K}\\right) h^{a b}+K_{\\pi} \\nabla_{a}\\left(\\nabla_{b}{\\pi}\\right) h^{a b}+K_{\\pi} \\nabla_{a}{\\phi} \\nabla_{b}{\\pi} {\\phi}^{-1} h^{a b}+\\nabla_{a}\\left(K_{X} \\nabla_{b}\\left(\\nabla_{c}{\\pi}\\right) \\nabla_{d}{\\pi}\\right) h^{a d} h^{b c}+\\nabla_{a}\\left(K_{X} \\nabla_{b}{\\phi} \\nabla_{c}{\\pi} \\nabla_{d}{\\pi} {\\phi}^{-1}\\right) h^{a c} h^{b d}-\\nabla_{a}\\left(K \\nabla_{b}{\\phi} {\\phi}^{-1}\\right) h^{a b}\\right)+\\sqrt{-h} \\delta h^{c d} \\left( - \\frac{1}{2}K \\nabla_{a}\\left(\\nabla_{b}{\\pi}\\right) h_{c d} h^{a b} - \\frac{1}{2}K \\nabla_{a}{\\phi} \\nabla_{b}{\\pi} {\\phi}^{-1} h_{c d} h^{a b} - \\frac{1}{2}K_{X} \\nabla_{a}\\left(\\nabla_{b}{\\pi}\\right) \\nabla_{c}{\\pi} \\nabla_{d}{\\pi} h^{a b}+\\frac{1}{2}\\nabla_{a}\\left(K \\nabla_{b}{\\pi}\\right) h_{c d} h^{a b}\\right) - \\frac{1}{2}\\sqrt{-h} \\delta h^{b c} K_{X} \\nabla_{a}{\\phi} \\nabla_{b}{\\pi} \\nabla_{c}{\\pi} \\nabla_{d}{\\pi} {\\phi}^{-1} h^{a d}+\\sqrt{-h} \\delta h^{a b} \\left(K \\nabla_{a}\\left(\\nabla_{b}{\\pi}\\right)+K \\nabla_{a}{\\phi} \\nabla_{b}{\\pi} {\\phi}^{-1}-\\nabla_{a}\\left(K \\nabla_{b}{\\pi}\\right)\\right)+\\sqrt{-h} \\delta\\phi \\left(-K \\nabla_{a}{\\phi} \\nabla_{b}{\\pi} {\\phi}^{-2} h^{a b}-\\nabla_{a}\\left(K \\nabla_{b}{\\pi} {\\phi}^{-1}\\right) h^{a b}\\right)\\right)\\,\\,{\\rm d}x$"
      ]
     },
     "metadata": {},
     "output_type": "display_data"
    }
   ],
   "source": [
    "S3 := \\int{Dh @(L3)}{x};\n",
    "vary(S3, $Dh ->  \\delta{Dh}, K -> \\delta{K}, p -> delpi, boxpi4 -> delboxpi4, \\phi -> delphi, h^{m? n?} -> delh^{m? n?}$ )\n",
    "substitute(S3, DelSqrth)\n",
    "substitute(S3, DelK)\n",
    "substitute(S3, deltaBox4D)\n",
    "substitute(S3, box4D)\n",
    "substitute(S3, box3D)\n",
    "distribute(S3)\n",
    "rename_dummies(S3)\n",
    "factor_out(S3, $delpi, \\nabla_{a?}{delpi}, \\nabla_{a?}{delh^{a? b?}}, delh^{a? b?}, delphi, \\nabla_{a?}{delphi}$)\n",
    "integrate_by_parts(S3, $\\nabla_{n}{delpi}$)\n",
    "integrate_by_parts(S3, $delpi$)\n",
    "integrate_by_parts(S3, $delh^{a? b?}$)\n",
    "integrate_by_parts(S3, $delphi$)\n",
    "rename_dummies(S3)\n",
    "distribute(S3)\n",
    "unwrap(S3)\n",
    "sort_product(S3)\n",
    "rename_dummies(S3)\n",
    "canonicalise(S3)\n",
    "factor_out(S3, $delh^{a? b?}, delpi, Dh, delphi$);"
   ]
  },
  {
   "cell_type": "markdown",
   "metadata": {},
   "source": [
    "Variation of the first part of $S_4$:"
   ]
  },
  {
   "cell_type": "code",
   "execution_count": 13,
   "metadata": {},
   "outputs": [
    {
     "data": {
      "text/markdown": [
       "${}\\int \\sqrt{-h} {G_{4}} R\\,\\,{\\rm d}x$"
      ]
     },
     "metadata": {},
     "output_type": "display_data"
    },
    {
     "data": {
      "text/markdown": [
       "${}\\int \\left(\\sqrt{-h} \\delta h^{a b} \\left( - \\frac{1}{2}{G_{4}} R h_{a b} - \\frac{1}{2}G_{4X} R \\nabla_{a}{\\pi} \\nabla_{b}{\\pi}+{G_{4}} R_{a b}-2{G_{4}} \\nabla_{a}{\\phi} \\nabla_{b}{\\phi} {\\phi}^{-1}-\\nabla_{a}\\left(\\nabla_{b}\\left({G_{4}}\\right)\\right)\\right)+\\sqrt{-h} \\delta\\pi \\left(G_{4\\pi} R+\\nabla_{a}\\left(G_{4X} R \\nabla_{b}{\\pi}\\right) h^{a b}\\right)+\\sqrt{-h} \\delta h^{c d} \\nabla_{a}\\left(\\nabla_{b}\\left({G_{4}}\\right)\\right) h_{c d} h^{a b}+\\sqrt{-h} \\delta A_{d} \\nabla_{a}\\left(F_{b c} {G_{4}} {\\phi}^{2}\\right) h^{a b} h^{c d} - \\frac{1}{2}\\sqrt{-h} \\delta h^{a c} F_{a b} F_{c d} {G_{4}} {\\phi}^{2} h^{b d}+\\sqrt{-h} \\delta\\phi \\left( - \\frac{1}{2}F_{a b} F_{c d} {G_{4}} \\phi h^{a c} h^{b d}+2{G_{4}} \\nabla_{a}{\\phi} \\nabla_{b}{\\phi} {\\phi}^{-2} h^{a b}+4\\nabla_{a}\\left({G_{4}} \\nabla_{b}{\\phi} {\\phi}^{-1}\\right) h^{a b}\\right)\\right)\\,\\,{\\rm d}x$"
      ]
     },
     "metadata": {},
     "output_type": "display_data"
    }
   ],
   "source": [
    "S41 := \\int{Dh G4 R}{x};\n",
    "vary(S41, $Dh -> \\delta{Dh}, G4 -> \\delta{G4}, R -> \\delta(R)$)\n",
    "substitute(S41, DelSqrth)\n",
    "substitute(S41, DelG4)\n",
    "substitute(S41, deltaScalarCurvature)\n",
    "distribute(S41)\n",
    "rename_dummies(S41)\n",
    "factor_out(S41, $delpi, \\nabla_{a?}{delpi}, \\nabla_{a?}{\\nabla_{b?}{delh^{c? d?}}},\\nabla_{a?}{delh^{c? b?}}, delh^{a? b?}, delphi, \\nabla_{a?}{delphi}, \\nabla_{a?}{delA_{b?}}$)\n",
    "integrate_by_parts(S41, $\\nabla_{n}{delpi}$)\n",
    "integrate_by_parts(S41, $delpi$)\n",
    "integrate_by_parts(S41, $\\nabla_{c?}{delh^{a? b?}}$)\n",
    "integrate_by_parts(S41, $delh^{a? b?}$)\n",
    "integrate_by_parts(S41, $delphi$)\n",
    "integrate_by_parts(S41, $delA_{a?}$)\n",
    "rename_dummies(S41)\n",
    "distribute(S41)\n",
    "unwrap(S41)\n",
    "sort_product(S41)\n",
    "rename_dummies(S41)\n",
    "canonicalise(S41)\n",
    "factor_out(S41, $delh^{a? b?}, delpi, Dh, delphi, delA_{a?}$);"
   ]
  },
  {
   "cell_type": "markdown",
   "metadata": {},
   "source": [
    "And second part of $S_4$:"
   ]
  },
  {
   "cell_type": "code",
   "execution_count": 14,
   "metadata": {},
   "outputs": [
    {
     "data": {
      "text/markdown": [
       "${}\\int \\sqrt{-h} G_{4X} \\left({\\Box^{(4)}{\\pi}}^{2}-\\pi^{\\mu \\nu}\\pi_{\\mu \\nu}\\right)\\,\\,{\\rm d}x$"
      ]
     },
     "metadata": {},
     "output_type": "display_data"
    },
    {
     "data": {
      "text/markdown": [
       "${}\\int \\left(\\sqrt{-h} \\delta h^{a b} \\left( - \\frac{1}{2}G_{4X} {\\Box^{(4)}{\\pi}}^{2} h_{a b}+\\frac{1}{2}G_{4X} h_{a b} \\pi^{\\mu \\nu}\\pi_{\\mu \\nu} - \\frac{1}{2}G_{4XX} \\nabla_{a}{\\pi} \\nabla_{b}{\\pi} {\\Box^{(4)}{\\pi}}^{2}+\\frac{1}{2}G_{4XX} \\nabla_{a}{\\pi} \\nabla_{b}{\\pi} \\pi^{\\mu \\nu}\\pi_{\\mu \\nu}+2G_{4X} \\nabla_{a}\\left(\\nabla_{b}{\\pi}\\right) \\Box^{(4)}{\\pi}+2G_{4X} \\nabla_{a}{\\phi} \\nabla_{b}{\\pi} {\\phi}^{-1} \\Box^{(4)}{\\pi}-2\\nabla_{a}\\left(G_{4X} \\nabla_{b}{\\pi} \\Box^{(4)}{\\pi}\\right)\\right)+\\sqrt{-h} \\delta\\pi \\left(G_{4\\pi X} {\\Box^{(4)}{\\pi}}^{2}-G_{4\\pi X} \\pi^{\\mu \\nu}\\pi_{\\mu \\nu}+\\nabla_{a}\\left(G_{4XX} \\nabla_{b}{\\pi} {\\Box^{(4)}{\\pi}}^{2}\\right) h^{a b}-\\nabla_{a}\\left(G_{4XX} \\nabla_{b}{\\pi} \\pi^{\\mu \\nu}\\pi_{\\mu \\nu}\\right) h^{a b}-2\\nabla_{a}\\left(G_{4X} \\nabla_{b}{\\phi} {\\phi}^{-1} \\Box^{(4)}{\\pi}\\right) h^{a b}+2\\nabla_{a}\\left(\\nabla_{b}\\left(G_{4X} \\Box^{(4)}{\\pi}\\right)\\right) h^{a b}-2\\nabla_{a}\\left(\\nabla_{b}\\left(G_{4X} \\nabla_{c}\\left(\\nabla_{d}{\\pi}\\right)\\right)\\right) h^{a d} h^{b c}\\right)+\\sqrt{-h} \\delta h^{c d} \\left(\\nabla_{a}\\left(G_{4X} \\nabla_{b}{\\pi} \\Box^{(4)}{\\pi}\\right) h_{c d} h^{a b}+\\nabla_{a}\\left(G_{4X} \\nabla_{b}\\left(\\nabla_{c}{\\pi}\\right) \\nabla_{d}{\\pi}\\right) h^{a b}\\right)+\\sqrt{-h} \\delta\\phi \\left(-2G_{4X} \\nabla_{a}{\\phi} \\nabla_{b}{\\pi} {\\phi}^{-2} \\Box^{(4)}{\\pi} h^{a b}-F_{a b} F_{c d} G_{4X} \\nabla_{e}{\\pi} \\nabla_{f}{\\pi} \\phi h^{a c} h^{b e} h^{d f}+2G_{4X} {\\phi}^{-3} {\\left(\\nabla_{a}{\\phi} \\nabla_{b}{\\pi} h^{a b}\\right)}^{2}-2\\nabla_{a}\\left(G_{4X} \\nabla_{b}{\\pi} {\\phi}^{-1} \\Box^{(4)}{\\pi}\\right) h^{a b}+2\\nabla_{a}\\left(G_{4X} \\nabla_{b}{\\phi} \\nabla_{c}{\\pi} \\nabla_{d}{\\pi} {\\phi}^{-2}\\right) h^{a d} h^{b c}\\right)+\\sqrt{-h} \\delta h^{a c} \\left(-2G_{4X} \\nabla_{a}\\left(\\nabla_{b}{\\pi}\\right) \\nabla_{c}\\left(\\nabla_{d}{\\pi}\\right) h^{b d} - \\frac{1}{2}F_{a b} F_{c d} G_{4X} \\nabla_{e}{\\pi} \\nabla_{f}{\\pi} {\\phi}^{2} h^{b e} h^{d f}-2G_{4X} \\nabla_{a}{\\phi} \\nabla_{b}{\\phi} \\nabla_{c}{\\pi} \\nabla_{d}{\\pi} {\\phi}^{-2} h^{b d}\\right)+\\sqrt{-h} \\delta h^{b d} \\nabla_{a}\\left(G_{4X} \\nabla_{b}\\left(\\nabla_{c}{\\pi}\\right) \\nabla_{d}{\\pi}\\right) h^{a c}-\\sqrt{-h} \\delta h^{b c} \\nabla_{a}\\left(G_{4X} \\nabla_{b}\\left(\\nabla_{c}{\\pi}\\right) \\nabla_{d}{\\pi}\\right) h^{a d}+\\sqrt{-h} \\delta h^{a e} F_{a b} F_{c d} G_{4X} \\nabla_{e}{\\pi} \\nabla_{f}{\\pi} {\\phi}^{2} h^{b c} h^{d f}+2\\sqrt{-h} \\delta A_{f} \\nabla_{a}\\left(F_{b c} G_{4X} \\nabla_{d}{\\pi} \\nabla_{e}{\\pi} {\\phi}^{2}\\right) h^{a b} h^{c d} h^{e f}\\right)\\,\\,{\\rm d}x$"
      ]
     },
     "metadata": {},
     "output_type": "display_data"
    }
   ],
   "source": [
    "S42 := \\int{Dh G4X (boxpi4**2 - pi24)}{x};\n",
    "vary(S42, $Dh ->  \\delta{Dh}, G4X -> \\delta{G4X}, pi24 -> delpi24, boxpi4 -> delboxpi4$ )\n",
    "substitute(S42, DelSqrth)\n",
    "substitute(S42, DelG4X)\n",
    "substitute(S42, deltaSq4D)\n",
    "substitute(S42, deltaBox4D)\n",
    "distribute(S42)\n",
    "rename_dummies(S42)\n",
    "factor_out(S42, $delpi, \\nabla_{a?}{delpi},\\nabla_{b?}{\\nabla_{a?}{delpi}}, \\nabla_{a?}{\\nabla_{b?}{delh^{c? d?}}},\\nabla_{a?}{delh^{c? b?}}, delh^{a? b?}, delphi, \\nabla_{a?}{delphi}, \\nabla_{a?}{delA_{b?}}$)\n",
    "integrate_by_parts(S42, $\\nabla_{n}{delpi}$)\n",
    "integrate_by_parts(S42, $delpi$)\n",
    "integrate_by_parts(S42, $\\nabla_{c?}{delh^{a? b?}}$)\n",
    "integrate_by_parts(S42, $delh^{a? b?}$)\n",
    "integrate_by_parts(S42, $delphi$)\n",
    "integrate_by_parts(S42, $delA_{a?}$)\n",
    "distribute(S42)\n",
    "unwrap(S42)\n",
    "sort_product(S42)\n",
    "rename_dummies(S42)\n",
    "canonicalise(S42)\n",
    "factor_out(S42, $delh^{a? b?}, delpi, Dh, delphi, delA_{a?}$);"
   ]
  },
  {
   "cell_type": "markdown",
   "metadata": {},
   "source": [
    "There are some clean up of equations of motion:"
   ]
  },
  {
   "cell_type": "code",
   "execution_count": 15,
   "metadata": {},
   "outputs": [],
   "source": [
    "mathcalG2 = S2[0][0][2]\n",
    "mathcalP2 = S2[0][1][2]\n",
    "mathcalP3 = S3[0][0][2]\n",
    "mathcalG3 = S3[0][1] + S3[0][2] + S3[0][3]\n",
    "mathcalphi3 = S3[0][4][2]\n",
    "mathcalG3 := @(mathcalG3) * Dh**(-1).\n",
    "product_rule(mathcalG3)\n",
    "distribute(mathcalG3)\n",
    "collect_factors(mathcalG3)\n",
    "sort_product(mathcalG3)\n",
    "substitute(mathcalG3, $h^{a? b?} \\nabla_{a?}{\\nabla_{b?}{Q??}} -> \\Box{Q??}$)\n",
    "substitute(mathcalG3, $\\nabla_{a?}{p}\\nabla_{b?}{p} -> X_{a? b?}$)\n",
    "substitute(mathcalG3, $\\nabla_{a?}{\\phi}\\nabla_{b?}{p} \\phi**(-1) h^{a? b?} -> Z$)\n",
    "rename_dummies(mathcalG3)\n",
    "canonicalise(mathcalG3)\n",
    "substitute(mathcalG3, $\\nabla_{a}{K}\\nabla_{b}{p}delh^{c d}h_{c d}h^{a b} -> \\nabla_{c}{K}\\nabla_{d}{p}delh^{a b}h_{a b}h^{c d}$)\n",
    "factor_out(mathcalG3, $delh^{a b}$)\n",
    "mathcalG3 = mathcalG3[1]"
   ]
  },
  {
   "cell_type": "code",
   "execution_count": 16,
   "metadata": {},
   "outputs": [],
   "source": [
    "mathcalP41 = S41[0][1][2]\n",
    "mathcalG41 = S41[0][0] + S41[0][2] + S41[0][4]\n",
    "mathcalA41 = S41[0][3]\n",
    "mathcalphi41 = S41[0][5][2]\n",
    "substitute(mathcalG41, $delh^{c d} \\nabla_{a}{\\nabla_{b}{G4}}h_{c d} h^{a b} -> delh^{a b} \\nabla_{c}{\\nabla_{d}{G4}}h^{c d} h_{a b}$)\n",
    "substitute(mathcalG41, $delh^{a c} F_{a b} F_{c d} G4 \\phi**2 h^{b d} -> delh^{a b} F_{a c} F_{b d} G4 \\phi**2 h^{c d}$)\n",
    "factor_out(mathcalG41, $delh^{a b}, Dh$)\n",
    "mathcalG41 = mathcalG41[2]"
   ]
  },
  {
   "cell_type": "code",
   "execution_count": 17,
   "metadata": {},
   "outputs": [],
   "source": [
    "mathcalG42 = S42[0][0] + S42[0][2] + S42[0][4] + S42[0][5] + S42[0][6] + S42[0][7]\n",
    "mathcalP42 = S42[0][1][2]\n",
    "mathcalphi42 = S42[0][3][2]\n",
    "mathcalA42 = S42[0][8]\n",
    "mathcalG42:= @(mathcalG42) * Dh**(-1).\n",
    "distribute(mathcalG42)\n",
    "sort_product(mathcalG42)\n",
    "collect_factors(mathcalG42)\n",
    "rename_dummies(mathcalG42)\n",
    "canonicalise(mathcalG42)\n",
    "factor_out(mathcalG42, $delh^{a? b?}$)\n",
    "rename_dummies(mathcalG42)\n",
    "substitute(mathcalG42, $delh^{c d} (\\nabla_{a}{G4X \\nabla_{b}{p} boxpi4} h_{c d} h^{a b} + \\nabla_{a}{G4X \\nabla_{b}{\\nabla_{c}{p}} \\nabla_{d}{p}} h^{a b}) -> delh^{a b} (\\nabla_{c}{G4X \\nabla_{d}{p} boxpi4} h_{a b} h^{c d} + \\nabla_{c}{G4X \\nabla_{d}{\\nabla_{a}{p}} \\nabla_{b}{p}} h^{c d})$)\n",
    "substitute(mathcalG42, $delh^{a c} * (-2G4X \\nabla_{a}{\\nabla_{b}{p}} \\nabla_{c}{\\nabla_{d}{p}} h^{b d} -  1/2 F_{a b} F_{c d} G4X \\nabla_{e}{p} \\nabla_{f}{p} * ((\\phi)**2) * h^{b e} h^{d f}-2G4X \\nabla_{a}{\\phi} \\nabla_{b}{\\phi} \\nabla_{c}{p} \\nabla_{d}{p} * ((\\phi)**(-2)) * h^{b d}) -> delh^{a b} * (-2G4X \\nabla_{a}{\\nabla_{c}{p}} \\nabla_{b}{\\nabla_{d}{p}} h^{c d} -  1/2 F_{a c} F_{b d} G4X \\nabla_{e}{p} \\nabla_{f}{p}* ((\\phi)**2) * h^{c e} h^{d f}-2G4X \\nabla_{a}{\\phi} \\nabla_{c}{\\phi} \\nabla_{b}{p} \\nabla_{d}{p} * ((\\phi)**(-2)) * h^{c d})$)\n",
    "substitute(mathcalG42, $delh^{b d} \\nabla_{a}(G4X \\nabla_{b}(\\nabla_{c}(p)) \\nabla_{d}(p)) h^{a c} -> delh^{a b} \\nabla_{d}(G4X \\nabla_{a}(\\nabla_{c}(p)) \\nabla_{b}(p)) h^{d c}$)\n",
    "substitute(mathcalG42, $delh^{b c} \\nabla_{a}(G4X \\nabla_{b}(\\nabla_{c}(p)) \\nabla_{d}(p)) h^{a d} -> delh^{a b} \\nabla_{c}(G4X \\nabla_{a}(\\nabla_{b}(p)) \\nabla_{d}(p)) h^{c d}$)\n",
    "substitute(mathcalG42, $delh^{a e} F_{a b} F_{c d} G4X \\nabla_{e}(p) \\nabla_{f}(p) (\\phi)**2 h^{b c} h^{d f} -> delh^{a b} F_{a e} F_{c d} G4X \\nabla_{b}(p) \\nabla_{f}(p) (\\phi)**2 h^{e c} h^{d f}$)\n",
    "factor_out(mathcalG42, $delh^{a? b?}$)\n",
    "mathcalG42 = mathcalG42[1]\n",
    "factor_out(mathcalG42, $\\frac{1}{2}, G4X, boxpi4, pi42, G4XX$)\n",
    "factor_out(mathcalG42, $\\nabla_{a}{p}\\nabla_{b}{p}$)\n",
    "mathcalA4 := @(mathcalA41) + @(mathcalA42).\n",
    "rename_dummies(mathcalA4)\n",
    "substitute(mathcalA4, $delA_{d}\\nabla_{c}{F_{a b} G4 *((\\phi)**2)}h^{c a} h^{b d} -> delA_{f}\\nabla_{c}{F_{a b} G4 *((\\phi)**2)}h^{c a} h^{b f}$)\n",
    "factor_out(mathcalA4, $Dh, delA_{f}$)\n",
    "mathcalA4 = mathcalA4[2]"
   ]
  },
  {
   "cell_type": "markdown",
   "metadata": {},
   "source": [
    "We denote by $\\mathcal{G}_{a b}$ the terms before the variation with respect to the metric, by $\\mathcal{P}$ terms before the variation with respect to the field $\\pi$, by $\\mathcal{A}^{m}$ terms before the variation with respect to the vector field $A_{m}$, \n",
    "by $\\Phi$ terms before the variation with respect to the dilaton field $\\phi$, and $Z = h^{a b}\\nabla_{a}{\\phi}\\nabla_{b}{\\pi} \\phi^{-1}$, then:"
   ]
  },
  {
   "cell_type": "code",
   "execution_count": 18,
   "metadata": {},
   "outputs": [
    {
     "data": {
      "text/markdown": [
       "${}\\mathcal{G}^{2}\\,_{a b} =  - \\frac{1}{2}h_{a b} F - \\frac{1}{2}F_{X} \\nabla_{a}{\\pi} \\nabla_{b}{\\pi}$"
      ]
     },
     "metadata": {},
     "output_type": "display_data"
    },
    {
     "data": {
      "text/markdown": [
       "${}\\mathcal{P}^{2} = F_{\\pi}+h^{a b} \\nabla_{b}\\left(F_{X} \\nabla_{a}{\\pi}\\right)$"
      ]
     },
     "metadata": {},
     "output_type": "display_data"
    },
    {
     "data": {
      "text/markdown": [
       "${}\\mathcal{G}^{3}\\,_{a b} = \\frac{1}{2}K Z h_{a b}+\\frac{1}{2}K_{X} X_{a b} \\Box\\left(\\pi\\right) - \\frac{1}{2}\\nabla_{c}{K} \\nabla_{d}{\\pi} h_{a b} h^{c d}+\\frac{1}{2}K_{X} Z X_{a b}-K \\nabla_{a}{\\phi} \\nabla_{b}{\\pi} {\\phi}^{-1}+\\nabla_{a}{K} \\nabla_{b}{\\pi}$"
      ]
     },
     "metadata": {},
     "output_type": "display_data"
    },
    {
     "data": {
      "text/markdown": [
       "${}\\mathcal{P}^{3} = -\\nabla_{a}\\left(\\nabla_{b}{K}\\right) h^{a b}-K_{\\pi} \\nabla_{a}\\left(\\nabla_{b}{\\pi}\\right) h^{a b}-K_{\\pi} \\nabla_{a}{\\phi} \\nabla_{b}{\\pi} {\\phi}^{-1} h^{a b}-\\nabla_{a}\\left(K_{X} \\nabla_{b}\\left(\\nabla_{c}{\\pi}\\right) \\nabla_{d}{\\pi}\\right) h^{a d} h^{b c}-\\nabla_{a}\\left(K_{X} \\nabla_{b}{\\phi} \\nabla_{c}{\\pi} \\nabla_{d}{\\pi} {\\phi}^{-1}\\right) h^{a c} h^{b d}+\\nabla_{a}\\left(K \\nabla_{b}{\\phi} {\\phi}^{-1}\\right) h^{a b}$"
      ]
     },
     "metadata": {},
     "output_type": "display_data"
    },
    {
     "data": {
      "text/markdown": [
       "${}\\Phi^{3} = K \\nabla_{a}{\\phi} \\nabla_{b}{\\pi} {\\phi}^{-2} h^{a b}+\\nabla_{a}\\left(K \\nabla_{b}{\\pi} {\\phi}^{-1}\\right) h^{a b}$"
      ]
     },
     "metadata": {},
     "output_type": "display_data"
    },
    {
     "data": {
      "text/markdown": [
       "${}\\mathcal{G}^{4}\\,_{a b} =  - \\frac{1}{2}{G_{4}} R h_{a b} - \\frac{1}{2}G_{4X} R \\nabla_{a}{\\pi} \\nabla_{b}{\\pi}+{G_{4}} R_{a b}-2{G_{4}} \\nabla_{a}{\\phi} \\nabla_{b}{\\phi} {\\phi}^{-1}-\\nabla_{a}\\left(\\nabla_{b}\\left({G_{4}}\\right)\\right)+\\nabla_{c}\\left(\\nabla_{d}\\left({G_{4}}\\right)\\right) h^{c d} h_{a b} - \\frac{1}{2}F_{a c} F_{b d} {G_{4}} {\\phi}^{2} h^{c d}-2\\nabla_{a}\\left(G_{4X} \\nabla_{b}{\\pi} \\Box^{(4)}{\\pi}\\right)+\\nabla_{c}\\left(G_{4X} \\nabla_{d}{\\pi} \\Box^{(4)}{\\pi}\\right) h_{a b} h^{c d}+\\nabla_{c}\\left(G_{4X} \\nabla_{d}\\left(\\nabla_{a}{\\pi}\\right) \\nabla_{b}{\\pi}\\right) h^{c d}+\\nabla_{d}\\left(G_{4X} \\nabla_{a}\\left(\\nabla_{c}{\\pi}\\right) \\nabla_{b}{\\pi}\\right) h^{d c}-\\nabla_{c}\\left(G_{4X} \\nabla_{a}\\left(\\nabla_{b}{\\pi}\\right) \\nabla_{d}{\\pi}\\right) h^{c d}+G_{4X} \\left( - \\frac{1}{2}{\\Box^{(4)}{\\pi}}^{2} h_{a b}+\\frac{1}{2}h_{a b} \\pi^{\\mu \\nu}\\pi_{\\mu \\nu}-2\\nabla_{a}\\left(\\nabla_{c}{\\pi}\\right) \\nabla_{b}\\left(\\nabla_{d}{\\pi}\\right) h^{c d} - \\frac{1}{2}F_{a c} F_{b d} \\nabla_{e}{\\pi} \\nabla_{f}{\\pi} {\\phi}^{2} h^{c e} h^{d f}-2\\nabla_{a}{\\phi} \\nabla_{c}{\\phi} \\nabla_{b}{\\pi} \\nabla_{d}{\\pi} {\\phi}^{-2} h^{c d}+F_{a e} F_{c d} \\nabla_{b}{\\pi} \\nabla_{f}{\\pi} {\\phi}^{2} h^{e c} h^{d f}\\right)+G_{4XX} \\left( - \\frac{1}{2}\\nabla_{a}{\\pi} \\nabla_{b}{\\pi} {\\Box^{(4)}{\\pi}}^{2}+\\frac{1}{2}\\nabla_{a}{\\pi} \\nabla_{b}{\\pi} \\pi^{\\mu \\nu}\\pi_{\\mu \\nu}\\right)+G_{4X} \\Box^{(4)}{\\pi} \\left(2\\nabla_{a}\\left(\\nabla_{b}{\\pi}\\right)+2\\nabla_{a}{\\phi} \\nabla_{b}{\\pi} {\\phi}^{-1}\\right)$"
      ]
     },
     "metadata": {},
     "output_type": "display_data"
    },
    {
     "data": {
      "text/markdown": [
       "${}\\mathcal{P}^{4} = G_{4\\pi} R+\\nabla_{a}\\left(G_{4X} R \\nabla_{b}{\\pi}\\right) h^{a b}+G_{4\\pi X} {\\Box^{(4)}{\\pi}}^{2}-G_{4\\pi X} \\pi^{\\mu \\nu}\\pi_{\\mu \\nu}+\\nabla_{a}\\left(G_{4XX} \\nabla_{b}{\\pi} {\\Box^{(4)}{\\pi}}^{2}\\right) h^{a b}-\\nabla_{a}\\left(G_{4XX} \\nabla_{b}{\\pi} \\pi^{\\mu \\nu}\\pi_{\\mu \\nu}\\right) h^{a b}-2\\nabla_{a}\\left(G_{4X} \\nabla_{b}{\\phi} {\\phi}^{-1} \\Box^{(4)}{\\pi}\\right) h^{a b}+2\\nabla_{a}\\left(\\nabla_{b}\\left(G_{4X} \\Box^{(4)}{\\pi}\\right)\\right) h^{a b}-2\\nabla_{a}\\left(\\nabla_{b}\\left(G_{4X} \\nabla_{c}\\left(\\nabla_{d}{\\pi}\\right)\\right)\\right) h^{a d} h^{b c}$"
      ]
     },
     "metadata": {},
     "output_type": "display_data"
    },
    {
     "data": {
      "text/markdown": [
       "${}\\Phi^{4} =  - \\frac{1}{2}F_{a b} F_{c d} {G_{4}} \\phi h^{a c} h^{b d}+2{G_{4}} \\nabla_{a}{\\phi} \\nabla_{b}{\\phi} {\\phi}^{-2} h^{a b}+4\\nabla_{a}\\left({G_{4}} \\nabla_{b}{\\phi} {\\phi}^{-1}\\right) h^{a b}-2G_{4X} \\nabla_{a}{\\phi} \\nabla_{b}{\\pi} {\\phi}^{-2} \\Box^{(4)}{\\pi} h^{a b}-F_{a b} F_{c d} G_{4X} \\nabla_{e}{\\pi} \\nabla_{f}{\\pi} \\phi h^{a c} h^{b e} h^{d f}+2G_{4X} {\\phi}^{-3} {\\left(\\nabla_{a}{\\phi} \\nabla_{b}{\\pi} h^{a b}\\right)}^{2}-2\\nabla_{a}\\left(G_{4X} \\nabla_{b}{\\pi} {\\phi}^{-1} \\Box^{(4)}{\\pi}\\right) h^{a b}+2\\nabla_{a}\\left(G_{4X} \\nabla_{b}{\\phi} \\nabla_{c}{\\pi} \\nabla_{d}{\\pi} {\\phi}^{-2}\\right) h^{a d} h^{b c}$"
      ]
     },
     "metadata": {},
     "output_type": "display_data"
    },
    {
     "data": {
      "text/markdown": [
       "${}\\mathcal{A}^{4 f} = \\nabla_{c}\\left(F_{a b} {G_{4}} {\\phi}^{2}\\right) h^{c a} h^{b f}+2\\nabla_{c}\\left(F_{a b} G_{4X} \\nabla_{d}{\\pi} \\nabla_{e}{\\pi} {\\phi}^{2}\\right) h^{c a} h^{b d} h^{e f}$"
      ]
     },
     "metadata": {},
     "output_type": "display_data"
    }
   ],
   "source": [
    "mathcalG2 := mathcalG^{(2)}_{a b} = @(mathcalG2);\n",
    "mathcalP2:= mathcalP^{(2)} = @(mathcalP2); \n",
    "mathcalG3 := mathcalG^{(3)}_{a b} = -@(mathcalG3);\n",
    "mathcalP3 := mathcalP^{(3)} = -@(mathcalP3);\n",
    "mathcalphi3 := mathcalphi^{(3)} = -@(mathcalphi3);\n",
    "mathcalG4 := mathcalG^{(4)}_{a b} = @(mathcalG41) + @(mathcalG42);\n",
    "mathcalP4 := mathcalP^{(4)} = @(mathcalP41) + @(mathcalP42);\n",
    "mathcalphi4 := mathcalphi^{(4)} = @(mathcalphi41) + @(mathcalphi42);\n",
    "mathcalA4 := mathcalA^{(4)}^{f} = @(mathcalA4);"
   ]
  },
  {
   "cell_type": "code",
   "execution_count": 19,
   "metadata": {},
   "outputs": [],
   "source": [
    "#mathcalG2 := @(mathcalG2);\n",
    "#mathcalP2:= @(mathcalP2); \n",
    "#mathcalG3 := -@(mathcalG3);\n",
    "#mathcalP3 := -@(mathcalP3);\n",
    "#mathcalphi3 := -@(mathcalphi3);\n",
    "#mathcalG4 := @(mathcalG41) + @(mathcalG42);\n",
    "#mathcalP4 :=  @(mathcalP41) + @(mathcalP42);\n",
    "#mathcalphi4 := @(mathcalphi41) + @(mathcalphi42);\n",
    "#mathcalA4 :=  @(mathcalA4);"
   ]
  },
  {
   "cell_type": "code",
   "execution_count": null,
   "metadata": {},
   "outputs": [],
   "source": []
  }
 ],
 "metadata": {
  "kernelspec": {
   "display_name": "Cadabra2",
   "language": "python",
   "name": "cadabra2"
  },
  "language_info": {
   "codemirror_mode": "cadabra",
   "file_extension": ".ipynb",
   "mimetype": "text/cadabra",
   "name": "cadabra2",
   "pygments_lexer": "cadabra"
  },
  "latex_envs": {
   "LaTeX_envs_menu_present": true,
   "autoclose": true,
   "autocomplete": true,
   "bibliofile": "biblio.bib",
   "cite_by": "apalike",
   "current_citInitial": 1,
   "eqLabelWithNumbers": true,
   "eqNumInitial": 1,
   "hotkeys": {
    "equation": "Ctrl-E",
    "itemize": "Ctrl-I"
   },
   "labels_anchors": false,
   "latex_user_defs": false,
   "report_style_numbering": false,
   "user_envs_cfg": false
  }
 },
 "nbformat": 4,
 "nbformat_minor": 4
}
