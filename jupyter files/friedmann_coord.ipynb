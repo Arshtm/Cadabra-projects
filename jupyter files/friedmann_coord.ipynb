{
 "cells": [
  {
   "cell_type": "markdown",
   "metadata": {},
   "source": [
    "#### Здесь я пытаюсь подставить фоновую метрику Фридмана в получившиеся ранее уравнения из файлов varying и friedmann_analitic"
   ]
  },
  {
   "cell_type": "code",
   "execution_count": 3,
   "metadata": {},
   "outputs": [],
   "source": [
    "!jt -tfs 11"
   ]
  },
  {
   "cell_type": "code",
   "execution_count": 1,
   "metadata": {},
   "outputs": [],
   "source": [
    "import sympy\n",
    "import cdb.core.manip as man\n",
    "import functions as fun\n",
    "import friedmann_analitic as fr"
   ]
  },
  {
   "cell_type": "code",
   "execution_count": 2,
   "metadata": {},
   "outputs": [],
   "source": [
    "{a,b,c,d,e,f,g,h,i,j,k,l,m,n,o,q,r,s,u,v,w,x,y,z#}::Indices(full,values={t,x,y}, position=independent).\n",
    "{t, x, y}::Coordinate.\n",
    "\\partial{#}::PartialDerivative.\n",
    "\\nabla{#}::Derivative.\n",
    "{\\nabla{#},\\partial{#}}::Commuting."
   ]
  },
  {
   "cell_type": "code",
   "execution_count": 3,
   "metadata": {},
   "outputs": [],
   "source": [
    "h_{m n}::Metric.\n",
    "h^{m n}::InverseMetric.\n",
    "h_{m n}::Symmetric.\n",
    "h^{m n}::Symmetric.\n",
    "h::Determinant(h_{m n}).\n",
    "\\delta^{m}_{n}::KroneckerDelta.\n",
    "\\delta_{m}^{n}::KroneckerDelta.\n",
    "F_{m n}::AntiSymmetric.\n",
    "G3_{m n}::Symmetric.\n",
    "delh_{m n}::Symmetric.\n",
    "delh^{m n}::Symmetric.\n",
    "\\Gamma^{m}_{n q}::TableauSymmetry(shape={2}, indices={1,2})."
   ]
  },
  {
   "cell_type": "code",
   "execution_count": 4,
   "metadata": {},
   "outputs": [],
   "source": [
    "p::Depends(t,x,y).\n",
    "X::Depends(t,x,y).\n",
    "\\phi::Depends(t,x,y).\n",
    "A_{m?}::Depends(t,x,y).\n",
    "h_{m n}::Depends(t,x,y).\n",
    "h^{m n}::Depends(t,x,y).\n",
    "G4::Depends(t,x,y).\n",
    "G4p::Depends(t,x,y).\n",
    "G4X::Depends(t,x,y).\n",
    "G4XX::Depends(t,x,y).\n",
    "K::Depends(t,x,y).\n",
    "Kp::Depends(t,x,y).\n",
    "KX::Depends(t,x,y).\n",
    "N::Depends(t,x,y).\n",
    "Np::Depends(t,x,y).\n",
    "NX::Depends(t,x,y).\n",
    "F_{m n}::Depends(t,x,y).\n",
    "F^{m n}::Depends(t,x,y).\n",
    "{a,H}::Depends(t)."
   ]
  },
  {
   "cell_type": "code",
   "execution_count": 5,
   "metadata": {},
   "outputs": [],
   "source": [
    "p::LaTeXForm(\"\\pi\").\n",
    "G4p::LaTeXForm(\"G_{4\\pi}\").\n",
    "G4X::LaTeXForm(\"G_{4X}\").\n",
    "G4XX::LaTeXForm(\"G_{4XX}\").\n",
    "G4Xp::LaTeXForm(\"G_{4\\pi X}\").\n",
    "Kp::LaTeXForm(\"K_{\\pi}\").\n",
    "KX::LaTeXForm(\"K_{X}\").\n",
    "N::LaTeXForm(\"F\").\n",
    "Np::LaTeXForm(\"F_{\\pi}\").\n",
    "NX::LaTeXForm(\"F_{X}\").\n",
    "pi2::LaTeXForm(\"\\pi^{m n}\\pi_{m n}\").\t\n",
    "boxpi4::LaTeXForm(\"\\Box^{(4)}{\\pi}\").\n",
    "delboxpi4::LaTeXForm(\"\\delta\\Box^{(4)}{\\pi}\").\n",
    "pi24::LaTeXForm(\"\\pi^{\\mu \\nu}\\pi_{\\mu \\nu}\").\n",
    "mathcalG{#}::LaTeXForm(\"\\mathcal{G}\").\n",
    "mathcalP{#}::LaTeXForm(\"\\mathcal{P}\").\n",
    "mathcalA{#}::LaTeXForm(\"\\mathcal{A}\").\n",
    "mathcalphi{#}::LaTeXForm(\"\\Phi\")."
   ]
  },
  {
   "cell_type": "code",
   "execution_count": 6,
   "metadata": {},
   "outputs": [
    {
     "data": {
      "text/markdown": [
       "${}R^{s?}\\,_{m? n? r?} \\rightarrow -\\partial_{r?}{\\Gamma^{s?}\\,_{m? n?}}+\\partial_{n?}{\\Gamma^{s?}\\,_{m? r?}}-\\Gamma^{z}\\,_{m? n?} \\Gamma^{s?}\\,_{r? z}+\\Gamma^{z}\\,_{m? r?} \\Gamma^{s?}\\,_{n? z}$"
      ]
     },
     "metadata": {},
     "output_type": "display_data"
    },
    {
     "data": {
      "text/markdown": [
       "${}\\Gamma^{l?}\\,_{m? n?} \\rightarrow \\frac{1}{2}h^{l? k} \\left(\\partial_{n?}{h_{k m?}}+\\partial_{m?}{h_{k n?}}-\\partial_{k}{h_{m? n?}}\\right)$"
      ]
     },
     "metadata": {},
     "output_type": "display_data"
    },
    {
     "data": {
      "text/markdown": [
       "${}\\left[h_{t t} = 1, h_{x x} = -a, h_{y y} = -a, h^{t t} = 1, h^{x x} = -{a}^{-1}, h^{y y} = -{a}^{-1}\\right]$"
      ]
     },
     "metadata": {},
     "output_type": "display_data"
    },
    {
     "data": {
      "text/markdown": [
       "${}\\left[h_{t t} = 1, h_{x x} = -a, h_{y y} = -a, h^{t t} = 1, h^{x x} = -{a}^{-1}, h^{y y} = -{a}^{-1}, h = {a}^{2}\\right]$"
      ]
     },
     "metadata": {},
     "output_type": "display_data"
    }
   ],
   "source": [
    "RtoG:= R^{s?}_{m? n? r?} -> \n",
    " - \\partial_{r?}{ \\Gamma^{s?}_{m? n?} }\n",
    " + \\partial_{n?}{ \\Gamma^{s?}_{m? r?} }\n",
    " - \\Gamma^{z}_{m? n?} \\Gamma^{s?}_{r? z}\n",
    " + \\Gamma^{z}_{m? r?} \\Gamma^{s?}_{n? z};\n",
    "Gtog:= \\Gamma^{l?}_{m? n?} ->\n",
    "  (1/2) * h^{l? k} ( \n",
    "        \\partial_{n?}{ h_{k m?} } + \\partial_{m?}{ h_{k n?} } - \\partial_{k}{ h_{m? n?} } );\n",
    "friedmann:= { h_{t t} = 1,   \n",
    "       h_{x x} = -a, \n",
    "       h_{y y} = -a,\n",
    "     }.\n",
    "complete(friedmann, $h^{m n}$);\n",
    "complete(friedmann, $h$);"
   ]
  },
  {
   "cell_type": "code",
   "execution_count": 7,
   "metadata": {},
   "outputs": [],
   "source": [
    "#ElField:= { F_{t x} = \\partial_{t}{A_{x}} - \\partial_{x}{A_{t}},\n",
    "#F_{x t} = \\partial_{x}{A_{t}} - \\partial_{t}{A_{x}},\n",
    "#F_{t y} = \\partial_{t}{A_{y}} - \\partial_{y}{A_{t}},\n",
    "#F_{y t} = \\partial_{y}{A_{t}} - \\partial_{t}{A_{y}},\n",
    "#F_{x y} = \\partial_{x}{A_{y}} - \\partial_{y}{A_{x}},\n",
    "#F_{y x} = \\partial_{y}{A_{x}} - \\partial_{x}{A_{y}} \n",
    "#     }.\n",
    "#ElFieldInv:= F^{m n} = h^{m a} h^{n b} F_{a b};\n",
    "#evaluate(ElFieldInv, ElField, rhsonly=True);\n",
    "#substitute(ElFieldInv, friedmannInv)\n",
    "#collect_factors(ElFieldInv);"
   ]
  },
  {
   "cell_type": "code",
   "execution_count": 8,
   "metadata": {},
   "outputs": [
    {
     "data": {
      "text/markdown": [
       "${}\\Gamma^{l}\\,_{m n} = \\frac{1}{2}h^{l k} \\left(\\partial_{n}{h_{k m}}+\\partial_{m}{h_{k n}}-\\partial_{k}{h_{m n}}\\right)$"
      ]
     },
     "metadata": {},
     "output_type": "display_data"
    },
    {
     "data": {
      "text/markdown": [
       "${}\\Gamma^{l}\\,_{m n} = \\square{}_{m}{}_{n}{}^{l}\\left\\{\\begin{aligned}\\square{}_{y}{}_{t}{}^{y}& = \\frac{1}{2}H\\\\[-.5ex]\n",
       "\\square{}_{x}{}_{t}{}^{x}& = \\frac{1}{2}H\\\\[-.5ex]\n",
       "\\square{}_{t}{}_{y}{}^{y}& = \\frac{1}{2}H\\\\[-.5ex]\n",
       "\\square{}_{t}{}_{x}{}^{x}& = \\frac{1}{2}H\\\\[-.5ex]\n",
       "\\square{}_{y}{}_{y}{}^{t}& = \\frac{1}{2}\\partial_{t}{a}\\\\[-.5ex]\n",
       "\\square{}_{x}{}_{x}{}^{t}& = \\frac{1}{2}\\partial_{t}{a}\\\\[-.5ex]\n",
       "\\end{aligned}\\right.\n",
       "$"
      ]
     },
     "metadata": {},
     "output_type": "display_data"
    }
   ],
   "source": [
    "Chr:= \\Gamma^{l}_{m n} =\n",
    "  (1/2) * h^{l k} ( \n",
    "        \\partial_{n}{ h_{k m} } + \\partial_{m}{ h_{k n} } - \\partial_{k}{ h_{m n} } );\n",
    "evaluate(Chr, friedmann, rhsonly=True)\n",
    "substitute(Chr, $\\partial_{t}{a} a**(-1) -> H$);"
   ]
  },
  {
   "cell_type": "code",
   "execution_count": 9,
   "metadata": {},
   "outputs": [
    {
     "data": {
      "text/markdown": [
       "${}{R_{3}} = R^{s}\\,_{m s n} h^{m n}$"
      ]
     },
     "metadata": {},
     "output_type": "display_data"
    },
    {
     "data": {
      "text/markdown": [
       "${}{R_{3}} = \\left(-\\partial_{n}{\\Gamma^{s}\\,_{m s}}+\\partial_{s}{\\Gamma^{s}\\,_{m n}}-\\Gamma^{z}\\,_{m s} \\Gamma^{s}\\,_{n z}+\\Gamma^{z}\\,_{m n} \\Gamma^{s}\\,_{s z}\\right) h^{m n}$"
      ]
     },
     "metadata": {},
     "output_type": "display_data"
    },
    {
     "data": {
      "text/markdown": [
       "${}{R_{3}} = \\left(-\\partial_{n}\\left(\\square{}_{m}{}_{s}{}^{s}\\left\\{\\begin{aligned}\\square{}_{y}{}_{t}{}^{y}& = \\frac{1}{2}H\\\\[-.5ex]\n",
       "\\square{}_{x}{}_{t}{}^{x}& = \\frac{1}{2}H\\\\[-.5ex]\n",
       "\\square{}_{t}{}_{y}{}^{y}& = \\frac{1}{2}H\\\\[-.5ex]\n",
       "\\square{}_{t}{}_{x}{}^{x}& = \\frac{1}{2}H\\\\[-.5ex]\n",
       "\\square{}_{y}{}_{y}{}^{t}& = \\frac{1}{2}\\partial_{t}{a}\\\\[-.5ex]\n",
       "\\square{}_{x}{}_{x}{}^{t}& = \\frac{1}{2}\\partial_{t}{a}\\\\[-.5ex]\n",
       "\\end{aligned}\\right.\n",
       "\\right)+\\partial_{s}\\left(\\square{}_{m}{}_{n}{}^{s}\\left\\{\\begin{aligned}\\square{}_{y}{}_{t}{}^{y}& = \\frac{1}{2}H\\\\[-.5ex]\n",
       "\\square{}_{x}{}_{t}{}^{x}& = \\frac{1}{2}H\\\\[-.5ex]\n",
       "\\square{}_{t}{}_{y}{}^{y}& = \\frac{1}{2}H\\\\[-.5ex]\n",
       "\\square{}_{t}{}_{x}{}^{x}& = \\frac{1}{2}H\\\\[-.5ex]\n",
       "\\square{}_{y}{}_{y}{}^{t}& = \\frac{1}{2}\\partial_{t}{a}\\\\[-.5ex]\n",
       "\\square{}_{x}{}_{x}{}^{t}& = \\frac{1}{2}\\partial_{t}{a}\\\\[-.5ex]\n",
       "\\end{aligned}\\right.\n",
       "\\right)-\\square{}_{m}{}_{s}{}^{z}\\left\\{\\begin{aligned}\\square{}_{y}{}_{t}{}^{y}& = \\frac{1}{2}H\\\\[-.5ex]\n",
       "\\square{}_{x}{}_{t}{}^{x}& = \\frac{1}{2}H\\\\[-.5ex]\n",
       "\\square{}_{t}{}_{y}{}^{y}& = \\frac{1}{2}H\\\\[-.5ex]\n",
       "\\square{}_{t}{}_{x}{}^{x}& = \\frac{1}{2}H\\\\[-.5ex]\n",
       "\\square{}_{y}{}_{y}{}^{t}& = \\frac{1}{2}\\partial_{t}{a}\\\\[-.5ex]\n",
       "\\square{}_{x}{}_{x}{}^{t}& = \\frac{1}{2}\\partial_{t}{a}\\\\[-.5ex]\n",
       "\\end{aligned}\\right.\n",
       " \\square{}_{n}{}_{z}{}^{s}\\left\\{\\begin{aligned}\\square{}_{y}{}_{t}{}^{y}& = \\frac{1}{2}H\\\\[-.5ex]\n",
       "\\square{}_{x}{}_{t}{}^{x}& = \\frac{1}{2}H\\\\[-.5ex]\n",
       "\\square{}_{t}{}_{y}{}^{y}& = \\frac{1}{2}H\\\\[-.5ex]\n",
       "\\square{}_{t}{}_{x}{}^{x}& = \\frac{1}{2}H\\\\[-.5ex]\n",
       "\\square{}_{y}{}_{y}{}^{t}& = \\frac{1}{2}\\partial_{t}{a}\\\\[-.5ex]\n",
       "\\square{}_{x}{}_{x}{}^{t}& = \\frac{1}{2}\\partial_{t}{a}\\\\[-.5ex]\n",
       "\\end{aligned}\\right.\n",
       "+\\square{}_{m}{}_{n}{}^{z}\\left\\{\\begin{aligned}\\square{}_{y}{}_{t}{}^{y}& = \\frac{1}{2}H\\\\[-.5ex]\n",
       "\\square{}_{x}{}_{t}{}^{x}& = \\frac{1}{2}H\\\\[-.5ex]\n",
       "\\square{}_{t}{}_{y}{}^{y}& = \\frac{1}{2}H\\\\[-.5ex]\n",
       "\\square{}_{t}{}_{x}{}^{x}& = \\frac{1}{2}H\\\\[-.5ex]\n",
       "\\square{}_{y}{}_{y}{}^{t}& = \\frac{1}{2}\\partial_{t}{a}\\\\[-.5ex]\n",
       "\\square{}_{x}{}_{x}{}^{t}& = \\frac{1}{2}\\partial_{t}{a}\\\\[-.5ex]\n",
       "\\end{aligned}\\right.\n",
       " \\square{}_{s}{}_{z}{}^{s}\\left\\{\\begin{aligned}\\square{}_{y}{}_{t}{}^{y}& = \\frac{1}{2}H\\\\[-.5ex]\n",
       "\\square{}_{x}{}_{t}{}^{x}& = \\frac{1}{2}H\\\\[-.5ex]\n",
       "\\square{}_{t}{}_{y}{}^{y}& = \\frac{1}{2}H\\\\[-.5ex]\n",
       "\\square{}_{t}{}_{x}{}^{x}& = \\frac{1}{2}H\\\\[-.5ex]\n",
       "\\square{}_{y}{}_{y}{}^{t}& = \\frac{1}{2}\\partial_{t}{a}\\\\[-.5ex]\n",
       "\\square{}_{x}{}_{x}{}^{t}& = \\frac{1}{2}\\partial_{t}{a}\\\\[-.5ex]\n",
       "\\end{aligned}\\right.\n",
       "\\right) h^{m n}$"
      ]
     },
     "metadata": {},
     "output_type": "display_data"
    },
    {
     "data": {
      "text/markdown": [
       "${}{R_{3}} =  - \\frac{1}{2}{H}^{2}-\\partial_{t}{H}-\\partial_{t t}{a} {a}^{-1}$"
      ]
     },
     "metadata": {},
     "output_type": "display_data"
    }
   ],
   "source": [
    "RScallar := R3 = R^{s}_{m s n}h^{m n};\n",
    "substitute(RScallar, RtoG);\n",
    "substitute(RScallar, Chr);\n",
    "evaluate(RScallar, friedmann, rhsonly=True);"
   ]
  },
  {
   "cell_type": "code",
   "execution_count": 14,
   "metadata": {},
   "outputs": [
    {
     "data": {
      "text/markdown": [
       "${}{R_{3}} = -2a \\partial_{t t}{a} {a}^{-2}+\\frac{1}{2}{H}^{2}$"
      ]
     },
     "metadata": {},
     "output_type": "display_data"
    },
    {
     "data": {
      "text/markdown": [
       "${}{R_{3}} = -2a \\partial_{t t}{a} {a}^{-2}+\\frac{1}{2}{H}^{2}$"
      ]
     },
     "metadata": {},
     "output_type": "display_data"
    },
    {
     "data": {
      "text/markdown": [
       "${}{R_{3}} = -2{a}^{-1} \\partial_{t t}{a}+\\frac{1}{2}{H}^{2}$"
      ]
     },
     "metadata": {},
     "output_type": "display_data"
    }
   ],
   "source": [
    "distribute(RScallar);\n",
    "substitute(RScallar, $(\\partial_{t}{a}) ** (2) a**(-2) -> H**2$);\n",
    "collect_factors(RScallar);"
   ]
  },
  {
   "cell_type": "code",
   "execution_count": 10,
   "metadata": {},
   "outputs": [
    {
     "data": {
      "text/markdown": [
       "${}R = \\frac{1}{2}\\left(-4a \\partial_{t t}{a}+{\\left(\\partial_{t}{a}\\right)}^{2}\\right) {a}^{-2} - \\frac{1}{4}F_{a b} F_{c d} h^{a c} h^{b d} {\\phi}^{2}-2{\\phi}^{-1} h^{a b} \\partial_{a}{\\phi} \\partial_{b}{\\phi}$"
      ]
     },
     "metadata": {},
     "output_type": "display_data"
    }
   ],
   "source": [
    "ScalarCurvature = substitute(fr.ScalarCurvature, RScallar);"
   ]
  },
  {
   "cell_type": "code",
   "execution_count": 11,
   "metadata": {},
   "outputs": [
    {
     "data": {
      "text/markdown": [
       "${}R = \\frac{1}{4}\\left(\\left(\\left(\\left({F_{t x}}^{2}+{F_{t y}}^{2}+{F_{x t}}^{2}+{F_{y t}}^{2}\\right) a-{F_{t t}}^{2} {a}^{2}-{F_{x x}}^{2}-{F_{x y}}^{2}-{F_{y x}}^{2}-{F_{y y}}^{2}\\right) {\\phi}^{2}-8a \\partial_{t t}{a}+2{\\left(\\partial_{t}{a}\\right)}^{2}\\right) \\phi+8\\left(-a {\\left(\\partial_{t}{\\phi}\\right)}^{2}+{\\left(\\partial_{x}{\\phi}\\right)}^{2}+{\\left(\\partial_{y}{\\phi}\\right)}^{2}\\right) a\\right) {\\left({a}^{2} \\phi\\right)}^{-1}$"
      ]
     },
     "metadata": {},
     "output_type": "display_data"
    }
   ],
   "source": [
    "evaluate(ScalarCurvature, friedmann, rhsonly=True);"
   ]
  },
  {
   "cell_type": "code",
   "execution_count": 12,
   "metadata": {},
   "outputs": [
    {
     "data": {
      "text/markdown": [
       "${}h^{a b} \\left(\\partial_{a b}{\\pi}-\\Gamma^{y}\\,_{a b} \\partial_{y}{\\pi}\\right)$"
      ]
     },
     "metadata": {},
     "output_type": "display_data"
    }
   ],
   "source": [
    "box3D = man.get_rhs(fr.box3D);"
   ]
  },
  {
   "cell_type": "code",
   "execution_count": 13,
   "metadata": {},
   "outputs": [
    {
     "data": {
      "text/markdown": [
       "${}h^{a b} \\left(\\partial_{a b}{\\pi}-\\square{}_{a}{}_{b}{}^{y}\\left\\{\\begin{aligned}\\square{}_{y}{}_{t}{}^{y}& = \\frac{1}{2}H\\\\[-.5ex]\n",
       "\\square{}_{x}{}_{t}{}^{x}& = \\frac{1}{2}H\\\\[-.5ex]\n",
       "\\square{}_{t}{}_{y}{}^{y}& = \\frac{1}{2}H\\\\[-.5ex]\n",
       "\\square{}_{t}{}_{x}{}^{x}& = \\frac{1}{2}H\\\\[-.5ex]\n",
       "\\square{}_{y}{}_{y}{}^{t}& = \\frac{1}{2}\\partial_{t}{a}\\\\[-.5ex]\n",
       "\\square{}_{x}{}_{x}{}^{t}& = \\frac{1}{2}\\partial_{t}{a}\\\\[-.5ex]\n",
       "\\end{aligned}\\right.\n",
       " \\partial_{y}{\\pi}\\right)$"
      ]
     },
     "metadata": {},
     "output_type": "display_data"
    }
   ],
   "source": [
    "substitute(box3D, Chr);"
   ]
  },
  {
   "cell_type": "code",
   "execution_count": null,
   "metadata": {},
   "outputs": [],
   "source": [
    "evaluate(box3D, friedmann);"
   ]
  },
  {
   "cell_type": "code",
   "execution_count": null,
   "metadata": {},
   "outputs": [],
   "source": [
    "distribute(box4D);"
   ]
  },
  {
   "cell_type": "code",
   "execution_count": null,
   "metadata": {},
   "outputs": [],
   "source": [
    "canonicalise(box4D);"
   ]
  },
  {
   "cell_type": "code",
   "execution_count": null,
   "metadata": {},
   "outputs": [],
   "source": [
    "#substitute(an.AEq, ElFieldInv);"
   ]
  },
  {
   "cell_type": "code",
   "execution_count": null,
   "metadata": {},
   "outputs": [],
   "source": [
    "evaluate(an.AEq, friedmann);"
   ]
  },
  {
   "cell_type": "code",
   "execution_count": null,
   "metadata": {},
   "outputs": [],
   "source": [
    "factor_out(an.AEq, $8(F^{t t}\\patrial_{t}{p} + F^{t x}\\partial_{x}{p} + F^{t y}\\partial_{y}{p})$);"
   ]
  },
  {
   "cell_type": "code",
   "execution_count": null,
   "metadata": {},
   "outputs": [],
   "source": [
    "an.writing(an.AEq)"
   ]
  },
  {
   "cell_type": "code",
   "execution_count": null,
   "metadata": {},
   "outputs": [],
   "source": [
    "substitute(an.piEq1, Chr);"
   ]
  },
  {
   "cell_type": "code",
   "execution_count": null,
   "metadata": {},
   "outputs": [],
   "source": [
    "evaluate(an.piEq1,friedmann);"
   ]
  },
  {
   "cell_type": "code",
   "execution_count": null,
   "metadata": {},
   "outputs": [],
   "source": [
    "substitute(an.piEq2, Chr);"
   ]
  },
  {
   "cell_type": "code",
   "execution_count": null,
   "metadata": {},
   "outputs": [],
   "source": [
    "evaluate(an.piEq2, friedmann);"
   ]
  },
  {
   "cell_type": "code",
   "execution_count": null,
   "metadata": {},
   "outputs": [],
   "source": [
    "an.tidy(an.piEq2);"
   ]
  },
  {
   "cell_type": "code",
   "execution_count": null,
   "metadata": {},
   "outputs": [],
   "source": []
  }
 ],
 "metadata": {
  "kernelspec": {
   "display_name": "Python 3",
   "language": "python",
   "name": "python3"
  },
  "language_info": {
   "codemirror_mode": {
    "name": "ipython",
    "version": 3
   },
   "file_extension": ".py",
   "mimetype": "text/x-python",
   "name": "python",
   "nbconvert_exporter": "python",
   "pygments_lexer": "ipython3",
   "version": "3.6.9"
  }
 },
 "nbformat": 4,
 "nbformat_minor": 4
}
