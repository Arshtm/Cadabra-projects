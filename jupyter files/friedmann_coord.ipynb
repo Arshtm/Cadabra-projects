{
 "cells": [
  {
   "cell_type": "markdown",
   "metadata": {},
   "source": [
    "Здесь я подставляю изотропный фон в полученные ранее уравнения движения из файлов varying и friedmann_analitic."
   ]
  },
  {
   "cell_type": "code",
   "execution_count": 1,
   "metadata": {},
   "outputs": [],
   "source": [
    "import sympy\n",
    "import cdb.core.manip as man\n",
    "import functions as fun\n",
    "import friedmann_analitic as fr\n",
    "import varying as var\n",
    "kernel(call_embedded_python_functions=True)"
   ]
  },
  {
   "cell_type": "code",
   "execution_count": 2,
   "metadata": {},
   "outputs": [],
   "source": [
    "{a,b,c,d,e,f,g,h,i,j,k,l,m,n,o,q,r,s,u,v,w,z#}::Indices(full,values={t,x,y}, position=independent).\n",
    "{t, x, y}::Coordinate.\n",
    "\\partial{#}::PartialDerivative.\n",
    "\\nabla{#}::Derivative.\n",
    "{\\nabla{#},\\partial{#}}::Commuting."
   ]
  },
  {
   "cell_type": "code",
   "execution_count": 3,
   "metadata": {},
   "outputs": [],
   "source": [
    "h_{m? n?}::Metric.\n",
    "h^{m? n?}::InverseMetric.\n",
    "h_{m? n?}::Symmetric.\n",
    "h^{m? n?}::Symmetric.\n",
    "h::Determinant(h_{m n}).\n",
    "\\delta^{m?}_{n?}::KroneckerDelta.\n",
    "\\delta_{m?}^{n?}::KroneckerDelta.\n",
    "F_{m? n?}::AntiSymmetric.\n",
    "G3_{m? n?}::Symmetric.\n",
    "delh_{m n}::Symmetric.\n",
    "delh^{m n}::Symmetric.\n",
    "\\Gamma^{m}_{n q}::TableauSymmetry(shape={2}, indices={1,2})."
   ]
  },
  {
   "cell_type": "markdown",
   "metadata": {},
   "source": [
    "Вот тут прописано, что все переменные зависят только от времени"
   ]
  },
  {
   "cell_type": "code",
   "execution_count": 4,
   "metadata": {},
   "outputs": [],
   "source": [
    "p::Depends(t).\n",
    "X::Depends(t).\n",
    "\\phi::Depends(t).\n",
    "A_{m?}::Depends(t).\n",
    "h_{m n}::Depends(t).\n",
    "h^{m n}::Depends(t).\n",
    "G4::Depends(t).\n",
    "G4p::Depends(t).\n",
    "G4X::Depends(t).\n",
    "G4XX::Depends(t).\n",
    "K::Depends(t).\n",
    "Kp::Depends(t).\n",
    "KX::Depends(t).\n",
    "N::Depends(t).\n",
    "Np::Depends(t).\n",
    "NX::Depends(t).\n",
    "F_{m n}::Depends(t).\n",
    "F^{m n}::Depends(t).\n",
    "{a, H}::Depends(t)."
   ]
  },
  {
   "cell_type": "code",
   "execution_count": 5,
   "metadata": {},
   "outputs": [],
   "source": [
    "p::LaTeXForm(\"\\pi\").\n",
    "G4p::LaTeXForm(\"G_{4\\pi}\").\n",
    "G4X::LaTeXForm(\"G_{4X}\").\n",
    "G4XX::LaTeXForm(\"G_{4XX}\").\n",
    "G4Xp::LaTeXForm(\"G_{4\\pi X}\").\n",
    "Kp::LaTeXForm(\"K_{\\pi}\").\n",
    "KX::LaTeXForm(\"K_{X}\").\n",
    "N::LaTeXForm(\"F\").\n",
    "Np::LaTeXForm(\"F_{\\pi}\").\n",
    "NX::LaTeXForm(\"F_{X}\").\n",
    "pi2::LaTeXForm(\"\\pi^{m n}\\pi_{m n}\").\t\n",
    "boxpi4::LaTeXForm(\"\\Box^{(4)}{\\pi}\").\n",
    "delboxpi4::LaTeXForm(\"\\delta\\Box^{(4)}{\\pi}\").\n",
    "pi24::LaTeXForm(\"\\pi^{\\mu \\nu}\\pi_{\\mu \\nu}\").\n",
    "mathcalG{#}::LaTeXForm(\"\\mathcal{G}\").\n",
    "mathcalP{#}::LaTeXForm(\"\\mathcal{P}\").\n",
    "mathcalA{#}::LaTeXForm(\"\\mathcal{A}\").\n",
    "mathcalphi{#}::LaTeXForm(\"\\Phi\").\n",
    "\\partial_{t}{A??}::LaTeXForm(\"\\dot{\",A??,\"}\").\n",
    "\\partial_{t t}{A??}::LaTeXForm(\"\\ddot{\",A??,\"}\").\n",
    "\\partial_{t t t}{A??}::LaTeXForm(\"\\dddot{\",A??,\"}\")."
   ]
  },
  {
   "cell_type": "markdown",
   "metadata": {},
   "source": [
    "Всякие метрики, тензоры Римана, Риччи и символы Кристоффеля"
   ]
  },
  {
   "cell_type": "code",
   "execution_count": 6,
   "metadata": {},
   "outputs": [
    {
     "data": {
      "text/markdown": [
       "${}R^{s}\\,_{m n r} = -\\partial_{r}{\\Gamma^{s}\\,_{m n}}+\\partial_{n}{\\Gamma^{s}\\,_{m r}}-\\Gamma^{z}\\,_{m n} \\Gamma^{s}\\,_{r z}+\\Gamma^{z}\\,_{m r} \\Gamma^{s}\\,_{n z}$"
      ]
     },
     "metadata": {},
     "output_type": "display_data"
    },
    {
     "data": {
      "text/markdown": [
       "${}\\Gamma^{l}\\,_{m n} = \\frac{1}{2}h^{l k} \\left(\\partial_{n}{h_{k m}}+\\partial_{m}{h_{k n}}-\\partial_{k}{h_{m n}}\\right)$"
      ]
     },
     "metadata": {},
     "output_type": "display_data"
    },
    {
     "data": {
      "text/markdown": [
       "${}\\left[h_{t t} = 1, h_{x x} = -a, h_{y y} = -a, h^{t t} = 1, h^{x x} = -{a}^{-1}, h^{y y} = -{a}^{-1}\\right]$"
      ]
     },
     "metadata": {},
     "output_type": "display_data"
    },
    {
     "data": {
      "text/markdown": [
       "${}\\left[h_{t t} = 1, h_{x x} = -a, h_{y y} = -a, h^{t t} = 1, h^{x x} = -{a}^{-1}, h^{y y} = -{a}^{-1}, h = {a}^{2}\\right]$"
      ]
     },
     "metadata": {},
     "output_type": "display_data"
    }
   ],
   "source": [
    "RtoG:= R^{s}_{m n r} =\n",
    " - \\partial_{r}{ \\Gamma^{s}_{m n} }\n",
    " + \\partial_{n}{ \\Gamma^{s}_{m r} }\n",
    " - \\Gamma^{z}_{m n} \\Gamma^{s}_{r z}\n",
    " + \\Gamma^{z}_{m r} \\Gamma^{s}_{n z};\n",
    "Gtog:= \\Gamma^{l}_{m n} =\n",
    "  (1/2) * h^{l k} ( \n",
    "        \\partial_{n}{ h_{k m} } + \\partial_{m}{ h_{k n} } - \\partial_{k}{ h_{m n} } );\n",
    "friedmann:= { h_{t t} = 1,   \n",
    "       h_{x x} = -a, \n",
    "       h_{y y} = -a,\n",
    "     }.\n",
    "complete(friedmann, $h^{m n}$);\n",
    "complete(friedmann, $h$);"
   ]
  },
  {
   "cell_type": "code",
   "execution_count": 7,
   "metadata": {},
   "outputs": [
    {
     "data": {
      "text/markdown": [
       "${}R_{a b} = R^{m}\\,_{a m b}$"
      ]
     },
     "metadata": {},
     "output_type": "display_data"
    },
    {
     "data": {
      "text/markdown": [
       "${}R_{a b} = \\square{}_{a}{}_{b}\\left\\{\\begin{aligned}\\square{}_{t}{}_{t}& = \\left(-a \\ddot{a}+\\frac{1}{2}{\\left(\\dot{a}\\right)}^{2}\\right) {a}^{-2}\\\\[-.5ex]\n",
       "\\square{}_{x}{}_{x}& = \\frac{1}{2}\\ddot{a}\\\\[-.5ex]\n",
       "\\square{}_{y}{}_{y}& = \\frac{1}{2}\\ddot{a}\\\\[-.5ex]\n",
       "\\end{aligned}\\right.\n",
       "$"
      ]
     },
     "metadata": {},
     "output_type": "display_data"
    }
   ],
   "source": [
    "Ricci := R_{a b} = R^{m}_{a m b};\n",
    "substitute(Ricci, RtoG)\n",
    "substitute(Ricci,Gtog)\n",
    "evaluate(Ricci, friedmann, rhsonly=True);"
   ]
  },
  {
   "cell_type": "code",
   "execution_count": 8,
   "metadata": {},
   "outputs": [
    {
     "data": {
      "text/markdown": [
       "${}\\Gamma^{l}\\,_{m n} = \\frac{1}{2}h^{l k} \\left(\\partial_{n}{h_{k m}}+\\partial_{m}{h_{k n}}-\\partial_{k}{h_{m n}}\\right)$"
      ]
     },
     "metadata": {},
     "output_type": "display_data"
    },
    {
     "data": {
      "text/markdown": [
       "${}\\Gamma^{l}\\,_{m n} = \\square{}_{m}{}_{n}{}^{l}\\left\\{\\begin{aligned}\\square{}_{y}{}_{t}{}^{y}& = \\frac{1}{2}\\dot{a} {a}^{-1}\\\\[-.5ex]\n",
       "\\square{}_{x}{}_{t}{}^{x}& = \\frac{1}{2}\\dot{a} {a}^{-1}\\\\[-.5ex]\n",
       "\\square{}_{t}{}_{y}{}^{y}& = \\frac{1}{2}\\dot{a} {a}^{-1}\\\\[-.5ex]\n",
       "\\square{}_{t}{}_{x}{}^{x}& = \\frac{1}{2}\\dot{a} {a}^{-1}\\\\[-.5ex]\n",
       "\\square{}_{y}{}_{y}{}^{t}& = \\frac{1}{2}\\dot{a}\\\\[-.5ex]\n",
       "\\square{}_{x}{}_{x}{}^{t}& = \\frac{1}{2}\\dot{a}\\\\[-.5ex]\n",
       "\\end{aligned}\\right.\n",
       "$"
      ]
     },
     "metadata": {},
     "output_type": "display_data"
    }
   ],
   "source": [
    "Chr:= @[Gtog];\n",
    "evaluate(Chr, friedmann, rhsonly=True);\n",
    "#substitute(Chr, $\\partial_{t}{a} a**(-1) -> H$);"
   ]
  },
  {
   "cell_type": "code",
   "execution_count": 9,
   "metadata": {},
   "outputs": [
    {
     "data": {
      "text/markdown": [
       "${}{R_{3}} = R^{s}\\,_{m s n} h^{m n}$"
      ]
     },
     "metadata": {},
     "output_type": "display_data"
    },
    {
     "data": {
      "text/markdown": [
       "${}{R_{3}} = \\frac{1}{2}\\left(-4a \\ddot{a}+{\\left(\\dot{a}\\right)}^{2}\\right) {a}^{-2}$"
      ]
     },
     "metadata": {},
     "output_type": "display_data"
    }
   ],
   "source": [
    "RScallar := R3 = R^{s}_{m s n}h^{m n};\n",
    "substitute(RScallar, RtoG)\n",
    "substitute(RScallar, Chr)\n",
    "evaluate(RScallar, friedmann, rhsonly=True);"
   ]
  },
  {
   "cell_type": "markdown",
   "metadata": {},
   "source": [
    "А тут уже считается скалярная кривизна 4-мерная"
   ]
  },
  {
   "cell_type": "code",
   "execution_count": 10,
   "metadata": {},
   "outputs": [
    {
     "data": {
      "text/markdown": [
       "${}R = \\left(\\frac{1}{2}{F_{t x}}^{2}+\\frac{1}{2}{F_{t y}}^{2}\\right) {\\phi}^{2} {a}^{-1} - \\frac{1}{2}{F_{y x}}^{2} {\\phi}^{2} {a}^{-2}-2{\\left(\\dot{\\phi}\\right)}^{2} {\\phi}^{-1}-2\\ddot{a} {a}^{-1}+\\frac{1}{2}{\\left(\\dot{a}\\right)}^{2} {a}^{-2}$"
      ]
     },
     "metadata": {},
     "output_type": "display_data"
    }
   ],
   "source": [
    "ScalarCurvature = substitute(fr.ScalarCurvature, RScallar)\n",
    "evaluate(ScalarCurvature, friedmann, rhsonly=True)\n",
    "substitute(ScalarCurvature, $F_{x x}-> 0, F_{y y} -> 0, F_{t t} -> 0, F_{x t} ** 2 -> F_{t x} ** 2, F_{y t} ** 2 -> F_{t y} ** 2, F_{x y} ** 2 -> F_{y x} ** 2$)\n",
    "distribute(ScalarCurvature)\n",
    "expand_power(ScalarCurvature)\n",
    "sort_product(ScalarCurvature)\n",
    "collect_factors(ScalarCurvature)\n",
    "ch = ScalarCurvature.top().children()\n",
    "ch.__next__()\n",
    "ch.__next__()\n",
    "ch.replace(map_sympy(ch.ex(), 'powsimp'))\n",
    "factor_in(ScalarCurvature, $(F_{t x})**2, (F_{t y})**2, (F_{y x})**2 * a**(-1)$);\n",
    "#map_sympy(ScalarCurvature,'powsimp');\n",
    "#substitute(_, $\\phi**3 (\\phi a**2)**(-1) a -> a*\\phi**2,\\phi*(\\phi*a**2)**(-1) * a**2 -> 1, \\phi*(\\phi*a**2)**(-1) * a -> a**(-1), (\\phi*a**2)**(-1) * a**2 -> \\phi **(-1) ,\\phi**3 (\\phi a**2)**(-1) -> \\phi**2$, repeat=True);"
   ]
  },
  {
   "cell_type": "markdown",
   "metadata": {},
   "source": [
    "Четырехмерный оператор д'Аламбера и квадрат второй производной"
   ]
  },
  {
   "cell_type": "code",
   "execution_count": 11,
   "metadata": {},
   "outputs": [
    {
     "data": {
      "text/markdown": [
       "${}\\Box^{(4)}{\\pi} = \\ddot{\\pi}+\\dot{\\pi} \\dot{\\phi} {\\phi}^{-1}+\\dot{a} \\dot{\\pi} {a}^{-1}$"
      ]
     },
     "metadata": {},
     "output_type": "display_data"
    },
    {
     "data": {
      "text/markdown": [
       "${}{\\Box^{(4)}{\\pi}}^{2} = \\left(\\ddot{\\pi}+\\dot{\\pi} \\dot{\\phi} {\\phi}^{-1}+\\dot{a} \\dot{\\pi} {a}^{-1}\\right) \\left(\\ddot{\\pi}+\\dot{\\pi} \\dot{\\phi} {\\phi}^{-1}+\\dot{a} \\dot{\\pi} {a}^{-1}\\right)$"
      ]
     },
     "metadata": {},
     "output_type": "display_data"
    }
   ],
   "source": [
    "box4D = (fr.box4D)\n",
    "substitute(box4D, Chr)\n",
    "evaluate(box4D, friedmann);\n",
    "#substitute(box4D, $\\partial_{t}{a} a**(-1) -> H$);\n",
    "rhs = man.get_rhs(box4D)\n",
    "box4D2 := boxpi4 **2 =  @[rhs] * @[rhs];"
   ]
  },
  {
   "cell_type": "code",
   "execution_count": 12,
   "metadata": {},
   "outputs": [
    {
     "data": {
      "text/markdown": [
       "${}\\pi^{\\mu \\nu}\\pi_{\\mu \\nu} = \\left( - \\frac{1}{2}{F_{x t}}^{2} - \\frac{1}{2}{F_{y t}}^{2}\\right) {\\phi}^{2} {\\left(\\dot{\\pi}\\right)}^{2} {a}^{-1}+{\\left(\\ddot{\\pi}\\right)}^{2}+{\\left(\\dot{\\pi}\\right)}^{2} {\\left(\\dot{\\phi}\\right)}^{2} {\\phi}^{-2}+\\frac{1}{2}{\\left(\\dot{a}\\right)}^{2} {\\left(\\dot{\\pi}\\right)}^{2} {a}^{-2}$"
      ]
     },
     "metadata": {},
     "output_type": "display_data"
    }
   ],
   "source": [
    "sq4D = substitute(fr.sq4D, Chr)\n",
    "evaluate(sq4D, friedmann, rhsonly=True)\n",
    "substitute(sq4D, $F_{x x}-> 0, F_{y y} -> 0, F_{t t} -> 0$)\n",
    "distribute(sq4D)\n",
    "collect_factors(sq4D)\n",
    "sort_product(sq4D)\n",
    "ch = sq4D.top().children()\n",
    "ch.__next__()\n",
    "ch.__next__()\n",
    "ch.replace(map_sympy(ch.ex(), 'powsimp'))\n",
    "#substitute(_, $\\phi **4 (\\phi ** 2 a**2)**(-1) a -> \\phi ** 2 a **(-1), \\phi **2 (\\phi ** 2 a**2)**(-1) a ** 2 -> 1, \\phi **2 (\\phi ** 2 a**2)**(-1)-> a ** (-2),  (\\phi ** 2 a**2)**(-1) a ** 2 -> \\phi ** (-2)$, repeat=True)\n",
    "factor_in(sq4D, $(F_{x t})**2, (F_{y t})**2$);"
   ]
  },
  {
   "cell_type": "markdown",
   "metadata": {},
   "source": [
    "Здесь и далее $\\mathcal{G}$ - уравнение Эйнштейна, полученное из действия с соответствующим номером, $\\mathcal{P}$ - уравнение движения для поля $\\pi$, $\\Phi$ - уравнение движения для поля $\\phi$, $\\mathcal{A}$ - уравнения движения для эл.магнитного поля."
   ]
  },
  {
   "cell_type": "code",
   "execution_count": 13,
   "metadata": {},
   "outputs": [
    {
     "data": {
      "text/markdown": [
       "${}\\mathcal{G}^{2}\\,_{a b} = \\square{}_{a}{}_{b}\\left\\{\\begin{aligned}\\square{}_{t}{}_{t}& =  - \\frac{1}{2}F_{X} {\\left(\\dot{\\pi}\\right)}^{2} - \\frac{1}{2}F\\\\[-.5ex]\n",
       "\\square{}_{x}{}_{x}& = \\frac{1}{2}a F\\\\[-.5ex]\n",
       "\\square{}_{y}{}_{y}& = \\frac{1}{2}a F\\\\[-.5ex]\n",
       "\\end{aligned}\\right.\n",
       "$"
      ]
     },
     "metadata": {},
     "output_type": "display_data"
    }
   ],
   "source": [
    "G2 = evaluate(fr.G2, friedmann, rhsonly=True);"
   ]
  },
  {
   "cell_type": "code",
   "execution_count": 14,
   "metadata": {},
   "outputs": [
    {
     "data": {
      "text/markdown": [
       "${}\\mathcal{P}^{2} = F_{X} \\ddot{\\pi}+F_{X} \\dot{a} \\dot{\\pi} {a}^{-1}+F_{\\pi}+\\dot{F_{X}} \\dot{\\pi}$"
      ]
     },
     "metadata": {},
     "output_type": "display_data"
    }
   ],
   "source": [
    "P2 = substitute(fr.P2,Chr)\n",
    "evaluate(P2, friedmann, rhsonly=True);\n",
    "#substitute(P2, $\\partial_{t}{a} a**(-1) -> H$);"
   ]
  },
  {
   "cell_type": "code",
   "execution_count": 15,
   "metadata": {},
   "outputs": [
    {
     "data": {
      "text/markdown": [
       "${}\\mathcal{G}^{3}\\,_{a b} = \\square{}_{a}{}_{b}\\left\\{\\begin{aligned}\\square{}_{t}{}_{t}& = \\frac{1}{2}\\left(\\left(K_{X} \\dot{\\pi} \\ddot{\\pi}+\\dot{K}\\right) a \\phi+\\left(-K+K_{X} {\\left(\\dot{\\pi}\\right)}^{2}\\right) a \\dot{\\phi}+K_{X} \\phi \\dot{a} {\\left(\\dot{\\pi}\\right)}^{2}\\right) \\dot{\\pi} {\\left(a \\phi\\right)}^{-1}\\\\[-.5ex]\n",
       "\\square{}_{x}{}_{x}& = \\frac{1}{2}\\left(-K \\dot{\\phi}+\\phi \\dot{K}\\right) a \\dot{\\pi} {\\phi}^{-1}\\\\[-.5ex]\n",
       "\\square{}_{y}{}_{y}& = \\frac{1}{2}\\left(-K \\dot{\\phi}+\\phi \\dot{K}\\right) a \\dot{\\pi} {\\phi}^{-1}\\\\[-.5ex]\n",
       "\\end{aligned}\\right.\n",
       "$"
      ]
     },
     "metadata": {},
     "output_type": "display_data"
    }
   ],
   "source": [
    "G3 = substitute(fr.G3, Chr)\n",
    "evaluate(G3, friedmann, rhsonly=True)\n",
    "distribute(G3)\n",
    "collect_factors(_)\n",
    "sort_product(_)\n",
    "map_sympy(G3, 'simplify');\n",
    "#substitute(G3, $\\phi * (\\phi * a)**(-1) * a -> 1, \\partial_{t}{a} \\phi * (\\phi * a)**(-1) -> H, (\\phi * a)**(-1) a -> \\phi **(-1)$);"
   ]
  },
  {
   "cell_type": "code",
   "execution_count": 16,
   "metadata": {},
   "outputs": [
    {
     "data": {
      "text/markdown": [
       "${}\\mathcal{P}^{3} = \\left(-\\left(K_{\\pi} \\ddot{\\pi}+\\ddot{K}\\right) a {\\phi}^{2}+\\left(\\dot{K}-\\dot{K_{X}} {\\left(\\dot{\\pi}\\right)}^{2}\\right) a \\phi \\dot{\\phi}-\\left(\\dot{K}+\\dot{K_{X}} {\\left(\\dot{\\pi}\\right)}^{2}\\right) {\\phi}^{2} \\dot{a}+\\left(a \\phi \\ddot{\\phi}-a {\\left(\\dot{\\phi}\\right)}^{2}+\\phi \\dot{a} \\dot{\\phi}\\right) K-\\left(\\left(a \\phi \\dddot{\\pi}+2a \\dot{\\phi} \\ddot{\\pi}+3\\phi \\dot{a} \\ddot{\\pi}\\right) K_{X}+K_{\\pi} a \\dot{\\phi}+K_{\\pi} \\phi \\dot{a}+a \\phi \\dot{K_{X}} \\ddot{\\pi}\\right) \\phi \\dot{\\pi}-\\left(a {\\phi}^{2} {\\left(\\ddot{\\pi}\\right)}^{2}+a \\phi {\\left(\\dot{\\pi}\\right)}^{2} \\ddot{\\phi}-a {\\left(\\dot{\\pi}\\right)}^{2} {\\left(\\dot{\\phi}\\right)}^{2}+{\\phi}^{2} {\\left(\\dot{\\pi}\\right)}^{2} \\ddot{a}+\\phi \\dot{a} {\\left(\\dot{\\pi}\\right)}^{2} \\dot{\\phi}\\right) K_{X}\\right) {\\left(a {\\phi}^{2}\\right)}^{-1}$"
      ]
     },
     "metadata": {},
     "output_type": "display_data"
    }
   ],
   "source": [
    "P3 = substitute(fr.P3, Chr)\n",
    "evaluate(P3, friedmann, rhsonly=True)\n",
    "distribute(P3)\n",
    "collect_factors(P3)\n",
    "sort_product(P3)\n",
    "substitute(P3, $\\phi  * (\\phi **(2) a**(2))**(-1) * a**(2) -> \\phi ** (-1),(a**2 \\phi **2)**(-1) * a**2 -> \\phi ** (-2),\\phi (\\phi **2 a**2)**(-1) * a -> (\\phi a) ** (-1),(\\phi **(2) a**(2))**(-1) * a**(2) -> \\phi ** (-2), \\phi**2  * (\\phi **(2) a**(2))**(-1) * a**(2) -> 1,\\phi**2  * (\\phi **(2) a**(2))**(-1) * a -> a ** (-1),\\phi**2  * (\\phi **(2) a**(2))**(-1)  -> a ** (-2)$, repeat=True)\n",
    "#substitute(P3, $\\partial_{t}{a} * a**(-1) -> H, (\\partial_{t}{a})**2 * a**(-2) -> H**2, \\partial_{t}{a} * (\\phi a)**(-1) -> H \\phi**(-1) $)\n",
    "factor_out(P3, $K, KX, \\partial_{t}{p}$)\n",
    "sort_product(P3)\n",
    "collect_factors(P3)\n",
    "map_sympy(P3,'powsimp')\n",
    "#substitute(P3, $\\phi**2  * (\\phi **(2) a)**(-1) * a -> 1,\\phi  * (\\phi **(2) a)**(-1) * a -> \\phi**{-1}, (\\phi **(2) a)**(-1) * a -> \\phi**{-2}, \\phi**2 * (\\phi **2 a)**(-1) ->  a ** (-1)$,repeat=True);\n",
    "map_sympy(P3, 'simplify');"
   ]
  },
  {
   "cell_type": "code",
   "execution_count": 17,
   "metadata": {},
   "outputs": [
    {
     "data": {
      "text/markdown": [
       "${}\\Phi^{3} = \\left(\\left(K \\ddot{\\pi}+\\dot{K} \\dot{\\pi}\\right) a+K \\dot{a} \\dot{\\pi}\\right) {\\left(a \\phi\\right)}^{-1}$"
      ]
     },
     "metadata": {},
     "output_type": "display_data"
    }
   ],
   "source": [
    "phi3 = substitute(fr.phi3, Chr)\n",
    "evaluate(phi3, friedmann, rhsonly=True)\n",
    "distribute(phi3)\n",
    "sort_product(phi3)\n",
    "collect_factors(phi3)\n",
    "map_sympy(phi3, 'simplify');"
   ]
  },
  {
   "cell_type": "code",
   "execution_count": 18,
   "metadata": {},
   "outputs": [
    {
     "data": {
      "text/markdown": [
       "${}\\mathcal{G}^{4}\\,_{a b} = \\square{}_{a}{}_{b}\\left\\{\\begin{aligned}\\square{}_{t}{}_{t}& = \\frac{1}{4}\\left(2\\left(2G_{4X}+G_{4XX} {\\left(\\dot{\\pi}\\right)}^{2}\\right) {a}^{2} {\\left(\\dot{\\pi}\\right)}^{2} {\\left(\\dot{\\phi}\\right)}^{2}+2G_{4XX} {\\left(\\dot{\\pi}\\right)}^{2} {\\left(\\ddot{\\pi}\\right)}^{2} {a}^{2} {\\phi}^{2}-2{\\left(a \\phi \\ddot{\\pi}+a \\dot{\\pi} \\dot{\\phi}+\\phi \\dot{a} \\dot{\\pi}\\right)}^{2} G_{4XX} {\\left(\\dot{\\pi}\\right)}^{2}-\\left(\\left(\\left({F_{t x}}^{2}+{F_{t y}}^{2}\\right) a-{F_{y x}}^{2}\\right) {\\phi}^{3}-4{a}^{2} {\\left(\\dot{\\phi}\\right)}^{2}-4a \\phi \\ddot{a}+\\phi {\\left(\\dot{a}\\right)}^{2}\\right) G_{4X} \\phi {\\left(\\dot{\\pi}\\right)}^{2}+4\\left(-{G_{4}} {\\left(\\dot{\\phi}\\right)}^{2}-G_{4X} {\\left(\\dot{\\pi}\\right)}^{2} \\ddot{\\phi}+G_{4X} \\dot{\\pi} \\dot{\\phi} \\ddot{\\pi}-\\dot{G_{4X}} {\\left(\\dot{\\pi}\\right)}^{2} \\dot{\\phi}\\right) {a}^{2} \\phi+\\left({F_{y x}}^{2} {G_{4}} {\\phi}^{2}+{G_{4}} {\\left(\\dot{a}\\right)}^{2}+3G_{4X} {\\left(\\dot{a}\\right)}^{2} {\\left(\\dot{\\pi}\\right)}^{2}+G_{4XX} {\\left(\\dot{a}\\right)}^{2} {\\left(\\dot{\\pi}\\right)}^{4}\\right) {\\phi}^{2}+\\left({F_{t x}}^{2} {G_{4}} {\\phi}^{2}-4F_{t x} F_{x t} G_{4X} {\\phi}^{2} {\\left(\\dot{\\pi}\\right)}^{2}+{F_{t y}}^{2} {G_{4}} {\\phi}^{2}-4F_{t y} F_{y t} G_{4X} {\\phi}^{2} {\\left(\\dot{\\pi}\\right)}^{2}-{F_{x t}}^{2} G_{4X} {\\phi}^{2} {\\left(\\dot{\\pi}\\right)}^{2}-{F_{x t}}^{2} G_{4XX} {\\phi}^{2} {\\left(\\dot{\\pi}\\right)}^{4}-{F_{y t}}^{2} G_{4X} {\\phi}^{2} {\\left(\\dot{\\pi}\\right)}^{2}-{F_{y t}}^{2} G_{4XX} {\\phi}^{2} {\\left(\\dot{\\pi}\\right)}^{4}+4G_{4X} \\dot{a} \\dot{\\pi} \\ddot{\\pi}-4G_{4X} {\\left(\\dot{\\pi}\\right)}^{2} \\ddot{a}+4\\dot{{G_{4}}} \\dot{a}-4\\dot{G_{4X}} \\dot{a} {\\left(\\dot{\\pi}\\right)}^{2}\\right) a {\\phi}^{2}+8G_{4X} a \\phi \\dot{a} {\\left(\\dot{\\pi}\\right)}^{2} \\dot{\\phi}\\right) {\\left({a}^{2} {\\phi}^{2}\\right)}^{-1}\\\\[-.5ex]\n",
       "\\square{}_{x}{}_{x}& = \\frac{1}{4}\\left(\\left(2{F_{x y}}^{2} {G_{4}} {\\phi}^{2}+G_{4X} {\\left(\\dot{a}\\right)}^{2} {\\left(\\dot{\\pi}\\right)}^{2}\\right) {\\phi}^{2}-4\\left(G_{4X} \\dot{\\pi} \\ddot{\\phi}+G_{4X} \\dot{\\phi} \\ddot{\\pi}+\\dot{G_{4X}} \\dot{\\pi} \\dot{\\phi}\\right) {a}^{2} \\phi \\dot{\\pi}+\\left(\\left(\\left({F_{t x}}^{2}+{F_{t y}}^{2}\\right) a-{F_{y x}}^{2}\\right) {\\phi}^{3}-4{a}^{2} {\\left(\\dot{\\phi}\\right)}^{2}-4a \\phi \\ddot{a}+\\phi {\\left(\\dot{a}\\right)}^{2}\\right) {G_{4}} \\phi-\\left(2{F_{x t}}^{2} {G_{4}} {\\phi}^{2}+{F_{x t}}^{2} G_{4X} {\\phi}^{2} {\\left(\\dot{\\pi}\\right)}^{2}-{F_{y t}}^{2} G_{4X} {\\phi}^{2} {\\left(\\dot{\\pi}\\right)}^{2}-2{G_{4}} \\ddot{a}+4G_{4X} a \\dot{\\pi} \\dddot{\\pi}+4G_{4X} a {\\left(\\ddot{\\pi}\\right)}^{2}+4G_{4X} \\dot{a} \\dot{\\pi} \\ddot{\\pi}+2G_{4X} {\\left(\\dot{\\pi}\\right)}^{2} \\ddot{a}+4a \\dot{G_{4X}} \\dot{\\pi} \\ddot{\\pi}+4a \\ddot{{G_{4}}}+2\\dot{{G_{4}}} \\dot{a}+2\\dot{G_{4X}} \\dot{a} {\\left(\\dot{\\pi}\\right)}^{2}\\right) a {\\phi}^{2}+4G_{4X} {a}^{2} {\\left(\\dot{\\pi}\\right)}^{2} {\\left(\\dot{\\phi}\\right)}^{2}\\right) {\\left(a {\\phi}^{2}\\right)}^{-1}\\\\[-.5ex]\n",
       "\\square{}_{y}{}_{y}& = \\left(-\\left({G_{4}} {\\left(\\dot{\\phi}\\right)}^{2}+G_{4X} {\\left(\\dot{\\pi}\\right)}^{2} \\ddot{\\phi}+G_{4X} \\dot{\\pi} \\dot{\\phi} \\ddot{\\pi}+\\dot{G_{4X}} {\\left(\\dot{\\pi}\\right)}^{2} \\dot{\\phi}\\right) {a}^{2} \\phi+\\frac{1}{4}\\left({F_{y x}}^{2} {G_{4}} {\\phi}^{2}+{G_{4}} {\\left(\\dot{a}\\right)}^{2}+G_{4X} {\\left(\\dot{a}\\right)}^{2} {\\left(\\dot{\\pi}\\right)}^{2}\\right) {\\phi}^{2}+\\frac{1}{4}\\left({F_{t x}}^{2} {G_{4}} {\\phi}^{2}+{F_{t y}}^{2} {G_{4}} {\\phi}^{2}+{F_{x t}}^{2} G_{4X} {\\phi}^{2} {\\left(\\dot{\\pi}\\right)}^{2}-2{F_{y t}}^{2} {G_{4}} {\\phi}^{2}-{F_{y t}}^{2} G_{4X} {\\phi}^{2} {\\left(\\dot{\\pi}\\right)}^{2}-2{G_{4}} \\ddot{a}-4G_{4X} a \\dot{\\pi} \\dddot{\\pi}-4G_{4X} a {\\left(\\ddot{\\pi}\\right)}^{2}-4G_{4X} \\dot{a} \\dot{\\pi} \\ddot{\\pi}-2G_{4X} {\\left(\\dot{\\pi}\\right)}^{2} \\ddot{a}-4a \\dot{G_{4X}} \\dot{\\pi} \\ddot{\\pi}-4a \\ddot{{G_{4}}}-2\\dot{{G_{4}}} \\dot{a}-2\\dot{G_{4X}} \\dot{a} {\\left(\\dot{\\pi}\\right)}^{2}\\right) a {\\phi}^{2}+G_{4X} {a}^{2} {\\left(\\dot{\\pi}\\right)}^{2} {\\left(\\dot{\\phi}\\right)}^{2}\\right) {\\left(a {\\phi}^{2}\\right)}^{-1}\\\\[-.5ex]\n",
       "\\square{}_{x}{}_{t}& = \\frac{1}{2}\\left(F_{t y} F_{x y} {G_{4}}-2F_{x y} F_{y t} G_{4X} {\\left(\\dot{\\pi}\\right)}^{2}\\right) {\\phi}^{2} {a}^{-1}\\\\[-.5ex]\n",
       "\\square{}_{y}{}_{t}& = \\frac{1}{2}\\left(F_{t x} F_{y x} {G_{4}}-2F_{x t} F_{y x} G_{4X} {\\left(\\dot{\\pi}\\right)}^{2}\\right) {\\phi}^{2} {a}^{-1}\\\\[-.5ex]\n",
       "\\square{}_{t}{}_{x}& = \\frac{1}{2}F_{t y} F_{x y} {G_{4}} {\\phi}^{2} {a}^{-1}\\\\[-.5ex]\n",
       "\\square{}_{y}{}_{x}& = \\frac{1}{2}\\left(-F_{x t} F_{y t} a {G_{4}}-F_{x t} F_{y t} G_{4X} a {\\left(\\dot{\\pi}\\right)}^{2}\\right) {\\phi}^{2} {a}^{-1}\\\\[-.5ex]\n",
       "\\square{}_{t}{}_{y}& = \\frac{1}{2}F_{t x} F_{y x} {G_{4}} {\\phi}^{2} {a}^{-1}\\\\[-.5ex]\n",
       "\\square{}_{x}{}_{y}& = \\frac{1}{2}\\left(-F_{x t} F_{y t} a {G_{4}}-F_{x t} F_{y t} G_{4X} a {\\left(\\dot{\\pi}\\right)}^{2}\\right) {\\phi}^{2} {a}^{-1}\\\\[-.5ex]\n",
       "\\end{aligned}\\right.\n",
       "$"
      ]
     },
     "metadata": {},
     "output_type": "display_data"
    },
    {
     "data": {
      "text/markdown": [
       "${}\\mathcal{G}^{4}\\,_{a b} = \\square{}_{a}{}_{b}\\left\\{\\begin{aligned}\\square{}_{t}{}_{t}& = \\frac{1}{4}\\left(2\\left(2G_{4X}+G_{4XX} {\\left(\\dot{\\pi}\\right)}^{2}\\right) {a}^{2} {\\left(\\dot{\\pi}\\right)}^{2} {\\left(\\dot{\\phi}\\right)}^{2}-2{\\left(a \\phi \\ddot{\\pi}+a \\dot{\\pi} \\dot{\\phi}+\\phi \\dot{a} \\dot{\\pi}\\right)}^{2} G_{4XX} {\\left(\\dot{\\pi}\\right)}^{2}+4\\left(-{G_{4}} {\\left(\\dot{\\phi}\\right)}^{2}+G_{4X} {\\left(\\dot{\\pi}\\right)}^{2} {\\left(\\dot{\\phi}\\right)}^{2}-G_{4X} {\\left(\\dot{\\pi}\\right)}^{2} \\ddot{\\phi}+G_{4X} \\dot{\\pi} \\dot{\\phi} \\ddot{\\pi}-\\dot{G_{4X}} {\\left(\\dot{\\pi}\\right)}^{2} \\dot{\\phi}\\right) {a}^{2} \\phi+\\left({F_{y x}}^{2} {G_{4}} {\\phi}^{2}+{F_{y x}}^{2} G_{4X} {\\phi}^{2} {\\left(\\dot{\\pi}\\right)}^{2}+{G_{4}} {\\left(\\dot{a}\\right)}^{2}+2G_{4X} {\\left(\\dot{a}\\right)}^{2} {\\left(\\dot{\\pi}\\right)}^{2}+G_{4XX} {\\left(\\dot{a}\\right)}^{2} {\\left(\\dot{\\pi}\\right)}^{4}\\right) {\\phi}^{2}+\\left({F_{t x}}^{2} {G_{4}} {\\phi}^{2}-{F_{t x}}^{2} G_{4X} {\\phi}^{2} {\\left(\\dot{\\pi}\\right)}^{2}-4F_{t x} F_{x t} G_{4X} {\\phi}^{2} {\\left(\\dot{\\pi}\\right)}^{2}+{F_{t y}}^{2} {G_{4}} {\\phi}^{2}-{F_{t y}}^{2} G_{4X} {\\phi}^{2} {\\left(\\dot{\\pi}\\right)}^{2}-4F_{t y} F_{y t} G_{4X} {\\phi}^{2} {\\left(\\dot{\\pi}\\right)}^{2}-{F_{x t}}^{2} G_{4X} {\\phi}^{2} {\\left(\\dot{\\pi}\\right)}^{2}-{F_{x t}}^{2} G_{4XX} {\\phi}^{2} {\\left(\\dot{\\pi}\\right)}^{4}-{F_{y t}}^{2} G_{4X} {\\phi}^{2} {\\left(\\dot{\\pi}\\right)}^{2}-{F_{y t}}^{2} G_{4XX} {\\phi}^{2} {\\left(\\dot{\\pi}\\right)}^{4}+4G_{4X} \\dot{a} \\dot{\\pi} \\ddot{\\pi}+4\\dot{{G_{4}}} \\dot{a}-4\\dot{G_{4X}} \\dot{a} {\\left(\\dot{\\pi}\\right)}^{2}\\right) a {\\phi}^{2}+8G_{4X} a \\phi \\dot{a} {\\left(\\dot{\\pi}\\right)}^{2} \\dot{\\phi}+2G_{4XX} {a}^{2} {\\phi}^{2} {\\left(\\dot{\\pi}\\right)}^{2} {\\left(\\ddot{\\pi}\\right)}^{2}\\right) {\\left({a}^{2} {\\phi}^{2}\\right)}^{-1}\\\\[-.5ex]\n",
       "\\square{}_{x}{}_{x}& = \\left(-\\left({G_{4}} {\\left(\\dot{\\phi}\\right)}^{2}+G_{4X} {\\left(\\dot{\\pi}\\right)}^{2} \\ddot{\\phi}+G_{4X} \\dot{\\pi} \\dot{\\phi} \\ddot{\\pi}+\\dot{G_{4X}} {\\left(\\dot{\\pi}\\right)}^{2} \\dot{\\phi}\\right) {a}^{2} \\phi+\\frac{1}{4}\\left(2{F_{x y}}^{2} {G_{4}} {\\phi}^{2}-{F_{y x}}^{2} {G_{4}} {\\phi}^{2}+{G_{4}} {\\left(\\dot{a}\\right)}^{2}+G_{4X} {\\left(\\dot{a}\\right)}^{2} {\\left(\\dot{\\pi}\\right)}^{2}\\right) {\\phi}^{2}+\\frac{1}{4}\\left({F_{t x}}^{2} {G_{4}} {\\phi}^{2}+{F_{t y}}^{2} {G_{4}} {\\phi}^{2}-2{F_{x t}}^{2} {G_{4}} {\\phi}^{2}-{F_{x t}}^{2} G_{4X} {\\phi}^{2} {\\left(\\dot{\\pi}\\right)}^{2}+{F_{y t}}^{2} G_{4X} {\\phi}^{2} {\\left(\\dot{\\pi}\\right)}^{2}-2{G_{4}} \\ddot{a}-4G_{4X} a \\dot{\\pi} \\dddot{\\pi}-4G_{4X} a {\\left(\\ddot{\\pi}\\right)}^{2}-4G_{4X} \\dot{a} \\dot{\\pi} \\ddot{\\pi}-2G_{4X} {\\left(\\dot{\\pi}\\right)}^{2} \\ddot{a}-4a \\dot{G_{4X}} \\dot{\\pi} \\ddot{\\pi}-4a \\ddot{{G_{4}}}-2\\dot{{G_{4}}} \\dot{a}-2\\dot{G_{4X}} \\dot{a} {\\left(\\dot{\\pi}\\right)}^{2}\\right) a {\\phi}^{2}+G_{4X} {a}^{2} {\\left(\\dot{\\pi}\\right)}^{2} {\\left(\\dot{\\phi}\\right)}^{2}\\right) {\\left(a {\\phi}^{2}\\right)}^{-1}\\\\[-.5ex]\n",
       "\\square{}_{y}{}_{y}& = \\left(\\frac{1}{4}\\left({F_{y x}}^{2} {G_{4}} {\\phi}^{2}+{G_{4}} {\\left(\\dot{a}\\right)}^{2}+G_{4X} {\\left(\\dot{a}\\right)}^{2} {\\left(\\dot{\\pi}\\right)}^{2}\\right) {\\phi}^{2}-\\left({G_{4}} {\\left(\\dot{\\phi}\\right)}^{2}+G_{4X} {\\left(\\dot{\\pi}\\right)}^{2} \\ddot{\\phi}+G_{4X} \\dot{\\pi} \\dot{\\phi} \\ddot{\\pi}+\\dot{G_{4X}} {\\left(\\dot{\\pi}\\right)}^{2} \\dot{\\phi}\\right) {a}^{2} \\phi+\\frac{1}{4}\\left({F_{t x}}^{2} {G_{4}} {\\phi}^{2}+{F_{t y}}^{2} {G_{4}} {\\phi}^{2}+{F_{x t}}^{2} G_{4X} {\\phi}^{2} {\\left(\\dot{\\pi}\\right)}^{2}-2{F_{y t}}^{2} {G_{4}} {\\phi}^{2}-{F_{y t}}^{2} G_{4X} {\\phi}^{2} {\\left(\\dot{\\pi}\\right)}^{2}-2{G_{4}} \\ddot{a}-4G_{4X} a \\dot{\\pi} \\dddot{\\pi}-4G_{4X} a {\\left(\\ddot{\\pi}\\right)}^{2}-4G_{4X} \\dot{a} \\dot{\\pi} \\ddot{\\pi}-2G_{4X} {\\left(\\dot{\\pi}\\right)}^{2} \\ddot{a}-4a \\dot{G_{4X}} \\dot{\\pi} \\ddot{\\pi}-4a \\ddot{{G_{4}}}-2\\dot{{G_{4}}} \\dot{a}-2\\dot{G_{4X}} \\dot{a} {\\left(\\dot{\\pi}\\right)}^{2}\\right) a {\\phi}^{2}+G_{4X} {a}^{2} {\\left(\\dot{\\pi}\\right)}^{2} {\\left(\\dot{\\phi}\\right)}^{2}\\right) {\\left(a {\\phi}^{2}\\right)}^{-1}\\\\[-.5ex]\n",
       "\\square{}_{x}{}_{t}& = \\frac{1}{2}\\left(F_{t y} {G_{4}}-2F_{y t} G_{4X} {\\left(\\dot{\\pi}\\right)}^{2}\\right) F_{x y} {\\phi}^{2} {a}^{-1}\\\\[-.5ex]\n",
       "\\square{}_{y}{}_{t}& = \\frac{1}{2}\\left(F_{t x} {G_{4}}-2F_{x t} G_{4X} {\\left(\\dot{\\pi}\\right)}^{2}\\right) F_{y x} {\\phi}^{2} {a}^{-1}\\\\[-.5ex]\n",
       "\\square{}_{t}{}_{x}& = \\frac{1}{2}F_{t y} F_{x y} {G_{4}} {\\phi}^{2} {a}^{-1}\\\\[-.5ex]\n",
       "\\square{}_{y}{}_{x}& =  - \\frac{1}{2}\\left({G_{4}}+G_{4X} {\\left(\\dot{\\pi}\\right)}^{2}\\right) F_{x t} F_{y t} {\\phi}^{2}\\\\[-.5ex]\n",
       "\\square{}_{t}{}_{y}& = \\frac{1}{2}F_{t x} F_{y x} {G_{4}} {\\phi}^{2} {a}^{-1}\\\\[-.5ex]\n",
       "\\square{}_{x}{}_{y}& =  - \\frac{1}{2}\\left({G_{4}}+G_{4X} {\\left(\\dot{\\pi}\\right)}^{2}\\right) F_{x t} F_{y t} {\\phi}^{2}\\\\[-.5ex]\n",
       "\\end{aligned}\\right.\n",
       "$"
      ]
     },
     "metadata": {},
     "output_type": "display_data"
    }
   ],
   "source": [
    "G4 = fr.G4\n",
    "substitute(G4, Ricci)\n",
    "substitute(G4, Chr)\n",
    "substitute(G4,box4D)\n",
    "substitute(G4, sq4D)\n",
    "substitute(G4, ScalarCurvature)\n",
    "substitute(G4, box4D2)\n",
    "evaluate(G4, friedmann, rhsonly=True)\n",
    "substitute(G4, $F_{x x}-> 0, F_{y y} -> 0, F_{t t} -> 0$)\n",
    "map_sympy(G4, 'simplify')\n",
    "distribute(G4)\n",
    "sort_product(G4)\n",
    "map_sympy(G4,'powsimp')\n",
    "map_sympy(G4,'simplify');"
   ]
  },
  {
   "cell_type": "code",
   "execution_count": 19,
   "metadata": {},
   "outputs": [
    {
     "data": {
      "text/markdown": [
       "${}\\mathcal{P}^{4} = \\frac{1}{2}\\left(-4\\left(G_{4X}+G_{4XX} {\\left(\\dot{\\pi}\\right)}^{2}\\right) {a}^{2} \\phi \\dot{a} \\dot{\\pi} {\\left(\\dot{\\phi}\\right)}^{2}+\\left({F_{y x}}^{2} G_{4X} {\\phi}^{2}+G_{4X} {\\left(\\dot{a}\\right)}^{2}-G_{4XX} {\\left(\\dot{a}\\right)}^{2} {\\left(\\dot{\\pi}\\right)}^{2}\\right) {\\phi}^{3} \\dot{a} \\dot{\\pi}-4\\left(-G_{4X} \\dot{\\pi} {\\left(\\dot{\\phi}\\right)}^{2}+5G_{4X} \\dot{\\pi} \\ddot{\\phi}+2G_{4X} \\dot{\\phi} \\ddot{\\pi}+G_{4XX} {\\left(\\dot{\\pi}\\right)}^{2} \\dot{\\phi} \\ddot{\\pi}+3\\dot{G_{4X}} \\dot{\\pi} \\dot{\\phi}\\right) {a}^{3} \\phi \\dot{\\phi}+4\\left(G_{4\\pi X} \\dot{a} {\\left(\\dot{\\pi}\\right)}^{2} \\dot{\\phi}-G_{4X} \\dot{a} \\dot{\\pi} {\\left(\\dot{\\phi}\\right)}^{2}-G_{4X} \\dot{a} \\dot{\\phi} \\ddot{\\pi}-G_{4X} \\dot{\\pi} \\dot{\\phi} \\ddot{a}+G_{4XX} \\dot{a} {\\left(\\dot{\\pi}\\right)}^{3} \\ddot{\\phi}+4G_{4XX} \\dot{a} {\\left(\\dot{\\pi}\\right)}^{2} \\dot{\\phi} \\ddot{\\pi}+G_{4XX} {\\left(\\dot{\\pi}\\right)}^{3} \\dot{\\phi} \\ddot{a}+\\dot{G_{4XX}} \\dot{a} {\\left(\\dot{\\pi}\\right)}^{3} \\dot{\\phi}\\right) {a}^{2} {\\phi}^{2}-\\left(-G_{4\\pi X} {\\left(\\dot{a}\\right)}^{2} {\\left(\\dot{\\pi}\\right)}^{2}+{F_{y x}}^{2} G_{4X} {\\phi}^{2} \\ddot{\\pi}+2{F_{y x}}^{2} G_{4X} \\phi \\dot{\\pi} \\dot{\\phi}+{F_{y x}}^{2} G_{4\\pi} {\\phi}^{2}+{F_{y x}}^{2} {\\phi}^{2} \\dot{G_{4X}} \\dot{\\pi}+2F_{y x} G_{4X} {\\phi}^{2} \\dot{F_{y x}} \\dot{\\pi}+G_{4X} {\\left(\\dot{a}\\right)}^{2} \\ddot{\\pi}+2G_{4X} \\dot{a} \\dot{\\pi} \\ddot{a}-3G_{4XX} {\\left(\\dot{a}\\right)}^{2} {\\left(\\dot{\\pi}\\right)}^{2} \\ddot{\\pi}-2G_{4XX} \\dot{a} {\\left(\\dot{\\pi}\\right)}^{3} \\ddot{a}-G_{4\\pi} {\\left(\\dot{a}\\right)}^{2}+\\dot{G_{4X}} {\\left(\\dot{a}\\right)}^{2} \\dot{\\pi}-\\dot{G_{4XX}} {\\left(\\dot{a}\\right)}^{2} {\\left(\\dot{\\pi}\\right)}^{3}\\right) a {\\phi}^{3}+4\\left(G_{4\\pi X} \\dot{\\pi} \\dot{\\phi} \\ddot{\\pi}-2G_{4X} \\dot{\\pi} \\dot{\\phi} \\ddot{\\phi}+G_{4X} \\dot{\\pi} \\dddot{\\phi}-G_{4X} {\\left(\\dot{\\phi}\\right)}^{2} \\ddot{\\pi}+G_{4X} \\ddot{\\pi} \\ddot{\\phi}+G_{4XX} {\\left(\\dot{\\pi}\\right)}^{2} \\dot{\\phi} \\dddot{\\pi}+G_{4XX} {\\left(\\dot{\\pi}\\right)}^{2} \\ddot{\\pi} \\ddot{\\phi}+2G_{4XX} \\dot{\\pi} \\dot{\\phi} {\\left(\\ddot{\\pi}\\right)}^{2}-G_{4\\pi} {\\left(\\dot{\\phi}\\right)}^{2}-\\dot{G_{4X}} \\dot{\\pi} {\\left(\\dot{\\phi}\\right)}^{2}+2\\dot{G_{4X}} \\dot{\\pi} \\ddot{\\phi}+\\dot{G_{4X}} \\dot{\\phi} \\ddot{\\pi}+\\dot{G_{4XX}} {\\left(\\dot{\\pi}\\right)}^{2} \\dot{\\phi} \\ddot{\\pi}+\\dot{\\pi} \\dot{\\phi} \\ddot{G_{4X}}\\right) {a}^{3} {\\phi}^{2}+\\left(G_{4\\pi X} {F_{x t}}^{2} {\\phi}^{2} {\\left(\\dot{\\pi}\\right)}^{2}+G_{4\\pi X} {F_{y t}}^{2} {\\phi}^{2} {\\left(\\dot{\\pi}\\right)}^{2}+4G_{4\\pi X} \\dot{a} \\dot{\\pi} \\ddot{\\pi}+{F_{t x}}^{2} G_{4X} {\\phi}^{2} \\ddot{\\pi}+2{F_{t x}}^{2} G_{4X} \\phi \\dot{\\pi} \\dot{\\phi}+{F_{t x}}^{2} G_{4\\pi} {\\phi}^{2}+{F_{t x}}^{2} {\\phi}^{2} \\dot{G_{4X}} \\dot{\\pi}+2F_{t x} G_{4X} {\\phi}^{2} \\dot{F_{t x}} \\dot{\\pi}+{F_{t y}}^{2} G_{4X} {\\phi}^{2} \\ddot{\\pi}+2{F_{t y}}^{2} G_{4X} \\phi \\dot{\\pi} \\dot{\\phi}+{F_{t y}}^{2} G_{4\\pi} {\\phi}^{2}+{F_{t y}}^{2} {\\phi}^{2} \\dot{G_{4X}} \\dot{\\pi}+2F_{t y} G_{4X} {\\phi}^{2} \\dot{F_{t y}} \\dot{\\pi}+3{F_{x t}}^{2} G_{4XX} {\\phi}^{2} {\\left(\\dot{\\pi}\\right)}^{2} \\ddot{\\pi}+2{F_{x t}}^{2} G_{4XX} \\phi {\\left(\\dot{\\pi}\\right)}^{3} \\dot{\\phi}+{F_{x t}}^{2} {\\phi}^{2} \\dot{G_{4XX}} {\\left(\\dot{\\pi}\\right)}^{3}+2F_{x t} G_{4XX} {\\phi}^{2} \\dot{F_{x t}} {\\left(\\dot{\\pi}\\right)}^{3}+3{F_{y t}}^{2} G_{4XX} {\\phi}^{2} {\\left(\\dot{\\pi}\\right)}^{2} \\ddot{\\pi}+2{F_{y t}}^{2} G_{4XX} \\phi {\\left(\\dot{\\pi}\\right)}^{3} \\dot{\\phi}%\n",
       "+{F_{y t}}^{2} {\\phi}^{2} \\dot{G_{4XX}} {\\left(\\dot{\\pi}\\right)}^{3}+2F_{y t} G_{4XX} {\\phi}^{2} \\dot{F_{y t}} {\\left(\\dot{\\pi}\\right)}^{3}+4G_{4XX} \\dot{a} {\\left(\\dot{\\pi}\\right)}^{2} \\dddot{\\pi}+8G_{4XX} \\dot{a} \\dot{\\pi} {\\left(\\ddot{\\pi}\\right)}^{2}+4G_{4XX} {\\left(\\dot{\\pi}\\right)}^{2} \\ddot{a} \\ddot{\\pi}-4G_{4\\pi} \\ddot{a}+4\\dot{G_{4X}} \\dot{a} \\ddot{\\pi}+4\\dot{G_{4X}} \\dot{\\pi} \\ddot{a}+4\\dot{G_{4XX}} \\dot{a} {\\left(\\dot{\\pi}\\right)}^{2} \\ddot{\\pi}+4\\dot{a} \\dot{\\pi} \\ddot{G_{4X}}\\right) {a}^{2} {\\phi}^{3}+16G_{4X} {a}^{3} \\dot{\\pi} {\\left(\\dot{\\phi}\\right)}^{3}\\right) {\\left({a}^{3} {\\phi}^{3}\\right)}^{-1}$"
      ]
     },
     "metadata": {},
     "output_type": "display_data"
    }
   ],
   "source": [
    "P4 = fr.P4\n",
    "substitute(P4, Chr)\n",
    "substitute(P4,box4D)\n",
    "substitute(P4, sq4D)\n",
    "substitute(P4, ScalarCurvature)\n",
    "substitute(P4, box4D2)\n",
    "evaluate(P4, friedmann, rhsonly=True)\n",
    "substitute(P4, $F_{x x}-> 0, F_{y y} -> 0, F_{t t} -> 0$)\n",
    "map_sympy(P4, 'simplify');"
   ]
  },
  {
   "cell_type": "code",
   "execution_count": 20,
   "metadata": {},
   "outputs": [
    {
     "data": {
      "text/markdown": [
       "${}\\Phi^{4} = \\frac{1}{2}\\left(-2{F_{x y}}^{2} {G_{4}} {\\phi}^{3}+4\\left(2{G_{4}} \\dot{a} \\dot{\\phi}-3G_{4X} \\dot{a} \\dot{\\pi} \\ddot{\\pi}-G_{4X} {\\left(\\dot{\\pi}\\right)}^{2} \\ddot{a}-\\dot{G_{4X}} \\dot{a} {\\left(\\dot{\\pi}\\right)}^{2}\\right) a \\phi+4\\left(2{G_{4}} \\ddot{\\phi}-G_{4X} \\dot{\\pi} \\dddot{\\pi}-G_{4X} {\\left(\\ddot{\\pi}\\right)}^{2}+2\\dot{{G_{4}}} \\dot{\\phi}-\\dot{G_{4X}} \\dot{\\pi} \\ddot{\\pi}\\right) {a}^{2} \\phi+\\left(2{F_{t x}}^{2}+2{F_{t y}}^{2}\\right) \\left({G_{4}}+G_{4X} {\\left(\\dot{\\pi}\\right)}^{2}\\right) a {\\phi}^{3}-4{G_{4}} {a}^{2} {\\left(\\dot{\\phi}\\right)}^{2}\\right) {\\left({a}^{2} {\\phi}^{2}\\right)}^{-1}$"
      ]
     },
     "metadata": {},
     "output_type": "display_data"
    }
   ],
   "source": [
    "phi4 = fr.phi4\n",
    "substitute(phi4, Chr)\n",
    "substitute(phi4,box4D)\n",
    "substitute(phi4, sq4D)\n",
    "substitute(phi4, ScalarCurvature)\n",
    "substitute(phi4, box4D2)\n",
    "evaluate(phi4, friedmann, rhsonly=True)\n",
    "substitute(phi4, $F_{x x}-> 0, F_{y y} -> 0, F_{t t} -> 0$)\n",
    "map_sympy(phi4, 'simplify')\n",
    "substitute(phi4, $F_{x t} ** 2 -> F_{t x} ** 2, F_{y t} ** 2 -> F_{t y} ** 2, F_{y x} ** 2 -> F_{x y} ** 2$)\n",
    "factor_in(phi4, $F_{t x} **2, F_{t y}**2, F_{x y} ** 2$)\n",
    "factor_out(phi4, $2*F_{t x}**2 + 2* F_{t y}**2$);"
   ]
  },
  {
   "cell_type": "code",
   "execution_count": 21,
   "metadata": {},
   "outputs": [
    {
     "data": {
      "text/markdown": [
       "${}\\mathcal{A}^{4 f} = \\left(\\partial_{c}\\left(F_{a b} {G_{4}} {\\phi}^{2}\\right)-\\Gamma^{z}\\,_{c a} F_{z b} {G_{4}} {\\phi}^{2}-\\Gamma^{z}\\,_{c b} F_{a z} {G_{4}} {\\phi}^{2}\\right) h^{c a} h^{b f}+2\\left(\\partial_{c}\\left(F_{a b} G_{4X} \\partial_{d}{\\pi} \\partial_{e}{\\pi} {\\phi}^{2}\\right)-\\Gamma^{v}\\,_{c e} F_{a b} G_{4X} \\partial_{d}{\\pi} \\partial_{v}{\\pi} {\\phi}^{2}-\\Gamma^{v}\\,_{c a} F_{v b} G_{4X} \\partial_{d}{\\pi} \\partial_{e}{\\pi} {\\phi}^{2}-\\Gamma^{v}\\,_{c b} F_{a v} G_{4X} \\partial_{d}{\\pi} \\partial_{e}{\\pi} {\\phi}^{2}-\\Gamma^{v}\\,_{c d} F_{a b} G_{4X} \\partial_{v}{\\pi} \\partial_{e}{\\pi} {\\phi}^{2}\\right) h^{c a} h^{b d} h^{e f}$"
      ]
     },
     "metadata": {},
     "output_type": "display_data"
    },
    {
     "data": {
      "text/markdown": [
       "${}\\mathcal{A}^{4 f} = \\square{}^{f}\\left\\{\\begin{aligned}\\square{}^{y}& =  - \\frac{1}{2}\\left(\\left(F_{t y}+F_{y t}\\right) {G_{4}} \\phi \\dot{a}+2\\left(2F_{t y} {G_{4}} \\dot{\\phi}+F_{t y} \\phi \\dot{{G_{4}}}+{G_{4}} \\phi \\dot{F_{t y}}\\right) a+2F_{y t} G_{4X} \\phi \\dot{a} {\\left(\\dot{\\pi}\\right)}^{2}\\right) \\phi {a}^{-2}\\\\[-.5ex]\n",
       "\\square{}^{x}& =  - \\frac{1}{2}\\left(\\left(F_{t x}+F_{x t}\\right) {G_{4}} \\phi \\dot{a}+2\\left(2F_{t x} {G_{4}} \\dot{\\phi}+F_{t x} \\phi \\dot{{G_{4}}}+{G_{4}} \\phi \\dot{F_{t x}}\\right) a+2F_{x t} G_{4X} \\phi \\dot{a} {\\left(\\dot{\\pi}\\right)}^{2}\\right) \\phi {a}^{-2}\\\\[-.5ex]\n",
       "\\square{}^{t}& = 2\\left(2F_{t t} G_{4X} a \\phi \\ddot{\\pi}+2F_{t t} G_{4X} a \\dot{\\pi} \\dot{\\phi}+F_{t t} G_{4X} \\phi \\dot{a} \\dot{\\pi}+F_{t t} a \\phi \\dot{G_{4X}} \\dot{\\pi}+G_{4X} a \\phi \\dot{F_{t t}} \\dot{\\pi}\\right) \\phi \\dot{\\pi} {a}^{-1}\\\\[-.5ex]\n",
       "\\end{aligned}\\right.\n",
       "$"
      ]
     },
     "metadata": {},
     "output_type": "display_data"
    }
   ],
   "source": [
    "A4 = fr.A4;\n",
    "substitute(A4, Chr)\n",
    "substitute(A4,box4D)\n",
    "substitute(A4, sq4D)\n",
    "substitute(A4, ScalarCurvature)\n",
    "substitute(A4, box4D2)\n",
    "evaluate(A4, friedmann, rhsonly=True)\n",
    "substitute(A4, $F_{x x}-> 0, F_{y y} -> 0, F_{t t} -> 0$)\n",
    "map_sympy(A4, 'simplify');"
   ]
  },
  {
   "cell_type": "markdown",
   "metadata": {},
   "source": [
    "Здесь я накладываю калибровку $\\phi = 1$, она, на первый взгляд, не портит уравнений движения, полученных без нее."
   ]
  },
  {
   "cell_type": "code",
   "execution_count": 22,
   "metadata": {},
   "outputs": [
    {
     "data": {
      "text/markdown": [
       "${}\\phi = 1$"
      ]
     },
     "metadata": {},
     "output_type": "display_data"
    }
   ],
   "source": [
    "gauge := \\phi = 1;"
   ]
  },
  {
   "cell_type": "code",
   "execution_count": 23,
   "metadata": {},
   "outputs": [],
   "source": [
    "substitute(G2, gauge)\n",
    "substitute(P2, gauge)\n",
    "substitute(G3, gauge)\n",
    "substitute(P3, gauge)\n",
    "substitute(phi3, gauge)\n",
    "substitute(G4, gauge)\n",
    "substitute(P4, gauge)\n",
    "substitute(phi4, gauge)\n",
    "substitute(A4, gauge)"
   ]
  },
  {
   "cell_type": "code",
   "execution_count": 24,
   "metadata": {
    "scrolled": true
   },
   "outputs": [
    {
     "data": {
      "text/markdown": [
       "${}\\mathcal{G}^{2}\\,_{a b} = \\square{}_{a}{}_{b}\\left\\{\\begin{aligned}\\square{}_{t}{}_{t}& =  - \\frac{1}{2}F_{X} {\\left(\\dot{\\pi}\\right)}^{2} - \\frac{1}{2}F\\\\[-.5ex]\n",
       "\\square{}_{x}{}_{x}& = \\frac{1}{2}a F\\\\[-.5ex]\n",
       "\\square{}_{y}{}_{y}& = \\frac{1}{2}a F\\\\[-.5ex]\n",
       "\\end{aligned}\\right.\n",
       "$"
      ]
     },
     "metadata": {},
     "output_type": "display_data"
    },
    {
     "data": {
      "text/markdown": [
       "${}\\mathcal{P}^{2} = F_{X} \\ddot{\\pi}+F_{X} \\dot{a} \\dot{\\pi} {a}^{-1}+F_{\\pi}+\\dot{F_{X}} \\dot{\\pi}$"
      ]
     },
     "metadata": {},
     "output_type": "display_data"
    },
    {
     "data": {
      "text/markdown": [
       "${}\\mathcal{G}^{3}\\,_{a b} = \\square{}_{a}{}_{b}\\left\\{\\begin{aligned}\\square{}_{t}{}_{t}& = \\frac{1}{2}\\left(\\left(K_{X} \\dot{\\pi} \\ddot{\\pi}+\\dot{K}\\right) a+K_{X} \\dot{a} {\\left(\\dot{\\pi}\\right)}^{2}\\right) \\dot{\\pi} {a}^{-1}\\\\[-.5ex]\n",
       "\\square{}_{x}{}_{x}& = \\frac{1}{2}a \\dot{K} \\dot{\\pi}\\\\[-.5ex]\n",
       "\\square{}_{y}{}_{y}& = \\frac{1}{2}a \\dot{K} \\dot{\\pi}\\\\[-.5ex]\n",
       "\\end{aligned}\\right.\n",
       "$"
      ]
     },
     "metadata": {},
     "output_type": "display_data"
    },
    {
     "data": {
      "text/markdown": [
       "${}\\mathcal{P}^{3} = -\\left(\\left(K_{\\pi} \\ddot{\\pi}+\\ddot{K}\\right) a+\\left(a {\\left(\\ddot{\\pi}\\right)}^{2}+{\\left(\\dot{\\pi}\\right)}^{2} \\ddot{a}\\right) K_{X}+\\left(\\dot{K}+\\dot{K_{X}} {\\left(\\dot{\\pi}\\right)}^{2}\\right) \\dot{a}+\\left(\\left(a \\dddot{\\pi}+3\\dot{a} \\ddot{\\pi}\\right) K_{X}+K_{\\pi} \\dot{a}+a \\dot{K_{X}} \\ddot{\\pi}\\right) \\dot{\\pi}\\right) {a}^{-1}$"
      ]
     },
     "metadata": {},
     "output_type": "display_data"
    },
    {
     "data": {
      "text/markdown": [
       "${}\\Phi^{3} = K \\ddot{\\pi}+K \\dot{a} \\dot{\\pi} {a}^{-1}+\\dot{K} \\dot{\\pi}$"
      ]
     },
     "metadata": {},
     "output_type": "display_data"
    },
    {
     "data": {
      "text/markdown": [
       "${}\\mathcal{G}^{4}\\,_{a b} = \\square{}_{a}{}_{b}\\left\\{\\begin{aligned}\\square{}_{t}{}_{t}& = \\frac{1}{4}\\left(-2{\\left(a \\ddot{\\pi}+\\dot{a} \\dot{\\pi}\\right)}^{2} G_{4XX} {\\left(\\dot{\\pi}\\right)}^{2}-\\left(-{F_{t x}}^{2} {G_{4}}+{F_{t x}}^{2} G_{4X} {\\left(\\dot{\\pi}\\right)}^{2}+4F_{t x} F_{x t} G_{4X} {\\left(\\dot{\\pi}\\right)}^{2}-{F_{t y}}^{2} {G_{4}}+{F_{t y}}^{2} G_{4X} {\\left(\\dot{\\pi}\\right)}^{2}+4F_{t y} F_{y t} G_{4X} {\\left(\\dot{\\pi}\\right)}^{2}+{F_{x t}}^{2} G_{4X} {\\left(\\dot{\\pi}\\right)}^{2}+{F_{x t}}^{2} G_{4XX} {\\left(\\dot{\\pi}\\right)}^{4}+{F_{y t}}^{2} G_{4X} {\\left(\\dot{\\pi}\\right)}^{2}+{F_{y t}}^{2} G_{4XX} {\\left(\\dot{\\pi}\\right)}^{4}-4G_{4X} \\dot{a} \\dot{\\pi} \\ddot{\\pi}-4\\dot{{G_{4}}} \\dot{a}+4\\dot{G_{4X}} \\dot{a} {\\left(\\dot{\\pi}\\right)}^{2}\\right) a+{F_{y x}}^{2} {G_{4}}+{F_{y x}}^{2} G_{4X} {\\left(\\dot{\\pi}\\right)}^{2}+{G_{4}} {\\left(\\dot{a}\\right)}^{2}+2G_{4X} {\\left(\\dot{a}\\right)}^{2} {\\left(\\dot{\\pi}\\right)}^{2}+2G_{4XX} {a}^{2} {\\left(\\dot{\\pi}\\right)}^{2} {\\left(\\ddot{\\pi}\\right)}^{2}+G_{4XX} {\\left(\\dot{a}\\right)}^{2} {\\left(\\dot{\\pi}\\right)}^{4}\\right) {a}^{-2}\\\\[-.5ex]\n",
       "\\square{}_{x}{}_{x}& = \\frac{1}{4}\\left(-\\left(-{F_{t x}}^{2} {G_{4}}-{F_{t y}}^{2} {G_{4}}+2{F_{x t}}^{2} {G_{4}}+{F_{x t}}^{2} G_{4X} {\\left(\\dot{\\pi}\\right)}^{2}-{F_{y t}}^{2} G_{4X} {\\left(\\dot{\\pi}\\right)}^{2}+2{G_{4}} \\ddot{a}+4G_{4X} a \\dot{\\pi} \\dddot{\\pi}+4G_{4X} a {\\left(\\ddot{\\pi}\\right)}^{2}+4G_{4X} \\dot{a} \\dot{\\pi} \\ddot{\\pi}+2G_{4X} {\\left(\\dot{\\pi}\\right)}^{2} \\ddot{a}+4a \\dot{G_{4X}} \\dot{\\pi} \\ddot{\\pi}+4a \\ddot{{G_{4}}}+2\\dot{{G_{4}}} \\dot{a}+2\\dot{G_{4X}} \\dot{a} {\\left(\\dot{\\pi}\\right)}^{2}\\right) a+2{F_{x y}}^{2} {G_{4}}-{F_{y x}}^{2} {G_{4}}+{G_{4}} {\\left(\\dot{a}\\right)}^{2}+G_{4X} {\\left(\\dot{a}\\right)}^{2} {\\left(\\dot{\\pi}\\right)}^{2}\\right) {a}^{-1}\\\\[-.5ex]\n",
       "\\square{}_{y}{}_{y}& = \\frac{1}{4}\\left(-\\left(-{F_{t x}}^{2} {G_{4}}-{F_{t y}}^{2} {G_{4}}-{F_{x t}}^{2} G_{4X} {\\left(\\dot{\\pi}\\right)}^{2}+2{F_{y t}}^{2} {G_{4}}+{F_{y t}}^{2} G_{4X} {\\left(\\dot{\\pi}\\right)}^{2}+2{G_{4}} \\ddot{a}+4G_{4X} a \\dot{\\pi} \\dddot{\\pi}+4G_{4X} a {\\left(\\ddot{\\pi}\\right)}^{2}+4G_{4X} \\dot{a} \\dot{\\pi} \\ddot{\\pi}+2G_{4X} {\\left(\\dot{\\pi}\\right)}^{2} \\ddot{a}+4a \\dot{G_{4X}} \\dot{\\pi} \\ddot{\\pi}+4a \\ddot{{G_{4}}}+2\\dot{{G_{4}}} \\dot{a}+2\\dot{G_{4X}} \\dot{a} {\\left(\\dot{\\pi}\\right)}^{2}\\right) a+{F_{y x}}^{2} {G_{4}}+{G_{4}} {\\left(\\dot{a}\\right)}^{2}+G_{4X} {\\left(\\dot{a}\\right)}^{2} {\\left(\\dot{\\pi}\\right)}^{2}\\right) {a}^{-1}\\\\[-.5ex]\n",
       "\\square{}_{x}{}_{t}& = \\frac{1}{2}\\left(F_{t y} {G_{4}}-2F_{y t} G_{4X} {\\left(\\dot{\\pi}\\right)}^{2}\\right) F_{x y} {a}^{-1}\\\\[-.5ex]\n",
       "\\square{}_{y}{}_{t}& = \\frac{1}{2}\\left(F_{t x} {G_{4}}-2F_{x t} G_{4X} {\\left(\\dot{\\pi}\\right)}^{2}\\right) F_{y x} {a}^{-1}\\\\[-.5ex]\n",
       "\\square{}_{t}{}_{x}& = \\frac{1}{2}F_{t y} F_{x y} {G_{4}} {a}^{-1}\\\\[-.5ex]\n",
       "\\square{}_{y}{}_{x}& =  - \\frac{1}{2}\\left({G_{4}}+G_{4X} {\\left(\\dot{\\pi}\\right)}^{2}\\right) F_{x t} F_{y t}\\\\[-.5ex]\n",
       "\\square{}_{t}{}_{y}& = \\frac{1}{2}F_{t x} F_{y x} {G_{4}} {a}^{-1}\\\\[-.5ex]\n",
       "\\square{}_{x}{}_{y}& =  - \\frac{1}{2}\\left({G_{4}}+G_{4X} {\\left(\\dot{\\pi}\\right)}^{2}\\right) F_{x t} F_{y t}\\\\[-.5ex]\n",
       "\\end{aligned}\\right.\n",
       "$"
      ]
     },
     "metadata": {},
     "output_type": "display_data"
    },
    {
     "data": {
      "text/markdown": [
       "${}\\mathcal{P}^{4} = \\frac{1}{2}\\left(\\left({F_{y x}}^{2} G_{4X}+G_{4X} {\\left(\\dot{a}\\right)}^{2}-G_{4XX} {\\left(\\dot{a}\\right)}^{2} {\\left(\\dot{\\pi}\\right)}^{2}\\right) \\dot{a} \\dot{\\pi}-\\left(-G_{4\\pi X} {\\left(\\dot{a}\\right)}^{2} {\\left(\\dot{\\pi}\\right)}^{2}+{F_{y x}}^{2} G_{4X} \\ddot{\\pi}+{F_{y x}}^{2} G_{4\\pi}+{F_{y x}}^{2} \\dot{G_{4X}} \\dot{\\pi}+2F_{y x} G_{4X} \\dot{F_{y x}} \\dot{\\pi}+G_{4X} {\\left(\\dot{a}\\right)}^{2} \\ddot{\\pi}+2G_{4X} \\dot{a} \\dot{\\pi} \\ddot{a}-3G_{4XX} {\\left(\\dot{a}\\right)}^{2} {\\left(\\dot{\\pi}\\right)}^{2} \\ddot{\\pi}-2G_{4XX} \\dot{a} {\\left(\\dot{\\pi}\\right)}^{3} \\ddot{a}-G_{4\\pi} {\\left(\\dot{a}\\right)}^{2}+\\dot{G_{4X}} {\\left(\\dot{a}\\right)}^{2} \\dot{\\pi}-\\dot{G_{4XX}} {\\left(\\dot{a}\\right)}^{2} {\\left(\\dot{\\pi}\\right)}^{3}\\right) a+\\left(G_{4\\pi X} {F_{x t}}^{2} {\\left(\\dot{\\pi}\\right)}^{2}+G_{4\\pi X} {F_{y t}}^{2} {\\left(\\dot{\\pi}\\right)}^{2}+4G_{4\\pi X} \\dot{a} \\dot{\\pi} \\ddot{\\pi}+{F_{t x}}^{2} G_{4X} \\ddot{\\pi}+{F_{t x}}^{2} G_{4\\pi}+{F_{t x}}^{2} \\dot{G_{4X}} \\dot{\\pi}+2F_{t x} G_{4X} \\dot{F_{t x}} \\dot{\\pi}+{F_{t y}}^{2} G_{4X} \\ddot{\\pi}+{F_{t y}}^{2} G_{4\\pi}+{F_{t y}}^{2} \\dot{G_{4X}} \\dot{\\pi}+2F_{t y} G_{4X} \\dot{F_{t y}} \\dot{\\pi}+3{F_{x t}}^{2} G_{4XX} {\\left(\\dot{\\pi}\\right)}^{2} \\ddot{\\pi}+{F_{x t}}^{2} \\dot{G_{4XX}} {\\left(\\dot{\\pi}\\right)}^{3}+2F_{x t} G_{4XX} \\dot{F_{x t}} {\\left(\\dot{\\pi}\\right)}^{3}+3{F_{y t}}^{2} G_{4XX} {\\left(\\dot{\\pi}\\right)}^{2} \\ddot{\\pi}+{F_{y t}}^{2} \\dot{G_{4XX}} {\\left(\\dot{\\pi}\\right)}^{3}+2F_{y t} G_{4XX} \\dot{F_{y t}} {\\left(\\dot{\\pi}\\right)}^{3}+4G_{4XX} \\dot{a} {\\left(\\dot{\\pi}\\right)}^{2} \\dddot{\\pi}+8G_{4XX} \\dot{a} \\dot{\\pi} {\\left(\\ddot{\\pi}\\right)}^{2}%\n",
       "+4G_{4XX} {\\left(\\dot{\\pi}\\right)}^{2} \\ddot{a} \\ddot{\\pi}-4G_{4\\pi} \\ddot{a}+4\\dot{G_{4X}} \\dot{a} \\ddot{\\pi}+4\\dot{G_{4X}} \\dot{\\pi} \\ddot{a}+4\\dot{G_{4XX}} \\dot{a} {\\left(\\dot{\\pi}\\right)}^{2} \\ddot{\\pi}+4\\dot{a} \\dot{\\pi} \\ddot{G_{4X}}\\right) {a}^{2}\\right) {a}^{-3}$"
      ]
     },
     "metadata": {},
     "output_type": "display_data"
    },
    {
     "data": {
      "text/markdown": [
       "${}\\Phi^{4} = \\left(\\left({F_{t x}}^{2}+{F_{t y}}^{2}\\right) \\left({G_{4}}+G_{4X} {\\left(\\dot{\\pi}\\right)}^{2}\\right) a-2\\left(3G_{4X} \\dot{a} \\ddot{\\pi}+G_{4X} \\dot{\\pi} \\ddot{a}+\\dot{G_{4X}} \\dot{a} \\dot{\\pi}\\right) a \\dot{\\pi}-2\\left(G_{4X} \\dot{\\pi} \\dddot{\\pi}+G_{4X} {\\left(\\ddot{\\pi}\\right)}^{2}+\\dot{G_{4X}} \\dot{\\pi} \\ddot{\\pi}\\right) {a}^{2}-{F_{x y}}^{2} {G_{4}}\\right) {a}^{-2}$"
      ]
     },
     "metadata": {},
     "output_type": "display_data"
    },
    {
     "data": {
      "text/markdown": [
       "${}\\mathcal{A}^{4 f} = \\square{}^{f}\\left\\{\\begin{aligned}\\square{}^{y}& = -\\left(\\left(F_{t y} \\dot{{G_{4}}}+{G_{4}} \\dot{F_{t y}}\\right) a+\\frac{1}{2}\\left(F_{t y}+F_{y t}\\right) {G_{4}} \\dot{a}+F_{y t} G_{4X} \\dot{a} {\\left(\\dot{\\pi}\\right)}^{2}\\right) {a}^{-2}\\\\[-.5ex]\n",
       "\\square{}^{x}& = -\\left(\\left(F_{t x} \\dot{{G_{4}}}+{G_{4}} \\dot{F_{t x}}\\right) a+\\frac{1}{2}\\left(F_{t x}+F_{x t}\\right) {G_{4}} \\dot{a}+F_{x t} G_{4X} \\dot{a} {\\left(\\dot{\\pi}\\right)}^{2}\\right) {a}^{-2}\\\\[-.5ex]\n",
       "\\square{}^{t}& = 2G_{4X} \\dot{F_{t t}} {\\left(\\dot{\\pi}\\right)}^{2}\\\\[-.5ex]\n",
       "\\end{aligned}\\right.\n",
       "$"
      ]
     },
     "metadata": {},
     "output_type": "display_data"
    }
   ],
   "source": [
    "map_sympy(G2, 'simplify');\n",
    "map_sympy(P2, 'simplify');\n",
    "map_sympy(G3, 'simplify');\n",
    "map_sympy(P3, 'simplify');\n",
    "map_sympy(phi3, 'simplify');\n",
    "map_sympy(G4, 'simplify');\n",
    "map_sympy(P4, 'simplify');\n",
    "map_sympy(phi4, 'simplify');\n",
    "map_sympy(A4, 'simplify')\n",
    "substitute(A4, $F_{t t} -> 0$);"
   ]
  },
  {
   "cell_type": "markdown",
   "metadata": {},
   "source": [
    "Вот тут итоговые уравнения движения при фиксированной калибровке и изотропном фоне."
   ]
  }
 ],
 "metadata": {
  "kernelspec": {
   "display_name": "Cadabra2",
   "language": "python",
   "name": "cadabra2"
  },
  "language_info": {
   "codemirror_mode": "cadabra",
   "file_extension": ".ipynb",
   "mimetype": "text/cadabra",
   "name": "cadabra2",
   "pygments_lexer": "cadabra"
  },
  "latex_envs": {
   "LaTeX_envs_menu_present": true,
   "autoclose": true,
   "autocomplete": true,
   "bibliofile": "biblio.bib",
   "cite_by": "apalike",
   "current_citInitial": 1,
   "eqLabelWithNumbers": true,
   "eqNumInitial": 1,
   "hotkeys": {
    "equation": "Ctrl-E",
    "itemize": "Ctrl-I"
   },
   "labels_anchors": false,
   "latex_user_defs": false,
   "report_style_numbering": false,
   "user_envs_cfg": false
  }
 },
 "nbformat": 4,
 "nbformat_minor": 4
}
