{
 "cells": [
  {
   "cell_type": "markdown",
   "metadata": {},
   "source": [
    "Here I expand all the conventions in the equations of motion from the file \"varying\" to then substitute the Friedman metric into them."
   ]
  },
  {
   "cell_type": "code",
   "execution_count": 1,
   "metadata": {},
   "outputs": [],
   "source": [
    "import sympy\n",
    "import cdb.core.manip as man\n",
    "import functions as fun\n",
    "import varying as var"
   ]
  },
  {
   "cell_type": "code",
   "execution_count": 2,
   "metadata": {},
   "outputs": [],
   "source": [
    "{a,b,c,d,e,f,g,h,i,j,k,l,m,n,o,q,r,s,u,v,w,x,y,z#}::Indices(full,values={t,x,y}, position=independent).\n",
    "\\partial{#}::PartialDerivative.\n",
    "\\nabla{#}::Derivative.\n",
    "{\\nabla{#},\\partial{#}}::Commuting."
   ]
  },
  {
   "cell_type": "code",
   "execution_count": 3,
   "metadata": {},
   "outputs": [],
   "source": [
    "h_{m? n?}::Metric.\n",
    "h^{m? n?}::InverseMetric.\n",
    "h_{m? n?}::Symmetric.\n",
    "h^{m? n?}::Symmetric.\n",
    "\\delta^{m?}_{n?}::KroneckerDelta.\n",
    "\\delta_{m?}^{n?}::KroneckerDelta.\n",
    "F_{m? n?}::AntiSymmetric.\n",
    "G3_{m? n?}::Symmetric.\n",
    "delh_{m n}::Symmetric.\n",
    "delh^{m n}::Symmetric.\n",
    "\\Gamma^{m}_{n q}::TableauSymmetry(shape={2}, indices={1,2})."
   ]
  },
  {
   "cell_type": "code",
   "execution_count": 4,
   "metadata": {},
   "outputs": [],
   "source": [
    "p::Depends(\\nabla{#}, \\partial{#}).\n",
    "X::Depends(\\nabla{#}, \\partial{#}).\n",
    "\\phi::Depends(\\nabla{#}, \\partial{#}).\n",
    "A_{m?}::Depends(\\nabla{#}, \\partial{#}).\n",
    "h_{m n}::Depends(\\partial{#}).\n",
    "h^{m n}::Depends(\\partial{#}).\n",
    "G4::Depends(\\nabla{#}, \\partial{#}).\n",
    "G4p::Depends(\\nabla{#}, \\partial{#}).\n",
    "G4X::Depends(\\nabla{#}, \\partial{#}).\n",
    "G4XX::Depends(\\nabla{#}, \\partial{#}).\n",
    "K::Depends(\\nabla{#}, \\partial{#}).\n",
    "Kp::Depends(\\nabla{#}, \\partial{#}).\n",
    "KX::Depends(\\nabla{#}, \\partial{#}).\n",
    "N::Depends(\\nabla{#}, \\partial{#}).\n",
    "Np::Depends(\\nabla{#}, \\partial{#}).\n",
    "NX::Depends(\\nabla{#}, \\partial{#}).\n",
    "F_{m n}::Depends(\\nabla{#}, \\partial{#}).\n",
    "F^{m n}::Depends(\\nabla{#}, \\partial{#})."
   ]
  },
  {
   "cell_type": "code",
   "execution_count": 5,
   "metadata": {},
   "outputs": [],
   "source": [
    "p::LaTeXForm(\"\\pi\").\n",
    "G4p::LaTeXForm(\"G_{4\\pi}\").\n",
    "G4X::LaTeXForm(\"G_{4X}\").\n",
    "G4XX::LaTeXForm(\"G_{4XX}\").\n",
    "G4Xp::LaTeXForm(\"G_{4\\pi X}\").\n",
    "Kp::LaTeXForm(\"K_{\\pi}\").\n",
    "KX::LaTeXForm(\"K_{X}\").\n",
    "N::LaTeXForm(\"F\").\n",
    "Np::LaTeXForm(\"F_{\\pi}\").\n",
    "NX::LaTeXForm(\"F_{X}\").\n",
    "pi2::LaTeXForm(\"\\pi^{m n}\\pi_{m n}\").\t\n",
    "boxpi4::LaTeXForm(\"\\Box^{(4)}{\\pi}\").\n",
    "delboxpi4::LaTeXForm(\"\\delta\\Box^{(4)}{\\pi}\").\n",
    "pi24::LaTeXForm(\"\\pi^{\\mu \\nu}\\pi_{\\mu \\nu}\").\n",
    "mathcalG{#}::LaTeXForm(\"\\mathcal{G}\").\n",
    "mathcalP{#}::LaTeXForm(\"\\mathcal{P}\").\n",
    "mathcalA{#}::LaTeXForm(\"\\mathcal{A}\").\n",
    "mathcalphi{#}::LaTeXForm(\"\\Phi\")."
   ]
  },
  {
   "cell_type": "markdown",
   "metadata": {},
   "source": [
    "Now I should substitute all notations and expand all nabla-operators as covariant derivatives:"
   ]
  },
  {
   "cell_type": "code",
   "execution_count": 6,
   "metadata": {},
   "outputs": [
    {
     "data": {
      "text/markdown": [
       "${}R = {R_{3}} - \\frac{1}{4}F_{a b} F_{c d} h^{a c} h^{b d} {\\phi}^{2}-2{\\phi}^{-1} h^{a b} \\partial_{a}{\\phi} \\partial_{b}{\\phi}$"
      ]
     },
     "metadata": {},
     "output_type": "display_data"
    }
   ],
   "source": [
    "ScalarCurvature = fun.expand_nabla((var.ScalarCurvature))\n",
    "rename_dummies(ScalarCurvature)\n",
    "canonicalise(ScalarCurvature);"
   ]
  },
  {
   "cell_type": "code",
   "execution_count": 7,
   "metadata": {},
   "outputs": [
    {
     "data": {
      "text/markdown": [
       "${}\\Box\\left(\\pi\\right) = h^{a b} \\left(\\partial_{a}\\left(\\partial_{b}{\\pi}\\right)-\\Gamma^{y}\\,_{a b} \\partial_{y}{\\pi}\\right)$"
      ]
     },
     "metadata": {},
     "output_type": "display_data"
    },
    {
     "data": {
      "text/markdown": [
       "${}\\Box^{(4)}{\\pi} = h^{a b} \\left(\\partial_{a b}{\\pi}-\\Gamma^{y}\\,_{a b} \\partial_{y}{\\pi}\\right)+{\\phi}^{-1} h^{m n} \\partial_{m}{\\phi} \\partial_{n}{\\pi}$"
      ]
     },
     "metadata": {},
     "output_type": "display_data"
    },
    {
     "data": {
      "text/markdown": [
       "${}\\pi^{m n}\\pi_{m n} = h^{m a} h^{n b} \\left(\\partial_{m}\\left(\\partial_{n}{\\pi}\\right)-\\Gamma^{y}\\,_{m n} \\partial_{y}{\\pi}\\right) \\left(\\partial_{a}\\left(\\partial_{b}{\\pi}\\right)-\\Gamma^{w}\\,_{a b} \\partial_{w}{\\pi}\\right)$"
      ]
     },
     "metadata": {},
     "output_type": "display_data"
    },
    {
     "data": {
      "text/markdown": [
       "${}\\pi^{\\mu \\nu}\\pi_{\\mu \\nu} = h^{m a} h^{n b} \\left(\\partial_{m n}{\\pi}-\\Gamma^{y}\\,_{m n} \\partial_{y}{\\pi}\\right) \\left(\\partial_{a b}{\\pi}-\\Gamma^{w}\\,_{a b} \\partial_{w}{\\pi}\\right)+\\frac{1}{2}{\\phi}^{2} h^{a m} h^{r n} F_{m n} F_{a q} h^{q s} \\partial_{r}{\\pi} \\partial_{s}{\\pi}+{\\phi}^{-2} {\\left(h^{a q} \\partial_{q}{\\phi} \\partial_{a}{\\pi}\\right)}^{2}$"
      ]
     },
     "metadata": {},
     "output_type": "display_data"
    },
    {
     "data": {
      "text/markdown": [
       "${}X_{a b} = \\partial_{a}{\\pi} \\partial_{b}{\\pi}$"
      ]
     },
     "metadata": {},
     "output_type": "display_data"
    },
    {
     "data": {
      "text/markdown": [
       "${}Z = h^{a b} \\partial_{a}{\\phi} \\partial_{b}{\\pi} {\\phi}^{-1}$"
      ]
     },
     "metadata": {},
     "output_type": "display_data"
    }
   ],
   "source": [
    "box3D = fun.expand_nabla((var.box3D));\n",
    "box4D = fun.expand_nabla((var.box4D))\n",
    "substitute(box4D, box3D);\n",
    "sq3D = fun.expand_nabla((var.sq3D));\n",
    "sq4D = fun.expand_nabla((var.sq4D))\n",
    "substitute(sq4D, sq3D);\n",
    "X := X_{a b} = \\nabla_{a}{p}\\nabla_{b}{p}.\n",
    "fun.expand_nabla(X);\n",
    "Z:= Z = h^{a b} \\nabla_{a}{\\phi}\\nabla_{b}{p} \\phi **(-1).\n",
    "fun.expand_nabla(Z);"
   ]
  },
  {
   "cell_type": "code",
   "execution_count": 8,
   "metadata": {},
   "outputs": [
    {
     "data": {
      "text/markdown": [
       "${}\\Box^{(4)}{\\pi} = h^{b c} \\left(\\partial_{b c}{\\pi}-\\Gamma^{a}\\,_{b c} \\partial_{a}{\\pi}\\right)+{\\phi}^{-1} h^{a b} \\partial_{a}{\\phi} \\partial_{b}{\\pi}$"
      ]
     },
     "metadata": {},
     "output_type": "display_data"
    }
   ],
   "source": [
    "rename_dummies(box4D);"
   ]
  },
  {
   "cell_type": "code",
   "execution_count": 9,
   "metadata": {},
   "outputs": [
    {
     "data": {
      "text/markdown": [
       "${}\\pi^{\\mu \\nu}\\pi_{\\mu \\nu} = h^{b e} h^{c f} \\left(\\partial_{b c}{\\pi}-\\Gamma^{a}\\,_{b c} \\partial_{a}{\\pi}\\right) \\left(\\partial_{e f}{\\pi}-\\Gamma^{d}\\,_{e f} \\partial_{d}{\\pi}\\right)+\\frac{1}{2}{\\phi}^{2} h^{c a} h^{e b} F_{a b} F_{c d} h^{d f} \\partial_{e}{\\pi} \\partial_{f}{\\pi}+{\\phi}^{-2} {\\left(h^{b a} \\partial_{a}{\\phi} \\partial_{b}{\\pi}\\right)}^{2}$"
      ]
     },
     "metadata": {},
     "output_type": "display_data"
    }
   ],
   "source": [
    "rename_dummies(sq4D);"
   ]
  },
  {
   "cell_type": "code",
   "execution_count": 10,
   "metadata": {},
   "outputs": [
    {
     "data": {
      "text/markdown": [
       "${}\\mathcal{G}^{2}\\,_{a b} =  - \\frac{1}{2}h_{a b} F - \\frac{1}{2}F_{X} \\partial_{a}{\\pi} \\partial_{b}{\\pi}$"
      ]
     },
     "metadata": {},
     "output_type": "display_data"
    },
    {
     "data": {
      "text/markdown": [
       "${}\\mathcal{P}^{2} = F_{\\pi}+h^{a b} \\left(\\partial_{b}\\left(F_{X} \\partial_{a}{\\pi}\\right)-\\Gamma^{y}\\,_{b a} F_{X} \\partial_{y}{\\pi}\\right)$"
      ]
     },
     "metadata": {},
     "output_type": "display_data"
    },
    {
     "data": {
      "text/markdown": [
       "${}\\mathcal{G}^{3}\\,_{a b} = \\frac{1}{2}K h^{c d} \\partial_{c}{\\phi} \\partial_{d}{\\pi} {\\phi}^{-1} h_{a b}+\\frac{1}{2}K_{X} \\partial_{a}{\\pi} \\partial_{b}{\\pi} h^{c d} \\left(\\partial_{c d}{\\pi}-\\Gamma^{y}\\,_{c d} \\partial_{y}{\\pi}\\right) - \\frac{1}{2}\\partial_{c}{K} \\partial_{d}{\\pi} h_{a b} h^{c d}+\\frac{1}{2}K_{X} h^{c d} \\partial_{c}{\\phi} \\partial_{d}{\\pi} {\\phi}^{-1} \\partial_{a}{\\pi} \\partial_{b}{\\pi}-K \\partial_{a}{\\phi} \\partial_{b}{\\pi} {\\phi}^{-1}+\\partial_{a}{K} \\partial_{b}{\\pi}$"
      ]
     },
     "metadata": {},
     "output_type": "display_data"
    }
   ],
   "source": [
    "G2 = fun.expand_nabla(var.mathcalG2);\n",
    "P2 = fun.expand_nabla(var.mathcalP2);\n",
    "G3 = substitute(var.mathcalG3, box3D)\n",
    "substitute(G3, X)\n",
    "substitute(G3, Z)\n",
    "fun.expand_nabla(G3)\n",
    "G3 := @[G3];"
   ]
  },
  {
   "cell_type": "code",
   "execution_count": 11,
   "metadata": {},
   "outputs": [
    {
     "data": {
      "text/markdown": [
       "${}\\mathcal{P}^{3} = -\\left(\\partial_{b c}{K}-\\Gamma^{a}\\,_{b c} \\partial_{a}{K}\\right) h^{b c}-K_{\\pi} \\left(\\partial_{b c}{\\pi}-\\Gamma^{a}\\,_{b c} \\partial_{a}{\\pi}\\right) h^{b c}-K_{\\pi} \\partial_{a}{\\phi} \\partial_{b}{\\pi} {\\phi}^{-1} h^{a b}-\\left(\\partial_{d}\\left(K_{X} \\left(\\partial_{b c}{\\pi}-\\Gamma^{a}\\,_{b c} \\partial_{a}{\\pi}\\right) \\partial_{f}{\\pi}\\right)-\\Gamma^{a}\\,_{d b} K_{X} \\left(\\partial_{a c}{\\pi}-\\Gamma^{e}\\,_{a c} \\partial_{e}{\\pi}\\right) \\partial_{f}{\\pi}-\\Gamma^{a}\\,_{d f} K_{X} \\left(\\partial_{b c}{\\pi}-\\Gamma^{e}\\,_{b c} \\partial_{e}{\\pi}\\right) \\partial_{a}{\\pi}-\\Gamma^{a}\\,_{d c} K_{X} \\left(\\partial_{a b}{\\pi}-\\Gamma^{e}\\,_{a b} \\partial_{e}{\\pi}\\right) \\partial_{f}{\\pi}\\right) h^{d f} h^{b c}-\\left(\\partial_{b}\\left(K_{X} \\partial_{c}{\\phi} \\partial_{d}{\\pi} \\partial_{e}{\\pi} {\\phi}^{-1}\\right)-\\Gamma^{a}\\,_{b c} K_{X} \\partial_{a}{\\phi} \\partial_{d}{\\pi} \\partial_{e}{\\pi} {\\phi}^{-1}-\\Gamma^{a}\\,_{b d} K_{X} \\partial_{c}{\\phi} \\partial_{e}{\\pi} \\partial_{a}{\\pi} {\\phi}^{-1}-\\Gamma^{a}\\,_{b e} K_{X} \\partial_{c}{\\phi} \\partial_{d}{\\pi} \\partial_{a}{\\pi} {\\phi}^{-1}\\right) h^{b e} h^{c d}+\\left(\\partial_{b}\\left(K \\partial_{c}{\\phi} {\\phi}^{-1}\\right)-\\Gamma^{a}\\,_{b c} K \\partial_{a}{\\phi} {\\phi}^{-1}\\right) h^{b c}$"
      ]
     },
     "metadata": {},
     "output_type": "display_data"
    }
   ],
   "source": [
    "P3 = fun.expand_nabla(var.mathcalP3)\n",
    "rename_dummies(P3)\n",
    "canonicalise(P3)\n",
    "P3 := @[P3];"
   ]
  },
  {
   "cell_type": "code",
   "execution_count": 12,
   "metadata": {},
   "outputs": [
    {
     "data": {
      "text/markdown": [
       "${}\\Phi^{3} = K \\partial_{a}{\\phi} \\partial_{b}{\\pi} {\\phi}^{-2} h^{a b}+\\left(\\partial_{a}\\left(K \\partial_{b}{\\pi} {\\phi}^{-1}\\right)-\\Gamma^{y}\\,_{a b} K \\partial_{y}{\\pi} {\\phi}^{-1}\\right) h^{a b}$"
      ]
     },
     "metadata": {},
     "output_type": "display_data"
    }
   ],
   "source": [
    "phi3 = fun.expand_nabla(var.mathcalphi3);"
   ]
  },
  {
   "cell_type": "code",
   "execution_count": 13,
   "metadata": {},
   "outputs": [
    {
     "data": {
      "text/markdown": [
       "${}\\mathcal{G}^{4}\\,_{a b} = {G_{4}} R_{a b}-2{G_{4}} \\nabla_{a}{\\phi} \\nabla_{b}{\\phi} {\\phi}^{-1}-\\nabla_{a}\\left(\\nabla_{b}\\left({G_{4}}\\right)\\right)+\\nabla_{c}\\left(\\nabla_{d}\\left({G_{4}}\\right)\\right) h^{c d} h_{a b} - \\frac{1}{2}F_{a c} F_{b d} {G_{4}} {\\phi}^{2} h^{c d}-2\\nabla_{a}\\left(G_{4X} \\nabla_{b}{\\pi} \\Box^{(4)}{\\pi}\\right)+\\nabla_{c}\\left(G_{4X} \\nabla_{d}{\\pi} \\Box^{(4)}{\\pi}\\right) h_{a b} h^{c d}+\\nabla_{c}\\left(G_{4X} \\nabla_{d}\\left(\\nabla_{a}{\\pi}\\right) \\nabla_{b}{\\pi}\\right) h^{c d}+\\nabla_{d}\\left(G_{4X} \\nabla_{a}\\left(\\nabla_{c}{\\pi}\\right) \\nabla_{b}{\\pi}\\right) h^{d c}-\\nabla_{c}\\left(G_{4X} \\nabla_{a}\\left(\\nabla_{b}{\\pi}\\right) \\nabla_{d}{\\pi}\\right) h^{c d}+G_{4X} \\left( - \\frac{1}{2}{\\Box^{(4)}{\\pi}}^{2} h_{a b}+\\frac{1}{2}h_{a b} \\pi^{\\mu \\nu}\\pi_{\\mu \\nu}-2\\nabla_{a}\\left(\\nabla_{c}{\\pi}\\right) \\nabla_{b}\\left(\\nabla_{d}{\\pi}\\right) h^{c d} - \\frac{1}{2}F_{a c} F_{b d} \\nabla_{e}{\\pi} \\nabla_{f}{\\pi} {\\phi}^{2} h^{c e} h^{d f}-2\\nabla_{a}{\\phi} \\nabla_{c}{\\phi} \\nabla_{b}{\\pi} \\nabla_{d}{\\pi} {\\phi}^{-2} h^{c d}+F_{a e} F_{c d} \\nabla_{b}{\\pi} \\nabla_{f}{\\pi} {\\phi}^{2} h^{e c} h^{d f}\\right)+G_{4XX} \\left( - \\frac{1}{2}\\nabla_{a}{\\pi} \\nabla_{b}{\\pi} {\\Box^{(4)}{\\pi}}^{2}+\\frac{1}{2}\\nabla_{a}{\\pi} \\nabla_{b}{\\pi} \\pi^{\\mu \\nu}\\pi_{\\mu \\nu}\\right)+G_{4X} \\Box^{(4)}{\\pi} \\left(2\\nabla_{a}\\left(\\nabla_{b}{\\pi}\\right)+2\\nabla_{a}{\\phi} \\nabla_{b}{\\pi} {\\phi}^{-1}\\right)+R \\left( - \\frac{1}{2}{G_{4}} h_{a b} - \\frac{1}{2}G_{4X} \\nabla_{a}{\\pi} \\nabla_{b}{\\pi}\\right)$"
      ]
     },
     "metadata": {},
     "output_type": "display_data"
    }
   ],
   "source": [
    "G4 = factor_out(var.mathcalG4, $R$);"
   ]
  },
  {
   "cell_type": "code",
   "execution_count": 14,
   "metadata": {},
   "outputs": [
    {
     "data": {
      "text/markdown": [
       "${}\\mathcal{G}^{4}\\,_{a b} = {G_{4}} R_{a b}-2{G_{4}} \\nabla_{a}{\\phi} \\nabla_{b}{\\phi} {\\phi}^{-1}-\\nabla_{a}\\left(\\nabla_{b}\\left({G_{4}}\\right)\\right)+\\nabla_{c}\\left(\\nabla_{d}\\left({G_{4}}\\right)\\right) h_{a b} h^{c d} - \\frac{1}{2}F_{a c} F_{b d} {G_{4}} {\\phi}^{2} h^{c d}-2\\nabla_{a}\\left(G_{4X} \\nabla_{b}{\\pi} \\Box^{(4)}{\\pi}\\right)+\\nabla_{c}\\left(G_{4X} \\nabla_{d}{\\pi} \\Box^{(4)}{\\pi}\\right) h_{a b} h^{c d}+\\nabla_{c}\\left(G_{4X} \\nabla_{d}\\left(\\nabla_{a}{\\pi}\\right) \\nabla_{b}{\\pi}\\right) h^{c d}+\\nabla_{c}\\left(G_{4X} \\nabla_{a}\\left(\\nabla_{d}{\\pi}\\right) \\nabla_{b}{\\pi}\\right) h^{c d}-\\nabla_{c}\\left(G_{4X} \\nabla_{a}\\left(\\nabla_{b}{\\pi}\\right) \\nabla_{d}{\\pi}\\right) h^{c d}+G_{4X} \\left( - \\frac{1}{2}{\\Box^{(4)}{\\pi}}^{2} h_{a b}+\\frac{1}{2}h_{a b} \\pi^{\\mu \\nu}\\pi_{\\mu \\nu}-2\\nabla_{a}\\left(\\nabla_{c}{\\pi}\\right) \\nabla_{b}\\left(\\nabla_{d}{\\pi}\\right) h^{c d} - \\frac{1}{2}F_{a c} F_{b d} \\nabla_{e}{\\pi} \\nabla_{f}{\\pi} {\\phi}^{2} h^{c e} h^{d f}-2\\nabla_{a}{\\phi} \\nabla_{c}{\\phi} \\nabla_{b}{\\pi} \\nabla_{d}{\\pi} {\\phi}^{-2} h^{c d}+F_{a c} F_{d e} \\nabla_{b}{\\pi} \\nabla_{f}{\\pi} {\\phi}^{2} h^{c d} h^{e f}\\right)+G_{4XX} \\left( - \\frac{1}{2}\\nabla_{a}{\\pi} \\nabla_{b}{\\pi} {\\Box^{(4)}{\\pi}}^{2}+\\frac{1}{2}\\nabla_{a}{\\pi} \\nabla_{b}{\\pi} \\pi^{\\mu \\nu}\\pi_{\\mu \\nu}\\right)+G_{4X} \\left(2\\nabla_{a}\\left(\\nabla_{b}{\\pi}\\right)+2\\nabla_{a}{\\phi} \\nabla_{b}{\\pi} {\\phi}^{-1}\\right) \\Box^{(4)}{\\pi}+R \\left( - \\frac{1}{2}{G_{4}} h_{a b} - \\frac{1}{2}G_{4X} \\nabla_{a}{\\pi} \\nabla_{b}{\\pi}\\right)$"
      ]
     },
     "metadata": {},
     "output_type": "display_data"
    }
   ],
   "source": [
    "rename_dummies(G4)\n",
    "canonicalise(G4)\n",
    "sort_product(G4);"
   ]
  },
  {
   "cell_type": "code",
   "execution_count": 15,
   "metadata": {},
   "outputs": [
    {
     "data": {
      "text/markdown": [
       "${}\\mathcal{G}^{4}\\,_{a b} = {G_{4}} R_{a b}-2{G_{4}} \\partial_{a}{\\phi} \\partial_{b}{\\phi} {\\phi}^{-1}-\\partial_{a}\\left(\\partial_{b}\\left({G_{4}}\\right)\\right)+\\Gamma^{y}\\,_{a b} \\partial_{y}\\left({G_{4}}\\right)+\\left(\\partial_{c}\\left(\\partial_{d}\\left({G_{4}}\\right)\\right)-\\Gamma^{y}\\,_{c d} \\partial_{y}\\left({G_{4}}\\right)\\right) h_{a b} h^{c d} - \\frac{1}{2}F_{a c} F_{b d} {G_{4}} {\\phi}^{2} h^{c d}-2\\partial_{a}\\left(G_{4X} \\partial_{b}{\\pi} \\Box^{(4)}{\\pi}\\right)+2\\Gamma^{y}\\,_{a b} G_{4X} \\partial_{y}{\\pi} \\Box^{(4)}{\\pi}+\\left(\\partial_{c}\\left(G_{4X} \\partial_{d}{\\pi} \\Box^{(4)}{\\pi}\\right)-\\Gamma^{y}\\,_{c d} G_{4X} \\partial_{y}{\\pi} \\Box^{(4)}{\\pi}\\right) h_{a b} h^{c d}+\\left(\\partial_{c}\\left(G_{4X} \\left(\\partial_{d a}{\\pi}-\\Gamma^{y}\\,_{d a} \\partial_{y}{\\pi}\\right) \\partial_{b}{\\pi}\\right)-\\Gamma^{w}\\,_{c b} G_{4X} \\left(\\partial_{d a}{\\pi}-\\Gamma^{y}\\,_{d a} \\partial_{y}{\\pi}\\right) \\partial_{w}{\\pi}-\\Gamma^{w}\\,_{c a} G_{4X} \\left(\\partial_{d w}{\\pi}-\\Gamma^{y}\\,_{d w} \\partial_{y}{\\pi}\\right) \\partial_{b}{\\pi}-\\Gamma^{w}\\,_{c d} G_{4X} \\left(\\partial_{w a}{\\pi}-\\Gamma^{y}\\,_{w a} \\partial_{y}{\\pi}\\right) \\partial_{b}{\\pi}\\right) h^{c d}+\\left(\\partial_{c}\\left(G_{4X} \\left(\\partial_{a d}{\\pi}-\\Gamma^{y}\\,_{a d} \\partial_{y}{\\pi}\\right) \\partial_{b}{\\pi}\\right)-\\Gamma^{w}\\,_{c b} G_{4X} \\left(\\partial_{a d}{\\pi}-\\Gamma^{y}\\,_{a d} \\partial_{y}{\\pi}\\right) \\partial_{w}{\\pi}-\\Gamma^{w}\\,_{c a} G_{4X} \\left(\\partial_{w d}{\\pi}-\\Gamma^{y}\\,_{w d} \\partial_{y}{\\pi}\\right) \\partial_{b}{\\pi}-\\Gamma^{w}\\,_{c d} G_{4X} \\left(\\partial_{a w}{\\pi}-\\Gamma^{y}\\,_{a w} \\partial_{y}{\\pi}\\right) \\partial_{b}{\\pi}\\right) h^{c d}-\\left(\\partial_{c}\\left(G_{4X} \\left(\\partial_{a b}{\\pi}-\\Gamma^{y}\\,_{a b} \\partial_{y}{\\pi}\\right) \\partial_{d}{\\pi}\\right)-\\Gamma^{w}\\,_{c b} G_{4X} \\left(\\partial_{a w}{\\pi}-\\Gamma^{y}\\,_{a w} \\partial_{y}{\\pi}\\right) \\partial_{d}{\\pi}-\\Gamma^{w}\\,_{c a} G_{4X} \\left(\\partial_{w b}{\\pi}-\\Gamma^{y}\\,_{w b} \\partial_{y}{\\pi}\\right) \\partial_{d}{\\pi}-\\Gamma^{w}\\,_{c d} G_{4X} \\left(\\partial_{a b}{\\pi}-\\Gamma^{y}\\,_{a b} \\partial_{y}{\\pi}\\right) \\partial_{w}{\\pi}\\right) h^{c d}+G_{4X} \\left( - \\frac{1}{2}{\\Box^{(4)}{\\pi}}^{2} h_{a b}+\\frac{1}{2}h_{a b} \\pi^{\\mu \\nu}\\pi_{\\mu \\nu}-2\\left(\\partial_{a}\\left(\\partial_{c}{\\pi}\\right)-\\Gamma^{y}\\,_{a c} \\partial_{y}{\\pi}\\right) \\left(\\partial_{b}\\left(\\partial_{d}{\\pi}\\right)-\\Gamma^{w}\\,_{b d} \\partial_{w}{\\pi}\\right) h^{c d} - \\frac{1}{2}F_{a c} F_{b d} \\partial_{e}{\\pi} \\partial_{f}{\\pi} {\\phi}^{2} h^{c e} h^{d f}-2\\partial_{a}{\\phi} \\partial_{c}{\\phi} \\partial_{b}{\\pi} \\partial_{d}{\\pi} {\\phi}^{-2} h^{c d}+F_{a c} F_{d e} \\partial_{b}{\\pi} \\partial_{f}{\\pi} {\\phi}^{2} h^{c d} h^{e f}\\right)+G_{4XX} \\left( - \\frac{1}{2}\\partial_{a}{\\pi} \\partial_{b}{\\pi} {\\Box^{(4)}{\\pi}}^{2}+\\frac{1}{2}\\partial_{a}{\\pi} \\partial_{b}{\\pi} \\pi^{\\mu \\nu}\\pi_{\\mu \\nu}\\right)+G_{4X} \\left(2\\partial_{a}\\left(\\partial_{b}{\\pi}\\right)-2\\Gamma^{y}\\,_{a b} \\partial_{y}{\\pi}+2\\partial_{a}{\\phi} \\partial_{b}{\\pi} {\\phi}^{-1}\\right) \\Box^{(4)}{\\pi}+R \\left( - \\frac{1}{2}{G_{4}} h_{a b} - \\frac{1}{2}G_{4X} \\partial_{a}{\\pi} \\partial_{b}{\\pi}\\right)$"
      ]
     },
     "metadata": {},
     "output_type": "display_data"
    }
   ],
   "source": [
    "fun.expand_nabla(G4);"
   ]
  },
  {
   "cell_type": "code",
   "execution_count": 16,
   "metadata": {},
   "outputs": [
    {
     "data": {
      "text/markdown": [
       "${}\\mathcal{G}^{4}\\,_{a b} = {G_{4}} R_{a b}-2{G_{4}} \\partial_{a}{\\phi} \\partial_{b}{\\phi} {\\phi}^{-1}-\\partial_{a}\\left(\\partial_{b}\\left({G_{4}}\\right)\\right)+\\Gamma^{c}\\,_{a b} \\partial_{c}\\left({G_{4}}\\right)+\\left(\\partial_{d}\\left(\\partial_{e}\\left({G_{4}}\\right)\\right)-\\Gamma^{c}\\,_{d e} \\partial_{c}\\left({G_{4}}\\right)\\right) h_{a b} h^{d e} - \\frac{1}{2}F_{a c} F_{b d} {G_{4}} {\\phi}^{2} h^{c d}-2\\partial_{a}\\left(G_{4X} \\partial_{b}{\\pi} \\Box^{(4)}{\\pi}\\right)+2\\Gamma^{c}\\,_{a b} G_{4X} \\partial_{c}{\\pi} \\Box^{(4)}{\\pi}+\\left(\\partial_{d}\\left(G_{4X} \\partial_{e}{\\pi} \\Box^{(4)}{\\pi}\\right)-\\Gamma^{c}\\,_{d e} G_{4X} \\partial_{c}{\\pi} \\Box^{(4)}{\\pi}\\right) h_{a b} h^{d e}+\\left(\\partial_{e}\\left(G_{4X} \\left(\\partial_{d a}{\\pi}-\\Gamma^{c}\\,_{d a} \\partial_{c}{\\pi}\\right) \\partial_{b}{\\pi}\\right)-\\Gamma^{c}\\,_{e b} G_{4X} \\left(\\partial_{d a}{\\pi}-\\Gamma^{f}\\,_{d a} \\partial_{f}{\\pi}\\right) \\partial_{c}{\\pi}-\\Gamma^{c}\\,_{e a} G_{4X} \\left(\\partial_{d c}{\\pi}-\\Gamma^{f}\\,_{d c} \\partial_{f}{\\pi}\\right) \\partial_{b}{\\pi}-\\Gamma^{c}\\,_{e d} G_{4X} \\left(\\partial_{c a}{\\pi}-\\Gamma^{f}\\,_{c a} \\partial_{f}{\\pi}\\right) \\partial_{b}{\\pi}\\right) h^{e d}+\\left(\\partial_{e}\\left(G_{4X} \\left(\\partial_{a d}{\\pi}-\\Gamma^{c}\\,_{a d} \\partial_{c}{\\pi}\\right) \\partial_{b}{\\pi}\\right)-\\Gamma^{c}\\,_{e b} G_{4X} \\left(\\partial_{a d}{\\pi}-\\Gamma^{f}\\,_{a d} \\partial_{f}{\\pi}\\right) \\partial_{c}{\\pi}-\\Gamma^{c}\\,_{e a} G_{4X} \\left(\\partial_{c d}{\\pi}-\\Gamma^{f}\\,_{c d} \\partial_{f}{\\pi}\\right) \\partial_{b}{\\pi}-\\Gamma^{c}\\,_{e d} G_{4X} \\left(\\partial_{a c}{\\pi}-\\Gamma^{f}\\,_{a c} \\partial_{f}{\\pi}\\right) \\partial_{b}{\\pi}\\right) h^{e d}-\\left(\\partial_{d}\\left(G_{4X} \\left(\\partial_{a b}{\\pi}-\\Gamma^{c}\\,_{a b} \\partial_{c}{\\pi}\\right) \\partial_{f}{\\pi}\\right)-\\Gamma^{c}\\,_{d b} G_{4X} \\left(\\partial_{a c}{\\pi}-\\Gamma^{e}\\,_{a c} \\partial_{e}{\\pi}\\right) \\partial_{f}{\\pi}-\\Gamma^{c}\\,_{d a} G_{4X} \\left(\\partial_{c b}{\\pi}-\\Gamma^{e}\\,_{c b} \\partial_{e}{\\pi}\\right) \\partial_{f}{\\pi}-\\Gamma^{c}\\,_{d f} G_{4X} \\left(\\partial_{a b}{\\pi}-\\Gamma^{e}\\,_{a b} \\partial_{e}{\\pi}\\right) \\partial_{c}{\\pi}\\right) h^{d f}+G_{4X} \\left( - \\frac{1}{2}{\\Box^{(4)}{\\pi}}^{2} h_{a b}+\\frac{1}{2}h_{a b} \\pi^{\\mu \\nu}\\pi_{\\mu \\nu}-2\\left(\\partial_{a}\\left(\\partial_{d}{\\pi}\\right)-\\Gamma^{c}\\,_{a d} \\partial_{c}{\\pi}\\right) \\left(\\partial_{b}\\left(\\partial_{f}{\\pi}\\right)-\\Gamma^{e}\\,_{b f} \\partial_{e}{\\pi}\\right) h^{d f} - \\frac{1}{2}F_{a c} F_{b d} \\partial_{e}{\\pi} \\partial_{f}{\\pi} {\\phi}^{2} h^{c e} h^{d f}-2\\partial_{a}{\\phi} \\partial_{c}{\\phi} \\partial_{b}{\\pi} \\partial_{d}{\\pi} {\\phi}^{-2} h^{c d}+F_{a c} F_{d e} \\partial_{b}{\\pi} \\partial_{f}{\\pi} {\\phi}^{2} h^{c d} h^{e f}\\right)+G_{4XX} \\left( - \\frac{1}{2}\\partial_{a}{\\pi} \\partial_{b}{\\pi} {\\Box^{(4)}{\\pi}}^{2}+\\frac{1}{2}\\partial_{a}{\\pi} \\partial_{b}{\\pi} \\pi^{\\mu \\nu}\\pi_{\\mu \\nu}\\right)+G_{4X} \\left(2\\partial_{a}\\left(\\partial_{b}{\\pi}\\right)-2\\Gamma^{c}\\,_{a b} \\partial_{c}{\\pi}+2\\partial_{a}{\\phi} \\partial_{b}{\\pi} {\\phi}^{-1}\\right) \\Box^{(4)}{\\pi}+R \\left( - \\frac{1}{2}{G_{4}} h_{a b} - \\frac{1}{2}G_{4X} \\partial_{a}{\\pi} \\partial_{b}{\\pi}\\right)$"
      ]
     },
     "metadata": {},
     "output_type": "display_data"
    }
   ],
   "source": [
    "rename_dummies(G4);"
   ]
  },
  {
   "cell_type": "code",
   "execution_count": 17,
   "metadata": {},
   "outputs": [
    {
     "data": {
      "text/markdown": [
       "${}\\mathcal{G}^{4}\\,_{a b} = {G_{4}} R_{a b}-2{G_{4}} \\partial_{a}{\\phi} \\partial_{b}{\\phi} {\\phi}^{-1}-\\partial_{a b}\\left({G_{4}}\\right)+\\Gamma^{c}\\,_{a b} \\partial_{c}\\left({G_{4}}\\right)+\\left(\\partial_{d e}\\left({G_{4}}\\right)-\\Gamma^{c}\\,_{d e} \\partial_{c}\\left({G_{4}}\\right)\\right) h_{a b} h^{d e} - \\frac{1}{2}F_{a c} F_{b d} {G_{4}} {\\phi}^{2} h^{c d}-2\\partial_{a}\\left(G_{4X} \\partial_{b}{\\pi} \\Box^{(4)}{\\pi}\\right)+2\\Gamma^{c}\\,_{a b} G_{4X} \\partial_{c}{\\pi} \\Box^{(4)}{\\pi}+\\left(\\partial_{d}\\left(G_{4X} \\partial_{e}{\\pi} \\Box^{(4)}{\\pi}\\right)-\\Gamma^{c}\\,_{d e} G_{4X} \\partial_{c}{\\pi} \\Box^{(4)}{\\pi}\\right) h_{a b} h^{d e}+\\left(\\partial_{e}\\left(G_{4X} \\left(\\partial_{d a}{\\pi}-\\Gamma^{c}\\,_{d a} \\partial_{c}{\\pi}\\right) \\partial_{b}{\\pi}\\right)-\\Gamma^{c}\\,_{e b} G_{4X} \\left(\\partial_{d a}{\\pi}-\\Gamma^{f}\\,_{d a} \\partial_{f}{\\pi}\\right) \\partial_{c}{\\pi}-\\Gamma^{c}\\,_{e a} G_{4X} \\left(\\partial_{d c}{\\pi}-\\Gamma^{f}\\,_{d c} \\partial_{f}{\\pi}\\right) \\partial_{b}{\\pi}-\\Gamma^{c}\\,_{e d} G_{4X} \\left(\\partial_{c a}{\\pi}-\\Gamma^{f}\\,_{c a} \\partial_{f}{\\pi}\\right) \\partial_{b}{\\pi}\\right) h^{e d}+\\left(\\partial_{e}\\left(G_{4X} \\left(\\partial_{a d}{\\pi}-\\Gamma^{c}\\,_{a d} \\partial_{c}{\\pi}\\right) \\partial_{b}{\\pi}\\right)-\\Gamma^{c}\\,_{e b} G_{4X} \\left(\\partial_{a d}{\\pi}-\\Gamma^{f}\\,_{a d} \\partial_{f}{\\pi}\\right) \\partial_{c}{\\pi}-\\Gamma^{c}\\,_{e a} G_{4X} \\left(\\partial_{c d}{\\pi}-\\Gamma^{f}\\,_{c d} \\partial_{f}{\\pi}\\right) \\partial_{b}{\\pi}-\\Gamma^{c}\\,_{e d} G_{4X} \\left(\\partial_{a c}{\\pi}-\\Gamma^{f}\\,_{a c} \\partial_{f}{\\pi}\\right) \\partial_{b}{\\pi}\\right) h^{e d}-\\left(\\partial_{d}\\left(G_{4X} \\left(\\partial_{a b}{\\pi}-\\Gamma^{c}\\,_{a b} \\partial_{c}{\\pi}\\right) \\partial_{f}{\\pi}\\right)-\\Gamma^{c}\\,_{d b} G_{4X} \\left(\\partial_{a c}{\\pi}-\\Gamma^{e}\\,_{a c} \\partial_{e}{\\pi}\\right) \\partial_{f}{\\pi}-\\Gamma^{c}\\,_{d a} G_{4X} \\left(\\partial_{c b}{\\pi}-\\Gamma^{e}\\,_{c b} \\partial_{e}{\\pi}\\right) \\partial_{f}{\\pi}-\\Gamma^{c}\\,_{d f} G_{4X} \\left(\\partial_{a b}{\\pi}-\\Gamma^{e}\\,_{a b} \\partial_{e}{\\pi}\\right) \\partial_{c}{\\pi}\\right) h^{d f}+G_{4X} \\left( - \\frac{1}{2}{\\Box^{(4)}{\\pi}}^{2} h_{a b}+\\frac{1}{2}h_{a b} \\pi^{\\mu \\nu}\\pi_{\\mu \\nu}-2\\left(\\partial_{a d}{\\pi}-\\Gamma^{c}\\,_{a d} \\partial_{c}{\\pi}\\right) \\left(\\partial_{b f}{\\pi}-\\Gamma^{e}\\,_{b f} \\partial_{e}{\\pi}\\right) h^{d f} - \\frac{1}{2}F_{a c} F_{b d} \\partial_{e}{\\pi} \\partial_{f}{\\pi} {\\phi}^{2} h^{c e} h^{d f}-2\\partial_{a}{\\phi} \\partial_{c}{\\phi} \\partial_{b}{\\pi} \\partial_{d}{\\pi} {\\phi}^{-2} h^{c d}+F_{a c} F_{d e} \\partial_{b}{\\pi} \\partial_{f}{\\pi} {\\phi}^{2} h^{c d} h^{e f}\\right)+G_{4XX} \\left( - \\frac{1}{2}\\partial_{a}{\\pi} \\partial_{b}{\\pi} {\\Box^{(4)}{\\pi}}^{2}+\\frac{1}{2}\\partial_{a}{\\pi} \\partial_{b}{\\pi} \\pi^{\\mu \\nu}\\pi_{\\mu \\nu}\\right)+G_{4X} \\left(2\\partial_{a b}{\\pi}-2\\Gamma^{c}\\,_{a b} \\partial_{c}{\\pi}+2\\partial_{a}{\\phi} \\partial_{b}{\\pi} {\\phi}^{-1}\\right) \\Box^{(4)}{\\pi}+R \\left( - \\frac{1}{2}{G_{4}} h_{a b} - \\frac{1}{2}G_{4X} \\partial_{a}{\\pi} \\partial_{b}{\\pi}\\right)$"
      ]
     },
     "metadata": {},
     "output_type": "display_data"
    }
   ],
   "source": [
    "G4:= @[G4];"
   ]
  },
  {
   "cell_type": "code",
   "execution_count": 19,
   "metadata": {},
   "outputs": [
    {
     "data": {
      "text/markdown": [
       "${}\\mathcal{P}^{4} = G_{4\\pi} R+\\left(\\partial_{a}\\left(G_{4X} R \\partial_{b}{\\pi}\\right)-\\Gamma^{y}\\,_{a b} G_{4X} R \\partial_{y}{\\pi}\\right) h^{a b}+G_{4\\pi X} {\\Box^{(4)}{\\pi}}^{2}-G_{4\\pi X} \\pi^{\\mu \\nu}\\pi_{\\mu \\nu}+\\left(\\partial_{a}\\left(G_{4XX} \\partial_{b}{\\pi} {\\Box^{(4)}{\\pi}}^{2}\\right)-\\Gamma^{y}\\,_{a b} G_{4XX} \\partial_{y}{\\pi} {\\Box^{(4)}{\\pi}}^{2}\\right) h^{a b}-\\left(\\partial_{a}\\left(G_{4XX} \\partial_{b}{\\pi} \\pi^{\\mu \\nu}\\pi_{\\mu \\nu}\\right)-\\Gamma^{y}\\,_{a b} G_{4XX} \\partial_{y}{\\pi} \\pi^{\\mu \\nu}\\pi_{\\mu \\nu}\\right) h^{a b}-2\\left(\\partial_{a}\\left(G_{4X} \\partial_{b}{\\phi} {\\phi}^{-1} \\Box^{(4)}{\\pi}\\right)-\\Gamma^{y}\\,_{a b} G_{4X} \\partial_{y}{\\phi} {\\phi}^{-1} \\Box^{(4)}{\\pi}\\right) h^{a b}+2\\left(\\partial_{a b}\\left(G_{4X} \\Box^{(4)}{\\pi}\\right)-\\Gamma^{y}\\,_{a b} \\partial_{y}\\left(G_{4X} \\Box^{(4)}{\\pi}\\right)\\right) h^{a b}-2\\left(\\partial_{a}\\left(\\partial_{b}\\left(G_{4X} \\left(\\partial_{c d}{\\pi}-\\Gamma^{y}\\,_{c d} \\partial_{y}{\\pi}\\right)\\right)-\\Gamma^{x}\\,_{b d} G_{4X} \\left(\\partial_{c x}{\\pi}-\\Gamma^{y}\\,_{c x} \\partial_{y}{\\pi}\\right)-\\Gamma^{x}\\,_{b c} G_{4X} \\left(\\partial_{x d}{\\pi}-\\Gamma^{y}\\,_{x d} \\partial_{y}{\\pi}\\right)\\right)-\\Gamma^{w}\\,_{a b} \\left(\\partial_{w}\\left(G_{4X} \\left(\\partial_{c d}{\\pi}-\\Gamma^{y}\\,_{c d} \\partial_{y}{\\pi}\\right)\\right)-\\Gamma^{x}\\,_{w d} G_{4X} \\left(\\partial_{c x}{\\pi}-\\Gamma^{y}\\,_{c x} \\partial_{y}{\\pi}\\right)-\\Gamma^{x}\\,_{w c} G_{4X} \\left(\\partial_{x d}{\\pi}-\\Gamma^{y}\\,_{x d} \\partial_{y}{\\pi}\\right)\\right)-\\Gamma^{w}\\,_{a d} \\left(\\partial_{b}\\left(G_{4X} \\left(\\partial_{c w}{\\pi}-\\Gamma^{y}\\,_{c w} \\partial_{y}{\\pi}\\right)\\right)-\\Gamma^{x}\\,_{b w} G_{4X} \\left(\\partial_{c x}{\\pi}-\\Gamma^{y}\\,_{c x} \\partial_{y}{\\pi}\\right)-\\Gamma^{x}\\,_{b c} G_{4X} \\left(\\partial_{x w}{\\pi}-\\Gamma^{y}\\,_{x w} \\partial_{y}{\\pi}\\right)\\right)-\\Gamma^{w}\\,_{a c} \\left(\\partial_{b}\\left(G_{4X} \\left(\\partial_{w d}{\\pi}-\\Gamma^{y}\\,_{w d} \\partial_{y}{\\pi}\\right)\\right)-\\Gamma^{x}\\,_{b d} G_{4X} \\left(\\partial_{w x}{\\pi}-\\Gamma^{y}\\,_{w x} \\partial_{y}{\\pi}\\right)-\\Gamma^{x}\\,_{b w} G_{4X} \\left(\\partial_{x d}{\\pi}-\\Gamma^{y}\\,_{x d} \\partial_{y}{\\pi}\\right)\\right)\\right) h^{a d} h^{b c}$"
      ]
     },
     "metadata": {},
     "output_type": "display_data"
    }
   ],
   "source": [
    "P4 = fun.expand_nabla(var.mathcalP4)\n",
    "P4 := @[P4];"
   ]
  },
  {
   "cell_type": "code",
   "execution_count": 20,
   "metadata": {},
   "outputs": [
    {
     "data": {
      "text/markdown": [
       "${}\\Phi^{4} =  - \\frac{1}{2}F_{a b} F_{c d} {G_{4}} \\phi h^{a c} h^{b d}+2{G_{4}} \\partial_{a}{\\phi} \\partial_{b}{\\phi} {\\phi}^{-2} h^{a b}+4\\left(\\partial_{a}\\left({G_{4}} \\partial_{b}{\\phi} {\\phi}^{-1}\\right)-\\Gamma^{y}\\,_{a b} {G_{4}} \\partial_{y}{\\phi} {\\phi}^{-1}\\right) h^{a b}-2G_{4X} \\partial_{a}{\\phi} \\partial_{b}{\\pi} {\\phi}^{-2} \\left(h^{e c} \\left(\\partial_{e c}{\\pi}-\\Gamma^{d}\\,_{e c} \\partial_{d}{\\pi}\\right)+{\\phi}^{-1} h^{d e} \\partial_{d}{\\phi} \\partial_{e}{\\pi}\\right) h^{a b}-F_{a b} F_{c d} G_{4X} \\partial_{e}{\\pi} \\partial_{f}{\\pi} \\phi h^{a c} h^{b e} h^{d f}+2G_{4X} {\\phi}^{-3} {\\left(\\partial_{a}{\\phi} \\partial_{b}{\\pi} h^{a b}\\right)}^{2}-2\\left(\\partial_{a}\\left(G_{4X} \\partial_{b}{\\pi} {\\phi}^{-1} \\left(h^{e c} \\left(\\partial_{e c}{\\pi}-\\Gamma^{d}\\,_{e c} \\partial_{d}{\\pi}\\right)+{\\phi}^{-1} h^{d e} \\partial_{d}{\\phi} \\partial_{e}{\\pi}\\right)\\right)-\\Gamma^{y}\\,_{a b} G_{4X} \\partial_{y}{\\pi} {\\phi}^{-1} \\left(h^{e c} \\left(\\partial_{e c}{\\pi}-\\Gamma^{d}\\,_{e c} \\partial_{d}{\\pi}\\right)+{\\phi}^{-1} h^{d e} \\partial_{d}{\\phi} \\partial_{e}{\\pi}\\right)\\right) h^{a b}+2\\left(\\partial_{a}\\left(G_{4X} \\partial_{b}{\\phi} \\partial_{c}{\\pi} \\partial_{d}{\\pi} {\\phi}^{-2}\\right)-\\Gamma^{w}\\,_{a b} G_{4X} \\partial_{w}{\\phi} \\partial_{c}{\\pi} \\partial_{d}{\\pi} {\\phi}^{-2}-\\Gamma^{w}\\,_{a d} G_{4X} \\partial_{b}{\\phi} \\partial_{c}{\\pi} \\partial_{w}{\\pi} {\\phi}^{-2}-\\Gamma^{w}\\,_{a c} G_{4X} \\partial_{b}{\\phi} \\partial_{w}{\\pi} \\partial_{d}{\\pi} {\\phi}^{-2}\\right) h^{a d} h^{b c}$"
      ]
     },
     "metadata": {},
     "output_type": "display_data"
    }
   ],
   "source": [
    "phi4 = fun.expand_nabla(var.mathcalphi4)\n",
    "substitute(phi4, box4D)\n",
    "substitute(phi4, sq4D);"
   ]
  },
  {
   "cell_type": "code",
   "execution_count": 21,
   "metadata": {},
   "outputs": [
    {
     "data": {
      "text/markdown": [
       "${}\\mathcal{A}^{4 f} = \\left(\\partial_{c}\\left(F_{a b} {G_{4}} {\\phi}^{2}\\right)-\\Gamma^{z}\\,_{c b} F_{a z} {G_{4}} {\\phi}^{2}-\\Gamma^{z}\\,_{c a} F_{z b} {G_{4}} {\\phi}^{2}\\right) h^{c a} h^{b f}+2\\left(\\partial_{c}\\left(F_{a b} G_{4X} \\partial_{d}{\\pi} \\partial_{e}{\\pi} {\\phi}^{2}\\right)-\\Gamma^{x}\\,_{c b} F_{a x} G_{4X} \\partial_{d}{\\pi} \\partial_{e}{\\pi} {\\phi}^{2}-\\Gamma^{x}\\,_{c a} F_{x b} G_{4X} \\partial_{d}{\\pi} \\partial_{e}{\\pi} {\\phi}^{2}-\\Gamma^{x}\\,_{c d} F_{a b} G_{4X} \\partial_{x}{\\pi} \\partial_{e}{\\pi} {\\phi}^{2}-\\Gamma^{x}\\,_{c e} F_{a b} G_{4X} \\partial_{d}{\\pi} \\partial_{x}{\\pi} {\\phi}^{2}\\right) h^{c a} h^{b d} h^{e f}$"
      ]
     },
     "metadata": {},
     "output_type": "display_data"
    }
   ],
   "source": [
    "A4 = fun.expand_nabla(var.mathcalA4);"
   ]
  },
  {
   "cell_type": "code",
   "execution_count": null,
   "metadata": {},
   "outputs": [],
   "source": []
  }
 ],
 "metadata": {
  "kernelspec": {
   "display_name": "Cadabra2",
   "language": "python",
   "name": "cadabra2"
  },
  "language_info": {
   "codemirror_mode": "cadabra",
   "file_extension": ".ipynb",
   "mimetype": "text/cadabra",
   "name": "cadabra2",
   "pygments_lexer": "cadabra"
  }
 },
 "nbformat": 4,
 "nbformat_minor": 4
}
