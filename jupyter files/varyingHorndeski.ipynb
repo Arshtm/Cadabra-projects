{
 "cells": [
  {
   "cell_type": "markdown",
   "metadata": {},
   "source": [
    "# Вариация действия Хорндески"
   ]
  },
  {
   "cell_type": "markdown",
   "metadata": {},
   "source": [
    "## Импорт пакетов, все обозначения, зависимости и латеховские формы"
   ]
  },
  {
   "cell_type": "code",
   "execution_count": 1,
   "metadata": {},
   "outputs": [],
   "source": [
    "import cdb.core.manip as man\n",
    "import functions as fun"
   ]
  },
  {
   "cell_type": "code",
   "execution_count": 2,
   "metadata": {},
   "outputs": [],
   "source": [
    "{a,b,c,d,e,f,g,h,i,j,k,l,m,n,o,q,r,s,u,v,w#}::Indices(full,values={t,x,y,z}, position=independent)."
   ]
  },
  {
   "cell_type": "code",
   "execution_count": 3,
   "metadata": {},
   "outputs": [],
   "source": [
    "\\partial{#}::PartialDerivative.\n",
    "\\nabla{#}::Derivative.\n",
    "{\\nabla{#},\\partial{#}}::Commuting.\n",
    "h_{m? n?}::Metric.\n",
    "h^{m? n?}::InverseMetric.\n",
    "h_{m? n?}::Symmetric.\n",
    "h^{m? n?}::Symmetric.\n",
    "delh_{m? n?}::Symmetric.\n",
    "delh^{m? n?}::Symmetric.\n",
    "\\delta^{m?}_{n?}::KroneckerDelta.\n",
    "\\delta_{m?}^{n?}::KroneckerDelta.\n",
    "F_{m? n?}::AntiSymmetric.\n",
    "\\Gamma^{m}_{n q}::TableauSymmetry(shape={2}, indices={1,2})."
   ]
  },
  {
   "cell_type": "code",
   "execution_count": 4,
   "metadata": {},
   "outputs": [],
   "source": [
    "Dh::Depends(\\partial{#}).\n",
    "p::Depends(\\nabla{#}, \\partial{#}).\n",
    "X_{m? n?}::Depends(\\nabla{#}, \\partial{#}).\n",
    "\\phi::Depends(\\nabla{#}, \\partial{#}).\n",
    "A_{m?}::Depends(\\nabla{#}, \\partial{#}).\n",
    "h_{m n}::Depends(\\partial{#}).\n",
    "h^{m n}::Depends(\\partial{#}).\n",
    "deth::Depends(\\partial{#}).\n",
    "G4::Depends(\\nabla{#}, \\partial{#}).\n",
    "G4p::Depends(\\nabla{#}, \\partial{#}).\n",
    "G4X::Depends(\\nabla{#}, \\partial{#}).\n",
    "G4XX::Depends(\\nabla{#}, \\partial{#}).\n",
    "K::Depends(\\nabla{#}, \\partial{#}).\n",
    "Kp::Depends(\\nabla{#}, \\partial{#}).\n",
    "KX::Depends(\\nabla{#}, \\partial{#}).\n",
    "N::Depends(\\nabla{#}, \\partial{#}).\n",
    "Np::Depends(\\nabla{#}, \\partial{#}).\n",
    "NX::Depends(\\nabla{#}, \\partial{#}).\n",
    "R::Depends(\\nabla{#}, \\partial{#}).\n",
    "F_{m n}::Depends(\\nabla{#}, \\partial{#}).\n",
    "F^{m n}::Depends(\\nabla{#}, \\partial{#}).\n",
    "delA_{m}::Depends(\\nabla{#}, \\partial{#}).\n",
    "delphi::Depends(\\nabla{#}, \\partial{#}).\n",
    "delh_{m n}::Depends(\\nabla{#}, \\partial{#}).\n",
    "delh^{m n}::Depends(\\nabla{#}, \\partial{#}).\n",
    "delpi::Depends(\\nabla{#}, \\partial{#}).\n",
    "delp_{m n}::Depends(\\nabla{#}, \\partial{#}).\n",
    "delA_{m}::Depends(\\nabla{#}, \\partial{#})."
   ]
  },
  {
   "cell_type": "code",
   "execution_count": 5,
   "metadata": {},
   "outputs": [],
   "source": [
    "p::LaTeXForm(\"\\pi\").\n",
    "G4p::LaTeXForm(\"G_{4\\pi}\").\n",
    "G4X::LaTeXForm(\"G_{4X}\").\n",
    "G4XX::LaTeXForm(\"G_{4XX}\").\n",
    "G4Xp::LaTeXForm(\"G_{4\\pi X}\").\n",
    "Kp::LaTeXForm(\"K_{\\pi}\").\n",
    "KX::LaTeXForm(\"K_{X}\").\n",
    "N::LaTeXForm(\"F\").\n",
    "Np::LaTeXForm(\"F_{\\pi}\").\n",
    "NX::LaTeXForm(\"F_{X}\").\n",
    "delphi::LaTeXForm(\"\\delta\\phi\").\n",
    "delh^{m? n?}::LaTeXForm(\"\\delta h^{\", m? n?, \"}\").\n",
    "delpi::LaTeXForm(\"\\delta\\pi\").\n",
    "delphi::LaTeXForm(\"\\delta\\phi\").\n",
    "Dh::LaTeXForm(\"\\sqrt{-h}\").\n",
    "delA_{m?}::LaTeXForm(\"\\delta A_{\",m?,\"}\").\n",
    "dCn{#}::LaTeXForm(\"\\delta\\Gamma\").         \n",
    "dR{#}::LaTeXForm(\"\\delta R\").\t\n",
    "pi2::LaTeXForm(\"\\pi^{m n}\\pi_{m n}\").\t\n",
    "pi2::Depends(\\nabla{#}, \\partial{#}).\n",
    "delpi2::Depends(\\nabla{#}, \\partial{#}).\n",
    "delpi2::LaTeXForm(\"\\delta\\pi^{m n}\\pi_{m n}\").\n",
    "delp_{m? n?}::LaTeXForm(\"\\delta\\pi_{\",m? n?,\"}\").\n",
    "mathcalG{#}::LaTeXForm(\"\\mathcal{G}\").\n",
    "mathcalP{#}::LaTeXForm(\"\\mathcal{P}\").\n",
    "mathcalA{#}::LaTeXForm(\"\\mathcal{A}\").\n",
    "mathcalphi{#}::LaTeXForm(\"\\Phi\").\n",
    "{delh^{a b}, delphi, delA_{m}, delpi, h_{a b},h^{a b}, Q??}::SortOrder."
   ]
  },
  {
   "cell_type": "markdown",
   "metadata": {},
   "source": [
    "## Подготовительный подсчет необходимых вариаций"
   ]
  },
  {
   "cell_type": "code",
   "execution_count": 6,
   "metadata": {
    "scrolled": true
   },
   "outputs": [
    {
     "data": {
      "text/markdown": [
       "${}\\Box\\left(\\pi\\right) = h^{m n} \\nabla_{m}\\left(\\nabla_{n}{\\pi}\\right)$"
      ]
     },
     "metadata": {},
     "output_type": "display_data"
    },
    {
     "data": {
      "text/markdown": [
       "${}\\pi^{m n}\\pi_{m n} = h^{m a} h^{n b} \\nabla_{m}\\left(\\nabla_{n}{\\pi}\\right) \\nabla_{a}\\left(\\nabla_{b}{\\pi}\\right)$"
      ]
     },
     "metadata": {},
     "output_type": "display_data"
    }
   ],
   "source": [
    "box := \\Box{p} = h^{m n}\\nabla_{m}{\\nabla_{n}{p}};\n",
    "sq:= pi2 = h^{m a} h^{n b}\\nabla_{m}{\\nabla_{n}{p}} \\nabla_{a}{\\nabla_{b}{p}};"
   ]
  },
  {
   "cell_type": "code",
   "execution_count": 7,
   "metadata": {},
   "outputs": [
    {
     "data": {
      "text/markdown": [
       "${}\\delta\\left(\\sqrt{-h}\\right) =  - \\frac{1}{2}\\sqrt{-h} h_{a b} \\delta h^{a b}$"
      ]
     },
     "metadata": {},
     "output_type": "display_data"
    },
    {
     "data": {
      "text/markdown": [
       "${}\\delta\\left(F\\right) = F_{\\pi} \\delta\\pi+F_{X} \\nabla_{a}{\\pi} \\nabla_{b}{\\pi} \\delta h^{a b}-h^{a b} F_{X} \\nabla_{a}{\\pi} \\nabla_{b}{\\delta\\pi}$"
      ]
     },
     "metadata": {},
     "output_type": "display_data"
    },
    {
     "data": {
      "text/markdown": [
       "${}\\delta\\left(K\\right) = K_{\\pi} \\delta\\pi+K_{X} \\nabla_{a}{\\pi} \\nabla_{b}{\\pi} \\delta h^{a b}-h^{a b} K_{X} \\nabla_{a}{\\pi} \\nabla_{b}{\\delta\\pi}$"
      ]
     },
     "metadata": {},
     "output_type": "display_data"
    },
    {
     "data": {
      "text/markdown": [
       "${}\\delta\\left({G_{4}}\\right) = G_{4\\pi} \\delta\\pi+G_{4X} \\nabla_{a}{\\pi} \\nabla_{b}{\\pi} \\delta h^{a b}-h^{a b} G_{4X} \\nabla_{a}{\\pi} \\nabla_{b}{\\delta\\pi}$"
      ]
     },
     "metadata": {},
     "output_type": "display_data"
    },
    {
     "data": {
      "text/markdown": [
       "${}\\delta\\left(G_{4X}\\right) = G_{4\\pi X} \\delta\\pi+G_{4XX} \\nabla_{a}{\\pi} \\nabla_{b}{\\pi} \\delta h^{a b}-h^{a b} G_{4XX} \\nabla_{a}{\\pi} \\nabla_{b}{\\delta\\pi}$"
      ]
     },
     "metadata": {},
     "output_type": "display_data"
    },
    {
     "data": {
      "text/markdown": [
       "${}\\delta\\Gamma^{a}\\,_{b c} =  - \\frac{1}{2}h_{l c} \\nabla_{b}{\\delta h^{l a}} - \\frac{1}{2}h_{l b} \\nabla_{c}{\\delta h^{l a}}+\\frac{1}{2}h_{c m} h_{b n} h^{a q} \\nabla_{q}{\\delta h^{m n}}$"
      ]
     },
     "metadata": {},
     "output_type": "display_data"
    },
    {
     "data": {
      "text/markdown": [
       "${}\\delta\\left(R\\right) = -\\nabla_{m}\\left(\\nabla_{n}{\\delta h^{m n}}\\right)+h_{m n} h^{a b} \\nabla_{a}\\left(\\nabla_{b}{\\delta h^{m n}}\\right)+R_{m n} \\delta h^{m n}$"
      ]
     },
     "metadata": {},
     "output_type": "display_data"
    }
   ],
   "source": [
    "DelSqrth := \\delta(Dh) = - \\frac{1}{2}*Dh * h_{a b} delh^{a b};\n",
    "DelF:= \\delta(N) = Np delpi + NX \\nabla_{a}{p}\\nabla_{b}{p}  delh^{a b} - h^{a b} NX \\nabla_{a}{p} \\nabla_{b}{delpi}; \n",
    "DelK:= \\delta(K) =Kp delpi + KX \\nabla_{a}{p}\\nabla_{b}{p}  delh^{a b} - h^{a b} KX \\nabla_{a}{p} \\nabla_{b}{delpi}; \n",
    "DelG4 := \\delta(G4) = G4p delpi + G4X \\nabla_{a}{p}\\nabla_{b}{p}  delh^{a b} - h^{a b} G4X \\nabla_{a}{p} \\nabla_{b}{delpi};\n",
    "DelG4X := \\delta(G4X) = G4Xp delpi + G4XX \\nabla_{a}{p}\\nabla_{b}{p}  delh^{a b} - h^{a b} G4XX \\nabla_{a}{p} \\nabla_{b}{delpi};\n",
    "deltaChristof := dCn^{a}_{b c} = -\\frac{1}{2} * ( h_{l c} \\nabla_{b}{delh^{l a}} +  h_{l b}\\nabla_{c}{delh^{l a}} - h_{c m} h_{b n} h^{a q}\\nabla_{q}{delh^{m n}});\n",
    "deltaScalarCurvature3:= \\delta(R) = -\\nabla_{m}{\\nabla_{n}{delh^{m n}}} + h_{m n}h^{a b} \\nabla_{a}{\\nabla_{b}{delh^{m n}}} + R_{m n} delh^{m n};"
   ]
  },
  {
   "cell_type": "code",
   "execution_count": 8,
   "metadata": {},
   "outputs": [
    {
     "data": {
      "text/markdown": [
       "${}\\delta\\left(\\Box\\left(\\pi\\right)\\right) = \\delta h^{m n} \\nabla_{m}\\left(\\nabla_{n}{\\pi}\\right)+h^{m n} \\nabla_{m}\\left(\\nabla_{n}{\\delta\\pi}\\right)+\\nabla_{l}{\\delta h^{l v}} \\nabla_{v}{\\pi} - \\frac{1}{2}h_{a b} h^{v q} \\nabla_{q}{\\delta h^{a b}} \\nabla_{v}{\\pi}$"
      ]
     },
     "metadata": {},
     "output_type": "display_data"
    },
    {
     "data": {
      "text/markdown": [
       "${}\\delta\\left(\\Box\\left(\\pi\\right)\\right) = \\delta h^{a b} \\nabla_{a}\\left(\\nabla_{b}{\\pi}\\right)+h^{a b} \\nabla_{a}\\left(\\nabla_{b}{\\delta\\pi}\\right)+\\nabla_{a}{\\delta h^{a b}} \\nabla_{b}{\\pi} - \\frac{1}{2}h_{a b} h^{c d} \\nabla_{c}{\\delta h^{a b}} \\nabla_{d}{\\pi}$"
      ]
     },
     "metadata": {},
     "output_type": "display_data"
    }
   ],
   "source": [
    "fun.expand_nabla(box)\n",
    "vary(box, $\\Box{p} -> \\delta(\\Box{p}), h^{m n} -> delh^{m n}, p -> delpi, \\Gamma^{w}_{m n} -> dCn^{w}_{m n}$)\n",
    "substitute(box, deltaChristof)\n",
    "substitute(box, $\\partial_{m n}{delpi} - \\Gamma^{w}_{m n}\\partial_{w}{delpi} -> \\nabla_{m}{\\nabla_{n}{delpi}}$)\n",
    "substitute(box, $\\partial_{m n}{p} - \\Gamma^{w}_{m n}\\partial_{w}{p} -> \\nabla_{m}{\\nabla_{n}{p}}$)\n",
    "substitute(box, $\\partial_{m}{p} -> \\nabla_{m}{p}$)\n",
    "distribute(box)\n",
    "converge(box):\n",
    "\tsubstitute(box, $h_{m1 m2}h^{m2 m3} -> \\delta^{m3}_{m1}$, repeat=True)\n",
    "\tsubstitute(box, $h^{m1 m2}h_{m2 m3} -> \\delta^{m1}_{m3}$, repeat=True)\n",
    "\tsubstitute(box, $h^{m1 m2}h_{m1 m3} -> \\delta^{m2}_{m3}$, repeat=True)\n",
    "\tsubstitute(box, $h^{m1 m2}h_{m3 m2} -> \\delta^{m1}_{m3}$, repeat=True)\n",
    "\tsubstitute(box, $h^{d}_{c} -> \\delta^{d}_{c}$)\n",
    "\teliminate_kronecker(box)\n",
    ";\n",
    "rename_dummies(box)\n",
    "canonicalise(box);"
   ]
  },
  {
   "cell_type": "code",
   "execution_count": 9,
   "metadata": {},
   "outputs": [
    {
     "data": {
      "text/markdown": [
       "${}p_{a b} = \\nabla_{a}\\left(\\nabla_{b}{\\pi}\\right)$"
      ]
     },
     "metadata": {},
     "output_type": "display_data"
    },
    {
     "data": {
      "text/markdown": [
       "${}\\delta\\pi_{a b} = \\partial_{a b}{\\delta\\pi}-\\left( - \\frac{1}{2}h_{l b} \\nabla_{a}{\\delta h^{l v}} - \\frac{1}{2}h_{l a} \\nabla_{b}{\\delta h^{l v}}+\\frac{1}{2}h_{b m} h_{a n} h^{v q} \\nabla_{q}{\\delta h^{m n}}\\right) \\partial_{v}{\\pi}-\\Gamma^{v}\\,_{a b} \\partial_{v}{\\delta\\pi}$"
      ]
     },
     "metadata": {},
     "output_type": "display_data"
    },
    {
     "data": {
      "text/markdown": [
       "${}\\delta\\pi_{a b} = \\nabla_{a}\\left(\\nabla_{b}{\\delta\\pi}\\right)+\\frac{1}{2}h_{l b} \\nabla_{a}{\\delta h^{l v}} \\nabla_{v}{\\pi}+\\frac{1}{2}h_{l a} \\nabla_{b}{\\delta h^{l v}} \\nabla_{v}{\\pi} - \\frac{1}{2}h_{b m} h_{a n} h^{v q} \\nabla_{q}{\\delta h^{m n}} \\nabla_{v}{\\pi}$"
      ]
     },
     "metadata": {},
     "output_type": "display_data"
    },
    {
     "data": {
      "text/markdown": [
       "${}\\delta\\pi_{a b} = \\nabla_{a}\\left(\\nabla_{b}{\\delta\\pi}\\right)+\\frac{1}{2}\\nabla_{a}{\\delta h^{l v}} \\nabla_{v}{\\pi} h_{l b}+\\frac{1}{2}\\nabla_{b}{\\delta h^{l v}} \\nabla_{v}{\\pi} h_{l a} - \\frac{1}{2}\\nabla_{q}{\\delta h^{m n}} \\nabla_{v}{\\pi} h_{a n} h_{b m} h^{v q}$"
      ]
     },
     "metadata": {},
     "output_type": "display_data"
    }
   ],
   "source": [
    "secDeriv:= p_{a b} = \\nabla_{a}{\\nabla_{b}{p}};\n",
    "fun.expand_nabla(secDeriv)\n",
    "vary(secDeriv, $p_{a b} -> delp_{a b}, h^{m n} -> delh^{m n}, p -> delpi, \\Gamma^{w}_{m n} -> dCn^{w}_{m n}$)\n",
    "substitute(secDeriv, deltaChristof);\n",
    "substitute(secDeriv, $\\partial_{m n}{delpi} - \\Gamma^{w}_{m n}\\partial_{w}{delpi} -> \\nabla_{m}{\\nabla_{n}{delpi}}$)\n",
    "substitute(secDeriv, $\\partial_{m n}{p} - \\Gamma^{w}_{m n}\\partial_{w}{p} -> \\nabla_{m}{\\nabla_{n}{p}}$)\n",
    "substitute(secDeriv, $\\partial_{m}{p} -> \\nabla_{m}{p}$)\n",
    "distribute(secDeriv);\n",
    "sort_product(secDeriv);"
   ]
  },
  {
   "cell_type": "code",
   "execution_count": 10,
   "metadata": {
    "scrolled": true
   },
   "outputs": [
    {
     "data": {
      "text/markdown": [
       "${}\\delta\\pi^{m n}\\pi_{m n} = 2\\delta h^{m a} h^{n b} p_{m n} p_{a b}+2h^{m a} h^{n b} p_{m n} \\delta\\pi_{a b}$"
      ]
     },
     "metadata": {},
     "output_type": "display_data"
    },
    {
     "data": {
      "text/markdown": [
       "${}\\delta\\pi^{m n}\\pi_{m n} = 2\\nabla_{a}\\left(\\nabla_{c}{\\pi}\\right) \\nabla_{b}\\left(\\nabla_{d}{\\pi}\\right) \\delta h^{a b} h^{c d}+2\\nabla_{b}\\left(\\nabla_{d}{\\delta\\pi}\\right) \\nabla_{a}\\left(\\nabla_{c}{\\pi}\\right) h^{a b} h^{c d}+\\nabla_{a}\\left(\\nabla_{f}{\\pi}\\right) \\nabla_{b}{\\delta h^{e f}} \\nabla_{e}{\\pi} h^{a b}+\\nabla_{f}\\left(\\nabla_{c}{\\pi}\\right) \\nabla_{d}{\\delta h^{e f}} \\nabla_{e}{\\pi} h^{c d}-\\nabla_{f}\\left(\\nabla_{g}{\\pi}\\right) \\nabla_{e}{\\delta h^{f g}} \\nabla_{h}{\\pi} h^{e h}$"
      ]
     },
     "metadata": {},
     "output_type": "display_data"
    },
    {
     "data": {
      "text/markdown": [
       "${}\\delta\\pi^{m n}\\pi_{m n} = 2\\nabla_{a}\\left(\\nabla_{b}{\\pi}\\right) \\nabla_{c}\\left(\\nabla_{d}{\\pi}\\right) \\delta h^{a c} h^{b d}+2\\nabla_{a}\\left(\\nabla_{b}{\\delta\\pi}\\right) \\nabla_{c}\\left(\\nabla_{d}{\\pi}\\right) h^{a c} h^{b d}+\\nabla_{a}\\left(\\nabla_{b}{\\pi}\\right) \\nabla_{c}{\\delta h^{b d}} \\nabla_{d}{\\pi} h^{a c}+\\nabla_{a}\\left(\\nabla_{b}{\\pi}\\right) \\nabla_{c}{\\delta h^{a d}} \\nabla_{d}{\\pi} h^{b c}-\\nabla_{a}\\left(\\nabla_{b}{\\pi}\\right) \\nabla_{c}{\\delta h^{a b}} \\nabla_{d}{\\pi} h^{c d}$"
      ]
     },
     "metadata": {},
     "output_type": "display_data"
    }
   ],
   "source": [
    "sq := delpi2 = 2 delh^{m a} h^{n b} p_{m n} p_{a b} + 2 h^{m a} h^{n b} p_{m n}delp_{a b};\n",
    "substitute(sq, secDeriv)\n",
    "substitute(sq, $p_{m? n?} -> \\nabla_{m?}{\\nabla_{n?}{p}}$)\n",
    "distribute(sq)\n",
    "rename_dummies(sq)\n",
    "canonicalise(sq)\n",
    "sort_product(sq)\n",
    "converge(sq):\n",
    "\tsubstitute(sq, $h_{m1 m2}h^{m2 m3} -> \\delta^{m3}_{m1}$, repeat=True)\n",
    "\tsubstitute(sq, $h^{m1 m2}h_{m2 m3} -> \\delta^{m1}_{m3}$, repeat=True)\n",
    "\tsubstitute(sq, $h^{m1 m2}h_{m1 m3} -> \\delta^{m2}_{m3}$, repeat=True)\n",
    "\tsubstitute(sq, $h^{m1 m2}h_{m3 m2} -> \\delta^{m1}_{m3}$, repeat=True)\n",
    "\tsubstitute(sq, $h^{d}_{c} -> \\delta^{d}_{c}$)\n",
    "\teliminate_kronecker(sq)\n",
    ";\n",
    "rename_dummies(sq)\n",
    "canonicalise(sq)\n",
    "sort_product(sq)\n",
    "rename_dummies(sq)\n",
    "canonicalise(sq);"
   ]
  },
  {
   "cell_type": "markdown",
   "metadata": {},
   "source": [
    "## Варьирование действия $S_2$"
   ]
  },
  {
   "cell_type": "code",
   "execution_count": 11,
   "metadata": {},
   "outputs": [
    {
     "data": {
      "text/markdown": [
       "${}{L_{2}} = F$"
      ]
     },
     "metadata": {},
     "output_type": "display_data"
    },
    {
     "data": {
      "text/markdown": [
       "${}\\int \\sqrt{-h} {L_{2}}\\,\\,{\\rm d}x$"
      ]
     },
     "metadata": {},
     "output_type": "display_data"
    },
    {
     "data": {
      "text/markdown": [
       "${}\\int \\left(\\sqrt{-h} \\delta h^{a b} \\left( - \\frac{1}{2}h_{a b} F+F_{X} \\nabla_{a}{\\pi} \\nabla_{b}{\\pi}\\right)+\\sqrt{-h} \\delta\\pi \\left(F_{\\pi}+h^{a b} \\nabla_{b}\\left(F_{X} \\nabla_{a}{\\pi}\\right)\\right)\\right)\\,\\,{\\rm d}x$"
      ]
     },
     "metadata": {},
     "output_type": "display_data"
    }
   ],
   "source": [
    "\"\"\"Лагранжиан\"\"\"\n",
    "L2 := L2 = N; \n",
    "\"\"\"Действие\"\"\"\n",
    "S2 :=  \\int{Dh L2}{x}; \n",
    "\"\"\" Всякие подстановки и вариация уже действия\"\"\"\n",
    "substitute(S2, L2)\n",
    "vary(S2, $Dh ->  \\delta{Dh}, N -> \\delta{N}$)\n",
    "substitute(S2, DelSqrth)\n",
    "substitute(S2, DelF)\n",
    "distribute(S2)\n",
    "integrate_by_parts(S2, $delpi$)\n",
    "unwrap(S2)\n",
    "factor_out(S2, $delh^{m? n?}, delpi, Dh$);"
   ]
  },
  {
   "cell_type": "markdown",
   "metadata": {},
   "source": [
    "## Варьирование действия $S_3$"
   ]
  },
  {
   "cell_type": "code",
   "execution_count": 12,
   "metadata": {},
   "outputs": [
    {
     "data": {
      "text/markdown": [
       "${}{L_{3}} = -K \\Box\\left(\\pi\\right)$"
      ]
     },
     "metadata": {},
     "output_type": "display_data"
    },
    {
     "data": {
      "text/markdown": [
       "${}\\int \\sqrt{-h} {L_{3}}\\,\\,{\\rm d}x$"
      ]
     },
     "metadata": {},
     "output_type": "display_data"
    },
    {
     "data": {
      "text/markdown": [
       "${}-\\int \\left(\\sqrt{-h} \\delta\\pi \\left(K_{\\pi} \\Box\\left(\\pi\\right)+\\Box\\left(\\pi\\right) \\nabla_{a}\\left(K_{X} \\nabla_{b}{\\pi}\\right) h^{a b}+\\Box\\left(K\\right)\\right)+\\sqrt{-h} \\delta h^{a b} \\left(K_{X} \\Box\\left(\\pi\\right) \\nabla_{a}{\\pi} \\nabla_{b}{\\pi}-\\nabla_{a}{K} \\nabla_{b}{\\pi}\\right)+\\frac{1}{2}\\sqrt{-h} \\delta h^{c d} \\nabla_{a}{K} \\nabla_{b}{\\pi} h_{c d} h^{a b}\\right)\\,\\,{\\rm d}x$"
      ]
     },
     "metadata": {},
     "output_type": "display_data"
    }
   ],
   "source": [
    "\"\"\"Лагранжиан\"\"\"\n",
    "L3:= L3 = - K (\\Box{p});\n",
    "\"\"\"Действие\"\"\"\n",
    "S3 := \\int{Dh L3}{x};\n",
    "substitute(S3, L3)\n",
    "vary(S3, $Dh ->  \\delta{Dh}, K -> \\delta{K}, \\Box{p} -> \\delta(\\Box{p})$ )\n",
    "substitute(S3, DelSqrth)\n",
    "substitute(S3, DelK)\n",
    "substitute(S3, box)\n",
    "distribute(S3)\n",
    "rename_dummies(S3)\n",
    "integrate_by_parts(S3, $\\nabla_{n}{delpi}$)\n",
    "integrate_by_parts(S3, $delpi$)\n",
    "integrate_by_parts(S3, $delh^{m? n?}$)\n",
    "unwrap(S3)\n",
    "canonicalise(S3)\n",
    "sort_product(S3)\n",
    "rename_dummies(S3)\n",
    "substitute(S3, $h^{a? b?}\\nabla_{a?}{\\nabla_{b?}{Q??}} -> \\Box{Q??}$,repeat=True)\n",
    "canonicalise(S3)\n",
    "sort_product(S3)\n",
    "rename_dummies(S3)\n",
    "factor_out(S3, $delh^{a? b?}, delpi, Dh$);"
   ]
  },
  {
   "cell_type": "markdown",
   "metadata": {},
   "source": [
    "## Варьирование первой половины  действия $S_4$ "
   ]
  },
  {
   "cell_type": "code",
   "execution_count": 13,
   "metadata": {},
   "outputs": [
    {
     "data": {
      "text/markdown": [
       "${}{L_{4}} = {G_{4}} R+G_{4X} \\left({\\Box\\left(\\pi\\right)}^{2}-\\pi^{m n}\\pi_{m n}\\right)$"
      ]
     },
     "metadata": {},
     "output_type": "display_data"
    },
    {
     "data": {
      "text/markdown": [
       "${}-\\int \\sqrt{-h} {G_{4}} R\\,\\,{\\rm d}x$"
      ]
     },
     "metadata": {},
     "output_type": "display_data"
    },
    {
     "data": {
      "text/markdown": [
       "${}-\\int \\left(\\sqrt{-h} \\delta h^{a b} \\left( - \\frac{1}{2}h_{a b} {G_{4}} R+G_{4X} \\nabla_{a}{\\pi} \\nabla_{b}{\\pi} R-\\nabla_{a}\\left(\\nabla_{b}\\left({G_{4}}\\right)\\right)+h_{a b} \\Box\\left({G_{4}}\\right)+{G_{4}} R_{a b}\\right)+\\sqrt{-h} \\delta\\pi \\left(G_{4\\pi} R+h^{a b} \\nabla_{a}{G_{4X}} \\nabla_{b}{\\pi} R+\\Box\\left(\\pi\\right) G_{4X} R+h^{a b} G_{4X} \\nabla_{a}{\\pi} \\nabla_{b}{R}\\right)\\right)\\,\\,{\\rm d}x$"
      ]
     },
     "metadata": {},
     "output_type": "display_data"
    }
   ],
   "source": [
    "L4:= L4 = G4 R + G4X ((\\Box{p})**2-pi2);\n",
    "S41:= -\\int{Dh (G4 R)}{x};\n",
    "vary(S41, $Dh ->  \\delta{Dh}, G4 -> \\delta{G4}, R -> \\delta{R}$ )\n",
    "substitute(S41, DelSqrth)\n",
    "substitute(S41, DelG4)\n",
    "substitute(S41, deltaScalarCurvature3)\n",
    "distribute(S41)\n",
    "integrate_by_parts(S41, $delpi$)\n",
    "integrate_by_parts(S41, $\\nabla_{s}{delh^{r b}}$)\n",
    "integrate_by_parts(S41, $delh^{r b}$)\n",
    "rename_dummies(S41)\n",
    "canonicalise(S41)\n",
    "unwrap(S41)\n",
    "rename_dummies(S41)\n",
    "collect_factors(S41)\n",
    "substitute(S41, $h_{m1 m2}h^{m2 m3} -> \\delta^{m3}_{m1}$, repeat=True)\n",
    "eliminate_kronecker(S41)\n",
    "fun.tidy(S41)\n",
    "rename_dummies(S41)\n",
    "substitute(S41, $h^{a? b?}\\nabla_{a?}{\\nabla_{b?}{Q??}} -> \\Box{Q??}$)\n",
    "rename_dummies(S41)\n",
    "factor_out(S41, $delh^{a? b?}, delpi, Dh, delA_{a?}, delphi$);"
   ]
  },
  {
   "cell_type": "markdown",
   "metadata": {},
   "source": [
    "## Варьирование второй части действия $S_4$"
   ]
  },
  {
   "cell_type": "code",
   "execution_count": 14,
   "metadata": {
    "scrolled": true
   },
   "outputs": [
    {
     "data": {
      "text/markdown": [
       "${}2\\int \\sqrt{-h} G_{4X} \\left({\\Box\\left(\\pi\\right)}^{2}-\\pi^{m n}\\pi_{m n}\\right)\\,\\,{\\rm d}x$"
      ]
     },
     "metadata": {},
     "output_type": "display_data"
    },
    {
     "data": {
      "text/markdown": [
       "${}2\\int \\left(\\delta\\left(\\sqrt{-h}\\right) G_{4X} \\left({\\Box\\left(\\pi\\right)}^{2}-\\pi^{m n}\\pi_{m n}\\right)+\\sqrt{-h} \\delta\\left(G_{4X}\\right) \\left({\\Box\\left(\\pi\\right)}^{2}-\\pi^{m n}\\pi_{m n}\\right)+\\sqrt{-h} G_{4X} \\left(2\\Box\\left(\\pi\\right) \\delta\\left(\\Box\\left(\\pi\\right)\\right)-\\delta\\pi^{m n}\\pi_{m n}\\right)\\right)\\,\\,{\\rm d}x$"
      ]
     },
     "metadata": {},
     "output_type": "display_data"
    },
    {
     "data": {
      "text/markdown": [
       "${}2\\int \\left(\\sqrt{-h} \\delta h^{e f} \\left(\\frac{1}{2}G_{4X} \\nabla_{a}\\left(\\nabla_{b}{\\pi}\\right) \\nabla_{c}\\left(\\nabla_{d}{\\pi}\\right) h_{e f} h^{a b} h^{c d}+\\frac{1}{2}G_{4X} \\nabla_{a}\\left(\\nabla_{b}{\\pi}\\right) \\nabla_{c}\\left(\\nabla_{d}{\\pi}\\right) h_{e f} h^{a c} h^{b d}+G_{4XX} \\nabla_{a}\\left(\\nabla_{b}{\\pi}\\right) \\nabla_{c}\\left(\\nabla_{d}{\\pi}\\right) \\nabla_{e}{\\pi} \\nabla_{f}{\\pi} h^{a b} h^{c d}-G_{4XX} \\nabla_{a}\\left(\\nabla_{b}{\\pi}\\right) \\nabla_{c}\\left(\\nabla_{d}{\\pi}\\right) \\nabla_{e}{\\pi} \\nabla_{f}{\\pi} h^{a c} h^{b d}+\\nabla_{a}\\left(G_{4X} \\nabla_{b}\\left(\\nabla_{c}{\\pi}\\right)\\right) \\nabla_{d}{\\pi} h_{e f} h^{a d} h^{b c}\\right)+\\sqrt{-h} \\delta\\pi \\left(G_{4\\pi X} \\nabla_{a}\\left(\\nabla_{b}{\\pi}\\right) \\nabla_{c}\\left(\\nabla_{d}{\\pi}\\right) h^{a b} h^{c d}-G_{4\\pi X} \\nabla_{a}\\left(\\nabla_{b}{\\pi}\\right) \\nabla_{c}\\left(\\nabla_{d}{\\pi}\\right) h^{a c} h^{b d}+\\nabla_{a}{G_{4XX}} \\nabla_{b}\\left(\\nabla_{c}{\\pi}\\right) \\nabla_{d}\\left(\\nabla_{e}{\\pi}\\right) \\nabla_{f}{\\pi} h^{a f} h^{b c} h^{d e}+G_{4XX} \\nabla_{a}\\left(\\nabla_{b}\\left(\\nabla_{c}{\\pi}\\right) \\nabla_{d}\\left(\\nabla_{e}{\\pi}\\right) \\nabla_{f}{\\pi} h^{b c} h^{d e}\\right) h^{a f}-\\nabla_{a}{G_{4XX}} \\nabla_{b}\\left(\\nabla_{c}{\\pi}\\right) \\nabla_{d}\\left(\\nabla_{e}{\\pi}\\right) \\nabla_{f}{\\pi} h^{a f} h^{b d} h^{c e}-G_{4XX} \\nabla_{a}\\left(\\nabla_{b}\\left(\\nabla_{c}{\\pi}\\right) \\nabla_{d}\\left(\\nabla_{e}{\\pi}\\right) \\nabla_{f}{\\pi}\\right) h^{a f} h^{b d} h^{c e}+2\\nabla_{a}\\left(\\nabla_{b}\\left(G_{4X} \\nabla_{c}\\left(\\nabla_{d}{\\pi}\\right)\\right)\\right) h^{a b} h^{c d}-2\\nabla_{a}\\left(\\nabla_{b}{G_{4X}}\\right) \\nabla_{c}\\left(\\nabla_{d}{\\pi}\\right) h^{a d} h^{b c}-2\\nabla_{a}{G_{4X}} \\nabla_{b}\\left(\\nabla_{c}\\left(\\nabla_{d}{\\pi}\\right)\\right) h^{a c} h^{b d}-2\\nabla_{a}{G_{4X}} \\nabla_{b}\\left(\\nabla_{c}\\left(\\nabla_{d}{\\pi}\\right)\\right) h^{a d} h^{b c}-2G_{4X} \\nabla_{a}\\left(\\nabla_{b}\\left(\\nabla_{c}\\left(\\nabla_{d}{\\pi}\\right)\\right)\\right) h^{a d} h^{b c}\\right)+\\sqrt{-h} \\delta h^{a d} \\left(-2\\nabla_{a}\\left(G_{4X} \\nabla_{b}\\left(\\nabla_{c}{\\pi}\\right)\\right) \\nabla_{d}{\\pi} h^{b c}+G_{4X} \\nabla_{a}\\left(\\nabla_{b}{\\pi}\\right) \\nabla_{c}\\left(\\nabla_{d}{\\pi}\\right) h^{b c}\\right)-2\\sqrt{-h} \\delta h^{a c} G_{4X} \\nabla_{a}\\left(\\nabla_{b}{\\pi}\\right) \\nabla_{c}\\left(\\nabla_{d}{\\pi}\\right) h^{b d}+\\sqrt{-h} \\delta h^{c d} \\nabla_{a}\\left(G_{4X} \\nabla_{b}\\left(\\nabla_{c}{\\pi}\\right)\\right) \\nabla_{d}{\\pi} h^{a b}+\\sqrt{-h} \\delta h^{b d} \\left(G_{4X} \\nabla_{a}\\left(\\nabla_{b}{\\pi}\\right) \\nabla_{c}\\left(\\nabla_{d}{\\pi}\\right) h^{a c}+\\nabla_{a}\\left(G_{4X} \\nabla_{b}\\left(\\nabla_{c}{\\pi}\\right)\\right) \\nabla_{d}{\\pi} h^{a c}\\right)-\\sqrt{-h} \\delta h^{b c} \\nabla_{a}\\left(G_{4X} \\nabla_{b}\\left(\\nabla_{c}{\\pi}\\right)\\right) \\nabla_{d}{\\pi} h^{a d}-\\sqrt{-h} \\delta h^{a b} G_{4X} \\nabla_{a}\\left(\\nabla_{b}{\\pi}\\right) \\nabla_{c}\\left(\\nabla_{d}{\\pi}\\right) h^{c d}\\right)\\,\\,{\\rm d}x$"
      ]
     },
     "metadata": {},
     "output_type": "display_data"
    }
   ],
   "source": [
    "S42:= 2* \\int{Dh G4X ((\\Box{p})**2-pi2)}{x};\n",
    "vary(S42, $Dh ->  \\delta{Dh}, G4X -> \\delta{G4X},  \\Box{p} -> \\delta(\\Box{p}), pi2-> delpi2, h^{m n} -> delh^{m n}$ );\n",
    "substitute(S42, DelSqrth)\n",
    "substitute(S42, DelG4X)\n",
    "substitute(S42, box)\n",
    "substitute(S42, sq)\n",
    "rename_dummies(S42)\n",
    "distribute(S42)\n",
    "sort_product(S42)\n",
    "integrate_by_parts(S42, $\\nabla_{n}{delpi}$)\n",
    "integrate_by_parts(S42, $delpi$)\n",
    "integrate_by_parts(S42, $delh^{r? b?}$)\n",
    "substitute(S42, $\\Box{p} -> h^{m n} \\nabla_{m}{\\nabla_{n}{p}}$)\n",
    "substitute(S42, $pi2 -> h^{m s} h^{n l}\\nabla_{m}{\\nabla_{n}{p}} \\nabla_{s}{\\nabla_{l}{p}}$)\n",
    "unwrap(S42)\n",
    "expand_power(S42)\n",
    "sort_product(S42)\n",
    "rename_dummies(S42)\n",
    "canonicalise(S42)\n",
    "factor_out(S42, $delh^{a? b?}, delpi, Dh$);"
   ]
  },
  {
   "cell_type": "markdown",
   "metadata": {},
   "source": [
    "## Выделяем отдельно уравнения движения"
   ]
  },
  {
   "cell_type": "markdown",
   "metadata": {},
   "source": [
    "### Уравнения движения из $S_2$"
   ]
  },
  {
   "cell_type": "markdown",
   "metadata": {},
   "source": [
    "Уравнение Эйнштейна:"
   ]
  },
  {
   "cell_type": "code",
   "execution_count": 15,
   "metadata": {},
   "outputs": [
    {
     "data": {
      "text/markdown": [
       "${}\\mathcal{G}^{2}\\,_{a b} =  - \\frac{1}{2}h_{a b} F+F_{X} \\nabla_{a}{\\pi} \\nabla_{b}{\\pi}$"
      ]
     },
     "metadata": {},
     "output_type": "display_data"
    }
   ],
   "source": [
    "G2 = S2[0][0][2]\n",
    "substitute(G2, $X_{m? n?} -> -\\frac{1}{2}\\nabla_{m?}{p}\\nabla_{n?}{p}$)\n",
    "G2 := mathcalG^{(2)}_{a b} = @[G2];"
   ]
  },
  {
   "cell_type": "markdown",
   "metadata": {},
   "source": [
    "Уравнение на $\\pi$:"
   ]
  },
  {
   "cell_type": "code",
   "execution_count": 16,
   "metadata": {},
   "outputs": [
    {
     "data": {
      "text/markdown": [
       "${}\\mathcal{P}^{2} = F_{\\pi}+h^{a b} \\nabla_{b}\\left(F_{X} \\nabla_{a}{\\pi}\\right)$"
      ]
     },
     "metadata": {},
     "output_type": "display_data"
    }
   ],
   "source": [
    "P2 = S2[0][1][2]\n",
    "P2 := mathcalP^{(2)} = @[P2];"
   ]
  },
  {
   "cell_type": "markdown",
   "metadata": {},
   "source": [
    "### Уравнения движения из $S_3$"
   ]
  },
  {
   "cell_type": "markdown",
   "metadata": {},
   "source": [
    "Уравнение на $\\pi$"
   ]
  },
  {
   "cell_type": "code",
   "execution_count": 17,
   "metadata": {},
   "outputs": [
    {
     "data": {
      "text/markdown": [
       "${}\\mathcal{P}^{3} = K_{\\pi} h^{a b} \\nabla_{a}\\left(\\nabla_{b}{\\pi}\\right)+h^{c d} \\nabla_{c}\\left(\\nabla_{d}{\\pi}\\right) \\nabla_{a}\\left(K_{X} \\nabla_{b}{\\pi}\\right) h^{a b}+h^{a b} \\nabla_{a}\\left(\\nabla_{b}{K}\\right)$"
      ]
     },
     "metadata": {},
     "output_type": "display_data"
    }
   ],
   "source": [
    "P3 = S3[0][0][2]\n",
    "substitute(P3, $\\Box{A??} -> h^{a b}\\nabla_{a}{\\nabla_{b}{A??}}$, repeat=True)\n",
    "P3 := mathcalP^{(3)} = @[P3];"
   ]
  },
  {
   "cell_type": "markdown",
   "metadata": {},
   "source": [
    "Уравнение Эйнштейна:"
   ]
  },
  {
   "cell_type": "code",
   "execution_count": 18,
   "metadata": {},
   "outputs": [
    {
     "data": {
      "text/markdown": [
       "${}\\mathcal{G}^{3}\\,_{a b} = K_{X} h^{c d} \\nabla_{c}\\left(\\nabla_{d}{\\pi}\\right) \\nabla_{a}{\\pi} \\nabla_{b}{\\pi}-\\nabla_{a}{K} \\nabla_{b}{\\pi}+\\frac{1}{2}\\nabla_{c}{K} \\nabla_{d}{\\pi} h_{a b} h^{c d}$"
      ]
     },
     "metadata": {},
     "output_type": "display_data"
    }
   ],
   "source": [
    "G3 = S3[0][1] + S3[0][2]\n",
    "G3 := @[G3] *(Dh) **{-1}.\n",
    "distribute(G3)\n",
    "sort_product(G3)\n",
    "collect_factors(G3)\n",
    "factor_out(G3, $delh^{a? b?}$)\n",
    "rename_dummies(G3)\n",
    "substitute(G3, $\\nabla_{a}{K}\\nabla_{b}{p}delh^{c d}h_{c d}h^{a b} ->\\nabla_{c}{K}\\nabla_{d}{p}delh^{a b}h_{a b}h^{c d}$)\n",
    "factor_out(G3, $delh^{a b}$)\n",
    "G3 = G3[1]\n",
    "substitute(G3, $\\Box{A??} -> h^{a b}\\nabla_{a}{\\nabla_{b}{A??}}$, repeat=True)\n",
    "G3 := mathcalG^{(3)}_{a b} = @[G3];"
   ]
  },
  {
   "cell_type": "markdown",
   "metadata": {},
   "source": [
    "### Уравнения движения из $S_4$"
   ]
  },
  {
   "cell_type": "markdown",
   "metadata": {},
   "source": [
    "Уравнение на $\\pi$:"
   ]
  },
  {
   "cell_type": "code",
   "execution_count": 19,
   "metadata": {},
   "outputs": [
    {
     "data": {
      "text/markdown": [
       "${}\\mathcal{P}^{4} = -G_{4\\pi} R-h^{a b} \\nabla_{a}{G_{4X}} \\nabla_{b}{\\pi} R-\\Box\\left(\\pi\\right) G_{4X} R-h^{a b} G_{4X} \\nabla_{a}{\\pi} \\nabla_{b}{R}+2G_{4\\pi X} \\nabla_{a}\\left(\\nabla_{b}{\\pi}\\right) \\nabla_{c}\\left(\\nabla_{d}{\\pi}\\right) h^{a b} h^{c d}-2G_{4\\pi X} \\nabla_{a}\\left(\\nabla_{b}{\\pi}\\right) \\nabla_{c}\\left(\\nabla_{d}{\\pi}\\right) h^{a c} h^{b d}+2\\nabla_{a}{G_{4XX}} \\nabla_{b}\\left(\\nabla_{c}{\\pi}\\right) \\nabla_{d}\\left(\\nabla_{e}{\\pi}\\right) \\nabla_{f}{\\pi} h^{a f} h^{b c} h^{d e}+2G_{4XX} \\nabla_{a}\\left(\\nabla_{b}\\left(\\nabla_{c}{\\pi}\\right) \\nabla_{d}\\left(\\nabla_{e}{\\pi}\\right) \\nabla_{f}{\\pi} h^{b c} h^{d e}\\right) h^{a f}-2\\nabla_{a}{G_{4XX}} \\nabla_{b}\\left(\\nabla_{c}{\\pi}\\right) \\nabla_{d}\\left(\\nabla_{e}{\\pi}\\right) \\nabla_{f}{\\pi} h^{a f} h^{b d} h^{c e}-2G_{4XX} \\nabla_{a}\\left(\\nabla_{b}\\left(\\nabla_{c}{\\pi}\\right) \\nabla_{d}\\left(\\nabla_{e}{\\pi}\\right) \\nabla_{f}{\\pi}\\right) h^{a f} h^{b d} h^{c e}+4\\nabla_{a}\\left(\\nabla_{b}\\left(G_{4X} \\nabla_{c}\\left(\\nabla_{d}{\\pi}\\right)\\right)\\right) h^{a b} h^{c d}-4\\nabla_{a}\\left(\\nabla_{b}{G_{4X}}\\right) \\nabla_{c}\\left(\\nabla_{d}{\\pi}\\right) h^{a d} h^{b c}-4\\nabla_{a}{G_{4X}} \\nabla_{b}\\left(\\nabla_{c}\\left(\\nabla_{d}{\\pi}\\right)\\right) h^{a c} h^{b d}-4\\nabla_{a}{G_{4X}} \\nabla_{b}\\left(\\nabla_{c}\\left(\\nabla_{d}{\\pi}\\right)\\right) h^{a d} h^{b c}-4G_{4X} \\nabla_{a}\\left(\\nabla_{b}\\left(\\nabla_{c}\\left(\\nabla_{d}{\\pi}\\right)\\right)\\right) h^{a d} h^{b c}$"
      ]
     },
     "metadata": {},
     "output_type": "display_data"
    }
   ],
   "source": [
    "P42 = S42[0][1][2]\n",
    "P41 = S41[0][1][2]\n",
    "P4 := mathcalP^{(4)} = -@[P41] + 2 * @[P42];"
   ]
  },
  {
   "cell_type": "markdown",
   "metadata": {},
   "source": [
    "Уравнения Эйнштейна:"
   ]
  },
  {
   "cell_type": "code",
   "execution_count": 37,
   "metadata": {},
   "outputs": [
    {
     "data": {
      "text/markdown": [
       "${}\\sqrt{-h} \\delta h^{a b} \\left( - \\frac{1}{2}h_{a b} {G_{4}} R+G_{4X} \\nabla_{a}{\\pi} \\nabla_{b}{\\pi} R-\\nabla_{a}\\left(\\nabla_{b}\\left({G_{4}}\\right)\\right)+h_{a b} \\Box\\left({G_{4}}\\right)+{G_{4}} R_{a b}\\right)$"
      ]
     },
     "metadata": {},
     "output_type": "display_data"
    },
    {
     "data": {
      "text/markdown": [
       "${}\\delta h^{a b} \\left(\\frac{1}{2}{G_{4}} R h_{a b}-G_{4X} R \\nabla_{a}{\\pi} \\nabla_{b}{\\pi}+\\nabla_{a}\\left(\\nabla_{b}\\left({G_{4}}\\right)\\right)-h^{c d} \\nabla_{c}\\left(\\nabla_{d}\\left({G_{4}}\\right)\\right) h_{a b}-{G_{4}} R_{a b}\\right)$"
      ]
     },
     "metadata": {},
     "output_type": "display_data"
    }
   ],
   "source": [
    "G41 = S41[0][0];\n",
    "G41 := - @[G41] * (Dh)**(-1).\n",
    "distribute(G41)\n",
    "sort_product(G41)\n",
    "collect_factors(G41)\n",
    "rename_dummies(G41)\n",
    "substitute(G41, $\\Box{A??} -> h^{a b}\\nabla_{a}{\\nabla_{b}{A??}}$, repeat=True)\n",
    "factor_out(G41, $delh^{a? b?}$);"
   ]
  },
  {
   "cell_type": "code",
   "execution_count": 36,
   "metadata": {},
   "outputs": [
    {
     "data": {
      "text/markdown": [
       "${}\\delta h^{a b} \\left(G_{4X} \\nabla_{c}\\left(\\nabla_{d}{\\pi}\\right) \\nabla_{e}\\left(\\nabla_{f}{\\pi}\\right) h_{a b} h^{c d} h^{e f}+G_{4X} \\nabla_{c}\\left(\\nabla_{d}{\\pi}\\right) \\nabla_{e}\\left(\\nabla_{f}{\\pi}\\right) h_{a b} h^{c e} h^{d f}+2G_{4XX} \\nabla_{c}\\left(\\nabla_{d}{\\pi}\\right) \\nabla_{e}\\left(\\nabla_{f}{\\pi}\\right) \\nabla_{a}{\\pi} \\nabla_{b}{\\pi} h^{c d} h^{e f}-2G_{4XX} \\nabla_{c}\\left(\\nabla_{d}{\\pi}\\right) \\nabla_{e}\\left(\\nabla_{f}{\\pi}\\right) \\nabla_{a}{\\pi} \\nabla_{b}{\\pi} h^{c e} h^{d f}+2\\nabla_{c}\\left(G_{4X} \\nabla_{d}\\left(\\nabla_{e}{\\pi}\\right)\\right) \\nabla_{f}{\\pi} h_{a b} h^{c f} h^{d e}+-4\\nabla_{a}\\left(G_{4X} \\nabla_{c}\\left(\\nabla_{d}{\\pi}\\right)\\right) \\nabla_{b}{\\pi} h^{c d}+2G_{4X} \\nabla_{a}\\left(\\nabla_{c}{\\pi}\\right) \\nabla_{d}\\left(\\nabla_{b}{\\pi}\\right) h^{c d}-4G_{4X} \\nabla_{a}\\left(\\nabla_{c}{\\pi}\\right) \\nabla_{b}\\left(\\nabla_{d}{\\pi}\\right) h^{c d}+2\\nabla_{c}\\left(G_{4X} \\nabla_{d}\\left(\\nabla_{a}{\\pi}\\right)\\right) \\nabla_{b}{\\pi} h^{c d}+2G_{4X} \\nabla_{c}\\left(\\nabla_{a}{\\pi}\\right) \\nabla_{d}\\left(\\nabla_{b}{\\pi}\\right) h^{c d}+2\\nabla_{c}\\left(G_{4X} \\nabla_{a}\\left(\\nabla_{d}{\\pi}\\right)\\right) \\nabla_{b}{\\pi} h^{c d}-2\\nabla_{c}\\left(G_{4X} \\nabla_{a}\\left(\\nabla_{b}{\\pi}\\right)\\right) \\nabla_{d}{\\pi} h^{c d}-2G_{4X} \\nabla_{a}\\left(\\nabla_{b}{\\pi}\\right) \\nabla_{c}\\left(\\nabla_{d}{\\pi}\\right) h^{c d}\\right)$"
      ]
     },
     "metadata": {},
     "output_type": "display_data"
    }
   ],
   "source": [
    "G42 =   (S42[0][0] + S42[0][2] + S42[0][3] + S42[0][4] + S42[0][5]+ S42[0][6] + S42[0][7])\n",
    "G42 := 2 * @[G42] * (Dh)**(-1).\n",
    "distribute(G42)\n",
    "sort_product(G42)\n",
    "collect_factors(G42)\n",
    "rename_dummies(G42)\n",
    "substitute(G42, $\\Box{A??} -> h^{a b}\\nabla_{a}{\\nabla_{b}{A??}}$, repeat=True)\n",
    "factor_out(G42, $delh^{a? b?}$)\n",
    "\n",
    "substitute(G42, $delh^{e f} (G4X \\nabla_{a}(\\nabla_{b}(p)) \\nabla_{c}(\\nabla_{d}(p)) h_{e f} h^{a b} h^{c d} + G4X \\nabla_{a}(\\nabla_{b}(p)) \\nabla_{c}(\\nabla_{d}(p)) h_{e f} h^{a c} h^{b d} + 2G4XX \\nabla_{a}(\\nabla_{b}(p)) \\nabla_{c}(\\nabla_{d}(p)) \\nabla_{e}(p) \\nabla_{f}(p) h^{a b} h^{c d}-2G4XX \\nabla_{a}(\\nabla_{b}(p)) \\nabla_{c}(\\nabla_{d}(p)) \\nabla_{e}(p) \\nabla_{f}(p) h^{a c} h^{b d} + 2\\nabla_{a}(G4X \\nabla_{b}(\\nabla_{c}(p))) \\nabla_{d}(p) h_{e f} h^{a d} h^{b c}) -> delh^{a b} (G4X \\nabla_{e}(\\nabla_{f}(p)) \\nabla_{c}(\\nabla_{d}(p)) h_{a b} h^{e f} h^{c d} + G4X \\nabla_{e}(\\nabla_{f}(p)) \\nabla_{c}(\\nabla_{d}(p)) h_{a b} h^{e c} h^{f d} + 2G4XX \\nabla_{e}(\\nabla_{f}(p)) \\nabla_{c}(\\nabla_{d}(p)) \\nabla_{a}(p) \\nabla_{b}(p) h^{e f} h^{c d}-2G4XX \\nabla_{e}(\\nabla_{f}(p)) \\nabla_{c}(\\nabla_{d}(p)) \\nabla_{a}(p) \\nabla_{b}(p) h^{e c} h^{f d} + 2\\nabla_{e}(G4X \\nabla_{f}(\\nabla_{c}(p))) \\nabla_{d}(p) h_{a b} h^{e d} h^{f c})$)\n",
    "\n",
    "substitute(G42, $delh^{a d} (-4\\nabla_{a}(G4X \\nabla_{b}(\\nabla_{c}(p))) \\nabla_{d}(p) h^{b c} + 2G4X \\nabla_{a}(\\nabla_{b}(p)) \\nabla_{c}(\\nabla_{d}(p)) h^{b c}) -> delh^{a b} (-4\\nabla_{a}(G4X \\nabla_{d}(\\nabla_{c}(p))) \\nabla_{b}(p) h^{d c} + 2G4X \\nabla_{a}(\\nabla_{d}(p)) \\nabla_{c}(\\nabla_{b}(p)) h^{d c})$)\n",
    "\n",
    "substitute(G42, $delh^{a c} G4X \\nabla_{a}(\\nabla_{b}(p)) \\nabla_{c}(\\nabla_{d}(p)) h^{b d} ->delh^{a b} G4X \\nabla_{a}(\\nabla_{c}(p)) \\nabla_{b}(\\nabla_{d}(p)) h^{c d}$)\n",
    "\n",
    "substitute(G42, $delh^{c d} \\nabla_{a}(G4X \\nabla_{b}(\\nabla_{c}(p))) \\nabla_{d}(p) h^{a b} -> delh^{a b} \\nabla_{c}(G4X \\nabla_{d}(\\nabla_{a}(p))) \\nabla_{b}(p) h^{c d}$)\n",
    "\n",
    "substitute(G42, $delh^{b d} (2G4X \\nabla_{a}(\\nabla_{b}(p)) \\nabla_{c}(\\nabla_{d}(p)) h^{a c} + 2\\nabla_{a}(G4X \\nabla_{b}(\\nabla_{c}(p))) \\nabla_{d}(p) h^{a c}) -> delh^{a b} (2G4X \\nabla_{d}(\\nabla_{a}(p)) \\nabla_{c}(\\nabla_{b}(p)) h^{d c} + 2\\nabla_{d}(G4X \\nabla_{a}(\\nabla_{c}(p))) \\nabla_{b}(p) h^{d c})$)\n",
    "\n",
    "substitute(G42, $delh^{b c} \\nabla_{a}(G4X \\nabla_{b}(\\nabla_{c}(p))) \\nabla_{d}(p) h^{a d} -> delh^{a b} \\nabla_{c}(G4X \\nabla_{a}(\\nabla_{b}(p))) \\nabla_{d}(p) h^{c d}$)\n",
    "\n",
    "canonicalise(G42)\n",
    "\n",
    "factor_out(G42, $delh^{a b}$);"
   ]
  },
  {
   "cell_type": "code",
   "execution_count": 38,
   "metadata": {},
   "outputs": [
    {
     "data": {
      "text/markdown": [
       "${}\\mathcal{G}^{4}\\,_{a b} = \\frac{1}{2}{G_{4}} R h_{a b}-G_{4X} R \\nabla_{a}{\\pi} \\nabla_{b}{\\pi}+\\nabla_{a}\\left(\\nabla_{b}\\left({G_{4}}\\right)\\right)-h^{c d} \\nabla_{c}\\left(\\nabla_{d}\\left({G_{4}}\\right)\\right) h_{a b}-{G_{4}} R_{a b}+G_{4X} \\nabla_{c}\\left(\\nabla_{d}{\\pi}\\right) \\nabla_{e}\\left(\\nabla_{f}{\\pi}\\right) h_{a b} h^{c d} h^{e f}+G_{4X} \\nabla_{c}\\left(\\nabla_{d}{\\pi}\\right) \\nabla_{e}\\left(\\nabla_{f}{\\pi}\\right) h_{a b} h^{c e} h^{d f}+2G_{4XX} \\nabla_{c}\\left(\\nabla_{d}{\\pi}\\right) \\nabla_{e}\\left(\\nabla_{f}{\\pi}\\right) \\nabla_{a}{\\pi} \\nabla_{b}{\\pi} h^{c d} h^{e f}-2G_{4XX} \\nabla_{c}\\left(\\nabla_{d}{\\pi}\\right) \\nabla_{e}\\left(\\nabla_{f}{\\pi}\\right) \\nabla_{a}{\\pi} \\nabla_{b}{\\pi} h^{c e} h^{d f}+2\\nabla_{c}\\left(G_{4X} \\nabla_{d}\\left(\\nabla_{e}{\\pi}\\right)\\right) \\nabla_{f}{\\pi} h_{a b} h^{c f} h^{d e}-4\\nabla_{a}\\left(G_{4X} \\nabla_{c}\\left(\\nabla_{d}{\\pi}\\right)\\right) \\nabla_{b}{\\pi} h^{c d}+2G_{4X} \\nabla_{a}\\left(\\nabla_{c}{\\pi}\\right) \\nabla_{d}\\left(\\nabla_{b}{\\pi}\\right) h^{c d}-4G_{4X} \\nabla_{a}\\left(\\nabla_{c}{\\pi}\\right) \\nabla_{b}\\left(\\nabla_{d}{\\pi}\\right) h^{c d}+2\\nabla_{c}\\left(G_{4X} \\nabla_{d}\\left(\\nabla_{a}{\\pi}\\right)\\right) \\nabla_{b}{\\pi} h^{c d}+2G_{4X} \\nabla_{c}\\left(\\nabla_{a}{\\pi}\\right) \\nabla_{d}\\left(\\nabla_{b}{\\pi}\\right) h^{c d}+2\\nabla_{c}\\left(G_{4X} \\nabla_{a}\\left(\\nabla_{d}{\\pi}\\right)\\right) \\nabla_{b}{\\pi} h^{c d}-2\\nabla_{c}\\left(G_{4X} \\nabla_{a}\\left(\\nabla_{b}{\\pi}\\right)\\right) \\nabla_{d}{\\pi} h^{c d}-2G_{4X} \\nabla_{a}\\left(\\nabla_{b}{\\pi}\\right) \\nabla_{c}\\left(\\nabla_{d}{\\pi}\\right) h^{c d}$"
      ]
     },
     "metadata": {},
     "output_type": "display_data"
    }
   ],
   "source": [
    "G4 = G41[1] + G42[1]\n",
    "G4 := mathcalG^{(4)}_{a b} = @[G4];"
   ]
  },
  {
   "cell_type": "code",
   "execution_count": null,
   "metadata": {},
   "outputs": [],
   "source": []
  },
  {
   "cell_type": "code",
   "execution_count": null,
   "metadata": {},
   "outputs": [],
   "source": []
  }
 ],
 "metadata": {
  "kernelspec": {
   "display_name": "Cadabra2",
   "language": "python",
   "name": "cadabra2"
  },
  "language_info": {
   "codemirror_mode": "cadabra",
   "file_extension": ".ipynb",
   "mimetype": "text/cadabra",
   "name": "cadabra2",
   "pygments_lexer": "cadabra"
  },
  "latex_envs": {
   "LaTeX_envs_menu_present": true,
   "autoclose": true,
   "autocomplete": true,
   "bibliofile": "biblio.bib",
   "cite_by": "apalike",
   "current_citInitial": 1,
   "eqLabelWithNumbers": true,
   "eqNumInitial": 1,
   "hotkeys": {
    "equation": "Ctrl-E",
    "itemize": "Ctrl-I"
   },
   "labels_anchors": false,
   "latex_user_defs": false,
   "report_style_numbering": false,
   "user_envs_cfg": true
  },
  "toc": {
   "base_numbering": 1,
   "nav_menu": {},
   "number_sections": true,
   "sideBar": true,
   "skip_h1_title": false,
   "title_cell": "Table of Contents",
   "title_sidebar": "Contents",
   "toc_cell": false,
   "toc_position": {},
   "toc_section_display": true,
   "toc_window_display": false
  }
 },
 "nbformat": 4,
 "nbformat_minor": 4
}
